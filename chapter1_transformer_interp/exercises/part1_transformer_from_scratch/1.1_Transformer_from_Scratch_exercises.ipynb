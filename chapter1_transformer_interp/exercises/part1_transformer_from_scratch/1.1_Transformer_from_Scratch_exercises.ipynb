{
  "cells": [
    {
      "cell_type": "markdown",
      "metadata": {
        "id": "view-in-github",
        "colab_type": "text"
      },
      "source": [
        "<a href=\"https://colab.research.google.com/github/13point5/ARENA-Mech-Interp-Tutorials/blob/main/chapter1_transformer_interp/exercises/part1_transformer_from_scratch/1.1_Transformer_from_Scratch_exercises.ipynb\" target=\"_parent\"><img src=\"https://colab.research.google.com/assets/colab-badge.svg\" alt=\"Open In Colab\"/></a>"
      ]
    },
    {
      "cell_type": "markdown",
      "metadata": {
        "id": "F0jmQkxPX27h"
      },
      "source": [
        "# [1.1] - Transformers from scratch (exercises)\n",
        "\n",
        "> **ARENA [Streamlit Page](https://arena-chapter1-transformer-interp.streamlit.app/01_[1.1]_Transformer_from_Scratch)**\n",
        ">\n",
        "> **Colab: [exercises](https://colab.research.google.com/github/callummcdougall/ARENA_3.0/blob/main/chapter1_transformer_interp/exercises/part1_transformer_from_scratch/1.1_Transformer_from_Scratch_exercises.ipynb?t=20250902) | [solutions](https://colab.research.google.com/github/callummcdougall/ARENA_3.0/blob/main/chapter1_transformer_interp/exercises/part1_transformer_from_scratch/1.1_Transformer_from_Scratch_solutions.ipynb?t=20250902)**\n",
        "\n",
        "Please send any problems / bugs on the `#errata` channel in the [Slack group](https://join.slack.com/t/arena-uk/shared_invite/zt-3afdmdhye-Mdb3Sv~ss_V_mEaXEbkABA), and ask any questions on the dedicated channels for this chapter of material.\n",
        "\n",
        "You can collapse each section so only the headers are visible, by clicking the arrow symbol on the left hand side of the markdown header cells.\n",
        "\n",
        "Links to all other chapters: [(0) Fundamentals](https://arena-chapter0-fundamentals.streamlit.app/), [(1) Transformer Interpretability](https://arena-chapter1-transformer-interp.streamlit.app/), [(2) RL](https://arena-chapter2-rl.streamlit.app/)."
      ]
    },
    {
      "cell_type": "markdown",
      "metadata": {
        "id": "RP-syDQnX27j"
      },
      "source": [
        "<img src=\"https://raw.githubusercontent.com/info-arena/ARENA_img/main/misc/headers/header-11.png\" width=\"350\">"
      ]
    },
    {
      "cell_type": "markdown",
      "metadata": {
        "id": "khIR9n81X27j"
      },
      "source": [
        "# Introduction"
      ]
    },
    {
      "cell_type": "markdown",
      "metadata": {
        "id": "zl_cqfO3X27j"
      },
      "source": [
        "This is a clean, first principles implementation of GPT-2 in PyTorch. The architectural choices closely follow those used by the TransformerLens library (which you'll be using a lot more in later exercises).\n",
        "\n",
        "The exercises are written to accompany Neel Nanda's [TransformerLens library](https://github.com/neelnanda-io/TransformerLens) for doing mechanistic interpretability research on GPT-2 style language models. We'll be working with this library extensively in this chapter of the course.\n",
        "\n",
        "Each exercise will have a difficulty and importance rating out of 5, as well as an estimated maximum time you should spend on these exercises and sometimes a short annotation. You should interpret the ratings & time estimates relatively (e.g. if you find yourself spending about 50% longer on the exercises than the time estimates, adjust accordingly). Please do skip exercises / look at solutions if you don't feel like they're important enough to be worth doing, and you'd rather get to the good stuff!\n",
        "\n",
        "For a lecture on the material today, which provides some high-level understanding before you dive into the material, watch the video below:\n",
        "\n",
        "<iframe width=\"540\" height=\"304\" src=\"https://www.youtube.com/embed/11Z50mi8dSg\" frameborder=\"0\" allow=\"accelerometer; autoplay; encrypted-media; gyroscope; picture-in-picture\" allowfullscreen></iframe>"
      ]
    },
    {
      "cell_type": "markdown",
      "metadata": {
        "id": "oNz9Jqq6X27j"
      },
      "source": [
        "## Content & Learning Objectives\n",
        "\n",
        "### 1️⃣ Understanding Inputs & Outputs of a Transformer\n",
        "\n",
        "In this section, we'll take a first look at transformers - what their function is, how information moves inside a transformer, and what inputs & outputs they take.\n",
        "\n",
        "> ##### Learning Objectives\n",
        ">\n",
        "> - Understand what a transformer is used for\n",
        "> - Understand causal attention, and what a transformer's output represents—algebra operations on tensors\n",
        "> - Learn what tokenization is, and how models do it\n",
        "> - Understand what logits are, and how to use them to derive a probability distribution over the vocabulary\n",
        "\n",
        "### 2️⃣ Clean Transformer Implementation\n",
        "\n",
        "Here, we'll implement a transformer from scratch, using only PyTorch's tensor operations. This will give us a good understanding of how transformers work, and how to use them. We do this by going module-by-module, in an experience which should feel somewhat similar to last week's ResNet exercises. Much like with ResNets, you'll conclude by loading in pretrained weights and verifying that your model works as expected.\n",
        "\n",
        "> ##### Learning Objectives\n",
        ">\n",
        "> * Understand that a transformer is composed of attention heads and MLPs, with each one performing operations on the residual stream\n",
        "> * Understand that the attention heads in a single layer operate independently, and that they have the role of calculating attention patterns (which determine where information is moved to & from in the residual stream)\n",
        "> * Learn about & implement the following transformer modules:\n",
        ">     * LayerNorm (transforming the input to have zero mean and unit variance)\n",
        ">     * Positional embedding (a lookup table from position indices to residual stream vectors)\n",
        ">     * Attention (the method of computing attention patterns for residual stream vectors)\n",
        ">     * MLP (the collection of linear and nonlinear transformations which operate on each residual stream vector in the same way)\n",
        ">     * Embedding (a lookup table from tokens to residual stream vectors)\n",
        ">     * Unembedding (a matrix for converting residual stream vectors into a distribution over tokens)\n",
        "\n",
        "### 3️⃣ Training a Transformer\n",
        "\n",
        "Next, you'll learn how to train your transformer from scratch. This will be quite similar to the training loops you wrote for ResNet in your first week.\n",
        "\n",
        "> ##### Learning Objectives\n",
        ">\n",
        "> * Understand how to train a transformer from scratch\n",
        "> * Write a basic transformer training loop\n",
        "> * Interpret the transformer's falling cross entropy loss with reference to features of the training data (e.g. bigram frequencies)\n",
        "\n",
        "### 4️⃣ Sampling from a Transformer\n",
        "\n",
        "Lastly, you'll learn how to sample from a transformer. This will involve implementing a few different sampling methods, and writing a caching system which can reuse computations from previous forward passes to improve your model's text generation speed.\n",
        "\n",
        "*The second half of this section is less important, and you can skip it if you want.*\n",
        "\n",
        "> ##### Learning Objectives\n",
        ">\n",
        "> * Learn how to sample from a transformer\n",
        ">     * This includes basic methods like greedy search or top-k, and more advanced methods like beam search\n",
        "> * Learn how to cache the output of a transformer, so that it can be used to generate text more efficiently\n",
        ">     * Optionally, rewrite your sampling functions to make use of your caching methods"
      ]
    },
    {
      "cell_type": "markdown",
      "metadata": {
        "id": "Jg9DjYnrX27j"
      },
      "source": [
        "## Setup code"
      ]
    },
    {
      "cell_type": "code",
      "execution_count": 1,
      "metadata": {
        "id": "5RxZY_jAX27k"
      },
      "outputs": [],
      "source": [
        "import os\n",
        "import sys\n",
        "from pathlib import Path\n",
        "\n",
        "IN_COLAB = \"google.colab\" in sys.modules\n",
        "\n",
        "chapter = \"chapter1_transformer_interp\"\n",
        "repo = \"ARENA_3.0\"\n",
        "branch = \"main\"\n",
        "\n",
        "# Install dependencies\n",
        "try:\n",
        "    import transformer_lens\n",
        "except:\n",
        "    %pip install transformer_lens==2.11.0 einops jaxtyping git+https://github.com/callummcdougall/CircuitsVis.git#subdirectory=python\n",
        "\n",
        "# Get root directory, handling 3 different cases: (1) Colab, (2) notebook not in ARENA repo, (3) notebook in ARENA repo\n",
        "root = (\n",
        "    \"/content\"\n",
        "    if IN_COLAB\n",
        "    else \"/root\"\n",
        "    if repo not in os.getcwd()\n",
        "    else str(next(p for p in Path.cwd().parents if p.name == repo))\n",
        ")\n",
        "\n",
        "if Path(root).exists() and not Path(f\"{root}/{chapter}\").exists():\n",
        "    if not IN_COLAB:\n",
        "        !sudo apt-get install unzip\n",
        "        %pip install jupyter ipython --upgrade\n",
        "\n",
        "    if not os.path.exists(f\"{root}/{chapter}\"):\n",
        "        !wget -P {root} https://github.com/callummcdougall/ARENA_3.0/archive/refs/heads/{branch}.zip\n",
        "        !unzip {root}/{branch}.zip '{repo}-{branch}/{chapter}/exercises/*' -d {root}\n",
        "        !mv {root}/{repo}-{branch}/{chapter} {root}/{chapter}\n",
        "        !rm {root}/{branch}.zip\n",
        "        !rmdir {root}/ARENA_3.0-{branch}\n",
        "\n",
        "\n",
        "if f\"{root}/{chapter}/exercises\" not in sys.path:\n",
        "    sys.path.append(f\"{root}/{chapter}/exercises\")\n",
        "\n",
        "os.chdir(f\"{root}/{chapter}/exercises\")"
      ]
    },
    {
      "cell_type": "code",
      "execution_count": 2,
      "metadata": {
        "id": "y-80DxsTX27k"
      },
      "outputs": [],
      "source": [
        "import math\n",
        "import os\n",
        "import sys\n",
        "from collections import defaultdict\n",
        "from dataclasses import dataclass\n",
        "from pathlib import Path\n",
        "from typing import Callable\n",
        "\n",
        "import datasets\n",
        "import einops\n",
        "import numpy as np\n",
        "import torch as t\n",
        "import torch.nn as nn\n",
        "import wandb\n",
        "from jaxtyping import Float, Int\n",
        "from rich import print as rprint\n",
        "from rich.table import Table\n",
        "from torch import Tensor\n",
        "from torch.utils.data import DataLoader\n",
        "from tqdm.notebook import tqdm\n",
        "from transformer_lens import HookedTransformer\n",
        "from transformer_lens.utils import gelu_new, tokenize_and_concatenate\n",
        "from transformers.models.gpt2.tokenization_gpt2_fast import GPT2TokenizerFast\n",
        "\n",
        "device = t.device(\n",
        "    \"mps\" if t.backends.mps.is_available() else \"cuda\" if t.cuda.is_available() else \"cpu\"\n",
        ")\n",
        "\n",
        "# Make sure exercises are in the path\n",
        "chapter = \"chapter1_transformer_interp\"\n",
        "section = \"part1_transformer_from_scratch\"\n",
        "root_dir = next(p for p in Path.cwd().parents if (p / chapter).exists())\n",
        "exercises_dir = root_dir / chapter / \"exercises\"\n",
        "section_dir = exercises_dir / section\n",
        "\n",
        "import part1_transformer_from_scratch.solutions as solutions\n",
        "import part1_transformer_from_scratch.tests as tests\n",
        "from plotly_utils import imshow\n",
        "\n",
        "MAIN = __name__ == \"__main__\""
      ]
    },
    {
      "cell_type": "markdown",
      "metadata": {
        "id": "Lm2mEIOjX27k"
      },
      "source": [
        "# 1️⃣ Understanding Inputs & Outputs of a Transformer\n",
        "\n",
        "> ##### Learning Objectives\n",
        ">\n",
        "> - Understand what a transformer is used for\n",
        "> - Understand causal attention, and what a transformer's output represents—algebra operations on tensors\n",
        "> - Learn what tokenization is, and how models do it\n",
        "> - Understand what logits are, and how to use them to derive a probability distribution over the vocabulary"
      ]
    },
    {
      "cell_type": "markdown",
      "metadata": {
        "id": "LT0tN2kbX27k"
      },
      "source": [
        "## What is the point of a transformer?"
      ]
    },
    {
      "cell_type": "markdown",
      "metadata": {
        "id": "H50mRp2VX27k"
      },
      "source": [
        "**Transformers exist to model text!**\n",
        "\n",
        "We're going to focus GPT-2 style transformers. Key feature: They generate text! You feed in language, and the model generates a probability distribution over tokens. And you can repeatedly sample from this to generate text!\n",
        "\n",
        "(To explain this in more detail - you feed in a sequence of length $N$, then sample from the probability distribution over the $N+1$-th word, use this to construct a new sequence of length $N+1$, then feed this new sequence into the model to get a probability distribution over the $N+2$-th word, and so on.)\n",
        "\n",
        "### How is the model trained?\n",
        "\n",
        "You give it a bunch of text, and train it to predict the next token.\n",
        "\n",
        "Importantly, if you give a model 100 tokens in a sequence, it predicts the next token for *each* prefix, i.e. it produces 100 logit vectors (= probability distributions) over the set of all words in our vocabulary, with the `i`-th logit vector representing the probability distribution over the token *following* the `i`-th token in the sequence. This is a key part of what allows transformers to be trained so efficiently; for every sequence of length $n$ we get $n$ different predictions to train on:\n",
        "\n",
        "$$\n",
        "p(x_1), \\; p(x_2|x_1), \\; p(x_3|x_1x_2), \\; \\ldots, \\; p(x_n|x_1 \\ldots x_{n-1})\n",
        "$$\n",
        "\n",
        "<details>\n",
        "<summary>Aside - logits</summary>\n",
        "\n",
        "If you haven't encountered the term \"logits\" before, here's a quick refresher.\n",
        "\n",
        "Given an arbitrary vector $x$, we can turn it into a probability distribution via the **softmax** function: $x_i \\to \\frac{e^{x_i}}{\\sum e^{x_j}}$. The exponential makes everything positive; the normalization makes it add to one.\n",
        "\n",
        "The model's output is the vector $x$ (one for each prediction it makes). We call this vector a logit because it represents a probability distribution, and it is related to the actual probabilities via the softmax function.\n",
        "</details>\n",
        "\n",
        "How do we stop the transformer by \"cheating\" by just looking at the tokens it's trying to predict? Answer - we make the transformer have *causal attention* (as opposed to *bidirectional attention*). Causal attention only allows information to move forwards in the sequence, never backwards. The prediction of what comes after token 50 is only a function of the first 50 tokens, *not* of token 51. We say the transformer is **autoregressive**, because it only predicts future words based on past data."
      ]
    },
    {
      "cell_type": "markdown",
      "metadata": {
        "id": "9QGNpViaX27l"
      },
      "source": [
        "<img src=\"https://raw.githubusercontent.com/info-arena/ARENA_img/main/misc/transformer-overview-new.png\" width=\"900\">"
      ]
    },
    {
      "cell_type": "markdown",
      "metadata": {
        "id": "A-flMl2PX27l"
      },
      "source": [
        "Another way to view this is through the following analogy: we have a series of people standing in a line, each with one word or chunk of the sentence. Each person has the ability to look up information from the people behind them (we'll explore how this works in later sections) but they can't look at any information in front of them. Their goal is to guess what word the person in front of them is holding.\n",
        "\n",
        "<img src=\"https://raw.githubusercontent.com/info-arena/ARENA_img/main/misc/intro-image-v2.png\" width=\"600\">"
      ]
    },
    {
      "cell_type": "markdown",
      "metadata": {
        "id": "WWHgY2X-X27l"
      },
      "source": [
        "## Tokens - Transformer Inputs"
      ]
    },
    {
      "cell_type": "markdown",
      "metadata": {
        "id": "g53_Pw71X27l"
      },
      "source": [
        "Our tranformer's input is natural language (i.e. a sequence of characters, strings, etc). But ML models generally take vectors as input, not language. How do we convert language to vectors?\n",
        "\n",
        "We can factor this into 2 questions:\n",
        "\n",
        "1. How do we split up language into small sub-units?\n",
        "2. How do we convert these sub-units into vectors?\n",
        "\n",
        "Let's start with the second of these questions."
      ]
    },
    {
      "cell_type": "markdown",
      "metadata": {
        "id": "M4AmXcIpX27l"
      },
      "source": [
        "### Converting sub-units to vectors\n",
        "\n",
        "We basically make a massive lookup table, which is called an **embedding**. It has one vector for each possible sub-unit of language we might get (we call this set of all sub-units our **vocabulary**). We label every element in our vocabulary with an integer (this labelling never changes), and we use this integer to index into the embedding.\n",
        "\n",
        "A key intuition is that one-hot encodings let you think about each integer independently. We don't bake in any relation between words when we perform our embedding, because every word has a completely separate embedding vector.\n",
        "\n",
        "<details>\n",
        "<summary>Aside - one-hot encodings</summary>\n",
        "\n",
        "We sometimes think about **one-hot encodings** of words. These are vectors with zeros everywhere, except for a single one in the position corresponding to the word's index in the vocabulary. This means that indexing into the embedding is equivalent to multiplying the **embedding matrix** by the one-hot encoding (where the embedding matrix is the matrix we get by stacking all the embedding vectors on top of each other).\n",
        "\n",
        "$$\n",
        "\\begin{aligned}\n",
        "W_E &= \\begin{bmatrix}\n",
        "\\leftarrow v_0 \\rightarrow \\\\\n",
        "\\leftarrow v_1 \\rightarrow \\\\\n",
        "\\vdots \\\\\n",
        "\\leftarrow v_{d_{vocab}-1} \\rightarrow \\\\\n",
        "\\end{bmatrix} \\quad \\text{is the embedding matrix (size }d_{vocab} \\times d_{embed}\\text{),} \\\\\n",
        "\\\\\n",
        "t_i &= (0, \\dots, 0, 1, 0, \\dots, 0) \\quad \\text{is the one-hot encoding for the }i\\text{th word (length }d_{vocab}\\text{)} \\\\\n",
        "\\\\\n",
        "v_i &= t_i W_E \\quad \\text{is the embedding vector for the }i\\text{th word (length }d_{embed}\\text{).} \\\\\n",
        "\\end{aligned}\n",
        "$$\n",
        "\n",
        "</details>\n",
        "\n",
        "Now, let's answer the first question - how do we split language into sub-units?"
      ]
    },
    {
      "cell_type": "markdown",
      "metadata": {
        "id": "NR1AdxYmX27l"
      },
      "source": [
        "### Splitting language into sub-units\n",
        "\n",
        "We need to define a standard way of splitting up language into a series of substrings, where each substring is a member of our **vocabulary** set.\n",
        "\n",
        "Could we use a dictionary, and have our vocabulary be the set of all words in the dictionary? No, because this couldn't handle arbitrary text (e.g. URLs, punctuation, etc). We need a more general way of splitting up language.\n",
        "\n",
        "Could we just use the 256 ASCII characters? This fixes the previous problem, but it loses structure of language - some sequences of characters are more meaningful than others. For example, \"language\" is a lot more meaningful than \"hjksdfiu\". We want \"language\" to be a single token, but not \"hjksdfiu\" - this is a more efficient use of our vocab.\n",
        "\n",
        "What actually happens? The most common strategy is called **Byte-Pair encodings**.\n",
        "\n",
        "We begin with the 256 ASCII characters as our tokens, and then find the most common pair of tokens, and merge that into a new token. Note that we do have a space character as one of our 256 tokens, and merges using space are very common. For instance, here are the five first merges for the tokenizer used by GPT-2 (you'll be able to verify this below).\n",
        "\n",
        "```\n",
        "\" t\"\n",
        "\" a\"\n",
        "\"he\"\n",
        "\"in\"\n",
        "\"re\"\n",
        "```\n",
        "\n",
        "Note - you might see the character `Ġ` in front of some tokens. This is a special token that indicates that the token begins with a space. Tokens with a leading space vs not are different.\n",
        "\n",
        "You can run the code below to load in the `gpt2-small` model, and see more of its tokenizer's vocabulary:"
      ]
    },
    {
      "cell_type": "code",
      "execution_count": 3,
      "metadata": {
        "colab": {
          "base_uri": "https://localhost:8080/",
          "height": 504,
          "referenced_widgets": [
            "c8454f096b704b22816cf35d8d4b2e69",
            "6b18cf89728f455f8fed906fd026807c",
            "487acbcf30b04570bc6495de837266a9",
            "c1d3b2f7d8cc4ee9a5600f82f6864ee9",
            "b6c32208f0af487a88ec8c578ab6ebcb",
            "8d54b954ca33435d95ffe0038421f533",
            "c6f544dd9d7143adb0681c3c2eb0630b",
            "c684f49a708d45da9666be1c2a66acce",
            "4f80ccdfda0c4480b63de827814add44",
            "c9225078965b4111a668973116857e7d",
            "c4f18cb0f42b4f9596c526174dc412d2",
            "99a194476a47458e8206e75171769f67",
            "c1945dfe11c348f5998f8d3ae91fe344",
            "25e44535437045958ba3c4ceb7a35ac5",
            "53cdd6e56d464dc0ab18bae209996331",
            "7390b3415ecd4e6d884f50b6d6377662",
            "b73f061e7900498aa2869a0ef3320759",
            "478171b4bb7b4789a49bb71ad7b73efc",
            "37c72c15e9ce4dbc8532c93a75853134",
            "7bc5d4131aa44db186cb66f544c18a87",
            "994be37a1032488ab4b08ae625475240",
            "773a2dec0124444d975feafd7ed65445",
            "3ea7f83619ca4f779569c09f695d1567",
            "101fec12e2b349b49286568c43813e7e",
            "2a6b455402f947d6998a568dd5d5e502",
            "f535d35f4ede436e82e554e1a0217c65",
            "e5619d0f0a0b4045b7458795c772d80a",
            "4ca796edabf440909417e5d31a3a67fc",
            "62631bd9202d4f7a806e076fdd2e35ba",
            "3172746138d34b68865e63c0fbd89ea7",
            "e8aeaa27a5564612a32c2e41676ae907",
            "6b3e4376bc7c4adba0e02b4f585f76cc",
            "92bc721342b64506bb7c29b26204ec7d",
            "1b122c876e12437f958078038c43c4f8",
            "828d0d0292d24803bf73e90650cc9ddb",
            "22455c6693d947e7a53cacc6338aadc7",
            "0aa0a1a9027e47778c9fbfb4cb4e17b5",
            "59d1b38806a14092b877edcad10a1cd6",
            "fb508b8420a04d52860f418928920165",
            "df8a311fd617486b9cde45c0fd51c078",
            "56342a2e988142898ab598ce64a50b86",
            "ed5773b744554dea845a7af64b751dc1",
            "2e876afdc8df425ba6ac17ea340e27b1",
            "960779900328404284fb215c6b3aacf9",
            "09be7290d2ae40c99ccfeadf2da9f44c",
            "654883f57f1f48b7962b78133e5b1ef6",
            "0fe0ce7e9cfe44dba8c2f5f326c2e1c2",
            "cfeeb5564dde4e429e952d4112facf45",
            "dccc77534164404287153e76b0f032f9",
            "9a1ccab5d41f4cb0a0810e041542cd69",
            "2c33de3b8b6540d88cb885410848ef00",
            "ac73f28d505f432f9b3038eeb9908da6",
            "cf74f6f6b94c4e5f8bebe6a2258c09c6",
            "76a608fd95114cd5873fb01e86d91cb0",
            "5089c3a3d8e240a8970adf848ec396db",
            "0bb0913b23784f5aa93af7f7727b123c",
            "c9b0b0a4999a45c3b0a9a4c90504d0bb",
            "3a0d17d5706e4949ab50cedf6c75087d",
            "20ab42cd7c904966baa5168f2bc0cc3a",
            "67ae3f6685af47ad888afcd70cc56bb2",
            "ad1ade1b88c84794aafebe60f8f9881d",
            "6a31c5ae8615427f92c42c4ebf18dc7d",
            "77c03e46547d45cd99c96c86dac15a1a",
            "af40e36d39a743be8cf20096dd29aeaa",
            "bee82660f1d544b487b4667ba963c384",
            "234e747ca49c4cec9fc2bdec23b9548e",
            "3a39c644b3ad4961aa4ac9b4a653baee",
            "c98959a6c30f4144a70b1246a8cb6865",
            "225c507cfa1149f49cdfe50b900df561",
            "8d2dcb0a3df847749a4762df88647058",
            "feacec4abc444582bc11fdcabe1195fb",
            "134e61abe85048ebbe5e353b8c2c0e43",
            "67c341789c0646d6a7e777f615054e3f",
            "97114f0aaefc47479804860f9fc7f359",
            "f8b54d0ed9f54b0d9240711a168c7f95",
            "9b74e93f7dc94639a80ada7036006b5c",
            "44373e007ab143b3876c9dbf2d94f206"
          ]
        },
        "id": "CSp6SXWnX27l",
        "outputId": "dbdd0fae-f027-4008-db9d-45de85585025"
      },
      "outputs": [
        {
          "output_type": "stream",
          "name": "stderr",
          "text": [
            "/usr/local/lib/python3.12/dist-packages/huggingface_hub/utils/_auth.py:94: UserWarning: \n",
            "The secret `HF_TOKEN` does not exist in your Colab secrets.\n",
            "To authenticate with the Hugging Face Hub, create a token in your settings tab (https://huggingface.co/settings/tokens), set it as secret in your Google Colab and restart your session.\n",
            "You will be able to reuse this secret in all of your notebooks.\n",
            "Please note that authentication is recommended but still optional to access public models or datasets.\n",
            "  warnings.warn(\n"
          ]
        },
        {
          "output_type": "display_data",
          "data": {
            "text/plain": [
              "config.json:   0%|          | 0.00/665 [00:00<?, ?B/s]"
            ],
            "application/vnd.jupyter.widget-view+json": {
              "version_major": 2,
              "version_minor": 0,
              "model_id": "c8454f096b704b22816cf35d8d4b2e69"
            }
          },
          "metadata": {}
        },
        {
          "output_type": "stream",
          "name": "stderr",
          "text": [
            "`torch_dtype` is deprecated! Use `dtype` instead!\n"
          ]
        },
        {
          "output_type": "display_data",
          "data": {
            "text/plain": [
              "model.safetensors:   0%|          | 0.00/548M [00:00<?, ?B/s]"
            ],
            "application/vnd.jupyter.widget-view+json": {
              "version_major": 2,
              "version_minor": 0,
              "model_id": "99a194476a47458e8206e75171769f67"
            }
          },
          "metadata": {}
        },
        {
          "output_type": "display_data",
          "data": {
            "text/plain": [
              "generation_config.json:   0%|          | 0.00/124 [00:00<?, ?B/s]"
            ],
            "application/vnd.jupyter.widget-view+json": {
              "version_major": 2,
              "version_minor": 0,
              "model_id": "3ea7f83619ca4f779569c09f695d1567"
            }
          },
          "metadata": {}
        },
        {
          "output_type": "display_data",
          "data": {
            "text/plain": [
              "tokenizer_config.json:   0%|          | 0.00/26.0 [00:00<?, ?B/s]"
            ],
            "application/vnd.jupyter.widget-view+json": {
              "version_major": 2,
              "version_minor": 0,
              "model_id": "1b122c876e12437f958078038c43c4f8"
            }
          },
          "metadata": {}
        },
        {
          "output_type": "display_data",
          "data": {
            "text/plain": [
              "vocab.json:   0%|          | 0.00/1.04M [00:00<?, ?B/s]"
            ],
            "application/vnd.jupyter.widget-view+json": {
              "version_major": 2,
              "version_minor": 0,
              "model_id": "09be7290d2ae40c99ccfeadf2da9f44c"
            }
          },
          "metadata": {}
        },
        {
          "output_type": "display_data",
          "data": {
            "text/plain": [
              "merges.txt:   0%|          | 0.00/456k [00:00<?, ?B/s]"
            ],
            "application/vnd.jupyter.widget-view+json": {
              "version_major": 2,
              "version_minor": 0,
              "model_id": "0bb0913b23784f5aa93af7f7727b123c"
            }
          },
          "metadata": {}
        },
        {
          "output_type": "display_data",
          "data": {
            "text/plain": [
              "tokenizer.json:   0%|          | 0.00/1.36M [00:00<?, ?B/s]"
            ],
            "application/vnd.jupyter.widget-view+json": {
              "version_major": 2,
              "version_minor": 0,
              "model_id": "3a39c644b3ad4961aa4ac9b4a653baee"
            }
          },
          "metadata": {}
        },
        {
          "output_type": "stream",
          "name": "stdout",
          "text": [
            "Loaded pretrained model gpt2-small into HookedTransformer\n",
            "[('!', 0), ('\"', 1), ('#', 2), ('$', 3), ('%', 4), ('&', 5), (\"'\", 6), ('(', 7), (')', 8), ('*', 9), ('+', 10), (',', 11), ('-', 12), ('.', 13), ('/', 14), ('0', 15), ('1', 16), ('2', 17), ('3', 18), ('4', 19)]\n",
            "\n",
            "[('ľ', 250), ('Ŀ', 251), ('ŀ', 252), ('Ł', 253), ('ł', 254), ('Ń', 255), ('Ġt', 256), ('Ġa', 257), ('he', 258), ('in', 259), ('re', 260), ('on', 261), ('Ġthe', 262), ('er', 263), ('Ġs', 264), ('at', 265), ('Ġw', 266), ('Ġo', 267), ('en', 268), ('Ġc', 269)]\n",
            "\n",
            "[('Ġprodu', 990), ('Ġstill', 991), ('led', 992), ('ah', 993), ('Ġhere', 994), ('Ġworld', 995), ('Ġthough', 996), ('Ġnum', 997), ('arch', 998), ('imes', 999), ('ale', 1000), ('ĠSe', 1001), ('ĠIf', 1002), ('//', 1003), ('ĠLe', 1004), ('Ġret', 1005), ('Ġref', 1006), ('Ġtrans', 1007), ('ner', 1008), ('ution', 1009)]\n",
            "\n"
          ]
        }
      ],
      "source": [
        "reference_gpt2 = HookedTransformer.from_pretrained(\n",
        "    \"gpt2-small\",\n",
        "    fold_ln=False,\n",
        "    center_unembed=False,\n",
        "    center_writing_weights=False,  # you'll learn about these arguments later!\n",
        ")\n",
        "\n",
        "sorted_vocab = sorted(list(reference_gpt2.tokenizer.vocab.items()), key=lambda n: n[1])\n",
        "\n",
        "print(sorted_vocab[:20])\n",
        "print()\n",
        "print(sorted_vocab[250:270])\n",
        "print()\n",
        "print(sorted_vocab[990:1010])\n",
        "print()"
      ]
    },
    {
      "cell_type": "code",
      "source": [
        "i = list(reference_gpt2.tokenizer.vocab.items())\n",
        "i[:5]"
      ],
      "metadata": {
        "colab": {
          "base_uri": "https://localhost:8080/"
        },
        "id": "GhyMmDIqYrB7",
        "outputId": "933b548f-39e6-45c4-e5b0-efa756ccd073"
      },
      "execution_count": 4,
      "outputs": [
        {
          "output_type": "execute_result",
          "data": {
            "text/plain": [
              "[('Ġeast', 7627),\n",
              " ('Ġteaser', 38388),\n",
              " ('ĠMultiple', 20401),\n",
              " ('packages', 43789),\n",
              " ('ATURE', 40086)]"
            ]
          },
          "metadata": {},
          "execution_count": 4
        }
      ]
    },
    {
      "cell_type": "markdown",
      "metadata": {
        "id": "T5EAoMCgX27l"
      },
      "source": [
        "As you get to the end of the vocabulary, you'll be producing some pretty weird-looking esoteric tokens (because you'll already have exhausted all of the short frequently-occurring ones):"
      ]
    },
    {
      "cell_type": "code",
      "execution_count": 5,
      "metadata": {
        "colab": {
          "base_uri": "https://localhost:8080/"
        },
        "id": "dORp-XkRX27l",
        "outputId": "df6e2b5c-d61e-44a8-d3d0-ce018298dc93"
      },
      "outputs": [
        {
          "output_type": "stream",
          "name": "stdout",
          "text": [
            "[('Revolution', 50237), ('Ġsnipers', 50238), ('Ġreverted', 50239), ('Ġconglomerate', 50240), ('Terry', 50241), ('794', 50242), ('Ġharsher', 50243), ('Ġdesolate', 50244), ('ĠHitman', 50245), ('Commission', 50246), ('Ġ(/', 50247), ('âĢ¦.\"', 50248), ('Compar', 50249), ('Ġamplification', 50250), ('ominated', 50251), ('Ġregress', 50252), ('ĠCollider', 50253), ('Ġinformants', 50254), ('Ġgazed', 50255), ('<|endoftext|>', 50256)]\n"
          ]
        }
      ],
      "source": [
        "print(sorted_vocab[-20:])"
      ]
    },
    {
      "cell_type": "markdown",
      "metadata": {
        "id": "inXY8ZcyX27l"
      },
      "source": [
        "<details>\n",
        "<summary>Fun (completely optional) exercise - can you guess what the first-formed 3/4/5/6/7-letter encodings in GPT-2's vocabulary are?</summary>\n",
        "Run this code to find out:\n",
        "\n",
        "```python\n",
        "lengths = dict.fromkeys(range(3, 8), \"\")\n",
        "for tok, idx in sorted_vocab:\n",
        "    if not lengths.get(len(tok), True):\n",
        "        lengths[len(tok)] = tok\n",
        "\n",
        "for length, tok in lengths.items():\n",
        "    print(f\"{length}: {tok}\")\n",
        "```\n",
        "</details>"
      ]
    },
    {
      "cell_type": "code",
      "source": [
        "lengths = dict.fromkeys(range(3, 8), \"\")\n",
        "for tok, idx in sorted_vocab:\n",
        "    if not lengths.get(len(tok), True):\n",
        "        lengths[len(tok)] = tok\n",
        "\n",
        "for length, tok in lengths.items():\n",
        "    print(f\"{length}: {tok}\")"
      ],
      "metadata": {
        "colab": {
          "base_uri": "https://localhost:8080/"
        },
        "id": "PjU02ebWZAyR",
        "outputId": "8fd20a9f-a7fa-4bc5-c620-b3a777d3ee86"
      },
      "execution_count": 6,
      "outputs": [
        {
          "output_type": "stream",
          "name": "stdout",
          "text": [
            "3: ing\n",
            "4: Ġthe\n",
            "5: Ġthat\n",
            "6: Ġtheir\n",
            "7: Ġpeople\n"
          ]
        }
      ]
    },
    {
      "cell_type": "markdown",
      "metadata": {
        "id": "LaOIXJBpX27l"
      },
      "source": [
        "Transformers in the `transformer_lens` library have a `to_tokens` method that converts text to numbers. It also prepends them with a special token called BOS (beginning of sequence) to indicate the start of a sequence. You can disable this with the `prepend_bos=False` argument.\n",
        "\n",
        "<details>\n",
        "<summary>Aside - BOS token</summary>\n",
        "\n",
        "The beginning of sequence (BOS) token is a special token used to mark the beginning of the sequence. Confusingly, in GPT-2, the End of Sequence (EOS), Beginning of Sequence (BOS) and Padding (PAD) tokens are all the same, `<|endoftext|>` with index `50256`.\n",
        "\n",
        "Why is this token added? Some basic intuitions are:\n",
        "\n",
        "* It provides context that this is the start of a sequence, which can help the model generate more appropriate text.\n",
        "* It can act as a \"rest position\" for attention heads (more on this later, when we discuss attention).\n",
        "\n",
        "TransformerLens adds this token automatically (including in forward passes of transformer models, e.g. it's implicitly added when you call `model(\"Hello World\")`). You can disable this behaviour by setting the flag `prepend_bos=False` in `to_tokens`, `to_str_tokens`, `model.forward` and any other function that converts strings to multi-token tensors.\n",
        "\n",
        "**Key Point: *If you get weird off-by-one errors, check whether there's an unexpected `prepend_bos`!***\n",
        "\n",
        "Why are the BOS, EOS and PAD tokens the same? This is because GPT-2 is an autoregressive model, and uses these kinds of tokens in a slightly different way to other transformer families (e.g. BERT). For instance, GPT has no need to distinguish between BOS and EOS tokens, because it only processes text from left to right.\n",
        "\n",
        "</details>\n",
        "\n",
        "### Some tokenization annoyances\n",
        "\n",
        "There are a few funky and frustrating things about tokenization, which causes it to behave differently than you might expect. For instance:\n",
        "\n",
        "#### Whether a word begins with a capital or space matters!"
      ]
    },
    {
      "cell_type": "code",
      "execution_count": 7,
      "metadata": {
        "colab": {
          "base_uri": "https://localhost:8080/"
        },
        "id": "s0exogGPX27l",
        "outputId": "99ccf6f9-bf2f-4ad6-a610-e5f32d892aa1"
      },
      "outputs": [
        {
          "output_type": "stream",
          "name": "stdout",
          "text": [
            "['<|endoftext|>', 'R', 'alph']\n",
            "['<|endoftext|>', ' Ralph']\n",
            "['<|endoftext|>', ' r', 'alph']\n",
            "['<|endoftext|>', 'ral', 'ph']\n"
          ]
        }
      ],
      "source": [
        "print(reference_gpt2.to_str_tokens(\"Ralph\"))\n",
        "print(reference_gpt2.to_str_tokens(\" Ralph\"))\n",
        "print(reference_gpt2.to_str_tokens(\" ralph\"))\n",
        "print(reference_gpt2.to_str_tokens(\"ralph\"))"
      ]
    },
    {
      "cell_type": "code",
      "source": [
        "print(reference_gpt2.to_tokens(\"Sriraam\"))\n",
        "print(reference_gpt2.to_str_tokens(\"Sriraam\"))"
      ],
      "metadata": {
        "colab": {
          "base_uri": "https://localhost:8080/"
        },
        "id": "zGAkh8feb6xD",
        "outputId": "5b578fe6-43d4-4c0c-f5fb-7c4d8e0515bd"
      },
      "execution_count": 9,
      "outputs": [
        {
          "output_type": "stream",
          "name": "stdout",
          "text": [
            "tensor([[50256,    50,    81,  8704,   321]], device='cuda:0')\n",
            "['<|endoftext|>', 'S', 'r', 'ira', 'am']\n"
          ]
        }
      ]
    },
    {
      "cell_type": "markdown",
      "metadata": {
        "id": "8aVq1npnX27l"
      },
      "source": [
        "#### Arithmetic is a mess.\n",
        "\n",
        "Length is inconsistent, common numbers bundle together."
      ]
    },
    {
      "cell_type": "code",
      "execution_count": 10,
      "metadata": {
        "colab": {
          "base_uri": "https://localhost:8080/"
        },
        "id": "gbpgayuAX27l",
        "outputId": "23452c2e-7a1a-45c0-f6f4-1636b615b245"
      },
      "outputs": [
        {
          "output_type": "stream",
          "name": "stdout",
          "text": [
            "['<|endoftext|>', '568', '73', '+', '318', '46', '23', '=', '123', '45', '67', '89', '-', '1', '000000', '000']\n"
          ]
        }
      ],
      "source": [
        "print(reference_gpt2.to_str_tokens(\"56873+3184623=123456789-1000000000\"))"
      ]
    },
    {
      "cell_type": "markdown",
      "metadata": {
        "id": "5iyzhVXzX27l"
      },
      "source": [
        "> ### Key Takeaways\n",
        ">\n",
        "> * We learn a dictionary of vocab of tokens (sub-words).\n",
        "> * We (approx) losslessly convert language to integers via tokenizing it.\n",
        "> * We convert integers to vectors via a lookup table.\n",
        "> * Note: input to the transformer is a sequence of *tokens* (ie integers), not vectors"
      ]
    },
    {
      "cell_type": "markdown",
      "metadata": {
        "id": "SSltsRhBX27l"
      },
      "source": [
        "## Text generation\n",
        "\n",
        "Now that we understand the basic ideas here, let's go through the entire process of text generation, from our original string to a new token which we can append to our string and plug back into the model.\n",
        "\n",
        "#### **Step 1:** Convert text to tokens\n",
        "\n",
        "The sequence gets tokenized, so it has shape `[batch, seq_len]`. Here, the batch dimension is just one (because we only have one sequence)."
      ]
    },
    {
      "cell_type": "code",
      "execution_count": 13,
      "metadata": {
        "colab": {
          "base_uri": "https://localhost:8080/"
        },
        "id": "zI95x78gX27l",
        "outputId": "c89e9d22-81fc-4ab7-f534-c2847b9bc682"
      },
      "outputs": [
        {
          "output_type": "stream",
          "name": "stdout",
          "text": [
            "Tokens tensor([[50256,    40,   716,   281,  4998,  1960,   382, 19741,    11,   875,\n",
            "         12342,    12,  8807,    11,   402, 11571,    12,    17,  3918, 47385,\n",
            "            13,  1881,  1110,   314,   481,  7074,  1692,  1241,  4430,   290,\n",
            "          1011,   625,   262,   995,     0]], device='cuda:0')\n",
            "\n",
            "Number of words split by spaces: 22\n",
            "Tokens dimensions: torch.Size([1, 35])\n",
            "\n",
            "Token strings ['<|endoftext|>', 'I', ' am', ' an', ' amazing', ' aut', 'ore', 'gressive', ',', ' dec', 'oder', '-', 'only', ',', ' G', 'PT', '-', '2', ' style', ' transformer', '.', ' One', ' day', ' I', ' will', ' exceed', ' human', ' level', ' intelligence', ' and', ' take', ' over', ' the', ' world', '!']\n"
          ]
        }
      ],
      "source": [
        "reference_text = \"I am an amazing autoregressive, decoder-only, GPT-2 style transformer. One day I will exceed human level intelligence and take over the world!\"\n",
        "tokens = reference_gpt2.to_tokens(reference_text).to(device)\n",
        "print(\"Tokens\", tokens)\n",
        "print()\n",
        "print(\"Number of words split by spaces:\", len(reference_text.split(\" \")))\n",
        "print(\"Tokens dimensions:\", tokens.shape)\n",
        "print()\n",
        "print(\"Token strings\", reference_gpt2.to_str_tokens(tokens))"
      ]
    },
    {
      "cell_type": "markdown",
      "metadata": {
        "id": "44QRdrbgX27l"
      },
      "source": [
        "#### **Step 2:** Map tokens to logits\n",
        "\n",
        "\n",
        "From our input of shape `[batch, seq_len]`, we get output of shape `[batch, seq_len, vocab_size]`. The `[i, j, :]`-th element of our output is a vector of logits representing our prediction for the `j+1`-th token in the `i`-th sequence."
      ]
    },
    {
      "cell_type": "code",
      "execution_count": 14,
      "metadata": {
        "colab": {
          "base_uri": "https://localhost:8080/"
        },
        "id": "p8vElSqiX27l",
        "outputId": "f7f17a21-b829-4873-f1f3-21e0ba3250cb"
      },
      "outputs": [
        {
          "output_type": "stream",
          "name": "stdout",
          "text": [
            "torch.Size([1, 35, 50257])\n"
          ]
        }
      ],
      "source": [
        "logits, cache = reference_gpt2.run_with_cache(tokens)\n",
        "print(logits.shape)"
      ]
    },
    {
      "cell_type": "code",
      "source": [
        "imshow(logits[0,:,45000:45500])"
      ],
      "metadata": {
        "colab": {
          "base_uri": "https://localhost:8080/",
          "height": 542
        },
        "id": "PV9MDlR1iCPR",
        "outputId": "fb31eb67-ca24-4302-d420-d153d71a8480"
      },
      "execution_count": 23,
      "outputs": [
        {
          "output_type": "display_data",
          "data": {
            "text/html": [
              "<html>\n",
              "<head><meta charset=\"utf-8\" /></head>\n",
              "<body>\n",
              "    <div>            <script src=\"https://cdnjs.cloudflare.com/ajax/libs/mathjax/2.7.5/MathJax.js?config=TeX-AMS-MML_SVG\"></script><script type=\"text/javascript\">if (window.MathJax && window.MathJax.Hub && window.MathJax.Hub.Config) {window.MathJax.Hub.Config({SVG: {font: \"STIX-Web\"}});}</script>                <script type=\"text/javascript\">window.PlotlyConfig = {MathJaxConfig: 'local'};</script>\n",
              "        <script charset=\"utf-8\" src=\"https://cdn.plot.ly/plotly-2.35.2.min.js\"></script>                <div id=\"ad669954-4614-426f-8555-e550139141e4\" class=\"plotly-graph-div\" style=\"height:525px; width:100%;\"></div>            <script type=\"text/javascript\">                                    window.PLOTLYENV=window.PLOTLYENV || {};                                    if (document.getElementById(\"ad669954-4614-426f-8555-e550139141e4\")) {                    Plotly.newPlot(                        \"ad669954-4614-426f-8555-e550139141e4\",                        [{\"coloraxis\":\"coloraxis\",\"name\":\"0\",\"z\":[[-51.442944,-46.72912,-53.122143,-52.412872,-53.175426,-52.782757,-46.703835,-50.956062,-46.80167,-45.890522,-51.36187,-53.21967,-52.201824,-53.490578,-52.569862,-53.733498,-48.7755,-51.584442,-48.458977,-52.83362,-52.569946,-52.088505,-54.863434,-52.53111,-53.269676,-54.064724,-52.79724,-46.302357,-48.011993,-53.02779,-51.34678,-51.24166,-54.46184,-52.24865,-52.949406,-50.427944,-53.227398,-46.762836,-51.380753,-48.315777,-52.682007,-53.61044,-52.77957,-54.96692,-54.195942,-53.20271,-52.387794,-53.41343,-46.521404,-54.32902,-51.936634,-49.45127,-53.423573,-54.3521,-53.614414,-47.891636,-51.261658,-52.438885,-54.319557,-50.816597,-53.969955,-52.277866,-53.22996,-51.256035,-53.125847,-52.07258,-47.943123,-51.859207,-48.449852,-53.54493,-49.80664,-54.23437,-52.644077,-49.97645,-52.654186,-53.792458,-53.525093,-53.81651,-53.61859,-51.844856,-52.481728,-46.400665,-56.657757,-52.275967,-47.615784,-54.327724,-54.36446,-46.682373,-50.002773,-48.854584,-51.81403,-51.24044,-52.41544,-51.204494,-51.799397,-51.992123,-54.979645,-51.376762,-51.920815,-52.669163,-53.47148,-55.028637,-55.002243,-51.743214,-52.921455,-54.60527,-53.764153,-53.94491,-51.913143,-50.526657,-53.3563,-53.83099,-53.90623,-46.93575,-53.005867,-53.296528,-53.728134,-47.075573,-53.672005,-49.370197,-53.18413,-54.57533,-52.896343,-52.9501,-49.21682,-54.419605,-54.461784,-53.56513,-53.320435,-51.595036,-51.654366,-53.959427,-52.722466,-52.265934,-53.11629,-46.324257,-52.55772,-49.290657,-52.487843,-47.20921,-54.869583,-46.23368,-53.103703,-48.171776,-51.52255,-48.46867,-50.34463,-46.582355,-52.17491,-51.957413,-47.40083,-48.44717,-52.61909,-54.28016,-52.663193,-49.63747,-52.99343,-52.06502,-53.793125,-52.773285,-51.684624,-53.702522,-52.79981,-49.39768,-53.84644,-49.061993,-55.479427,-53.474518,-48.04562,-45.55171,-46.949917,-53.26187,-52.104633,-53.243824,-52.357502,-50.1704,-54.25421,-51.687702,-49.57823,-53.03013,-50.94542,-52.88795,-46.43053,-52.64309,-53.385647,-53.838104,-46.507973,-52.096165,-52.1581,-48.76872,-50.305943,-49.142365,-47.710567,-54.85331,-54.62555,-46.895847,-52.85471,-51.360638,-46.403637,-52.173687,-54.453365,-58.405792,-51.863495,-52.986317,-53.070107,-51.250854,-54.326317,-53.716545,-52.692616,-52.06036,-51.7322,-52.57827,-53.396732,-47.97923,-48.81293,-54.363754,-52.1575,-53.34545,-51.97229,-53.31152,-54.27226,-54.670364,-53.011497,-50.607136,-53.199783,-54.11055,-50.074177,-52.981956,-53.267746,-54.222744,-53.724037,-51.527508,-53.22249,-52.971004,-53.28631,-48.018127,-53.033195,-51.929413,-53.662777,-52.188908,-50.19131,-50.58841,-52.175972,-51.997364,-54.02918,-54.271732,-52.8136,-54.34783,-53.390087,-51.293232,-49.396416,-46.565018,-52.663315,-52.613968,-54.29029,-52.42438,-50.507828,-51.702442,-46.658447,-53.11416,-51.602615,-51.753136,-52.603592,-53.796146,-53.195007,-53.40223,-53.429768,-51.91137,-51.083088,-50.278564,-52.05438,-47.691086,-45.638817,-54.64989,-54.261703,-52.92249,-51.97942,-52.509846,-52.816723,-52.09788,-50.353924,-52.87398,-52.926483,-52.152348,-51.540382,-52.11121,-48.703842,-53.08562,-55.340103,-51.34826,-52.83004,-47.907494,-49.586903,-53.742558,-53.186783,-54.058277,-53.457256,-49.43187,-50.924164,-48.65349,-55.372696,-52.840588,-50.82626,-54.270927,-53.141357,-52.5213,-53.570454,-46.5247,-53.010193,-54.361168,-48.92002,-52.549202,-51.239223,-47.756516,-53.98573,-52.35486,-51.367012,-52.55209,-52.744545,-53.62297,-53.71464,-49.768375,-52.390366,-53.50046,-53.362286,-52.319614,-48.774693,-52.927635,-51.700867,-51.295746,-46.1536,-48.10902,-52.727524,-52.306793,-53.387356,-52.85449,-51.824574,-52.137,-53.832825,-50.108353,-47.388157,-55.083466,-50.049313,-54.220703,-51.831413,-51.482708,-47.685837,-53.382385,-52.774624,-52.17767,-52.805115,-46.237026,-52.242626,-51.943203,-52.573208,-46.59553,-47.14261,-53.76678,-51.87459,-47.094364,-54.458794,-53.470547,-52.850063,-51.704887,-48.52009,-54.028427,-54.239197,-49.600426,-53.826164,-53.59911,-52.814266,-52.53935,-46.221035,-52.29917,-49.5051,-52.418266,-46.372334,-52.281822,-53.518593,-50.58316,-48.133366,-53.51776,-48.158875,-53.78274,-54.0551,-48.594624,-51.80437,-52.46687,-53.25262,-51.924232,-46.319153,-54.101913,-51.550426,-53.167614,-48.38291,-52.510635,-52.07736,-52.109936,-47.991013,-52.394764,-52.66249,-53.59487,-54.428608,-48.14925,-52.25366,-46.281322,-53.69375,-51.47827,-52.348625,-52.61034,-53.084274,-52.1682,-51.812588,-53.18272,-54.00897,-53.631496,-54.718956,-52.64316,-48.296314,-53.39448,-52.819897,-53.94883,-50.576923,-53.289818,-53.56911,-51.909794,-53.476177,-53.463615,-50.30005,-51.805805,-52.707455,-46.48368,-48.229477,-54.282967,-52.145855,-52.727467,-54.15402,-51.85877,-48.890438,-51.64934,-51.86007,-53.910126,-47.65037,-53.77053,-53.59737,-52.143536,-52.61506,-52.70593,-48.945206,-51.219948,-53.688065,-52.062275,-53.61505,-53.04805,-46.902687,-48.674126,-54.60303,-48.515076,-53.166046,-51.62149,-53.68038,-46.19018,-49.53431,-47.621304,-53.743088,-51.704937,-54.19452,-46.179356,-52.443886,-52.085983,-51.187366,-49.045708,-47.106483,-51.489906,-47.18759,-53.690784,-51.88159,-49.33579,-46.688427,-54.55712,-50.331844,-52.995457,-53.81234,-52.90728,-48.832253,-53.439537,-51.92273,-46.537468,-46.649418,-53.584785,-53.766758,-51.192955,-55.73876,-53.208416,-53.151333,-48.90064,-52.860123,-52.059715,-53.614883,-53.673496],[-135.11078,-136.06407,-135.09808,-138.80537,-135.30444,-133.96243,-132.80371,-134.61789,-136.3017,-139.4404,-129.23384,-136.01744,-133.51309,-134.83072,-135.9454,-133.98347,-137.2655,-131.5676,-133.75647,-132.31296,-133.63611,-135.65681,-132.00153,-134.5405,-135.47183,-137.43854,-133.39336,-136.91821,-133.39761,-135.78888,-134.93954,-133.81984,-134.20544,-134.46219,-135.78194,-134.8479,-134.73515,-134.92067,-134.72446,-133.5013,-137.20609,-138.06494,-134.17427,-135.74196,-137.30698,-136.28455,-136.213,-133.67137,-136.49922,-136.46503,-135.73566,-133.34177,-137.07372,-133.72151,-137.93877,-137.66862,-133.11096,-136.68097,-132.62975,-132.4646,-135.53983,-135.99565,-136.80086,-136.52841,-137.81819,-138.13467,-136.41049,-137.05014,-134.3937,-137.3823,-138.63644,-130.73845,-129.25693,-133.96552,-136.55142,-133.90202,-138.23926,-132.43361,-134.8402,-132.55092,-133.13692,-134.44974,-138.49373,-132.57108,-136.28438,-136.7831,-135.57098,-136.13393,-136.87393,-131.82005,-132.73715,-134.94122,-137.04257,-134.87274,-134.49236,-135.65086,-131.96779,-136.0581,-138.74992,-135.0116,-132.94046,-136.60248,-134.3272,-134.63487,-136.15923,-136.37714,-137.88834,-134.45042,-133.7171,-135.44243,-136.84436,-130.62001,-136.78748,-132.68211,-136.44344,-136.59479,-136.68965,-135.20584,-133.7515,-136.42218,-130.35901,-135.50993,-136.05284,-136.48552,-136.74559,-132.23193,-133.24889,-136.27649,-134.13588,-136.84207,-134.44867,-132.37833,-133.1487,-135.85646,-135.67561,-135.6394,-128.77325,-134.52588,-136.4977,-134.50177,-137.59259,-136.4269,-136.98006,-136.96957,-136.81853,-136.49158,-133.97029,-135.19843,-132.484,-136.91826,-136.6687,-134.54047,-134.69492,-131.95204,-135.31233,-135.78453,-135.31949,-133.14897,-131.90524,-135.97128,-135.42421,-135.55045,-135.7397,-135.09592,-132.7674,-138.5544,-136.44559,-135.79184,-131.56786,-137.54193,-138.55907,-133.02449,-135.84555,-138.33916,-133.58875,-137.16447,-136.3348,-137.20543,-133.67473,-135.03493,-135.66891,-134.93578,-135.75572,-137.13522,-135.45131,-136.55244,-135.85645,-133.17166,-134.96588,-137.65582,-136.08177,-135.99538,-134.68915,-136.3806,-135.34315,-137.67218,-133.68889,-129.3862,-138.15564,-137.13506,-133.587,-139.17409,-133.41107,-135.48895,-135.09595,-138.7075,-134.39177,-136.515,-136.09305,-135.30045,-135.0567,-137.5559,-131.80624,-135.04501,-135.04082,-137.62906,-134.04802,-136.76392,-134.53688,-133.11932,-135.33426,-137.92935,-136.3353,-135.36957,-134.37096,-135.14293,-131.81546,-136.05174,-139.27357,-132.57137,-127.68888,-134.6168,-135.32463,-134.68076,-133.91592,-135.39726,-129.25674,-136.00035,-137.33293,-135.03912,-135.80838,-138.34492,-137.39897,-132.79445,-136.60187,-138.84512,-134.15459,-135.46564,-136.20778,-133.26266,-135.92682,-138.91399,-136.37648,-136.29518,-136.88477,-133.1279,-132.87077,-130.04475,-135.06836,-135.80377,-136.91275,-134.40067,-139.64944,-135.13203,-135.12401,-137.26357,-137.92079,-134.27045,-139.74788,-136.05333,-135.89934,-133.9622,-137.78972,-131.76862,-136.21873,-135.13318,-135.9949,-136.27484,-135.73013,-140.32208,-133.80334,-137.07663,-135.95824,-136.48703,-138.60965,-131.58438,-136.82861,-134.95232,-135.70694,-136.76013,-136.08194,-133.74979,-133.44734,-137.71495,-136.97171,-139.63066,-135.37947,-135.22296,-138.76012,-135.09706,-137.07167,-134.23505,-134.31496,-135.995,-135.6134,-133.69008,-133.04367,-137.35716,-135.97722,-135.28552,-134.5941,-135.52518,-135.31781,-134.56454,-136.07303,-136.86554,-136.77434,-136.97687,-137.65732,-134.31108,-131.69751,-135.68784,-134.9844,-135.5787,-135.66989,-137.40681,-132.41048,-133.92935,-133.82957,-132.70836,-135.36221,-134.06621,-137.25792,-137.2465,-133.79477,-140.87283,-135.15205,-135.73732,-134.70235,-136.10156,-135.23163,-134.55002,-132.2148,-132.92798,-137.59805,-135.56184,-133.43002,-133.41649,-135.46452,-135.0055,-135.97028,-136.1454,-137.04433,-134.8975,-135.11418,-136.68968,-137.62332,-135.78491,-134.99963,-135.83961,-132.00237,-134.57248,-135.27718,-134.6407,-137.26408,-136.1073,-133.79753,-136.13704,-133.88173,-138.11125,-136.63817,-133.70892,-138.66148,-136.1241,-138.52542,-132.54062,-134.44328,-134.52304,-140.35924,-138.13765,-135.39334,-132.20512,-137.08762,-137.23921,-138.80386,-135.57568,-133.8699,-133.02763,-135.98749,-133.70177,-134.43971,-135.05687,-136.28915,-136.22978,-137.52368,-135.03049,-136.08858,-136.49402,-138.01958,-136.66086,-137.7082,-135.21866,-139.05048,-135.17351,-134.7055,-136.15923,-137.95374,-136.50398,-134.29929,-133.5335,-134.37321,-135.85367,-135.49388,-135.5247,-136.38322,-135.18686,-134.45337,-135.67221,-133.1248,-137.3827,-135.39693,-133.58716,-135.37685,-129.75479,-135.50832,-133.72835,-138.21735,-137.29135,-136.54071,-134.60384,-135.38953,-135.34966,-134.89458,-139.22792,-135.11537,-144.04561,-135.64865,-133.86978,-136.32375,-135.52846,-135.44176,-137.19405,-138.05736,-132.34221,-135.24858,-135.3778,-133.77351,-132.5215,-134.4959,-143.33168,-134.38544,-133.78789,-133.86926,-135.9237,-138.38002,-133.086,-136.8969,-139.34955,-133.7635,-137.66086,-139.04935,-138.7604,-133.38353,-137.55325,-134.1533,-133.37627,-135.9231,-134.46144,-137.64394,-137.43378,-137.73412,-134.90018,-135.16057,-135.39326,-138.4333,-137.68024,-133.70009,-131.99419,-134.25027,-129.8371,-135.73941,-133.46579,-137.166,-133.586,-137.33084,-134.36992,-134.73491,-135.38037,-135.07088,-137.89575,-136.34132,-132.45584,-136.4313,-137.63344,-134.64122,-134.9926,-137.98781,-135.00948,-135.5345,-136.08801],[-124.30907,-128.49991,-123.58362,-132.84515,-125.48121,-126.00289,-126.89498,-129.43019,-130.55939,-132.82419,-126.95641,-125.54455,-125.45907,-122.6703,-125.01933,-127.707306,-127.77672,-127.85365,-129.71501,-124.46795,-123.93941,-123.61327,-124.66017,-124.81848,-125.743126,-128.55542,-125.52569,-130.07436,-130.63379,-121.307724,-126.25467,-128.20195,-126.05649,-123.424904,-125.79968,-131.05931,-125.043884,-128.28307,-124.81542,-129.6626,-130.12814,-122.34902,-123.72551,-125.96865,-127.17697,-129.09065,-123.641495,-124.89654,-128.6745,-128.68086,-125.56439,-127.05805,-124.43256,-124.32819,-127.544266,-129.82549,-127.425095,-126.627815,-127.279755,-129.18773,-125.50232,-125.20282,-125.1821,-125.021416,-128.24895,-127.99805,-128.93626,-127.69277,-127.87551,-127.11817,-128.91243,-127.5532,-125.77507,-124.73342,-127.01851,-129.1814,-127.29716,-123.35029,-126.57598,-125.401436,-124.71028,-130.29834,-127.01395,-124.01344,-128.79729,-122.22494,-121.42373,-125.45885,-129.2163,-127.927864,-124.645164,-124.586395,-129.68167,-128.41281,-128.89272,-124.96205,-125.260124,-128.44115,-131.14326,-124.92292,-123.347015,-126.327705,-121.38146,-125.46316,-127.28286,-126.612366,-127.07243,-124.077126,-126.06918,-129.25253,-126.638405,-123.76479,-127.09808,-128.0238,-126.222786,-123.399414,-121.92864,-126.529015,-123.485306,-130.28493,-122.45015,-124.211266,-127.763245,-127.09939,-130.22333,-127.49206,-125.75527,-127.508286,-124.00661,-126.5146,-124.92485,-126.54011,-124.443184,-126.90277,-129.2732,-131.10863,-120.5898,-129.79266,-124.6435,-128.24295,-125.4746,-129.6955,-125.62042,-127.13166,-128.12076,-130.05763,-128.16873,-131.3904,-127.156815,-131.38074,-131.96873,-129.13342,-124.17013,-123.02921,-124.89865,-131.0939,-124.605865,-124.44152,-122.01328,-125.932014,-128.38812,-126.03205,-126.6684,-128.8803,-124.45192,-131.06506,-131.25653,-126.12702,-129.30933,-127.893166,-130.453,-123.22685,-123.81116,-128.13728,-125.60021,-130.51033,-126.61415,-131.46135,-130.36061,-124.951164,-126.17043,-122.15498,-129.62027,-122.048325,-122.61367,-128.76752,-128.3437,-120.47645,-126.8077,-128.33228,-130.08572,-129.13574,-128.91562,-126.3228,-126.020805,-130.77728,-124.98851,-131.16823,-127.172874,-131.14085,-127.49828,-130.85727,-124.590416,-126.08678,-126.03232,-128.10881,-124.87158,-127.83936,-123.30558,-128.53894,-124.31721,-126.35328,-124.28265,-130.04765,-129.38756,-124.86242,-124.537415,-132.3976,-126.50666,-124.10271,-123.58978,-127.79612,-127.00054,-130.7025,-124.60455,-128.8948,-126.783226,-124.510414,-135.2519,-126.71251,-124.20136,-123.18787,-123.51455,-125.227875,-125.24233,-128.38089,-126.788284,-128.12842,-124.36768,-125.23847,-131.804,-132.97112,-132.95407,-125.93374,-125.14318,-128.69447,-126.46551,-127.62455,-127.07213,-125.928406,-128.90572,-130.32516,-128.03111,-123.833,-127.3273,-126.03249,-129.22807,-121.994026,-129.79175,-123.791466,-131.26515,-127.40796,-124.040016,-125.1341,-125.911285,-126.333176,-125.00334,-128.596,-132.61998,-131.98323,-124.649445,-129.25507,-130.30728,-123.8503,-121.79531,-125.8805,-125.568565,-124.46907,-126.09954,-130.9988,-128.33736,-123.92323,-126.82635,-127.07264,-130.62491,-123.91071,-127.670364,-124.856995,-126.49735,-128.31773,-125.40252,-128.40192,-130.23209,-125.87204,-125.25804,-128.08485,-123.11953,-128.70609,-130.4391,-129.1154,-126.46941,-124.95217,-126.5858,-121.47174,-124.103935,-126.182076,-126.84954,-132.26804,-124.43927,-121.00483,-129.48315,-125.013794,-127.078384,-130.60217,-126.067444,-124.83847,-129.48871,-123.488075,-127.53644,-122.140495,-125.53493,-135.02823,-123.46117,-124.27905,-126.20932,-131.52612,-128.19731,-123.4214,-123.00798,-125.41176,-126.79008,-127.733376,-125.90136,-124.951546,-123.779434,-127.23047,-127.30074,-128.879,-124.74126,-127.51572,-128.01025,-120.013306,-129.93307,-127.195366,-127.85401,-125.05551,-128.90456,-127.75336,-126.791176,-121.929825,-125.13459,-129.60062,-126.37439,-124.95777,-123.36081,-128.92813,-128.69383,-126.74306,-123.20127,-129.43434,-128.39304,-122.84344,-124.878296,-124.42678,-131.10602,-125.02495,-122.316864,-132.03143,-124.99663,-128.63278,-127.380356,-124.513954,-131.31096,-128.24248,-129.7296,-123.97201,-128.42102,-121.14487,-126.6508,-130.02101,-132.22905,-128.10112,-127.272316,-125.20891,-133.01639,-130.6003,-123.35273,-125.131996,-124.91568,-125.6445,-127.76926,-126.57184,-134.57825,-124.3822,-129.79953,-126.064445,-130.22699,-123.573006,-131.34666,-123.28607,-124.64735,-125.587166,-127.23295,-128.57976,-127.58223,-127.99276,-127.06577,-123.798164,-125.24257,-124.93756,-125.07384,-126.85362,-126.14515,-126.75456,-121.628,-125.51953,-126.63868,-127.198746,-129.53947,-124.88705,-124.1558,-120.297516,-129.66847,-127.65992,-124.28147,-122.08376,-127.29233,-125.60565,-130.25076,-127.58459,-124.11086,-125.87316,-128.93735,-131.64218,-126.58147,-133.87851,-127.392784,-121.258385,-130.02226,-124.3057,-124.91452,-121.6266,-127.037544,-122.95323,-125.890434,-126.264015,-124.424774,-121.46814,-130.55841,-131.152,-124.36298,-131.0405,-126.03173,-125.4536,-131.81476,-129.17332,-125.85096,-131.81097,-126.612495,-132.07245,-128.13292,-131.41518,-129.23701,-128.94803,-121.677216,-125.20301,-121.75162,-126.28022,-125.71117,-125.230415,-130.57405,-126.620575,-129.09048,-124.64096,-130.5249,-128.69945,-125.306854,-126.71078,-127.27219,-123.88688,-130.14842,-123.85979,-129.10435,-123.66015,-131.13184,-124.91842,-128.55566,-131.19958,-130.18079,-125.743164,-126.85842,-126.0912,-131.85464,-126.461876,-129.98509,-128.21446,-128.50977,-126.311905,-124.738785,-126.26766],[-104.096886,-107.11572,-104.18232,-105.17065,-105.99693,-103.743355,-108.314514,-106.04532,-110.42636,-109.85817,-104.36018,-104.69245,-103.02373,-107.12592,-104.54304,-109.84934,-109.48952,-103.683525,-107.42656,-103.62372,-103.33069,-103.356255,-108.3718,-104.46097,-105.28527,-108.02039,-107.12525,-106.75222,-109.77179,-96.506966,-106.8014,-110.782005,-103.66895,-100.97061,-105.9833,-111.07798,-103.633446,-106.67862,-106.88828,-104.62312,-108.3001,-106.67125,-103.48746,-105.69118,-103.89541,-107.985504,-104.5021,-108.539474,-107.11259,-104.68551,-105.41458,-110.4083,-101.57342,-105.94877,-104.802155,-105.51961,-108.68079,-106.15281,-107.39735,-106.49801,-104.64014,-106.824875,-99.52516,-105.21796,-105.01506,-103.09198,-106.21538,-105.07702,-105.60712,-106.064354,-105.95196,-106.9839,-104.59833,-108.11644,-105.26158,-106.11297,-102.20499,-103.90024,-107.04119,-102.18308,-102.854416,-110.11502,-111.054665,-105.33367,-106.2436,-106.65605,-102.08432,-107.748924,-104.84925,-109.59765,-105.411514,-103.388245,-109.31063,-108.27029,-111.53082,-102.89212,-105.87911,-106.777504,-106.34115,-104.91966,-101.903336,-103.30845,-99.6353,-104.20939,-105.61625,-105.11024,-100.67544,-100.72191,-104.236946,-106.968666,-99.370346,-107.28288,-104.826004,-108.6563,-105.76057,-102.8972,-102.346504,-109.19771,-99.13512,-106.163315,-105.376076,-101.97223,-103.41968,-101.44531,-108.35584,-103.22315,-102.94528,-106.125984,-102.14727,-99.50818,-102.27213,-106.27798,-103.31372,-105.79439,-109.446434,-107.923386,-104.588745,-108.79473,-104.781906,-109.624435,-104.58094,-110.03181,-97.19824,-108.309715,-104.51596,-106.402214,-106.78037,-106.698074,-106.732124,-107.84765,-107.66574,-108.704735,-103.30959,-105.224495,-104.0101,-107.46587,-105.5074,-103.97304,-104.32961,-106.00456,-105.646675,-101.94979,-103.35767,-107.63852,-105.15701,-105.87137,-108.68585,-104.69865,-106.22133,-108.0032,-109.507385,-106.79542,-100.33224,-106.12329,-103.79313,-107.329544,-106.109985,-109.71824,-107.80529,-105.38771,-104.45083,-103.51013,-106.900734,-105.20245,-104.039116,-107.13186,-105.05228,-99.05625,-103.386795,-105.833,-106.50599,-108.67904,-108.38989,-98.01839,-104.59763,-109.76413,-102.64364,-104.01072,-105.63633,-104.82701,-108.26915,-108.29202,-102.07501,-105.47003,-104.080574,-104.14893,-103.06935,-101.816345,-102.051384,-107.264534,-104.78701,-104.56089,-103.12533,-107.82558,-108.251335,-106.891655,-104.01972,-112.73106,-106.660576,-101.843445,-104.59525,-105.62437,-103.80881,-107.050514,-102.98235,-105.09048,-106.79146,-104.97763,-112.49623,-103.7726,-105.80387,-100.8472,-101.0934,-102.66719,-105.81499,-108.975685,-106.985634,-105.53721,-103.12399,-102.22732,-110.86871,-110.6509,-110.35407,-101.99525,-99.77225,-107.07864,-103.037895,-103.51197,-97.686005,-105.02388,-107.435616,-108.21323,-107.04633,-100.901596,-105.831055,-99.90026,-105.691956,-105.02179,-107.411095,-103.2734,-112.30116,-105.250595,-103.132774,-103.43907,-105.890114,-105.31165,-104.94603,-104.68203,-106.17345,-106.95367,-97.7872,-106.79151,-104.26846,-106.94634,-106.54836,-107.66838,-103.989555,-104.63155,-101.17522,-107.32958,-104.13307,-104.336784,-105.69347,-102.81003,-107.90679,-104.1812,-105.75531,-103.03584,-105.25383,-107.802086,-103.776634,-108.33414,-107.972496,-101.58661,-106.35491,-106.10997,-102.94937,-104.13008,-110.726295,-107.8407,-107.454346,-103.33583,-104.12198,-102.93452,-98.67293,-105.35082,-106.02552,-109.68336,-103.97501,-103.37635,-109.182556,-106.227425,-108.40592,-112.30081,-103.58919,-100.4892,-106.60228,-102.1802,-100.288536,-105.13681,-100.2063,-107.51281,-99.70821,-105.05989,-104.74927,-106.14482,-107.62122,-105.20955,-101.56971,-99.06799,-106.246,-108.40914,-105.194,-103.56188,-103.53775,-107.70125,-102.23808,-108.55628,-104.34634,-104.05864,-107.266594,-105.33814,-105.73736,-105.45287,-103.00132,-105.73111,-108.712,-105.45002,-107.634056,-97.80225,-106.00514,-107.76251,-97.00956,-99.877335,-105.238,-108.84635,-109.027084,-100.88821,-101.41017,-112.25738,-106.26846,-104.64345,-105.74591,-105.07951,-108.222435,-105.28392,-105.07424,-111.095894,-102.51991,-106.870415,-103.936,-102.5328,-108.5502,-104.70625,-107.87607,-97.499794,-108.83116,-104.83552,-106.94956,-115.66807,-112.501305,-107.033005,-105.92144,-101.36328,-110.786606,-105.55889,-101.20592,-99.2431,-100.61681,-105.12188,-108.87593,-104.839,-108.979576,-104.78135,-108.41886,-106.33302,-106.69629,-100.40025,-109.853065,-102.171814,-100.459175,-105.89175,-105.97143,-106.87402,-105.82865,-108.766365,-104.57966,-106.03623,-106.26718,-106.53289,-104.84175,-104.40439,-106.68449,-104.63728,-103.46713,-103.52832,-107.4165,-101.33167,-108.981346,-102.87821,-100.26283,-98.7374,-110.637344,-104.92272,-96.2718,-103.292625,-101.559685,-99.64808,-109.1252,-108.50845,-103.06787,-107.67664,-105.1016,-109.515724,-103.84397,-108.76496,-101.32662,-105.0102,-109.142815,-103.622734,-100.41083,-106.40923,-109.38513,-104.807434,-105.76633,-104.44773,-104.5605,-105.35216,-110.31222,-111.07993,-98.174614,-109.657265,-103.409966,-100.372734,-109.666595,-106.76907,-103.784935,-108.43017,-99.91859,-111.612404,-104.9781,-111.2718,-109.85638,-109.75941,-102.11251,-105.531204,-103.04274,-107.34506,-106.91502,-105.200066,-105.271935,-106.4494,-109.44687,-104.97467,-109.9357,-107.887665,-104.43131,-108.77606,-106.72576,-107.21891,-105.60694,-105.26634,-107.43937,-101.48291,-108.99539,-105.40737,-106.86599,-109.074715,-108.63826,-104.22609,-105.44862,-106.03675,-108.137596,-106.80287,-106.500015,-106.55926,-106.97041,-99.6649,-104.271965,-99.87861],[-119.14956,-125.89296,-117.54896,-124.064285,-123.604225,-121.26023,-127.31791,-122.964645,-125.282234,-123.94147,-122.6288,-123.797905,-120.035965,-119.95677,-121.076126,-121.55597,-123.17124,-125.64814,-125.0755,-117.29232,-119.8402,-120.16505,-124.53736,-119.85131,-119.62423,-123.11135,-121.78432,-124.05505,-125.78581,-116.73989,-123.019714,-124.78038,-117.66676,-113.81357,-119.62787,-126.15807,-118.04941,-128.16042,-120.39532,-125.3516,-124.959015,-124.050026,-118.1369,-117.39104,-120.26502,-126.54862,-118.858215,-119.48873,-123.51069,-123.612686,-119.755356,-123.85834,-114.003105,-121.28171,-119.52229,-125.60693,-126.74415,-123.71176,-123.65243,-124.99681,-120.80949,-121.20237,-121.40585,-120.99946,-120.99049,-119.61974,-124.17055,-125.95331,-124.429,-121.04385,-126.53444,-123.526924,-125.01424,-125.78731,-120.41143,-122.93177,-120.27187,-120.53605,-122.16039,-117.83328,-119.00714,-125.7893,-127.176956,-119.729164,-125.20437,-121.643265,-116.80322,-124.37832,-119.908066,-125.38725,-119.91479,-117.985634,-126.58367,-124.95447,-129.9033,-120.12762,-121.250984,-124.55678,-127.07329,-119.02755,-121.71943,-121.6534,-118.36749,-121.054924,-124.15369,-119.4105,-120.21026,-122.0216,-117.611374,-126.07747,-117.93502,-121.725494,-119.801285,-124.41121,-123.086,-118.0628,-116.6632,-125.216705,-121.482216,-125.21914,-123.49093,-122.51463,-121.6894,-121.82791,-124.25785,-116.7108,-117.03922,-118.841,-117.2235,-120.54874,-119.388466,-121.63077,-117.62194,-122.970924,-122.81106,-126.89049,-122.11489,-129.33931,-119.39254,-125.53769,-123.574554,-126.44663,-117.24051,-126.33719,-122.77091,-127.7436,-120.91503,-127.00673,-122.15782,-129.25008,-129.00066,-125.12264,-118.45988,-121.0984,-119.50089,-127.90254,-120.385086,-117.20775,-122.32309,-121.12719,-120.98329,-117.14238,-119.674774,-124.96034,-119.30447,-126.257645,-129.26083,-119.966866,-125.53699,-124.984215,-126.992134,-123.53094,-114.52862,-120.307846,-120.28718,-127.96378,-122.44482,-127.69745,-128.7825,-120.13538,-118.85882,-120.22466,-124.546906,-120.474365,-120.52454,-118.601524,-124.49579,-116.913086,-118.250946,-122.919044,-123.68571,-126.00112,-125.49609,-118.24749,-117.97606,-126.89586,-119.61452,-122.4615,-124.498344,-123.33987,-125.56751,-124.6017,-116.47078,-118.7631,-123.15094,-122.901535,-111.760796,-118.39653,-119.26931,-122.00488,-119.446884,-126.666435,-118.759056,-124.78377,-124.43545,-122.04978,-119.00414,-129.57959,-122.78866,-117.80829,-120.262764,-123.0905,-116.874725,-126.4765,-119.95022,-122.75832,-124.429756,-120.45296,-130.60054,-117.8004,-121.40594,-118.48403,-119.26674,-118.04747,-122.10067,-123.94544,-123.26478,-119.80451,-120.148186,-116.212204,-126.158356,-129.60284,-129.61897,-120.03726,-119.664444,-122.92688,-116.961754,-121.485306,-116.26639,-121.332596,-125.60372,-127.427055,-120.608574,-122.38884,-119.83877,-118.96486,-125.458405,-118.96738,-124.763,-118.94277,-128.91573,-124.56019,-117.945366,-122.04655,-118.93014,-120.61042,-119.712616,-123.46292,-126.387024,-126.31342,-116.42564,-124.82817,-126.319176,-118.88984,-119.93383,-120.20264,-120.01611,-122.46651,-120.44619,-125.45646,-123.42338,-120.563705,-118.18729,-117.989395,-129.65326,-119.59009,-123.766815,-118.63487,-121.41588,-124.44049,-117.59172,-124.9206,-128.49062,-114.81388,-119.23995,-121.73078,-120.7119,-124.164185,-127.32105,-125.209206,-124.13984,-120.13436,-122.36823,-118.55304,-117.771866,-121.35201,-120.143036,-126.74799,-119.47349,-119.11323,-126.318146,-119.82063,-126.31347,-125.41666,-115.71057,-122.95377,-126.02184,-120.927864,-120.87721,-118.79508,-117.93181,-126.76279,-117.63594,-119.53096,-118.71439,-125.13365,-124.93196,-121.274376,-115.69132,-117.50741,-123.96496,-125.11414,-119.91811,-120.748726,-118.188446,-127.77234,-121.78245,-124.77859,-116.59675,-125.22447,-121.32039,-120.5398,-127.3137,-119.15523,-119.933304,-120.71302,-125.95021,-124.674706,-123.38523,-116.27057,-120.76495,-123.6024,-115.95183,-118.65798,-118.44064,-125.356834,-126.80173,-120.03952,-118.073814,-125.34831,-119.41752,-119.945595,-119.770386,-120.70602,-124.88594,-120.83206,-119.248505,-129.73761,-118.06867,-124.12837,-122.29388,-120.93015,-126.036896,-119.50684,-126.31815,-116.78608,-124.083084,-117.959435,-120.266014,-128.6276,-126.43796,-123.210526,-121.340454,-121.98178,-129.32556,-124.30462,-115.30399,-116.7082,-120.865,-121.09326,-125.46191,-117.29405,-130.8771,-120.877106,-123.30262,-122.15726,-125.18732,-119.5377,-129.44907,-117.51288,-120.83928,-120.241905,-125.461655,-126.189575,-121.2844,-126.2197,-119.57673,-121.94306,-120.67616,-122.13961,-119.75518,-119.545135,-121.7918,-120.045906,-120.56351,-120.144295,-121.35247,-119.74561,-124.78692,-119.81225,-121.21906,-122.822174,-125.82258,-124.2211,-117.76943,-117.77217,-121.36925,-122.289116,-126.87136,-128.94617,-116.84987,-123.947296,-126.87394,-130.26543,-124.36081,-129.25926,-119.94934,-119.76166,-127.01171,-119.31007,-120.45837,-119.553085,-126.22922,-116.83013,-121.08165,-120.03647,-121.5787,-118.35685,-125.93591,-130.05116,-119.589386,-126.42649,-118.422005,-120.63091,-126.210106,-124.17067,-121.60967,-128.47064,-119.26394,-127.96105,-123.150085,-128.12868,-125.9213,-127.09332,-115.51742,-120.80585,-116.57555,-122.948975,-120.78461,-120.77562,-125.98305,-124.56128,-127.30847,-120.23132,-127.10679,-125.164276,-121.226906,-124.19362,-125.035126,-122.16864,-123.53919,-120.217606,-125.737076,-116.35778,-129.82973,-120.18643,-123.217224,-126.205124,-126.39623,-117.158875,-121.80932,-122.62126,-126.05487,-119.63414,-127.27397,-124.77295,-122.45685,-119.96669,-121.61139,-119.78977],[-81.526375,-79.95857,-83.674835,-81.32031,-80.90654,-85.198166,-83.09797,-74.61003,-80.26334,-78.82053,-81.26379,-83.71011,-84.878334,-80.19951,-81.114815,-80.70461,-73.55964,-79.2546,-79.374306,-81.273506,-81.410065,-80.298355,-81.82414,-80.18194,-83.304054,-82.03271,-84.575615,-77.22014,-81.97781,-77.77296,-80.89845,-79.45832,-78.003204,-76.289154,-81.8159,-82.395996,-80.872505,-82.08823,-78.324974,-80.35236,-81.791374,-83.06915,-80.965836,-81.48319,-83.07103,-74.667564,-84.3934,-80.520706,-81.748215,-81.85331,-80.73108,-78.61938,-78.91554,-81.65582,-83.58077,-76.42929,-75.32446,-83.86185,-80.241325,-77.526054,-81.2031,-82.55833,-81.27117,-81.09018,-79.732994,-83.887436,-79.250374,-81.21926,-78.05093,-79.40373,-77.541245,-79.820335,-80.125595,-80.58996,-80.5128,-80.18463,-78.72163,-78.97171,-83.40956,-79.7214,-77.99726,-79.81669,-84.169556,-81.81514,-78.07149,-81.54532,-81.92208,-81.64533,-80.0609,-76.88359,-76.46725,-76.294785,-82.677826,-74.026535,-78.76616,-84.084015,-81.68301,-84.78704,-76.05029,-82.326614,-80.33039,-79.090675,-80.26306,-82.86299,-81.10282,-83.75653,-82.019005,-82.1651,-79.646805,-76.72745,-77.804756,-81.37619,-79.99746,-83.026375,-83.496124,-79.53906,-79.70973,-78.978584,-81.97016,-82.06105,-78.721664,-80.67534,-81.11874,-83.42664,-78.35535,-77.748405,-79.42796,-81.45137,-80.63367,-78.28081,-78.97204,-80.673615,-81.32841,-80.28228,-82.75339,-81.59083,-81.63026,-78.25193,-78.521225,-79.620575,-83.0903,-79.539604,-79.028656,-79.103775,-80.086075,-78.99632,-74.06085,-79.14583,-81.34942,-72.61522,-80.49683,-78.892815,-79.86903,-82.57126,-79.4214,-87.83425,-80.154915,-78.91763,-80.55013,-80.30067,-80.216064,-76.24143,-82.41357,-75.322014,-79.25352,-79.845985,-75.3026,-80.56347,-77.018555,-79.4048,-80.07702,-81.32722,-76.10118,-80.81449,-78.96694,-81.73727,-82.55516,-76.276306,-79.17215,-80.99462,-79.88052,-77.6209,-78.812675,-82.427284,-81.92153,-82.13153,-80.4145,-78.81808,-80.93423,-77.972946,-75.40761,-80.49391,-84.25341,-79.920784,-81.09792,-83.342026,-80.16487,-70.88759,-84.03584,-83.49492,-83.73512,-87.19463,-77.67192,-81.67612,-76.895645,-82.79627,-75.61641,-81.9599,-81.40683,-82.848274,-82.43328,-79.13641,-80.01766,-80.394325,-79.306694,-85.36681,-81.001854,-77.91918,-81.33352,-78.700066,-82.39231,-83.90669,-80.40551,-78.048035,-81.18893,-79.62407,-81.48118,-82.44532,-80.35661,-81.049774,-80.12367,-79.8827,-80.53625,-79.06911,-79.36663,-80.15194,-80.22041,-82.1851,-80.56959,-79.630264,-80.34201,-79.45057,-80.488205,-78.46698,-79.85799,-80.02567,-80.753235,-83.25063,-77.682106,-80.68369,-83.608185,-83.15419,-86.75792,-84.24577,-81.90193,-79.37892,-76.15991,-79.48182,-78.03078,-79.74126,-78.57881,-84.144135,-81.64294,-81.83801,-80.56726,-82.26101,-79.05587,-83.03246,-77.16352,-76.96271,-79.73561,-80.8359,-78.03821,-82.45995,-80.25443,-82.47619,-83.538605,-80.40128,-83.337135,-78.79607,-76.34499,-79.64082,-80.13957,-78.285805,-76.37636,-80.963066,-76.06464,-79.7488,-82.91516,-78.45849,-82.01112,-74.54722,-71.72051,-79.75977,-80.93229,-82.07585,-82.22124,-80.8616,-82.93503,-82.058784,-81.56452,-79.513374,-80.572395,-77.519684,-78.57621,-82.20175,-80.14899,-82.196266,-83.53761,-79.05479,-79.13449,-78.42304,-81.64222,-78.91655,-80.51735,-82.2292,-73.79197,-82.96116,-84.614655,-79.88725,-77.19572,-85.03953,-78.43278,-81.580154,-82.04128,-84.947,-80.424965,-78.73391,-78.313156,-79.59648,-80.680435,-80.95357,-84.2813,-82.094574,-80.014984,-80.12761,-79.50901,-80.36416,-82.36792,-84.543205,-79.020294,-82.416885,-71.13014,-79.56387,-82.231865,-81.8041,-84.67008,-79.749115,-82.9291,-81.05305,-84.972336,-81.15686,-77.92655,-79.55818,-81.280334,-81.52641,-85.71238,-79.390915,-80.065926,-81.81341,-79.8752,-82.38695,-80.44093,-83.5292,-79.372635,-80.51633,-79.430176,-79.92784,-81.15618,-84.510765,-79.87981,-82.039955,-80.624664,-82.37132,-78.61558,-80.81613,-78.686035,-82.65197,-82.08526,-84.77506,-79.38627,-83.03267,-73.77915,-83.386215,-82.730995,-80.41522,-79.265236,-79.91019,-80.10036,-81.7096,-81.36951,-78.74542,-81.62602,-82.11811,-78.99633,-83.72233,-71.96235,-79.87132,-82.638695,-78.29042,-82.42099,-82.28342,-85.79522,-82.03241,-83.75659,-82.42017,-78.85825,-82.65449,-82.44139,-81.38527,-81.73234,-80.56523,-79.30495,-81.77756,-79.53223,-82.739876,-80.128,-83.91723,-81.21899,-83.94753,-81.749916,-81.217514,-80.853294,-80.8809,-79.059326,-82.75064,-78.777954,-83.657135,-79.70823,-78.9532,-79.66453,-80.68728,-82.165924,-86.45472,-79.53786,-86.48571,-79.2447,-81.14039,-80.83773,-80.344925,-81.69494,-80.78422,-81.49296,-77.697876,-83.01287,-81.22053,-79.78271,-80.765144,-82.600845,-93.75485,-81.28518,-78.58434,-79.24421,-77.49775,-81.51096,-80.85241,-82.47218,-79.80594,-79.10385,-78.426384,-85.030266,-82.43972,-77.19122,-83.96633,-78.63952,-80.1594,-81.419495,-78.944305,-82.5491,-81.18009,-75.595764,-77.05185,-82.177086,-82.441956,-80.03831,-83.73756,-86.28947,-81.33067,-82.79536,-83.201004,-75.474655,-81.48738,-80.004364,-77.516815,-86.462036,-80.08876,-83.09554,-82.40333,-80.63495,-79.75754,-82.566895,-86.268074,-80.08822,-78.76043,-76.26515,-77.47111,-82.42953,-80.166374,-81.68036,-80.31867],[-83.12825,-84.55889,-84.604935,-84.19701,-84.85555,-83.94904,-81.90298,-80.3746,-79.65118,-77.477104,-82.614426,-82.712166,-83.23232,-84.44137,-84.611275,-80.53149,-76.470406,-79.88815,-80.805435,-80.25522,-78.732574,-80.48254,-83.520676,-83.60845,-77.56944,-87.062416,-81.03542,-85.86588,-81.86581,-79.58495,-80.43468,-77.59853,-82.24747,-81.55629,-82.079956,-84.02557,-82.69215,-82.20858,-79.22353,-83.26749,-83.22187,-84.241745,-84.1519,-81.29979,-84.15906,-77.01714,-85.2187,-84.1445,-82.391975,-82.51271,-78.97089,-79.48875,-81.35959,-83.15223,-83.97721,-78.28249,-78.27672,-81.595764,-79.67984,-79.97419,-86.03181,-83.186966,-83.98969,-82.35533,-80.46588,-81.100945,-72.74957,-79.97193,-79.437874,-80.94639,-80.534515,-82.941154,-79.57293,-74.20635,-81.56428,-81.58726,-82.29603,-82.270065,-83.252335,-81.99985,-78.58573,-80.3816,-81.539055,-79.673874,-80.551865,-83.318214,-82.022255,-82.632454,-78.89323,-77.87536,-80.65945,-81.389694,-83.944176,-78.96752,-81.601814,-80.08011,-81.27334,-86.38556,-83.39192,-83.45728,-83.3926,-81.53281,-79.20199,-82.17904,-82.40933,-84.84393,-82.39172,-81.62727,-80.76943,-82.97287,-80.59637,-81.12701,-82.18803,-80.20409,-86.55537,-81.18417,-78.7402,-79.6658,-81.61049,-78.253136,-77.55191,-79.83285,-83.60954,-87.11759,-77.51413,-78.86024,-83.05404,-82.86503,-82.364624,-82.54854,-80.9862,-85.9847,-79.8515,-85.21521,-85.19402,-80.22831,-80.35562,-80.24975,-80.03522,-79.354454,-85.07113,-82.34929,-82.37731,-74.92227,-82.123116,-81.784874,-75.25109,-79.38622,-84.46019,-79.29913,-86.4626,-83.643684,-80.352936,-83.35501,-79.633644,-92.84062,-84.61517,-81.51505,-81.87753,-82.36995,-80.89376,-78.48186,-85.50413,-74.62549,-81.838585,-79.86803,-85.132286,-85.251976,-81.668915,-79.95972,-82.23933,-87.273705,-76.05962,-84.19146,-77.97611,-81.769844,-84.84924,-79.58631,-76.8918,-84.79534,-82.53646,-83.032364,-82.30956,-84.10475,-86.35499,-83.81535,-84.22748,-81.64065,-80.96046,-76.51093,-75.69247,-81.972626,-81.48582,-83.44668,-84.907295,-79.49692,-82.147896,-78.82846,-85.03848,-82.06136,-82.99329,-89.57634,-78.00969,-81.65038,-78.582726,-86.59917,-75.519516,-84.36581,-80.967735,-85.52451,-80.262634,-80.94217,-80.01398,-74.25489,-79.631065,-83.35883,-85.5613,-79.97675,-80.52728,-83.36817,-84.21683,-82.203384,-82.21515,-79.05553,-82.97695,-84.857445,-79.62192,-83.09182,-85.12705,-81.42561,-80.01828,-78.3527,-84.20869,-79.30145,-84.43679,-75.94237,-82.342285,-81.037056,-85.65343,-83.49765,-79.76283,-83.251175,-79.01496,-81.64606,-80.93726,-84.54226,-83.158195,-84.22663,-81.16301,-82.074554,-85.31146,-82.26988,-82.75312,-84.56277,-83.91428,-81.90368,-77.780975,-78.66953,-78.148056,-84.50204,-75.92721,-83.61435,-83.452385,-87.01982,-80.724106,-82.46362,-84.89771,-84.11116,-78.50289,-80.93925,-77.94348,-81.093315,-81.852554,-83.65339,-82.01732,-78.73469,-82.1845,-83.45799,-82.4772,-79.95835,-78.717354,-81.101974,-84.384094,-79.95526,-81.18206,-82.27692,-77.73101,-85.33376,-84.554375,-81.85282,-82.821304,-79.19752,-78.85251,-82.30888,-81.79481,-86.54718,-81.734344,-82.60716,-88.29481,-83.19619,-88.091095,-83.79775,-78.4367,-81.873955,-81.32649,-81.57827,-83.80204,-82.33463,-82.22217,-81.53609,-82.128105,-82.300476,-77.91028,-75.92805,-80.84498,-80.61807,-76.90166,-83.44083,-82.20131,-81.67979,-81.912796,-86.641365,-83.0655,-84.619514,-83.13239,-86.37444,-81.74991,-82.89582,-72.35236,-82.439476,-81.34216,-81.35576,-82.869736,-83.792755,-85.57127,-82.40795,-80.094635,-84.39981,-83.47278,-81.3212,-86.004166,-80.700676,-82.3289,-83.48992,-81.58576,-81.42443,-83.42165,-81.52558,-81.57141,-78.496544,-82.52724,-83.823395,-78.49936,-79.8362,-82.7778,-80.18781,-85.70157,-85.74072,-83.37997,-85.08638,-81.232086,-79.58769,-83.854675,-84.066185,-77.219154,-81.14844,-80.16288,-85.67794,-76.13897,-88.83206,-82.12811,-81.76904,-80.80438,-85.77379,-78.338875,-84.67158,-82.98751,-84.45878,-83.29694,-84.77857,-76.64045,-82.698975,-72.143654,-83.077065,-88.751526,-79.02142,-81.26428,-79.82512,-82.95468,-81.290794,-81.93766,-79.78808,-86.878555,-85.14312,-76.2886,-84.43282,-79.76968,-81.78432,-87.737,-81.02172,-85.24203,-81.89757,-85.82191,-79.30052,-83.034515,-82.30535,-80.29786,-85.31476,-82.142426,-83.96122,-82.29441,-83.207115,-85.6638,-84.73819,-82.91277,-84.87502,-79.61187,-84.02173,-83.86512,-82.550644,-83.33779,-85.467926,-84.51344,-83.35953,-81.77096,-83.11951,-83.95799,-83.25314,-77.7691,-83.1615,-79.07058,-82.09187,-82.64717,-84.75135,-82.51681,-85.31909,-84.04416,-83.59432,-80.250916,-79.14541,-82.99449,-80.96411,-81.77077,-79.10195,-83.60778,-79.592896,-83.8736,-84.43878,-85.03014,-88.98089,-85.3345,-81.61678,-82.07353,-83.24808,-85.408714,-81.61389,-82.08667,-80.43013,-81.92781,-82.54542,-89.60308,-80.8976,-77.68339,-82.43654,-79.65786,-83.81095,-81.68743,-80.604774,-84.31064,-83.51321,-81.933495,-77.56758,-84.28788,-80.49869,-85.48829,-81.417595,-82.41117,-76.18662,-85.81412,-79.22389,-75.482605,-84.40054,-82.20701,-81.19579,-84.01161,-85.89101,-83.11842,-83.787926,-80.4506,-81.71566,-82.52559,-84.34538,-79.871155,-86.31815,-86.375755,-76.98996,-85.359314,-82.37305,-80.26744,-80.96685],[-101.66899,-107.52096,-99.952705,-108.6866,-107.14707,-104.48259,-106.60887,-105.19,-106.72422,-103.86403,-104.660385,-103.413445,-102.52667,-101.52888,-103.044815,-102.36194,-102.63231,-106.732994,-106.15741,-99.801765,-103.11231,-103.44403,-102.50828,-102.676956,-102.265976,-104.48284,-104.57636,-105.94422,-106.004845,-98.60216,-105.05573,-105.52449,-99.70466,-95.34299,-103.129715,-106.7624,-101.576385,-107.16768,-100.62479,-106.132484,-105.0912,-102.37282,-102.08972,-100.89698,-103.780396,-105.9911,-101.693695,-101.97397,-106.229004,-105.62079,-101.96455,-104.72276,-98.575584,-101.18059,-101.07733,-107.32726,-105.5495,-105.54859,-102.99223,-105.8428,-101.21713,-103.31081,-102.95248,-103.895546,-102.70922,-103.544365,-105.100105,-106.2057,-105.020035,-101.33411,-106.80319,-104.71482,-104.1423,-107.66464,-101.14995,-104.03766,-102.69802,-101.37317,-104.7521,-99.89769,-99.20261,-104.95997,-104.371895,-102.88802,-106.82871,-102.47548,-98.38488,-105.95463,-100.92266,-105.285866,-101.902916,-98.52394,-107.08182,-105.71522,-109.34726,-102.5908,-102.2146,-105.44077,-106.181625,-101.19017,-102.516426,-100.526924,-101.656975,-104.014656,-102.990814,-100.62091,-100.90585,-103.259895,-102.08573,-107.35786,-100.41833,-101.45914,-101.57362,-105.12278,-104.475876,-99.166885,-98.04947,-105.3006,-102.44192,-106.07496,-101.137344,-102.57639,-103.55072,-103.85857,-104.99941,-98.718414,-98.89031,-99.74766,-100.207794,-105.04307,-101.89586,-102.30712,-101.13234,-104.209366,-106.16466,-104.85992,-102.01719,-105.80256,-103.22068,-106.23817,-105.40202,-106.86408,-100.0534,-105.47549,-104.19671,-106.45025,-102.41496,-106.344345,-105.842255,-107.34024,-108.01498,-104.78396,-102.42794,-102.547066,-100.77502,-108.922356,-102.413086,-100.32739,-101.38986,-105.84601,-100.02307,-97.77815,-102.82067,-105.12088,-102.54903,-107.42002,-109.31739,-101.99122,-106.471176,-106.35122,-107.27638,-101.80903,-96.737366,-101.75925,-102.62352,-107.932884,-104.62637,-105.944595,-108.68267,-102.70418,-102.57228,-102.281845,-106.57737,-101.90796,-103.49494,-100.74433,-105.81335,-99.91368,-99.78753,-104.586296,-103.2699,-106.3778,-104.92017,-100.91066,-102.31147,-105.90357,-103.77772,-103.91788,-106.5592,-106.06446,-105.20626,-104.0439,-100.385506,-101.49622,-102.48393,-105.39887,-91.48975,-100.13977,-101.0289,-103.582504,-102.701,-108.71686,-101.89272,-106.79627,-104.42089,-103.57973,-102.26461,-110.81614,-101.950165,-97.71476,-103.01413,-103.24817,-100.39506,-106.849205,-99.52456,-104.66451,-105.85968,-103.91721,-110.38206,-100.49577,-100.74092,-100.584465,-102.37642,-100.68018,-102.402985,-104.17018,-102.69364,-100.897736,-103.180435,-100.7144,-106.60994,-111.207405,-109.30503,-100.459595,-100.96928,-104.22151,-99.68541,-102.18849,-98.432396,-101.28616,-106.18762,-107.67679,-102.66002,-102.84391,-102.05196,-102.39077,-106.4526,-101.551704,-103.18559,-100.611206,-108.87871,-104.36185,-100.02817,-103.02658,-103.9548,-102.074135,-103.14692,-105.05913,-107.4378,-106.06222,-98.95247,-104.31039,-105.54487,-100.63572,-101.14378,-104.47995,-102.97282,-101.73838,-104.1739,-107.343575,-104.56987,-103.9933,-101.39096,-100.50186,-110.31167,-101.91616,-105.96628,-102.12186,-104.43489,-105.88833,-101.741455,-105.694885,-108.08806,-97.78731,-102.53631,-104.86351,-101.73333,-104.91917,-107.88095,-103.636604,-105.675545,-101.10162,-101.09035,-99.59622,-98.51242,-102.79331,-101.28513,-106.085625,-101.29587,-99.69574,-106.477516,-103.69326,-107.09187,-104.38703,-96.9521,-103.21034,-105.75368,-103.23167,-102.74725,-100.35458,-100.26851,-106.93013,-101.40833,-101.93619,-101.59767,-105.7853,-104.6953,-103.91321,-97.34535,-101.56945,-104.24469,-103.71078,-103.34628,-102.79091,-99.975815,-110.65301,-102.69983,-104.76794,-100.967545,-104.89262,-101.523766,-101.06775,-107.04021,-100.8985,-103.12932,-103.56113,-107.6936,-103.365524,-106.326675,-98.23224,-102.88454,-103.32341,-96.709435,-100.541016,-101.920334,-106.3854,-108.565575,-101.096085,-100.32447,-107.73467,-103.08869,-101.31359,-102.688255,-101.96119,-102.27999,-101.93717,-101.015755,-107.41112,-100.51477,-105.03609,-101.42159,-103.20234,-107.59422,-103.6171,-108.31837,-99.56294,-106.681114,-101.1047,-102.29441,-107.8239,-106.38837,-104.074615,-100.98512,-103.10875,-110.13916,-104.30036,-98.36652,-100.85414,-103.745056,-104.57212,-105.96619,-101.10862,-110.863365,-103.00158,-105.3117,-105.516884,-105.35388,-102.95802,-109.16973,-101.71164,-103.618484,-103.861755,-105.90612,-104.04177,-105.84622,-104.86683,-101.11465,-103.82755,-103.29741,-104.67325,-103.60625,-102.73243,-103.44309,-103.60739,-100.54361,-102.091774,-102.62113,-103.61066,-104.42194,-101.24298,-102.33885,-102.483696,-106.72085,-103.5563,-98.65531,-101.01759,-103.52141,-104.10477,-106.745155,-108.57856,-98.67075,-105.354355,-107.08656,-111.487404,-104.94563,-110.39435,-101.52508,-102.89233,-106.83088,-103.140686,-102.36423,-101.906044,-106.11544,-97.94159,-104.17278,-100.89624,-104.836464,-99.99591,-105.87912,-111.81803,-99.86102,-106.80497,-99.6421,-103.72928,-108.06872,-104.91011,-101.33902,-107.410286,-103.97253,-107.40676,-103.86219,-108.36507,-104.49173,-106.44141,-97.91056,-102.33428,-98.67664,-104.928276,-103.08211,-103.51626,-103.49846,-105.41323,-107.186295,-103.03622,-108.20708,-105.983536,-103.7922,-105.51331,-105.18396,-100.79051,-104.96927,-101.678116,-104.11749,-99.66431,-110.951355,-102.50076,-104.35095,-107.53481,-105.742546,-98.45567,-104.91709,-104.65394,-108.300224,-102.05393,-108.05601,-104.66192,-106.308556,-102.895035,-104.15932,-101.76949],[-94.20702,-96.65947,-89.161705,-98.82865,-95.80195,-94.97776,-95.79121,-95.738106,-95.75282,-96.11058,-95.069336,-93.99901,-92.36727,-91.00766,-94.45859,-95.071945,-94.3779,-97.5043,-94.957054,-91.340965,-93.75026,-93.660515,-92.28735,-93.445755,-94.034386,-94.484406,-94.91896,-95.25582,-96.47421,-89.56543,-96.98234,-94.70564,-92.15678,-88.563416,-94.973045,-97.70152,-93.4608,-98.14655,-92.13408,-96.118385,-96.92729,-92.70427,-92.670494,-93.48339,-93.012726,-97.64534,-92.00491,-93.678795,-95.28284,-95.27411,-93.26553,-97.91832,-89.465195,-90.46549,-93.27226,-96.039024,-96.3838,-97.70392,-94.695816,-96.57416,-92.71768,-92.50577,-93.256996,-94.631935,-93.280334,-96.700485,-93.07023,-96.79163,-94.57696,-92.725136,-95.03632,-95.337715,-94.0604,-97.077034,-92.32773,-94.117165,-93.36375,-92.36125,-96.568985,-91.72281,-90.87984,-95.17253,-94.78571,-93.71319,-94.20137,-91.6025,-87.74965,-94.28462,-93.48011,-92.77439,-91.2141,-91.16526,-98.12332,-97.83831,-98.77205,-93.2179,-92.64123,-96.41941,-97.8579,-92.268265,-92.20534,-90.22395,-91.15874,-96.01851,-93.06191,-91.08033,-92.2308,-91.8905,-90.509995,-96.40589,-91.899284,-92.64292,-91.97339,-96.10369,-94.32654,-90.30537,-87.20943,-96.15469,-90.66537,-95.56896,-89.49059,-93.531364,-94.82665,-95.18116,-92.70112,-91.5829,-92.189644,-92.784424,-89.951294,-95.19325,-93.50698,-92.363266,-93.76896,-94.3775,-95.88449,-97.86578,-90.187675,-96.73028,-94.174225,-95.61156,-95.24709,-96.1347,-89.105446,-92.94447,-95.553085,-96.50808,-95.15143,-98.26475,-95.313545,-98.83355,-98.61314,-96.15115,-93.59094,-91.74881,-93.34405,-98.28006,-94.13603,-90.38695,-92.305466,-95.6648,-94.44061,-91.64453,-93.00742,-96.068,-92.809,-96.35103,-98.863625,-92.96968,-93.26662,-96.37603,-96.78688,-92.54525,-89.57275,-92.70436,-93.24608,-95.53407,-93.76169,-97.734535,-96.26703,-92.37459,-94.78553,-93.08096,-95.14567,-91.66283,-95.022194,-92.29072,-96.015724,-90.40231,-91.99431,-93.89792,-92.697044,-96.726814,-95.25798,-93.01143,-94.185234,-97.51153,-93.81451,-95.04703,-95.24841,-97.58923,-94.76465,-96.42061,-92.695076,-92.419876,-93.19069,-96.809074,-85.635475,-89.74013,-93.25208,-95.98445,-92.9999,-96.257195,-93.23004,-96.5935,-94.6363,-93.05398,-94.62769,-100.31527,-93.35515,-89.80349,-93.053406,-95.40399,-92.62812,-96.46133,-91.0802,-93.58211,-95.81077,-94.76424,-100.52614,-91.346634,-90.18822,-92.42631,-92.259605,-92.05297,-94.05015,-94.74742,-93.6339,-93.26933,-94.16623,-91.25948,-95.69507,-98.20164,-97.289375,-92.76835,-90.543175,-94.895134,-91.87016,-92.59895,-90.48684,-92.67767,-95.94254,-98.773735,-94.01272,-92.34209,-93.507706,-93.790085,-95.09902,-93.50909,-93.9298,-90.105576,-98.66968,-94.17615,-92.62512,-92.7549,-94.69862,-93.59561,-94.89713,-96.10675,-97.19202,-96.23791,-92.088715,-94.8458,-97.73954,-91.49595,-90.897255,-95.654724,-92.654724,-94.11396,-94.43569,-95.884636,-94.94595,-93.85131,-92.48134,-92.24412,-100.32684,-92.960266,-95.43022,-92.04811,-93.18678,-94.76234,-91.65263,-95.50638,-97.914375,-90.37765,-93.97761,-95.071945,-92.88156,-96.76825,-98.820435,-97.299194,-95.46274,-93.643,-94.533745,-89.88469,-90.92486,-94.613884,-92.013535,-96.87365,-90.03317,-88.88532,-96.72108,-95.22698,-96.87368,-95.356544,-90.61124,-93.19455,-97.63169,-92.999344,-94.29683,-87.98579,-92.988396,-98.40567,-93.16981,-91.139595,-92.16087,-99.28963,-94.73172,-93.992065,-90.276306,-92.89607,-94.25967,-93.96977,-93.92385,-94.29451,-91.57898,-98.21434,-94.28743,-96.75722,-92.51061,-96.15155,-93.6666,-90.51118,-96.19812,-91.64273,-94.392204,-94.051674,-96.25154,-93.53191,-98.16522,-88.530136,-93.584045,-94.25721,-89.8753,-92.05993,-92.27914,-96.94542,-98.88956,-93.00559,-91.89137,-96.105095,-94.432014,-91.06035,-93.49435,-92.65284,-92.605804,-91.45667,-91.99685,-98.0068,-92.117325,-93.45696,-91.5566,-92.85087,-97.97688,-93.2654,-97.61687,-90.763435,-96.389885,-91.89453,-93.17516,-97.64225,-96.29335,-94.75409,-92.04255,-91.007256,-99.085686,-94.901634,-91.075485,-91.86972,-95.95746,-95.68487,-95.20061,-91.960915,-98.784836,-91.53309,-94.20719,-94.652855,-95.695816,-94.195564,-99.91809,-92.05712,-92.6642,-94.51887,-96.021614,-95.053375,-97.34144,-95.91117,-91.31827,-93.97154,-93.57059,-95.17404,-94.14077,-92.82017,-93.964165,-94.710014,-88.94033,-93.10448,-95.13625,-94.765236,-95.857765,-91.17281,-89.743744,-92.096436,-96.73319,-93.75111,-90.12665,-91.71927,-93.17426,-93.37089,-95.97065,-97.063,-91.23751,-95.67441,-96.16461,-99.913666,-95.54078,-99.89001,-94.0146,-93.316025,-96.042854,-93.67412,-93.69391,-93.05244,-96.63165,-90.42474,-95.640526,-92.28492,-96.76559,-91.627945,-96.687325,-99.15095,-90.86588,-98.565216,-90.75058,-94.8568,-96.901764,-95.399155,-91.75161,-98.090034,-93.527664,-98.14804,-94.30691,-98.18548,-95.42702,-98.06296,-87.16074,-92.81935,-85.90318,-94.1214,-92.94339,-94.07016,-97.58472,-96.62641,-96.221466,-93.75338,-97.8922,-97.14722,-95.23828,-94.3922,-95.14084,-90.72821,-95.30454,-90.66801,-94.67504,-91.08849,-99.954666,-93.29002,-95.23239,-98.61862,-95.975716,-92.074135,-94.07088,-97.78526,-98.254135,-92.39421,-97.248055,-95.86578,-96.84139,-95.01773,-95.103516,-92.981346],[-83.41608,-87.71171,-85.83773,-89.36652,-86.93743,-86.939476,-86.827354,-81.191666,-85.46284,-86.51699,-88.29466,-89.07768,-85.48312,-86.1394,-85.45936,-86.3395,-88.1361,-80.019905,-82.697754,-85.76888,-85.2225,-87.035126,-86.04861,-83.743034,-88.54855,-88.66692,-85.680466,-83.8874,-85.94847,-82.474945,-85.14709,-81.3727,-84.45197,-84.063484,-86.50969,-85.047104,-85.68669,-85.42455,-85.86079,-84.57022,-86.913895,-85.077156,-84.68372,-88.53617,-86.7782,-84.2434,-88.81415,-87.64639,-85.00004,-87.63606,-89.59393,-84.21645,-84.687225,-86.571236,-87.141136,-81.10949,-82.31212,-90.49658,-85.38722,-83.83616,-87.6522,-88.05265,-89.073944,-84.40173,-86.57386,-84.7383,-84.87441,-81.93692,-81.46849,-87.31332,-80.05105,-85.91334,-84.88597,-84.36082,-86.92454,-85.301956,-83.92146,-84.96003,-86.59473,-84.01304,-86.00119,-88.19127,-86.751686,-84.50364,-81.031204,-85.486275,-87.43703,-84.14132,-83.69269,-81.666595,-82.90445,-83.36038,-85.52036,-82.17893,-81.7487,-86.66995,-87.558784,-86.92296,-84.26393,-85.96696,-85.47646,-84.48084,-89.51533,-87.49839,-84.06664,-84.032524,-86.96037,-85.09283,-85.857056,-82.304146,-84.29941,-84.50303,-87.348885,-86.65385,-89.960915,-84.9208,-86.07485,-83.530266,-84.91405,-82.36426,-88.460335,-85.06035,-89.24749,-87.51803,-80.269615,-88.64194,-86.18394,-87.44031,-85.6383,-84.20221,-85.51284,-85.74061,-85.899284,-84.70458,-88.35948,-88.163055,-86.91263,-86.41774,-86.14931,-83.41416,-91.16708,-85.461655,-83.93402,-82.286865,-85.87564,-82.71981,-85.36646,-87.363594,-88.25582,-81.04689,-86.05364,-84.0136,-86.76839,-85.739876,-84.64438,-83.514885,-84.52002,-85.46702,-84.65408,-87.18557,-84.89414,-83.736916,-86.37872,-83.41013,-86.09429,-83.73512,-84.10208,-86.321976,-83.38868,-85.23304,-87.91484,-86.908745,-82.58152,-86.40897,-84.53038,-83.13658,-89.26541,-81.01262,-83.30247,-85.50314,-84.79641,-88.17255,-86.570984,-82.78657,-83.15173,-87.91027,-85.72818,-84.80366,-87.32726,-87.81057,-82.78628,-82.81609,-83.6231,-85.58693,-86.88906,-86.92216,-88.20465,-82.043304,-85.69523,-88.4498,-86.78283,-87.3891,-83.99993,-86.38118,-82.34275,-87.22057,-82.334,-87.0073,-86.05168,-91.23893,-85.62422,-82.70128,-84.55727,-84.54488,-86.22463,-87.01535,-85.1007,-86.652374,-86.24801,-87.35324,-86.99653,-87.21456,-87.7848,-84.16688,-84.544205,-84.66388,-87.24203,-86.98874,-84.00182,-86.79406,-82.65536,-83.41801,-86.94054,-84.76973,-85.6005,-85.00513,-86.976425,-88.75535,-85.06852,-84.302925,-82.88317,-83.75497,-90.38678,-85.418106,-86.91165,-86.93952,-79.53301,-86.81805,-85.59988,-85.25965,-88.58331,-86.3448,-91.93286,-86.8071,-85.28462,-85.46897,-80.10763,-84.333916,-82.556335,-84.817345,-78.257286,-84.82758,-88.975174,-86.086205,-86.10436,-84.60013,-87.851074,-84.908676,-78.34929,-77.46371,-86.56733,-83.69435,-83.83943,-87.202095,-84.06171,-87.1479,-86.05657,-82.89895,-83.695045,-77.42072,-80.946594,-87.043785,-84.84757,-85.50755,-80.21525,-85.75052,-80.89599,-86.59325,-88.819115,-78.57396,-87.86568,-82.50299,-81.21831,-83.90983,-84.5062,-87.17763,-85.36431,-81.930046,-85.43343,-84.27486,-85.00301,-84.992065,-85.12203,-85.5895,-83.75638,-87.24466,-85.66879,-85.37442,-86.24638,-84.05757,-85.02911,-89.07507,-79.146614,-83.648,-86.35915,-84.68589,-80.16576,-87.529495,-87.6966,-83.61228,-84.85042,-87.05505,-81.61985,-84.02437,-86.6987,-90.98589,-85.36079,-87.28396,-84.0385,-81.8737,-85.8416,-82.00384,-86.236404,-85.73121,-86.430756,-84.930595,-84.83196,-86.03479,-85.52672,-85.74954,-84.25414,-85.03666,-77.26324,-86.08958,-84.62522,-83.707794,-87.91414,-84.67988,-88.05571,-84.11729,-85.74785,-85.82787,-89.44872,-86.14131,-87.11236,-84.133896,-85.46435,-87.93429,-84.587364,-89.62437,-88.335556,-85.77534,-85.69924,-85.28156,-83.75242,-86.164314,-83.69947,-85.024864,-88.50388,-86.93108,-83.26016,-87.748215,-86.47962,-86.82028,-84.369446,-84.08306,-84.51134,-85.30774,-87.47162,-88.48115,-86.47171,-90.31586,-81.11467,-83.57466,-85.086815,-83.672165,-86.57467,-84.83935,-87.20027,-86.64131,-81.35857,-87.03702,-85.96149,-86.513504,-82.158066,-83.62008,-78.61484,-88.49125,-90.016136,-83.86955,-88.08362,-86.655975,-87.26712,-84.30418,-88.22644,-85.315834,-85.68054,-83.303085,-84.64426,-85.16281,-86.438644,-83.65155,-87.26867,-84.338615,-83.45939,-84.99329,-86.110435,-85.569534,-85.731895,-86.61358,-87.29314,-86.245834,-84.97866,-85.49471,-83.12371,-82.47456,-85.05461,-86.40143,-83.6678,-82.424065,-84.778915,-87.39558,-84.24181,-91.867096,-85.288925,-87.44346,-89.4949,-85.17326,-85.58532,-83.69602,-82.6342,-87.92156,-85.77391,-84.1529,-86.46011,-86.62029,-85.75148,-83.33682,-86.538895,-94.64954,-85.59936,-87.2316,-84.59364,-88.09627,-90.075066,-83.64402,-86.253494,-83.07669,-87.859726,-84.071,-87.25221,-87.17448,-86.29416,-90.92289,-84.38215,-89.96868,-86.36172,-84.5194,-89.62183,-84.94691,-79.77959,-81.3089,-89.277016,-84.174484,-84.62869,-91.30321,-83.995316,-83.29363,-87.684525,-85.89562,-79.1878,-82.82684,-83.64254,-89.32746,-85.27265,-84.04866,-87.05213,-82.74546,-87.17402,-84.5465,-90.76374,-85.97891,-85.03648,-85.516174,-81.86388,-83.31373,-90.8334,-86.22421,-84.255455,-86.85589],[-85.459404,-89.44442,-81.81225,-89.04222,-89.160934,-85.5247,-88.80806,-85.590805,-89.57218,-86.93219,-86.70627,-86.95072,-83.80889,-81.350105,-84.88418,-84.61292,-84.54723,-87.76065,-86.19405,-82.25159,-86.60018,-85.92239,-85.18246,-85.27816,-83.79168,-88.21934,-86.87063,-87.42149,-87.43704,-79.16977,-88.77173,-88.27078,-81.73555,-78.03094,-87.36183,-87.289185,-85.06122,-87.225716,-82.278076,-86.04851,-89.173676,-85.57972,-84.247,-83.39779,-88.02188,-88.33623,-82.75757,-83.47487,-87.494286,-87.77326,-84.73673,-83.5194,-81.84886,-84.635086,-83.35455,-88.9718,-87.52889,-87.622314,-83.70032,-87.26395,-84.40309,-85.72559,-86.15339,-85.57607,-82.7206,-88.57468,-86.55711,-88.00357,-84.95412,-82.98797,-87.60183,-86.49813,-85.092896,-87.86723,-85.118744,-85.40472,-84.93521,-83.9372,-86.75587,-82.65097,-81.87563,-84.89389,-86.97309,-83.82398,-87.66789,-83.63206,-81.57125,-86.226395,-82.2881,-86.80651,-82.58897,-80.98653,-89.83758,-87.99859,-89.32245,-83.54206,-83.50605,-86.918816,-84.83186,-87.93026,-83.94591,-83.46582,-83.038345,-88.08575,-83.30037,-84.19905,-84.23655,-84.36018,-83.30064,-87.684715,-84.15946,-84.05557,-83.479774,-86.049736,-84.64232,-80.57753,-77.55021,-83.25997,-83.71779,-86.97323,-82.72435,-85.08743,-90.040115,-84.87596,-83.61305,-82.54583,-80.78177,-82.977356,-82.075134,-87.51704,-85.19178,-83.528824,-84.829094,-89.3212,-89.620285,-88.3636,-83.7121,-86.6426,-85.806885,-86.78312,-89.14471,-86.91373,-83.62939,-83.738205,-87.51229,-85.93419,-81.693474,-88.64237,-86.88918,-87.13817,-87.88858,-86.352005,-85.37867,-82.03009,-84.39955,-89.87918,-85.36462,-82.73563,-83.44333,-87.72119,-81.72191,-81.929344,-85.575966,-84.52074,-83.92448,-88.70072,-90.30968,-86.8035,-87.98853,-89.25028,-87.94532,-84.54985,-78.85735,-83.667786,-85.70656,-87.95542,-86.79879,-86.935074,-86.25475,-83.32597,-86.98403,-83.62653,-87.147446,-83.46448,-86.55229,-83.33594,-87.56101,-83.581215,-83.29852,-85.908264,-83.77795,-87.4144,-86.69752,-83.12779,-83.46825,-86.155334,-85.21254,-84.49959,-87.58646,-86.63662,-84.77847,-86.72807,-84.94154,-84.057396,-82.85103,-88.11244,-77.2653,-82.662445,-86.41745,-87.99329,-84.574936,-84.44048,-86.28585,-90.49363,-84.78928,-84.63947,-84.24683,-91.0387,-83.12245,-80.21074,-85.24635,-88.593285,-83.2247,-86.050285,-84.13012,-86.936806,-86.93878,-84.66536,-89.64356,-81.54632,-80.08466,-83.40354,-85.57073,-82.50087,-86.06568,-85.57925,-84.7023,-83.56529,-84.427086,-83.61664,-88.15001,-90.612144,-90.35903,-81.466324,-82.81002,-85.800476,-83.79114,-85.318886,-81.17389,-84.556076,-88.80098,-89.30228,-84.661896,-85.849976,-85.69432,-84.2413,-86.17745,-85.100296,-84.47003,-83.49456,-89.10624,-86.50835,-84.619995,-87.17488,-85.95787,-86.09954,-84.2932,-85.99619,-85.91527,-88.9946,-83.458755,-85.322624,-87.059784,-84.500565,-82.90832,-87.53558,-87.29555,-85.565254,-86.49535,-85.777725,-85.71371,-86.3964,-84.42001,-83.210655,-88.35288,-83.31899,-85.33214,-82.88344,-86.11235,-84.2254,-83.92093,-85.806114,-87.865555,-83.44858,-85.758354,-87.8732,-86.05402,-85.11833,-87.60645,-85.36772,-89.25254,-86.5925,-83.97691,-83.66663,-81.29086,-87.14193,-84.99028,-86.31552,-83.391335,-82.647484,-85.78396,-86.57638,-87.67528,-85.75321,-80.14312,-85.25757,-87.55126,-86.374054,-86.19624,-82.45119,-78.84753,-87.35746,-85.050766,-85.264565,-86.305336,-89.73224,-86.80385,-87.88288,-80.25232,-83.34031,-86.15365,-84.5925,-86.99721,-85.99339,-82.1766,-88.54048,-87.0627,-84.44302,-83.99233,-85.2074,-82.398834,-83.195854,-84.75597,-82.26129,-85.98473,-84.9393,-87.61637,-86.278496,-87.48281,-80.97941,-86.866325,-82.84978,-81.3529,-84.05668,-83.97044,-88.303635,-85.34447,-84.59747,-83.49899,-88.31072,-85.57473,-82.45777,-84.58441,-86.74939,-84.18822,-83.691795,-83.87161,-86.231544,-84.06338,-86.73273,-83.445305,-85.50968,-88.10399,-87.74502,-86.09788,-85.16825,-88.52486,-84.05542,-86.187836,-88.63308,-87.66651,-86.72927,-81.7112,-84.4859,-90.30608,-85.18338,-82.19101,-84.076355,-85.94035,-88.61243,-85.59343,-83.93771,-91.699905,-84.67626,-86.01171,-85.377625,-83.73852,-86.05007,-90.89895,-86.709625,-85.63067,-86.10655,-88.721054,-86.306435,-88.95507,-85.03025,-84.605995,-86.458336,-86.81109,-85.82857,-84.36321,-86.73166,-84.819496,-87.04664,-82.71154,-87.76695,-86.316696,-84.201836,-85.99082,-84.13495,-85.58498,-84.902,-88.6863,-85.26627,-83.981895,-84.23493,-87.32971,-87.1431,-87.685555,-86.30897,-82.73597,-86.386734,-86.172585,-89.39669,-86.99839,-91.01405,-84.59724,-83.93801,-88.983665,-84.69394,-86.41022,-85.00606,-84.83783,-82.7009,-86.48534,-83.539764,-88.06872,-83.20651,-88.69787,-90.38444,-84.72742,-88.198364,-83.677956,-85.41736,-87.61784,-87.058945,-83.217606,-88.60003,-85.73457,-86.84785,-86.08272,-87.05149,-84.05625,-86.14381,-81.814926,-85.441505,-81.637856,-85.67453,-86.92109,-84.30113,-84.94604,-86.46155,-87.93457,-84.132454,-87.844284,-86.80091,-85.56638,-86.44275,-86.128525,-81.36739,-86.932724,-86.252975,-84.5144,-81.68311,-89.10716,-85.97245,-87.025085,-87.17757,-85.72906,-81.49071,-87.36134,-85.96481,-86.90494,-83.71381,-87.883354,-86.59166,-85.56776,-87.19231,-85.51474,-85.243904],[-85.25633,-82.961685,-83.81577,-86.20395,-90.12488,-86.12793,-84.60512,-84.54859,-83.61495,-81.58813,-84.84929,-86.12422,-84.50415,-84.55087,-87.08685,-86.31645,-77.040474,-83.64849,-75.74996,-84.38032,-86.6377,-85.3789,-87.00037,-85.16047,-83.6115,-90.26121,-84.6878,-82.60208,-83.75007,-78.17182,-87.04564,-82.21855,-86.75038,-83.51125,-86.3284,-85.98542,-87.321,-83.17631,-85.10594,-82.71056,-87.266495,-87.32426,-84.46435,-86.77538,-87.801056,-84.4239,-84.373955,-85.83809,-84.41908,-89.32462,-87.971725,-80.54073,-83.683525,-85.32837,-85.3047,-79.35175,-84.61613,-86.58874,-85.97929,-83.09669,-84.964806,-87.19074,-87.09112,-86.34477,-84.637726,-86.75509,-75.762764,-83.54065,-80.678856,-84.93344,-81.28585,-87.38481,-86.42995,-79.782166,-87.741714,-85.75457,-85.35564,-83.318726,-88.50566,-83.407845,-82.762115,-82.42656,-86.94887,-85.66715,-79.0976,-85.43216,-82.552414,-83.08954,-84.616875,-78.53465,-81.819565,-81.394226,-89.107605,-83.786224,-84.19151,-84.427086,-85.3344,-85.34551,-83.23249,-86.76565,-85.86872,-84.03991,-82.435936,-85.86165,-84.42271,-85.18946,-85.41737,-85.46963,-86.46076,-82.55169,-85.12126,-87.05871,-85.606995,-80.351654,-85.52251,-81.224594,-78.56606,-79.10597,-85.03321,-79.60221,-83.48987,-85.90016,-86.72934,-82.26576,-75.74372,-87.63376,-83.98964,-85.5725,-84.55318,-88.311966,-83.56819,-86.47147,-84.873314,-88.941475,-90.87233,-84.08487,-84.16371,-79.26193,-86.403786,-82.70033,-89.039276,-81.440765,-83.73246,-75.38556,-84.93307,-79.757805,-76.57519,-82.756935,-84.7259,-80.97632,-84.92208,-83.12292,-86.78996,-84.08319,-85.18879,-87.54372,-86.2657,-83.67557,-86.53211,-87.676994,-83.57604,-83.94375,-86.53002,-77.392746,-86.12614,-81.0731,-90.51127,-86.16843,-79.45349,-84.484665,-83.42,-86.61019,-81.86193,-84.7149,-84.81637,-80.227745,-88.30647,-81.96101,-79.515396,-84.665886,-87.02813,-84.02358,-82.31551,-82.85902,-86.25084,-87.055855,-81.56373,-84.02778,-84.47956,-79.001495,-75.57268,-84.31068,-82.31042,-85.5972,-89.66927,-83.51136,-86.141426,-81.29409,-83.66651,-85.859764,-85.79909,-88.324814,-85.69786,-84.477715,-84.33392,-87.21978,-78.69918,-85.51251,-86.57344,-89.50927,-85.771866,-83.748116,-85.97566,-81.53093,-83.54163,-87.27532,-87.69306,-89.04873,-84.87422,-81.72418,-86.75842,-89.7434,-86.35606,-77.10099,-86.46101,-86.92692,-85.99748,-86.27349,-86.13469,-84.021675,-83.31921,-82.763985,-86.3846,-82.32262,-86.869316,-79.098694,-85.60232,-86.243195,-84.95765,-85.20277,-82.16766,-86.25765,-86.22934,-82.87997,-82.46017,-87.32226,-86.087296,-84.587875,-83.53589,-86.02347,-84.756775,-83.235214,-86.125656,-87.35174,-87.070984,-83.79492,-79.66021,-85.25166,-77.81769,-84.93812,-85.66924,-86.663055,-85.441864,-88.370186,-86.25179,-89.242294,-85.479454,-83.14842,-80.336044,-84.610565,-84.685005,-80.50109,-82.68025,-87.117775,-84.26109,-87.87397,-87.036476,-85.78134,-86.49386,-83.29897,-81.99274,-86.139984,-84.77029,-85.953094,-83.64288,-84.20483,-78.36929,-84.214294,-90.09096,-80.90143,-86.76284,-78.89041,-83.00586,-84.23092,-86.87764,-88.6087,-84.83879,-83.92145,-86.12506,-86.24871,-87.311554,-85.48707,-83.727646,-83.901955,-83.460236,-85.95114,-85.6055,-82.77989,-86.564415,-84.53136,-83.012505,-87.39953,-84.70493,-78.79832,-81.54926,-84.2355,-84.42472,-87.25434,-86.816124,-82.44237,-82.02592,-83.79425,-85.21866,-86.83335,-88.745346,-88.71711,-83.52921,-86.605576,-83.71253,-84.832016,-81.21207,-81.66067,-85.85415,-85.41948,-85.58818,-85.70337,-85.369446,-85.86425,-84.98386,-86.00504,-81.302246,-83.36219,-80.95628,-84.92989,-86.70339,-85.57276,-82.19545,-86.990364,-86.88461,-79.41509,-87.559456,-77.184845,-84.58649,-83.3915,-85.176315,-83.20767,-82.29307,-85.789986,-84.493164,-83.51084,-89.06174,-83.67484,-86.63483,-88.58355,-77.74504,-84.542885,-86.35704,-83.102005,-84.71126,-88.14479,-84.304726,-86.92809,-83.79101,-86.379135,-75.84781,-85.11846,-82.63132,-85.601326,-86.017296,-86.42284,-79.4848,-86.95697,-72.52635,-84.62497,-87.33173,-82.9561,-85.89616,-83.64068,-85.63426,-87.618996,-81.988785,-85.15867,-82.60203,-86.467545,-78.50045,-85.92918,-81.083534,-86.0492,-85.275856,-85.02603,-86.66112,-88.98867,-89.08588,-82.45359,-87.469444,-81.5135,-85.46258,-86.45303,-87.513664,-87.46146,-86.425804,-87.37861,-85.35073,-85.951805,-84.1551,-88.7354,-86.798615,-84.02411,-82.60217,-82.81965,-86.28854,-84.95661,-84.23555,-84.63512,-86.01813,-85.87395,-87.53057,-87.14876,-84.39571,-84.623764,-82.06628,-82.88822,-83.31231,-87.079506,-86.86724,-87.77586,-86.53916,-85.78766,-85.51495,-84.87557,-85.79252,-87.12753,-82.17156,-84.535835,-87.24455,-84.17469,-89.52378,-84.09035,-88.41958,-86.20817,-86.08033,-86.10135,-86.24123,-86.365,-83.91596,-82.641685,-84.34686,-82.11116,-87.44694,-84.16375,-88.570465,-83.81097,-79.47192,-86.047325,-82.86794,-85.173805,-84.5196,-81.74583,-87.40878,-86.07706,-85.30605,-79.75468,-83.99327,-84.86013,-85.40198,-87.453606,-85.97907,-79.48724,-82.398605,-83.302124,-81.23986,-86.54048,-86.511444,-82.397285,-87.084564,-85.86533,-85.86085,-82.22261,-81.4908,-84.75291,-86.48183,-86.38035,-82.72144,-87.2375,-84.87005,-81.67273,-87.80585,-87.03892,-86.16583,-86.90327],[-114.92857,-120.48097,-111.49341,-118.968155,-118.99225,-115.21402,-119.96314,-116.32367,-118.78832,-117.88786,-117.29882,-117.86027,-112.80496,-113.03337,-115.68838,-114.12524,-114.88476,-119.329,-117.651474,-113.04072,-115.04033,-115.03467,-117.79297,-114.50175,-114.583374,-117.600494,-115.99214,-119.98991,-118.250595,-109.77445,-118.3141,-118.35371,-110.59972,-109.53015,-115.59218,-118.886086,-114.043335,-118.54057,-112.96586,-118.73006,-117.9572,-117.45881,-112.39322,-112.95609,-116.79257,-120.29833,-112.72027,-114.24959,-118.06256,-118.99883,-114.949036,-117.1378,-110.312515,-115.13777,-112.824356,-119.46342,-119.473236,-116.045044,-115.33744,-118.447525,-114.03779,-115.34139,-115.616455,-115.73482,-114.94968,-115.15366,-118.51519,-119.10331,-117.461365,-112.90875,-119.285934,-117.455025,-117.33458,-119.46094,-113.81749,-117.236664,-114.19271,-112.476746,-116.5202,-111.42378,-110.18513,-118.170235,-119.4704,-112.94768,-118.38741,-116.0648,-109.45098,-118.60126,-115.4036,-119.527695,-114.52583,-110.3337,-119.78083,-118.03581,-122.48809,-113.70264,-115.24244,-117.424515,-119.74691,-113.976845,-114.90429,-113.06347,-113.58472,-117.50914,-117.08075,-113.8739,-113.926956,-115.43087,-112.83172,-118.7878,-113.02282,-117.24747,-114.53764,-116.680405,-113.613014,-109.47416,-108.419266,-117.72065,-114.491516,-118.855515,-115.76826,-115.38079,-116.48722,-115.27191,-117.418816,-111.56152,-111.483475,-111.24218,-112.22703,-115.887276,-113.453354,-115.067856,-113.45009,-118.94287,-118.74591,-118.79532,-115.16863,-115.624344,-114.793724,-119.04828,-118.16291,-119.41779,-111.61949,-118.08794,-117.30393,-119.43886,-114.39169,-120.57939,-115.31133,-118.95848,-120.5845,-118.06141,-113.859184,-113.91819,-112.1266,-119.66313,-114.218376,-112.96659,-115.49041,-117.20592,-111.434326,-111.32692,-114.86107,-116.78719,-114.30613,-119.628876,-121.28956,-116.70713,-119.196495,-120.3379,-120.45768,-115.417435,-108.75921,-114.60872,-114.948135,-120.27027,-117.46184,-118.81466,-121.36386,-114.09555,-115.49422,-112.85559,-118.89168,-113.56127,-114.82099,-112.484505,-119.46114,-112.15693,-112.71807,-117.75825,-116.463875,-119.816345,-119.64857,-111.65942,-113.25125,-119.59551,-113.8776,-116.7464,-118.86195,-116.15684,-118.670845,-116.54823,-112.98908,-112.01934,-116.83093,-117.39608,-105.41822,-113.03139,-114.924126,-116.50296,-114.64736,-118.06611,-114.10634,-118.37445,-118.58458,-115.99592,-114.99365,-123.299545,-113.35687,-108.87353,-115.02648,-116.046,-111.63833,-119.24339,-113.66201,-117.77655,-118.74734,-115.12369,-121.90651,-113.34616,-114.10974,-112.95632,-114.67795,-112.42451,-115.43149,-118.84917,-117.06026,-111.99565,-114.35241,-112.243416,-118.02884,-121.8451,-122.455124,-111.58334,-112.84201,-115.62935,-112.46573,-115.32308,-109.59061,-113.72115,-120.1048,-119.38107,-114.11467,-115.6051,-114.442924,-112.96715,-119.74203,-113.52689,-116.829605,-113.4856,-121.11835,-118.12675,-112.525444,-116.980194,-115.155304,-115.39462,-112.18263,-117.72075,-118.0666,-119.35595,-111.93454,-118.04602,-119.989334,-114.629845,-114.11934,-115.9186,-115.046715,-115.4467,-116.09585,-118.02173,-116.58973,-117.245155,-112.912575,-111.29706,-120.482895,-111.64786,-116.43209,-113.14154,-116.60355,-117.39285,-112.805786,-118.48998,-121.24562,-110.79084,-115.31087,-117.23759,-114.175125,-117.05828,-120.81259,-117.396706,-117.0524,-114.72349,-113.22156,-113.933495,-110.4421,-116.34251,-115.16823,-120.10205,-114.075005,-113.706436,-118.699844,-117.31324,-118.8128,-118.169945,-109.643135,-114.92404,-118.58984,-114.71121,-115.847466,-114.67309,-111.93799,-118.33804,-112.75881,-113.108154,-113.977295,-118.253685,-117.98767,-116.2276,-109.53999,-113.243164,-117.997475,-116.24685,-115.8261,-116.199776,-113.552124,-122.01218,-115.17678,-117.12198,-113.29777,-117.7182,-113.746765,-114.81288,-118.64928,-112.42384,-114.624664,-115.16385,-119.85741,-117.931015,-117.34073,-108.102295,-115.80197,-115.72959,-108.52647,-112.93853,-113.66242,-119.32986,-119.4759,-112.4663,-112.415306,-119.66973,-113.861015,-114.63988,-113.38602,-116.12147,-116.10889,-114.42823,-113.788414,-118.55635,-113.229416,-117.294395,-116.7737,-113.99424,-120.30255,-115.55293,-118.385,-112.66412,-118.70597,-113.43901,-114.10953,-122.23006,-118.074936,-117.5864,-114.11498,-115.70823,-122.323975,-117.72703,-111.95213,-113.06196,-114.00108,-116.68536,-118.225136,-112.473946,-123.17404,-114.96681,-118.53788,-116.57696,-116.371994,-114.579285,-121.69581,-114.11271,-116.31301,-116.801025,-118.39456,-118.576035,-116.930466,-117.81089,-114.42668,-115.62702,-116.26667,-116.53192,-114.42839,-115.91137,-115.00661,-116.7029,-115.059944,-115.51908,-115.06582,-112.11846,-117.551476,-112.10505,-115.59688,-115.8839,-120.001396,-117.62964,-112.03729,-114.01622,-115.12495,-115.80836,-119.322914,-121.02333,-111.01489,-117.53336,-120.03193,-123.32162,-115.900116,-121.195015,-114.08848,-114.40598,-119.908775,-114.06079,-114.25446,-114.196106,-117.66567,-110.91729,-115.77833,-112.57542,-116.768616,-112.84259,-119.943405,-122.84988,-114.651,-118.98575,-113.24626,-114.866196,-118.4882,-117.690865,-114.25739,-120.278275,-114.79157,-119.976105,-116.00492,-120.03011,-119.04434,-120.399445,-110.01579,-114.60239,-111.65024,-117.244896,-115.94805,-114.712654,-116.542114,-119.56017,-120.54671,-114.63106,-120.79412,-116.77119,-115.74486,-119.05192,-118.76319,-114.7729,-118.213524,-114.82318,-117.751045,-109.73709,-122.850266,-114.84316,-115.685524,-118.76996,-117.68139,-111.89021,-116.54234,-117.42909,-119.9945,-113.41888,-120.9483,-118.30975,-117.085106,-114.80924,-116.0592,-113.26101],[-90.619125,-94.545074,-84.75107,-91.95001,-92.92326,-90.455185,-92.829155,-91.92574,-92.34067,-92.32553,-90.79672,-89.769424,-85.33999,-86.41947,-91.02563,-89.51778,-90.25087,-93.680016,-90.2663,-88.309395,-89.00577,-89.04058,-89.980446,-88.290565,-90.191154,-89.705124,-89.798134,-94.04829,-92.45549,-84.83262,-91.43586,-92.2485,-86.54583,-86.42296,-90.95643,-93.46325,-89.19962,-93.60165,-89.292435,-91.90887,-92.00754,-90.464226,-86.388,-87.27359,-90.14832,-94.16242,-87.54223,-88.66108,-91.877785,-90.95281,-90.42683,-92.759384,-84.61584,-88.01588,-87.723404,-91.6724,-94.138275,-91.42943,-89.70316,-93.10604,-87.376915,-89.41245,-89.02555,-90.45935,-88.95185,-90.29954,-90.81865,-93.46742,-90.87313,-86.57153,-91.30526,-90.53931,-91.45076,-93.46752,-87.86191,-89.9818,-88.83147,-86.83026,-92.29002,-86.19479,-84.74835,-91.34298,-91.62909,-88.4189,-90.4751,-88.83477,-82.79515,-92.09505,-91.3135,-92.33932,-87.49757,-86.34811,-94.56924,-93.539986,-96.01936,-88.36966,-87.17431,-91.76065,-93.70966,-88.381615,-88.59093,-85.94326,-87.3679,-91.73,-90.71112,-87.74417,-87.87788,-87.686,-87.67831,-93.467735,-87.97831,-90.52063,-87.863045,-89.92876,-87.0832,-82.085556,-83.93575,-92.1354,-87.418396,-91.47765,-89.624214,-88.683075,-90.69397,-89.44246,-88.83452,-88.31994,-85.73029,-86.487114,-86.884346,-90.080444,-89.16373,-87.212425,-88.94311,-91.69901,-92.773605,-92.36092,-87.598495,-89.23466,-89.72017,-91.52768,-93.584625,-91.99828,-85.12736,-91.21373,-91.03938,-90.95976,-90.59294,-93.844406,-89.48869,-93.47394,-93.17231,-92.67292,-88.20837,-87.50739,-86.00733,-93.59111,-89.974495,-86.6073,-88.26694,-92.15314,-87.80656,-88.33941,-89.12751,-90.37468,-88.22841,-93.64661,-94.54028,-89.87501,-91.29489,-93.18795,-93.77476,-88.30305,-86.0447,-88.3192,-90.79464,-93.72376,-89.29786,-94.813965,-93.984344,-88.72652,-90.704926,-88.31642,-91.42598,-88.18926,-89.296234,-87.03337,-93.29203,-88.30706,-88.3117,-92.26227,-90.933105,-92.357285,-92.73429,-87.04737,-88.402176,-94.045265,-88.54132,-91.49816,-92.49255,-91.25003,-91.937454,-90.60449,-88.47006,-85.26287,-91.377396,-91.245026,-83.65889,-87.0947,-88.65915,-90.68474,-89.176056,-91.957054,-88.20684,-93.2182,-91.80312,-88.28465,-89.18931,-97.18485,-87.47261,-82.9741,-89.369156,-90.9171,-88.17965,-91.93317,-88.15236,-90.78835,-93.18132,-90.09224,-95.274445,-87.64303,-88.162926,-87.64622,-90.14532,-87.368126,-89.1109,-92.73055,-90.772835,-87.91807,-88.650276,-87.34977,-92.30393,-94.59496,-95.60253,-86.19667,-85.24753,-89.66388,-87.8281,-88.78046,-85.01175,-87.31168,-92.21816,-93.132164,-89.294426,-88.357155,-87.644905,-86.640274,-93.58791,-88.43458,-90.365715,-86.23374,-93.18795,-91.67695,-88.325455,-90.46158,-90.032425,-89.98683,-86.723595,-90.57605,-91.63306,-94.30517,-87.869896,-91.85443,-94.25189,-87.704346,-88.18825,-90.25403,-88.60609,-89.07026,-90.1538,-90.430565,-91.22742,-91.43449,-87.07435,-86.280304,-95.128105,-85.65735,-90.02744,-87.72903,-89.95368,-90.66153,-85.99793,-91.169014,-94.71586,-86.099525,-90.71646,-91.552956,-89.35376,-92.45331,-92.93067,-92.721436,-90.37795,-89.98148,-89.426414,-86.986046,-84.997375,-89.34871,-88.46998,-92.967094,-86.98278,-86.14648,-92.68927,-91.055534,-93.06223,-90.45564,-85.1482,-88.84252,-92.70204,-89.61747,-89.559975,-87.050156,-87.27536,-90.4347,-88.25998,-85.558,-87.834946,-93.198555,-91.622185,-89.92015,-86.916336,-88.12342,-92.06998,-89.80401,-90.39222,-91.12775,-87.88522,-94.9928,-88.1568,-92.4943,-87.90146,-93.5886,-89.66371,-88.32244,-93.13985,-85.49832,-89.4063,-89.45772,-92.34067,-90.21834,-92.976265,-83.771255,-90.536095,-90.63347,-84.95653,-87.2104,-88.59536,-94.16201,-93.67305,-86.71838,-87.41128,-93.06128,-88.827446,-88.40791,-87.73507,-90.552185,-89.39925,-87.31103,-87.85338,-92.82711,-86.42557,-89.49675,-91.28269,-88.371216,-93.86551,-90.78693,-92.13292,-88.37415,-92.31649,-89.567986,-89.3956,-94.73535,-91.32879,-90.5666,-89.59917,-87.51014,-94.478615,-91.117424,-88.95911,-87.838196,-89.183075,-89.942314,-90.79561,-86.52195,-93.388695,-86.8069,-92.40504,-89.39853,-90.97714,-89.47718,-93.39155,-89.52699,-89.04418,-91.63908,-92.425156,-92.52822,-92.05815,-92.44209,-86.930534,-90.071915,-91.221146,-91.055145,-88.99058,-90.16829,-89.502815,-90.797874,-88.69365,-90.202576,-88.71883,-85.63233,-92.539116,-85.988846,-87.041855,-88.92216,-93.43372,-91.84519,-86.73787,-89.25479,-89.8803,-87.79854,-92.8816,-96.01377,-86.64655,-92.7087,-92.392365,-95.58524,-89.78868,-94.215935,-88.585045,-89.74575,-92.75353,-88.89555,-90.15027,-87.51953,-91.572136,-85.479576,-90.13798,-87.318085,-91.278564,-88.16996,-93.96031,-95.15432,-88.36664,-93.49021,-87.31966,-89.135124,-90.86255,-91.4376,-87.978745,-94.248436,-87.79764,-94.61388,-89.93982,-92.99716,-93.819534,-95.861404,-83.5619,-89.16663,-85.01619,-92.01044,-88.72988,-89.88428,-92.59716,-94.04041,-93.47261,-89.402664,-93.56808,-90.8016,-90.453514,-92.04133,-92.39341,-87.39358,-92.48183,-87.88037,-91.75537,-85.85785,-95.15842,-89.42082,-90.12638,-93.12564,-91.5157,-87.4211,-89.35323,-92.07977,-95.01219,-87.11568,-93.074104,-93.10907,-91.65291,-89.818306,-89.90171,-88.192665],[-81.24575,-76.51098,-78.9315,-81.9746,-86.13307,-79.10644,-74.41236,-73.25883,-75.347206,-74.81435,-79.23271,-80.20475,-79.33418,-79.05266,-79.4566,-78.47761,-77.452545,-75.91338,-76.09983,-79.927895,-78.80358,-80.88935,-84.38087,-80.56999,-79.29185,-79.08062,-81.74244,-74.93107,-73.5844,-78.95056,-79.963425,-78.247604,-79.57337,-78.70417,-80.00762,-75.47279,-81.4023,-78.055046,-76.243195,-78.605225,-76.46152,-80.52671,-80.35563,-81.95333,-82.056725,-78.26102,-77.78002,-80.849655,-77.360054,-80.51042,-78.115746,-77.67268,-79.3997,-83.67084,-79.968414,-77.974495,-81.86232,-78.63026,-80.497444,-77.92692,-79.20239,-78.46863,-81.91827,-80.3634,-79.65413,-79.74228,-77.724915,-77.53739,-75.65034,-80.493004,-76.74821,-82.78528,-82.15765,-79.661934,-79.39885,-82.197296,-79.48228,-81.4145,-79.80594,-80.80537,-76.35041,-77.42345,-81.257744,-78.2235,-76.51777,-79.877365,-77.75698,-75.80454,-75.83164,-76.43677,-79.68246,-78.50851,-78.95643,-76.59909,-78.51558,-78.74165,-79.6766,-79.75155,-71.25412,-78.74834,-81.80839,-84.42496,-79.984474,-81.63437,-81.39604,-83.30029,-78.73428,-79.45679,-79.92105,-75.61667,-79.18778,-80.14642,-78.70914,-72.75963,-78.33201,-78.05294,-77.207436,-76.920006,-81.19072,-76.08405,-78.438385,-82.80036,-83.224205,-82.40334,-75.27176,-79.49902,-77.832726,-80.97866,-79.5887,-80.685524,-77.67818,-78.34653,-79.10331,-80.554245,-81.58619,-78.19085,-80.55415,-71.26388,-79.52165,-77.110634,-82.774345,-73.85585,-78.72979,-78.3181,-81.54087,-78.652435,-78.89596,-79.41835,-78.28937,-74.936134,-82.009254,-75.81767,-79.242966,-80.63607,-80.835014,-73.70642,-79.32573,-77.20465,-82.31824,-82.566605,-77.87118,-80.98568,-79.91605,-78.26365,-80.74021,-78.004036,-83.08214,-79.813576,-77.892105,-79.185684,-78.12459,-81.37191,-78.841965,-80.68944,-81.32567,-81.521065,-79.38205,-76.97562,-78.261154,-81.96599,-76.69568,-78.7253,-78.03974,-80.6187,-78.62954,-79.04892,-78.632965,-81.182526,-79.66359,-78.889,-78.32393,-75.244415,-80.22994,-77.26976,-80.533806,-78.5933,-80.11392,-73.192375,-78.643974,-84.35518,-82.71804,-80.01406,-80.6194,-78.21162,-82.96272,-80.95966,-75.911354,-80.677025,-79.70293,-80.69747,-80.86617,-77.5805,-82.3158,-76.409584,-78.11943,-81.92033,-77.927055,-80.61265,-77.90066,-80.01149,-79.93292,-80.08585,-79.49945,-81.079765,-79.23615,-79.92758,-73.22587,-80.144684,-82.10828,-75.99809,-79.91865,-79.20261,-79.06812,-77.472015,-83.65317,-74.74401,-78.827126,-78.41511,-75.5472,-79.52888,-81.22092,-84.67872,-82.0312,-79.5557,-79.07372,-80.1934,-81.21432,-79.874565,-77.424995,-81.797966,-81.07099,-75.85341,-76.44166,-79.722664,-80.034256,-77.38549,-81.295105,-78.46067,-76.92757,-79.73596,-79.14633,-80.0138,-81.16595,-78.42329,-80.487785,-81.04316,-78.842964,-80.397194,-72.03602,-73.04734,-77.56378,-77.20659,-76.55679,-81.4742,-79.92697,-81.04347,-80.891106,-79.780945,-81.2089,-79.01824,-75.282585,-80.870674,-79.35561,-77.33586,-74.551994,-77.73842,-78.640274,-81.260185,-78.906815,-74.090965,-78.297,-75.74278,-74.32201,-80.348366,-80.22978,-82.99555,-80.86379,-77.30192,-79.590546,-77.86193,-80.35064,-83.05361,-78.641914,-80.572556,-77.5238,-82.951126,-82.112236,-76.97475,-80.2221,-80.27194,-76.2064,-82.82101,-79.48594,-74.209854,-80.03527,-80.174225,-77.46905,-80.93076,-79.99318,-79.07509,-79.16441,-80.30895,-76.729164,-80.47466,-81.952545,-80.30661,-75.92855,-80.28071,-75.65761,-74.80051,-77.03572,-74.689575,-77.715836,-79.5525,-78.297745,-79.04208,-78.291985,-81.26479,-82.09254,-79.62852,-72.2938,-79.49522,-75.18603,-76.136284,-79.56921,-78.05934,-77.70407,-80.347885,-81.019585,-76.29279,-78.21999,-75.32659,-78.89906,-78.58284,-76.922386,-79.24474,-76.8951,-80.360855,-77.98792,-75.30497,-80.613594,-80.1292,-76.783966,-80.52123,-75.62355,-81.12753,-79.39002,-77.671844,-80.23685,-78.675896,-81.27478,-78.99252,-79.06999,-81.6029,-79.7124,-84.724014,-77.69722,-80.48189,-80.55408,-79.84839,-76.45519,-80.92943,-76.45812,-77.954575,-79.8057,-77.2938,-80.119156,-82.81054,-78.00232,-78.96769,-77.64382,-78.71026,-85.63515,-80.99206,-82.2746,-76.94383,-72.73841,-79.991196,-75.879715,-78.61488,-82.51644,-85.7731,-80.683014,-79.65622,-79.65038,-77.8468,-79.49255,-77.8386,-78.31994,-80.315414,-78.707306,-80.74113,-77.92105,-81.730995,-79.88905,-74.21538,-80.49715,-78.45993,-73.89861,-75.86654,-79.454605,-81.25981,-82.705986,-81.49631,-79.04818,-80.97031,-80.28493,-78.56995,-78.328255,-79.68503,-76.05452,-76.77509,-74.71325,-85.24168,-81.83054,-79.894005,-80.06876,-79.19125,-79.04367,-79.69545,-80.94729,-78.28586,-76.62563,-76.66095,-79.55043,-76.72827,-83.30636,-76.94343,-74.89527,-85.339096,-82.519585,-78.645744,-78.68767,-82.69489,-75.346275,-77.108154,-80.80226,-74.61216,-80.40103,-77.87351,-80.0579,-78.54162,-78.8195,-79.906166,-80.66455,-81.087074,-79.11551,-78.598305,-80.64311,-78.29204,-78.18439,-78.59767,-78.42098,-80.54156,-77.09575,-83.297195,-80.54155,-80.08724,-76.89658,-79.13385,-79.86467,-77.62303,-78.187004,-77.2427,-75.792694,-80.41501,-75.56709,-78.26581,-73.552925,-79.57688,-79.865105,-83.28227,-87.95688,-77.758575,-75.76612,-77.64744,-80.11779,-80.90229,-78.427086,-80.620926],[-92.48601,-94.885475,-91.39883,-95.44303,-97.23753,-95.07573,-91.50809,-91.60885,-93.32002,-91.277275,-94.17116,-94.28583,-90.38412,-89.87139,-94.916626,-91.77043,-91.87873,-95.077415,-92.93969,-93.383545,-94.609825,-91.49179,-93.76547,-93.218506,-93.75129,-95.33904,-94.192085,-94.38703,-90.91715,-87.39924,-94.734764,-93.337326,-90.80144,-89.70805,-95.02111,-94.87433,-92.93636,-92.84692,-92.669075,-91.04623,-95.463104,-93.329796,-91.186615,-91.32506,-96.61279,-93.55368,-91.474525,-91.21587,-93.37467,-96.93286,-93.10874,-91.1402,-89.76781,-93.889015,-92.25402,-93.86437,-97.862946,-93.92531,-92.17279,-94.20168,-91.03169,-94.16136,-94.619774,-92.50069,-92.895065,-92.51698,-94.785324,-93.83483,-91.37183,-89.78533,-93.81661,-94.776085,-95.11242,-93.54612,-92.91288,-92.53244,-93.46736,-91.76081,-94.27592,-89.90256,-90.20829,-92.88979,-95.34911,-93.08274,-94.139,-92.27822,-88.770424,-93.67287,-90.28488,-95.48599,-91.65989,-90.10101,-97.12548,-93.500916,-97.59372,-91.46959,-91.41929,-92.765785,-93.49893,-93.34844,-90.983086,-94.092,-91.854385,-95.60349,-93.35713,-93.86582,-92.97163,-92.59816,-92.375114,-94.377594,-90.4006,-93.79177,-93.92854,-89.02842,-91.22578,-87.06667,-87.29982,-91.76439,-92.93742,-91.49867,-93.33322,-93.94493,-95.167915,-94.16423,-91.10161,-91.64582,-90.16514,-90.51729,-90.99959,-94.683334,-93.292076,-91.8355,-93.02943,-96.171745,-96.74726,-94.49173,-92.962975,-89.6062,-93.49842,-92.608734,-97.02994,-93.253494,-90.34526,-93.94043,-94.396095,-91.99366,-91.51268,-94.94835,-92.60908,-94.43881,-94.58084,-92.327446,-92.851974,-91.317184,-91.809654,-93.48173,-92.809746,-90.10269,-91.54827,-95.118225,-88.18017,-91.636856,-94.105034,-90.66768,-92.25622,-96.28953,-95.93451,-95.30522,-95.41914,-94.34123,-94.21731,-92.72117,-90.74076,-93.85666,-95.10187,-96.25608,-95.22466,-94.27628,-96.042885,-93.99351,-92.55306,-93.131454,-94.80207,-91.955475,-93.04158,-91.31233,-95.96701,-93.82361,-93.1228,-93.522804,-93.18678,-91.883125,-94.04139,-90.21537,-92.08259,-93.324875,-93.29526,-91.63885,-94.74981,-92.88121,-95.096886,-94.76444,-92.81545,-90.00538,-92.63488,-95.03299,-86.780365,-92.41992,-95.40764,-94.87367,-93.266235,-93.84944,-92.56493,-93.12594,-92.032845,-95.14966,-91.47155,-97.956154,-90.76392,-88.032234,-93.49102,-95.950554,-92.10168,-93.53518,-93.70878,-94.79586,-94.11438,-93.94514,-95.42187,-92.55975,-91.41057,-91.18764,-95.27531,-90.29344,-92.56635,-94.555504,-94.939445,-91.10459,-93.56897,-92.407616,-95.66387,-98.570984,-95.965805,-89.85771,-93.33299,-92.855675,-93.546906,-93.74146,-89.026115,-91.2767,-95.67273,-94.387276,-92.719925,-93.48606,-93.03823,-89.90965,-95.25439,-91.65119,-91.05127,-91.62506,-93.83372,-95.095276,-92.43524,-96.55631,-94.81376,-94.65253,-89.58124,-92.40678,-92.85736,-94.224396,-92.51648,-92.500305,-92.15063,-92.80187,-91.29569,-93.08332,-92.68135,-93.135864,-93.23848,-92.476875,-92.27694,-95.1458,-92.77762,-90.550835,-93.589066,-87.270325,-91.92481,-93.60592,-94.28151,-92.051575,-92.359726,-93.250114,-93.91506,-90.71211,-94.58398,-97.003525,-94.985695,-91.182,-94.6324,-91.964035,-94.97492,-93.01425,-91.64414,-92.19813,-88.58254,-93.085396,-93.44637,-94.824875,-92.31324,-91.90583,-91.49842,-94.70093,-96.997795,-91.78147,-89.75008,-92.74805,-94.244194,-95.68102,-92.42918,-92.00647,-91.173325,-95.09451,-92.994,-91.28787,-94.29862,-94.87831,-90.556755,-94.806244,-90.32056,-90.8083,-93.74303,-89.026306,-93.543655,-94.347664,-92.89746,-96.50427,-92.00307,-94.304985,-92.52465,-94.590225,-87.10631,-91.96749,-90.12072,-91.00069,-92.591064,-92.53194,-92.309845,-92.931915,-95.658264,-88.85393,-95.08122,-90.32277,-89.575676,-90.9864,-93.36796,-94.564606,-92.650154,-90.97227,-93.26031,-91.182144,-91.835335,-93.44632,-91.29972,-94.68572,-91.65714,-93.85292,-92.8338,-94.1355,-91.57629,-94.536026,-94.63329,-93.66808,-95.43771,-94.26559,-91.39492,-93.99005,-93.63602,-94.34221,-93.768486,-96.99189,-91.868576,-94.15443,-89.68182,-93.533455,-95.65349,-91.47371,-92.39496,-92.52099,-91.40949,-92.86651,-92.955154,-92.143394,-97.022194,-92.18949,-95.18295,-93.664825,-91.59076,-93.21612,-93.61432,-92.87605,-94.7564,-96.500015,-97.591835,-93.34454,-94.98987,-93.60014,-93.13045,-93.61247,-94.58755,-95.00254,-92.59223,-93.59819,-92.74956,-92.72021,-93.483154,-93.69435,-91.717094,-89.33828,-91.28926,-91.71881,-93.801605,-94.00512,-93.88954,-95.32525,-92.80067,-92.64696,-93.66811,-92.92834,-95.58463,-95.57442,-92.19995,-93.45876,-92.33501,-95.00779,-94.88281,-95.54697,-92.08582,-94.50316,-93.310875,-92.99068,-93.61632,-91.52683,-91.33154,-91.074394,-95.073746,-92.20534,-93.784035,-92.4034,-93.218796,-95.7244,-93.473434,-93.57215,-93.54379,-93.22263,-92.29869,-92.04205,-92.17418,-95.01842,-92.64372,-93.94404,-94.68755,-95.83841,-94.92128,-92.61269,-90.386734,-91.98044,-92.24952,-93.033676,-95.06572,-90.83909,-91.596,-94.26113,-93.59142,-92.20063,-93.82796,-95.15508,-93.86308,-93.811775,-94.910645,-91.61542,-93.56057,-94.683846,-94.231544,-90.11477,-93.51079,-94.58789,-93.02773,-92.920975,-90.55715,-91.68029,-94.07673,-92.79684,-96.731026,-93.260445,-94.67775,-93.80651,-94.63976,-94.50974,-94.94379,-92.76203],[-77.47273,-73.69453,-76.54279,-77.940506,-82.89219,-80.617676,-73.82144,-77.6888,-73.98326,-73.432,-78.6895,-77.78428,-76.59389,-76.28372,-79.47939,-78.54702,-71.98453,-75.63222,-71.10571,-77.963806,-80.470924,-77.16131,-78.16189,-79.12446,-77.50572,-81.3342,-77.10797,-74.481476,-74.92034,-70.40732,-77.5109,-76.690254,-80.7196,-77.20716,-79.96149,-77.57277,-81.28873,-73.206184,-78.50484,-74.23323,-79.98508,-78.3913,-76.31247,-79.99638,-81.08579,-77.98675,-76.92255,-77.866745,-76.21177,-80.58481,-80.22413,-72.04239,-78.032845,-79.25507,-77.84231,-72.12719,-78.25913,-79.981224,-78.4429,-76.96007,-78.192215,-79.032036,-78.76524,-78.42816,-78.23562,-78.424706,-69.79478,-75.82246,-73.13816,-77.18265,-73.927185,-81.55591,-79.18206,-73.26012,-79.53083,-79.48457,-78.09644,-76.63438,-80.78112,-76.92383,-75.90561,-73.41706,-80.55545,-78.43563,-71.23331,-77.40149,-75.69188,-74.16721,-76.52715,-71.85734,-74.387665,-76.34349,-81.50533,-77.268524,-78.29348,-76.23646,-77.444435,-77.578575,-76.80637,-79.902756,-76.73472,-76.09379,-75.208954,-79.90333,-78.34023,-79.01714,-78.93546,-77.41068,-80.277985,-75.296646,-77.34618,-78.63705,-80.407616,-69.54296,-77.81921,-74.31984,-73.40069,-72.26786,-76.83947,-72.099945,-76.94665,-77.66467,-80.91066,-75.94715,-68.83626,-81.35756,-78.69812,-78.48617,-76.26945,-80.256805,-77.67031,-79.20017,-79.076485,-80.317444,-81.97026,-73.79589,-76.66297,-72.04457,-79.30707,-72.33975,-81.90182,-73.637024,-75.70806,-70.257744,-77.94216,-71.21465,-72.61755,-73.79786,-78.257385,-76.42571,-74.26902,-74.73997,-78.68474,-75.92709,-78.5587,-76.941895,-79.98573,-76.75576,-77.65552,-81.74748,-75.91226,-80.26552,-78.86879,-69.36818,-79.30312,-75.10542,-82.19714,-78.404884,-72.27312,-74.402466,-74.066605,-78.03116,-77.969055,-78.98157,-80.39086,-71.885124,-80.39319,-75.23364,-72.995026,-78.69939,-79.099434,-78.55065,-75.46051,-75.70237,-78.07298,-78.899155,-74.69033,-79.90437,-78.01,-72.522255,-71.19498,-73.87863,-75.10446,-78.31728,-81.47652,-74.275406,-79.71717,-76.42735,-75.26866,-78.61166,-78.497604,-80.64306,-78.90645,-77.52568,-78.13587,-78.5923,-77.59837,-78.85545,-80.55888,-81.44061,-78.21231,-77.94055,-79.5713,-73.04829,-75.37675,-79.6523,-80.279915,-83.321236,-78.28364,-75.063416,-79.77887,-81.55325,-79.25992,-70.88351,-79.69736,-77.74747,-77.53278,-78.699554,-77.9962,-78.33896,-75.14933,-76.0646,-79.88764,-77.071236,-79.95313,-73.007706,-79.53747,-78.005295,-78.52949,-78.58588,-76.22495,-79.462425,-79.35597,-76.09052,-76.93964,-79.89928,-78.10708,-78.7299,-76.504005,-78.23398,-76.75579,-74.33386,-79.14707,-78.25634,-80.34114,-77.016335,-73.13995,-78.64958,-71.307915,-77.41551,-76.391655,-78.89134,-78.02071,-82.06974,-79.56123,-80.655655,-76.17909,-74.92623,-75.982956,-77.323784,-79.402016,-73.5402,-73.07767,-80.52901,-77.628235,-79.17716,-77.8997,-78.6049,-78.81354,-76.48452,-75.963394,-79.3446,-78.38168,-77.32166,-78.13899,-75.81618,-70.671,-77.94815,-80.11062,-72.94873,-79.26176,-72.548904,-75.80311,-78.46819,-78.86084,-80.41866,-78.80599,-76.13932,-77.87568,-76.3961,-80.423386,-77.21509,-77.184326,-76.720985,-76.212036,-78.48086,-78.91193,-73.043564,-77.781265,-77.883545,-74.43596,-80.47644,-77.555275,-70.46764,-76.16877,-76.9689,-77.91731,-79.85118,-78.918175,-77.00959,-76.683304,-76.5218,-79.01815,-78.15989,-82.232895,-80.26483,-74.03675,-80.653076,-78.04691,-78.06976,-73.93494,-73.32677,-78.891785,-78.8221,-79.56479,-77.423744,-77.729,-79.10616,-78.88651,-79.0468,-72.84946,-77.17307,-73.49525,-77.692604,-77.722725,-77.75522,-73.24788,-78.058464,-80.36045,-74.875725,-79.767494,-71.33748,-77.885506,-76.12024,-79.05595,-73.888245,-73.360504,-77.704605,-79.263,-72.67549,-81.23678,-76.63944,-78.83207,-80.67074,-71.62531,-78.00786,-80.27211,-77.15079,-79.34674,-77.96375,-78.53203,-80.088715,-75.22625,-78.66786,-67.17807,-78.59664,-72.94961,-80.461006,-79.82468,-78.266235,-71.16171,-80.4005,-68.92312,-77.10452,-79.310585,-75.26845,-80.373055,-77.2291,-76.69793,-78.68254,-75.21788,-79.54444,-75.73626,-77.44026,-72.548325,-78.83954,-74.47149,-77.767845,-75.34036,-78.91956,-77.81986,-82.12944,-82.167305,-74.841484,-78.90453,-73.08291,-79.51881,-77.71139,-79.20131,-80.72869,-78.03123,-79.39509,-77.68597,-78.26796,-78.94418,-80.413666,-77.43768,-76.8301,-73.65193,-75.943275,-78.24825,-77.35892,-75.9492,-78.21161,-79.00676,-79.301285,-80.24055,-77.41342,-77.614426,-77.93987,-77.869415,-73.9072,-73.33962,-80.38543,-80.549934,-80.22701,-78.947075,-80.06993,-75.2872,-77.91937,-78.34158,-79.4573,-72.74397,-77.554535,-81.16028,-77.83417,-80.547874,-80.02861,-78.16423,-75.908066,-78.41278,-79.10892,-80.288475,-80.08499,-73.565636,-74.17895,-77.66091,-73.895676,-79.41043,-76.94669,-80.58554,-75.98196,-72.17561,-77.35486,-76.650925,-77.05799,-78.982185,-73.99254,-78.38455,-77.67247,-76.70537,-71.216446,-72.36561,-77.62785,-76.25032,-78.23749,-79.67824,-70.844604,-75.64366,-75.12839,-73.948456,-78.77092,-80.45726,-77.6034,-76.645424,-79.95437,-78.709274,-73.03634,-72.27879,-79.09466,-80.68286,-77.703896,-78.33963,-80.32662,-77.891335,-75.37443,-80.30372,-79.63499,-79.55183,-80.045006],[-89.655785,-91.61733,-88.62066,-92.388,-94.0244,-92.27295,-89.240585,-89.09686,-91.173805,-89.83522,-92.88741,-92.15416,-87.04289,-88.02219,-91.51805,-88.94747,-88.54275,-91.61615,-93.22941,-89.970795,-91.903885,-90.29575,-90.64567,-90.673134,-90.10353,-91.95021,-91.13371,-93.230774,-87.49171,-85.36213,-90.94493,-91.769066,-87.192406,-87.669426,-93.60952,-92.50184,-90.20115,-91.18995,-90.29543,-90.84556,-93.90619,-91.07332,-88.21187,-89.03175,-93.00963,-91.574585,-88.203514,-89.73355,-91.5391,-93.33691,-91.10525,-88.571495,-87.86792,-91.786446,-89.705055,-92.64521,-93.35917,-91.242676,-90.08991,-91.864296,-88.771355,-91.89027,-91.466354,-91.63057,-91.33573,-89.61508,-91.94741,-92.17417,-90.54505,-88.18385,-93.42539,-92.97947,-92.39404,-90.573906,-90.55954,-90.81679,-90.831215,-89.30047,-92.02573,-88.2902,-86.64567,-89.09575,-92.8261,-89.54205,-91.961006,-90.11805,-85.635895,-91.21979,-87.788734,-93.04723,-86.488464,-88.189606,-92.76118,-93.748085,-95.53186,-89.22754,-91.59257,-91.61946,-91.44299,-91.00871,-88.54045,-88.79697,-89.401535,-93.114815,-91.429146,-90.6588,-90.56267,-89.308624,-89.666466,-93.86868,-88.56851,-92.68623,-91.11303,-82.48958,-90.52654,-85.75436,-84.471664,-89.020134,-90.50928,-88.43094,-90.863495,-91.03208,-91.674904,-90.170555,-91.553055,-88.730804,-88.2359,-89.057526,-88.70468,-91.695496,-90.76351,-90.55378,-90.126976,-93.689064,-94.16404,-92.09284,-91.1134,-89.410515,-90.29221,-90.10001,-95.15703,-91.29694,-88.19425,-91.3123,-91.373184,-90.46479,-90.9231,-93.19479,-90.42411,-93.5677,-93.22627,-92.38146,-89.91765,-88.419174,-89.43737,-91.033485,-92.04125,-88.25581,-90.18657,-93.17345,-86.44783,-90.50937,-89.806595,-87.61506,-91.59636,-93.93629,-94.39781,-93.64711,-92.89919,-92.53994,-91.60741,-92.21386,-87.32735,-91.03736,-91.82007,-94.58992,-91.75771,-91.4603,-92.19039,-91.57841,-90.49572,-89.47864,-91.7519,-89.473694,-90.28903,-89.34374,-92.86975,-91.62327,-88.931984,-90.88134,-91.1225,-91.646095,-92.396225,-88.28278,-90.01801,-90.33205,-89.95698,-90.85444,-91.74893,-91.08641,-93.191315,-90.97639,-89.95086,-88.09779,-89.763535,-91.94063,-85.20651,-90.10337,-93.005974,-92.70302,-91.37792,-92.85241,-90.60751,-89.76165,-90.21105,-91.92445,-89.33502,-95.20282,-88.56453,-84.91326,-91.115166,-93.464066,-88.611916,-91.90349,-90.895996,-92.736694,-92.18845,-89.99158,-93.18116,-90.13657,-88.44947,-87.59832,-91.78637,-88.42243,-91.29323,-91.56708,-92.42254,-88.677864,-91.29114,-89.91248,-92.98932,-96.78572,-96.56288,-86.32575,-90.66764,-91.41033,-89.85647,-91.8297,-86.3254,-88.89299,-92.33089,-93.52801,-91.222336,-91.78813,-89.58351,-88.21229,-93.829,-89.53696,-88.58876,-90.12408,-91.36112,-92.41848,-90.39365,-93.14335,-93.6533,-92.54129,-87.17271,-90.009445,-91.9308,-91.977875,-89.61442,-90.92602,-89.79912,-91.05757,-89.3331,-88.82353,-90.08911,-90.82254,-92.80425,-92.746025,-90.55878,-91.13036,-90.17737,-87.17137,-92.94793,-87.06866,-89.947586,-90.41757,-92.71719,-91.09462,-90.03421,-92.489174,-92.57096,-89.14718,-93.239555,-93.90062,-91.40196,-89.929184,-91.15789,-91.17691,-92.79473,-90.78168,-89.15064,-89.23431,-85.23045,-91.62514,-91.045815,-90.54367,-90.56856,-90.1464,-91.610054,-92.489914,-93.86954,-89.07987,-86.06218,-88.89058,-91.39796,-91.921974,-89.58375,-90.32616,-88.60073,-93.46424,-90.56189,-89.32378,-92.113914,-93.953384,-90.57858,-92.00927,-87.382866,-89.065926,-91.5981,-88.87421,-91.422226,-92.07928,-91.31545,-94.7728,-90.8514,-91.575005,-89.63044,-92.76462,-86.15118,-90.28926,-88.69241,-89.4486,-89.22523,-90.95551,-88.39873,-91.58788,-93.1642,-85.43309,-92.34917,-88.4177,-85.22739,-88.26107,-91.651375,-91.85794,-92.104546,-89.17359,-91.01609,-90.32415,-90.78849,-90.59343,-88.091835,-92.10465,-90.38921,-92.24034,-90.530846,-93.24381,-88.65975,-91.917,-91.825264,-89.01845,-92.59283,-93.32352,-88.975044,-91.249016,-90.323,-90.78303,-92.71661,-92.59999,-89.99965,-92.85543,-87.45668,-91.602295,-94.962685,-89.979576,-89.75862,-89.372696,-89.44231,-91.98681,-91.35031,-89.302414,-94.491554,-90.20834,-92.23183,-92.44662,-89.030556,-91.09319,-92.41409,-91.29781,-91.57664,-93.50895,-94.55876,-91.23825,-92.86796,-90.88419,-90.507095,-90.72162,-91.77997,-92.34076,-89.311455,-91.50738,-90.03518,-90.25785,-90.21221,-92.623215,-90.11595,-87.39884,-91.120926,-90.220406,-92.22009,-91.13482,-93.80724,-91.523674,-89.683075,-90.86777,-91.40399,-91.12552,-93.216896,-92.9844,-88.31661,-90.85673,-90.50413,-94.26215,-91.588234,-92.840065,-89.88293,-90.95646,-90.67032,-91.3544,-91.66216,-89.13715,-88.84197,-88.34473,-91.31395,-89.12488,-92.39736,-90.01001,-90.27937,-92.84013,-90.42093,-92.58814,-89.83503,-91.51672,-91.26256,-92.251724,-88.85075,-92.06803,-90.78415,-93.03544,-93.5253,-92.39728,-92.798676,-93.40939,-87.96576,-89.78824,-90.30468,-91.21026,-91.25161,-89.640144,-89.23418,-91.08101,-90.590744,-91.164566,-93.03449,-91.69895,-91.34312,-91.29999,-91.711914,-89.58962,-92.124504,-91.89089,-93.09048,-86.57086,-92.47626,-93.06357,-90.36099,-90.38737,-89.20949,-89.529335,-91.81455,-91.27959,-92.88487,-91.59199,-92.894066,-91.07388,-93.75202,-90.863396,-91.728615,-90.0047],[-101.28481,-105.80381,-96.941605,-102.68445,-104.9783,-102.05523,-105.680405,-102.414505,-104.38098,-102.975975,-102.63498,-103.10278,-97.12904,-96.60493,-101.38527,-100.436646,-100.77219,-105.916466,-103.73669,-98.6168,-101.202545,-100.216415,-101.626785,-99.79526,-101.20814,-102.28994,-101.58267,-105.78769,-102.63611,-95.95475,-104.08582,-104.65283,-96.191025,-96.7254,-103.36315,-104.336174,-99.58136,-104.12159,-99.11727,-103.086525,-104.25149,-102.37766,-98.17798,-98.81178,-102.5798,-104.673355,-99.00993,-99.373405,-102.809715,-103.82575,-100.604836,-102.2009,-97.14861,-102.17379,-98.73411,-105.99853,-105.04165,-100.68102,-100.64691,-105.18035,-99.49007,-101.19523,-101.51576,-101.42813,-99.98262,-100.83444,-105.52485,-106.235,-102.64074,-97.80312,-104.75145,-102.24826,-102.80098,-105.138435,-99.34255,-102.070625,-100.58467,-98.31474,-102.80798,-96.21096,-96.16179,-102.67997,-103.939384,-99.82256,-103.72826,-101.292786,-95.01636,-104.516884,-101.315544,-104.98588,-100.12754,-97.39009,-107.00722,-104.61424,-109.01879,-99.398636,-99.4139,-102.82206,-105.21487,-99.85898,-100.249435,-99.388405,-100.328766,-103.51079,-102.5538,-99.9537,-99.58085,-101.367874,-98.62367,-105.21597,-98.24829,-103.229485,-99.8528,-101.072525,-99.07122,-94.56678,-94.49749,-104.01246,-100.18233,-104.72984,-101.84549,-100.461624,-101.8585,-101.34819,-104.05262,-97.95276,-97.15346,-96.42337,-98.91296,-102.61462,-100.73155,-100.65225,-100.60943,-104.20646,-104.72074,-103.26105,-100.88832,-100.67652,-100.96877,-104.270065,-104.60501,-103.54071,-97.091805,-104.44036,-101.90588,-104.712845,-101.35319,-106.099144,-101.500916,-105.233665,-105.29978,-103.95847,-100.38287,-100.42595,-96.825195,-105.36014,-100.692024,-97.328835,-100.015564,-102.42277,-96.67344,-98.55827,-100.461845,-101.853615,-99.77769,-105.94727,-105.81952,-102.81974,-104.56134,-105.95692,-105.032005,-100.58345,-96.63551,-99.961205,-101.68306,-106.36934,-102.69362,-106.091866,-106.053635,-101.0893,-100.97004,-99.74253,-105.43956,-99.841934,-100.69763,-98.16757,-105.86194,-99.326935,-99.93308,-103.14889,-103.356125,-104.11198,-104.64432,-97.537094,-99.781235,-104.902016,-99.60281,-102.52608,-103.73867,-101.57584,-103.447556,-101.21411,-100.95786,-97.653076,-100.81744,-102.46992,-93.01562,-99.59694,-102.11862,-101.87937,-100.86995,-105.000465,-99.86553,-106.1946,-104.04882,-101.8651,-99.88901,-108.01608,-98.12627,-94.46272,-99.75798,-101.806114,-99.22414,-105.2074,-100.06281,-103.67981,-104.72848,-100.99752,-108.206436,-100.29115,-99.32428,-98.21586,-101.59187,-98.68092,-100.95013,-105.89582,-101.91873,-97.614395,-99.83006,-98.74603,-104.02233,-107.75169,-107.19124,-96.511024,-99.02589,-99.85398,-99.70121,-100.327255,-95.945724,-97.88598,-105.213615,-104.57408,-100.89456,-101.22682,-100.22733,-98.62448,-106.63911,-99.19995,-102.7057,-99.94363,-105.73675,-103.271484,-99.476746,-102.5601,-102.99816,-102.23371,-97.015465,-102.54734,-103.803246,-105.75525,-99.4257,-103.12734,-104.75238,-99.468506,-98.59842,-101.73091,-101.4465,-100.657394,-101.711586,-104.41504,-102.45634,-102.66918,-99.37476,-96.76886,-106.14879,-96.98071,-101.46425,-99.89252,-102.19128,-102.6721,-99.62457,-104.19081,-105.02501,-97.55375,-102.70476,-102.6795,-101.48817,-103.45955,-104.98936,-102.1112,-102.6626,-100.71263,-98.06861,-99.32274,-96.33972,-101.37504,-99.59364,-105.67399,-99.4058,-98.66069,-104.02424,-102.533615,-105.408745,-102.71152,-95.34934,-100.661316,-103.569756,-102.30068,-100.76552,-101.16837,-98.13985,-105.713165,-99.76374,-98.60199,-100.61218,-102.91715,-102.621216,-102.079094,-97.42401,-98.992294,-105.00196,-101.452,-101.69995,-102.49513,-100.33051,-107.66061,-101.12582,-101.692,-100.73223,-103.704956,-100.28923,-100.32069,-103.97022,-98.09526,-101.36024,-100.96188,-105.80064,-102.435425,-103.141914,-94.66851,-103.28504,-102.97429,-94.86745,-98.39862,-99.65913,-105.70879,-106.19663,-97.454094,-99.613235,-105.47214,-99.46424,-100.37535,-99.25558,-102.94912,-101.80366,-101.44879,-100.60562,-104.75406,-97.54011,-102.35938,-102.540436,-99.72658,-107.53203,-102.457054,-103.783394,-99.972275,-106.072556,-100.09934,-100.79325,-106.13961,-103.58075,-101.68608,-100.59672,-101.377495,-107.00484,-103.24282,-99.41917,-98.398415,-99.82378,-102.28119,-103.93252,-98.6146,-107.3355,-100.288574,-104.57156,-102.0361,-101.71147,-100.998764,-104.900116,-100.69782,-101.89507,-102.30183,-103.360245,-103.076614,-103.670944,-104.874466,-99.65641,-101.006,-103.42826,-102.23488,-100.37276,-102.778786,-100.1536,-102.55833,-100.85741,-102.91996,-101.046104,-97.44244,-103.05873,-98.62698,-101.239105,-101.274605,-106.21153,-102.09418,-99.024315,-99.89724,-100.1825,-101.173035,-104.91941,-108.43789,-97.64701,-103.668236,-104.5705,-107.07809,-101.35268,-108.15046,-98.839386,-100.86298,-104.65333,-100.56575,-100.43257,-99.39687,-102.67917,-96.17801,-101.83873,-97.12033,-102.55544,-100.17283,-106.39698,-107.15746,-101.208115,-105.0811,-99.9808,-100.7532,-104.71831,-103.173325,-101.19175,-106.02164,-100.27345,-105.46416,-101.77536,-105.72696,-104.84963,-106.10004,-96.97442,-100.635254,-98.73027,-104.37168,-101.93976,-99.37421,-102.73442,-104.499756,-106.99927,-100.6916,-104.97541,-102.1014,-101.28363,-103.9304,-104.80654,-100.00093,-104.77677,-101.657745,-102.5601,-96.74848,-107.97326,-101.257805,-101.475296,-104.994255,-102.16608,-98.20149,-100.87612,-102.67259,-108.2427,-99.4464,-104.45435,-103.98382,-103.02295,-101.28573,-102.19315,-99.26567],[-93.07306,-97.33724,-90.647705,-97.61853,-96.22739,-93.869576,-94.40958,-92.85861,-98.797935,-94.048134,-95.22562,-95.67481,-92.64571,-87.04415,-94.00323,-91.14017,-91.04338,-95.515656,-94.88797,-90.87417,-94.971054,-93.78823,-91.604744,-94.787025,-92.14482,-96.010925,-94.89442,-96.59719,-93.69808,-89.84493,-94.69715,-95.90308,-88.84095,-88.60409,-96.7041,-95.138435,-94.716545,-94.605,-92.059456,-91.87113,-95.15137,-91.90421,-92.99839,-91.44008,-95.600204,-95.75516,-90.21837,-90.82609,-95.06941,-94.767296,-92.34233,-91.416046,-89.21657,-90.54491,-92.12814,-96.09633,-95.91596,-95.1239,-91.58667,-93.61473,-93.11436,-93.666664,-95.5021,-93.64976,-91.25752,-94.41997,-94.95947,-94.913574,-92.581245,-89.41413,-94.4304,-93.88595,-92.89784,-99.24772,-92.292755,-93.03958,-94.99898,-92.700264,-94.60827,-90.14242,-91.03397,-91.8558,-94.11798,-92.78829,-95.312515,-90.3757,-89.66788,-96.18347,-90.87831,-93.83203,-87.78314,-91.08538,-98.62043,-97.163506,-97.027084,-92.2197,-89.05769,-94.78316,-94.0366,-96.287964,-90.565674,-92.91625,-91.09287,-93.813484,-92.3738,-93.062645,-92.1675,-90.24424,-93.70819,-95.19615,-91.25427,-90.883835,-93.52827,-92.83141,-94.62385,-90.51464,-85.56646,-93.34356,-92.671326,-96.39257,-88.808495,-91.913055,-96.96959,-94.4202,-93.61337,-90.2152,-89.29828,-90.92639,-91.89987,-95.429214,-95.706985,-93.33889,-93.36932,-97.57552,-98.36508,-95.91266,-91.48303,-93.01921,-92.92985,-93.66252,-97.428154,-95.029175,-92.66039,-92.82946,-94.19722,-94.18067,-88.66962,-96.44886,-94.77299,-96.07718,-96.76336,-93.51139,-93.552185,-87.55596,-92.00623,-96.112656,-92.76747,-89.54733,-92.17931,-96.3981,-88.506035,-91.08092,-93.632965,-94.51098,-90.75578,-98.0079,-94.521675,-96.81363,-95.767944,-95.49141,-95.39455,-93.061775,-88.61134,-90.2824,-94.06071,-96.07531,-95.10784,-95.36145,-93.5118,-92.65029,-94.25858,-92.33768,-96.539955,-91.73474,-93.156906,-90.97932,-96.36119,-91.492455,-92.78207,-92.79614,-91.110344,-93.09772,-93.367325,-90.487465,-93.2025,-92.95937,-91.989044,-92.08428,-96.12061,-97.79875,-93.09001,-93.016846,-93.2926,-91.26729,-90.91709,-95.42908,-86.70386,-90.175575,-94.88112,-96.47088,-92.966064,-93.63763,-94.035645,-97.668365,-93.06346,-93.08919,-91.38379,-98.53234,-91.39937,-88.52542,-92.57784,-95.34291,-90.6869,-93.79427,-93.88965,-96.246414,-94.50131,-92.68793,-98.44091,-88.15758,-88.69065,-91.039345,-94.046974,-91.21576,-93.85173,-93.6828,-92.98776,-89.98867,-95.83374,-92.31528,-98.43611,-97.7912,-96.982925,-90.72064,-91.97539,-92.75506,-91.26444,-92.76682,-86.242355,-94.8211,-94.57788,-99.51988,-93.66524,-93.53972,-93.43332,-92.62887,-92.91851,-92.34625,-92.10092,-93.68973,-98.29612,-94.05217,-94.20449,-94.90085,-96.61971,-95.24184,-91.91389,-94.186874,-92.0831,-96.959595,-90.581406,-92.64931,-94.38505,-90.137344,-88.76143,-94.91471,-95.082375,-92.18529,-92.76903,-95.27511,-94.39146,-94.911896,-91.88612,-92.47455,-94.19673,-89.31126,-90.90554,-92.63471,-95.238754,-92.72749,-93.829475,-93.94589,-93.49724,-92.15023,-93.59164,-96.904434,-94.298584,-93.85792,-94.73564,-93.244156,-94.57492,-94.79565,-90.63227,-89.50049,-87.61012,-97.2929,-92.4813,-93.00701,-91.62965,-89.31506,-94.249146,-95.9607,-97.02725,-91.675766,-87.96131,-92.60703,-91.898964,-94.34568,-93.53817,-92.908676,-89.099815,-97.78995,-94.281334,-92.58314,-95.03578,-99.37802,-93.577286,-94.518906,-89.66433,-90.59389,-95.67204,-91.13559,-93.51156,-94.070496,-91.66948,-97.56229,-94.759224,-93.02074,-94.38413,-93.31658,-92.90709,-91.021324,-91.86792,-90.11023,-92.40961,-94.01652,-95.581726,-93.129684,-97.35007,-89.10429,-95.847786,-91.22614,-89.92719,-94.68273,-93.51682,-97.43806,-94.483574,-91.61918,-92.420555,-94.13888,-92.05616,-92.12566,-91.36572,-93.76932,-95.55773,-92.748985,-91.41711,-93.62372,-93.43654,-95.81157,-92.06781,-94.385704,-95.93596,-95.24736,-92.90044,-93.90817,-98.46564,-92.34915,-94.92813,-95.54967,-96.43926,-93.32828,-88.7374,-93.81485,-98.268135,-92.79069,-92.570045,-92.1414,-93.341606,-96.11878,-94.637436,-89.4884,-98.24779,-93.28164,-94.65758,-93.98919,-90.828125,-94.362175,-97.19274,-94.6744,-94.848946,-95.47298,-96.32469,-92.88083,-96.63702,-94.408875,-95.32587,-94.724594,-95.55942,-94.01603,-92.82609,-95.78747,-93.138695,-93.60797,-91.29039,-96.09223,-92.44484,-93.68799,-92.411354,-93.417984,-92.92003,-92.548096,-97.46879,-92.66664,-93.63426,-92.25116,-95.177216,-94.28148,-95.85973,-96.76793,-92.90714,-94.57166,-93.6226,-99.60272,-95.52358,-100.73826,-92.13111,-92.3657,-95.78321,-93.767296,-92.676346,-91.90004,-92.855644,-89.48498,-92.04097,-92.678734,-95.53581,-91.86213,-94.049805,-98.61822,-92.547615,-92.80966,-91.66768,-94.24878,-96.84263,-94.0738,-92.19364,-95.74814,-92.91398,-96.08028,-95.23379,-95.84761,-93.80109,-95.17078,-92.977646,-93.35659,-91.778885,-94.88471,-95.59564,-92.863686,-91.91733,-91.70294,-96.66474,-93.002205,-95.35552,-94.62863,-94.72371,-93.41512,-96.70012,-87.77065,-95.125824,-94.92889,-93.69449,-89.45314,-96.80406,-94.90726,-95.8757,-95.66783,-94.13597,-88.93638,-93.23243,-93.55951,-95.99033,-92.98812,-94.860115,-93.21689,-94.67167,-95.843,-93.47099,-92.42034],[-129.53513,-132.28554,-134.33502,-133.31169,-129.95139,-132.09021,-132.55095,-134.22325,-130.14803,-132.4559,-125.692825,-129.50658,-126.716896,-134.14285,-130.2107,-136.32387,-131.74107,-136.29576,-134.25745,-135.44028,-129.1568,-130.54285,-135.47261,-128.31758,-137.90842,-135.78682,-132.16835,-131.72174,-131.84416,-136.88826,-127.66187,-137.29651,-133.09225,-134.82198,-130.5551,-132.88556,-129.23271,-129.27667,-131.14923,-131.4086,-128.12915,-137.42082,-128.66368,-135.5556,-138.28445,-136.34987,-128.41241,-133.9353,-130.82898,-136.91602,-127.78485,-133.62875,-135.35654,-133.74307,-135.97638,-137.69774,-135.82698,-133.0789,-138.12569,-137.39189,-128.64932,-135.78299,-134.89412,-130.25099,-134.27466,-130.86906,-133.82036,-136.73265,-132.53836,-137.56818,-136.50711,-136.59709,-134.4103,-136.88435,-135.35364,-137.35036,-138.39107,-135.3563,-132.30309,-130.16972,-128.37328,-130.4234,-138.91696,-130.67674,-131.44797,-136.35443,-135.13348,-131.56299,-132.73253,-132.24768,-123.167725,-133.06163,-140.13754,-137.41287,-139.09601,-130.6681,-135.87456,-127.343025,-135.87604,-130.4666,-134.65118,-139.31818,-137.61084,-127.52994,-135.01828,-137.39647,-138.36676,-135.72246,-132.71037,-136.89801,-136.11552,-136.77435,-137.75246,-129.85625,-134.97693,-134.71481,-131.8433,-131.27823,-136.72804,-133.2115,-130.7385,-138.74876,-132.05309,-130.79903,-134.73933,-136.16772,-136.6191,-135.2448,-135.53226,-130.07243,-132.34592,-136.25575,-130.09608,-130.46237,-129.2443,-132.93388,-133.73822,-128.7376,-130.50665,-131.15237,-134.07254,-131.73395,-135.698,-133.32559,-132.3421,-133.86923,-132.33217,-131.7557,-131.81612,-136.98946,-130.87048,-132.04655,-129.04077,-135.93109,-129.37976,-134.4023,-127.52706,-125.22947,-137.93912,-132.37625,-129.96844,-137.99153,-135.08707,-134.9222,-135.95872,-135.85828,-136.68797,-131.47792,-131.82689,-130.13818,-130.59741,-134.76299,-135.51144,-134.62967,-128.08952,-136.51047,-135.97723,-138.50679,-134.99023,-137.08197,-128.63866,-129.06561,-132.37611,-135.64851,-131.2264,-136.04349,-133.72539,-129.08894,-130.74261,-136.21841,-134.90588,-131.8099,-132.49976,-137.03848,-139.65944,-131.64656,-128.99522,-135.10945,-128.15106,-132.81085,-137.40053,-140.4957,-129.80714,-135.43774,-134.58304,-128.78172,-136.44019,-135.94226,-137.07286,-128.04451,-130.32776,-135.5987,-129.25548,-131.54913,-131.7078,-137.03767,-129.87885,-138.69716,-132.17154,-133.4108,-128.80412,-139.74066,-137.79874,-136.55777,-136.00601,-139.47852,-133.44443,-129.22981,-142.05461,-135.02365,-135.6051,-128.65742,-130.19856,-128.851,-130.2343,-132.47025,-135.2108,-133.8274,-128.60353,-129.27213,-134.21548,-137.51079,-137.02489,-131.2072,-134.68463,-136.15105,-130.66553,-135.22495,-133.49394,-129.70164,-133.61322,-134.02704,-133.0175,-136.0536,-136.64616,-127.80462,-134.97002,-130.11092,-131.2358,-136.80836,-136.8144,-126.19486,-131.55728,-131.2939,-131.8004,-137.85568,-128.48985,-127.13995,-136.03758,-136.30652,-129.94444,-131.7645,-132.28436,-134.27989,-135.87733,-129.39616,-130.62128,-131.03908,-132.01834,-135.65091,-135.67007,-130.28236,-135.28136,-129.8609,-138.07767,-128.75381,-133.30164,-136.04611,-137.66896,-137.38422,-137.6687,-134.20341,-134.70206,-135.19025,-131.08067,-139.34113,-130.79361,-133.41719,-134.546,-133.50879,-131.1822,-131.74239,-131.6485,-136.8998,-134.40968,-129.83035,-136.30873,-130.66856,-133.99991,-135.29163,-132.20322,-131.6691,-135.27762,-131.65848,-135.88547,-124.46087,-138.04413,-138.30179,-128.49065,-135.7521,-136.11197,-137.05145,-128.27246,-135.07185,-135.80919,-133.93858,-131.39868,-131.48973,-127.21079,-132.3175,-131.97389,-130.57455,-131.85068,-136.09592,-135.67892,-137.86194,-129.9135,-128.11386,-138.05678,-132.25893,-128.23485,-135.71512,-134.32004,-134.25795,-127.69799,-130.87694,-132.6029,-137.49776,-134.48529,-123.49639,-131.79042,-131.01532,-136.38986,-130.3319,-129.60533,-133.13248,-131.3995,-134.67174,-130.21136,-131.75906,-137.53441,-135.19402,-127.05734,-131.29031,-131.48447,-137.73827,-135.66782,-133.2663,-129.57123,-139.49103,-133.81487,-129.84723,-131.65297,-138.4671,-134.3207,-129.7988,-134.11447,-129.44025,-138.48688,-134.65634,-133.07104,-135.3169,-132.10396,-135.10983,-138.54648,-132.11624,-130.97043,-128.89323,-129.43776,-128.51451,-130.85709,-135.08772,-135.45227,-137.69429,-134.68448,-131.19115,-132.61243,-131.04689,-133.4743,-131.20564,-135.76303,-129.72299,-138.22115,-131.6086,-131.0087,-132.45735,-137.14796,-128.86896,-132.3369,-128.43262,-129.54688,-130.42604,-126.95909,-129.84088,-136.37233,-131.93332,-137.17848,-130.38156,-131.47313,-135.8033,-136.75404,-136.32361,-133.92934,-136.80147,-137.67044,-129.53792,-137.6624,-136.5432,-135.77505,-135.49245,-129.67639,-131.37993,-132.69923,-135.99374,-131.80437,-136.19421,-136.76335,-128.85963,-132.80244,-130.66882,-131.37024,-136.59044,-130.07944,-135.21011,-126.993385,-128.4735,-129.8077,-129.31958,-132.6892,-134.79428,-134.49075,-135.83078,-135.05626,-129.20436,-132.69814,-132.73001,-136.33437,-134.41515,-135.44926,-139.25977,-137.92372,-131.93254,-134.00052,-134.7322,-133.76007,-128.8072,-134.50099,-131.2318,-135.3073,-130.46486,-137.56685,-132.33168,-132.88121,-130.83844,-132.39224,-138.02141,-131.93767,-136.84631,-131.75122,-135.11469,-137.2866,-137.37486,-135.7733,-126.43946,-133.28119,-131.41017,-127.86424,-134.14914,-130.36115,-136.85529,-129.66022,-134.45337,-138.86731,-135.26947,-134.05296,-131.97678,-137.86844,-133.25111,-130.98257,-136.6213],[-65.262375,-70.094345,-61.79825,-67.739,-68.95183,-66.56409,-70.46981,-68.00867,-66.95364,-72.65087,-67.91494,-66.14516,-66.52818,-60.85435,-68.38691,-63.990227,-65.35214,-72.87311,-70.61521,-65.24129,-67.770424,-66.19276,-64.90634,-65.16173,-68.150215,-68.40444,-69.33479,-71.60359,-68.35415,-65.54939,-69.76265,-73.42963,-59.12393,-63.522564,-68.1568,-70.79033,-66.13354,-71.10256,-65.35254,-69.25276,-70.51215,-67.16834,-64.0985,-62.697205,-70.03905,-67.96993,-63.882694,-64.49647,-70.60408,-68.83812,-65.317276,-66.967834,-63.515194,-64.07659,-65.96008,-70.62643,-69.46892,-71.32719,-66.1994,-71.42746,-63.722847,-64.7634,-64.49987,-65.9422,-63.646664,-68.45264,-70.952484,-71.048515,-68.90492,-65.245895,-74.018715,-66.597946,-65.80592,-74.01338,-64.15726,-66.76764,-67.03491,-63.74866,-68.8346,-64.092995,-65.229744,-66.001274,-67.51111,-67.38284,-66.54247,-65.429634,-63.58703,-70.90651,-67.32488,-68.34494,-65.11503,-63.924362,-74.31819,-72.404884,-73.629486,-64.68639,-64.40107,-68.94613,-69.05926,-67.89103,-65.03703,-65.078514,-65.71634,-70.17704,-63.425312,-66.44998,-66.43791,-63.983704,-64.82822,-71.11369,-65.03142,-66.27962,-68.25579,-65.74884,-65.31295,-63.262337,-60.600765,-70.41171,-63.729626,-68.39558,-64.38139,-65.48735,-69.267815,-67.82903,-67.35603,-65.25218,-65.871574,-64.914764,-61.774803,-66.677376,-68.7044,-65.745964,-65.62669,-70.75082,-71.95215,-70.0591,-64.00406,-68.46372,-65.23547,-69.38244,-69.734955,-70.278114,-64.51754,-69.56968,-68.2642,-66.54659,-66.25419,-70.387794,-70.57796,-71.28896,-68.51112,-69.292076,-65.02064,-63.687626,-63.092983,-70.840004,-66.952774,-64.01109,-67.141556,-66.73864,-63.339405,-66.28529,-66.61143,-72.58435,-64.29824,-73.14747,-70.84887,-67.61799,-67.24527,-70.63976,-68.68574,-63.19285,-65.16997,-63.89589,-68.31391,-71.931015,-66.46531,-71.28211,-67.806,-64.3816,-66.409,-64.86573,-70.702644,-65.90684,-65.45691,-59.12178,-71.128,-65.31592,-65.87825,-68.22642,-68.45624,-67.82805,-69.94846,-63.615875,-62.680412,-70.15685,-65.12958,-68.372086,-69.932625,-67.52461,-67.107635,-67.06787,-67.920616,-64.066956,-62.794136,-69.106766,-62.180443,-64.057236,-67.43471,-68.93627,-66.00227,-70.88144,-65.59725,-69.897865,-69.21858,-65.681854,-64.99278,-71.49744,-65.67402,-62.567963,-65.195786,-69.00068,-63.366207,-69.27598,-67.944885,-68.00107,-69.398026,-65.49624,-73.02688,-64.16471,-65.14783,-65.84895,-67.49056,-64.99504,-66.5651,-71.1013,-66.3403,-61.809643,-67.05452,-62.85248,-68.47846,-70.7087,-75.3573,-64.96067,-62.381493,-65.49066,-65.6444,-67.012085,-59.798767,-66.14786,-70.394844,-73.28645,-68.69604,-64.48587,-66.26163,-68.91998,-69.94343,-66.35939,-68.96676,-65.26645,-70.17179,-70.16079,-66.04146,-66.53657,-66.91609,-66.01468,-63.76435,-69.55989,-67.43471,-70.64738,-65.22422,-69.17822,-69.80402,-64.16652,-64.284996,-66.47151,-68.32587,-66.53251,-65.32241,-69.65233,-71.953,-67.856766,-64.912445,-63.578968,-72.51497,-64.83159,-65.42646,-66.14895,-67.66306,-66.165794,-63.693077,-71.07547,-71.25936,-64.007744,-66.24912,-70.2737,-66.81534,-68.008545,-69.36772,-67.22042,-65.21827,-70.0177,-66.52186,-64.55151,-60.98003,-70.80903,-64.1361,-67.778015,-63.724552,-64.11929,-69.24616,-68.24987,-70.25927,-64.36896,-62.753838,-63.721313,-68.36245,-67.27127,-64.22766,-65.68693,-62.314217,-70.79956,-65.124275,-64.18959,-63.582188,-70.15664,-68.555916,-68.400024,-65.11819,-63.884975,-69.88644,-67.398445,-67.62507,-69.232376,-65.30004,-71.38935,-70.32063,-64.42047,-65.416954,-68.04884,-63.246002,-65.916435,-67.83841,-63.839333,-67.405396,-65.85824,-70.82574,-68.33271,-71.446915,-63.826405,-66.61893,-70.94606,-65.488846,-65.33027,-66.574844,-70.55476,-67.6528,-64.21212,-65.37841,-70.115776,-65.88215,-65.304146,-63.03654,-67.43919,-69.336075,-65.57964,-64.119606,-69.73198,-65.41064,-65.63455,-62.994286,-67.60252,-70.09173,-71.03716,-70.881454,-65.21418,-71.21926,-65.19267,-66.58867,-69.57576,-67.6872,-65.650246,-69.64586,-65.98303,-71.95971,-68.89732,-66.67733,-67.047935,-67.16383,-68.64969,-68.259705,-61.42517,-72.737335,-63.228973,-71.789795,-68.09002,-66.74009,-64.351204,-71.27577,-69.481026,-65.311806,-66.33282,-67.99927,-69.02866,-70.5671,-69.39044,-67.81257,-67.76862,-69.0886,-64.832825,-65.67272,-67.62765,-64.59177,-68.1033,-66.91612,-67.8422,-66.65721,-67.20634,-70.19476,-63.989384,-64.67704,-63.278942,-70.51285,-67.67595,-66.756775,-65.84984,-66.63026,-62.1988,-69.74282,-71.796394,-65.08655,-70.458046,-68.83957,-73.08172,-66.33013,-74.14013,-65.34411,-65.06028,-67.676956,-65.31217,-65.825195,-65.12184,-67.99833,-64.201065,-63.69973,-65.05807,-70.32969,-66.189835,-68.69107,-73.37798,-65.73487,-73.10322,-65.543465,-67.16993,-70.089874,-69.14646,-66.7161,-70.54642,-63.446182,-70.21649,-67.683105,-70.52772,-68.7865,-70.08553,-64.21332,-67.046486,-62.959957,-69.99449,-65.45957,-65.37355,-67.739395,-67.58622,-70.18416,-66.665054,-70.48397,-68.64895,-68.58,-68.13073,-69.8452,-62.824154,-68.565025,-65.892296,-62.312496,-61.527096,-71.16943,-65.88969,-67.46469,-71.47628,-68.761604,-64.18335,-66.732315,-69.06194,-72.60096,-64.069336,-68.97027,-70.39016,-66.69265,-68.9207,-67.18554,-65.44761],[-93.2576,-97.512146,-90.86858,-97.82964,-93.98794,-92.78736,-97.453926,-95.67697,-95.21273,-99.07186,-93.69002,-90.67563,-92.799286,-90.76872,-93.00458,-94.08704,-94.26742,-94.41113,-95.98354,-93.310936,-93.72098,-91.91167,-94.5262,-91.17806,-93.211975,-94.748245,-93.19027,-97.74053,-94.723305,-92.15293,-94.59192,-97.52827,-91.64366,-92.22908,-92.69456,-95.7771,-92.219925,-98.06617,-90.873116,-96.14364,-96.30458,-93.0717,-90.477036,-92.2913,-93.01809,-96.16005,-89.938194,-91.070755,-97.327515,-92.60738,-92.8885,-95.14537,-91.12802,-92.04791,-93.96731,-98.146576,-95.8043,-95.91947,-94.62559,-98.27928,-91.295135,-92.88872,-94.28967,-92.93056,-92.01183,-96.91309,-96.48637,-96.678696,-95.93775,-91.792534,-98.22754,-95.22226,-92.989586,-96.78162,-92.18007,-96.020584,-93.34569,-92.42357,-93.30612,-90.96595,-90.78173,-96.45916,-95.25564,-93.00212,-95.71863,-90.32099,-90.297134,-94.42819,-93.014626,-98.62588,-93.22609,-93.24845,-99.99864,-96.91546,-100.152405,-92.13321,-93.1448,-92.724205,-97.820984,-91.22953,-92.11305,-96.574745,-91.632126,-93.66778,-93.01101,-94.06233,-93.19655,-91.46311,-92.00393,-96.84387,-92.93074,-92.76061,-92.73881,-96.19444,-90.91155,-92.668015,-86.97837,-93.624016,-92.36065,-97.266365,-88.43622,-93.67548,-94.759964,-95.50404,-95.89267,-94.48987,-93.67997,-93.364784,-91.74947,-94.93361,-93.79667,-93.88843,-91.24232,-95.53301,-95.44845,-97.59152,-90.915726,-96.54475,-92.504776,-94.81088,-95.609276,-94.60429,-92.7048,-97.38845,-95.45955,-96.50801,-95.26433,-97.76572,-96.892944,-96.89275,-97.00319,-97.92564,-91.744965,-93.09929,-91.251366,-96.45886,-89.55804,-91.04514,-93.4071,-93.16905,-89.397484,-91.05031,-93.25426,-98.36691,-91.983864,-97.48306,-95.095764,-95.759476,-96.14825,-95.69351,-97.12456,-91.898994,-91.69532,-91.70203,-93.52668,-98.741165,-92.61131,-99.45107,-95.09665,-93.59759,-93.54849,-89.57075,-99.08506,-93.338875,-92.474365,-91.80789,-96.90231,-90.6131,-91.92676,-95.336075,-97.45452,-95.87571,-96.5154,-93.5329,-94.25653,-95.907845,-91.604645,-96.35169,-94.52852,-99.179436,-92.48443,-97.92084,-94.360214,-92.49022,-93.551796,-93.879585,-90.901276,-91.66543,-91.4291,-92.59322,-93.029945,-97.96969,-90.71715,-96.71252,-96.03605,-93.58501,-93.83444,-97.68047,-92.64516,-91.55686,-90.75196,-94.77685,-93.027306,-97.47874,-91.307396,-93.890015,-95.359886,-92.31482,-102.158295,-93.71701,-91.809074,-90.62387,-91.89287,-90.37283,-92.00066,-94.1089,-93.48403,-92.71397,-91.97984,-91.68813,-98.76711,-97.258224,-101.77092,-92.806404,-91.87265,-90.797035,-93.096016,-91.218544,-90.8783,-92.00746,-96.788605,-98.99563,-94.67248,-93.12119,-95.22184,-93.001045,-97.61649,-92.8449,-94.19347,-94.31364,-100.81929,-96.279625,-92.47861,-91.81306,-94.035805,-94.184006,-91.57849,-94.92211,-97.673225,-97.85504,-91.948715,-96.23472,-97.39521,-90.39655,-89.72427,-91.857574,-92.8058,-92.11375,-92.76048,-97.997025,-97.125656,-89.93715,-93.1442,-93.49286,-97.46384,-91.29992,-98.075905,-92.64149,-93.67419,-96.50278,-91.96346,-100.42845,-96.24515,-91.700516,-92.590256,-95.32656,-92.85631,-95.61355,-98.231346,-94.0887,-93.570206,-92.24176,-92.732796,-92.5751,-90.68901,-94.56789,-92.102585,-96.13356,-92.30642,-90.04809,-96.584,-93.55118,-97.968056,-96.424,-92.42456,-90.0874,-98.867485,-91.627174,-94.78846,-91.21012,-92.19088,-102.51591,-90.06583,-92.27432,-92.0645,-96.6218,-95.17501,-91.87962,-90.99486,-91.6443,-95.52279,-95.42332,-92.97987,-93.32176,-93.500305,-97.671005,-96.386604,-91.75613,-93.128746,-95.86554,-92.793625,-91.79811,-97.70312,-91.96804,-94.21447,-93.25192,-93.68257,-94.99205,-94.543816,-88.093094,-93.066505,-96.414345,-93.118355,-93.590256,-91.153465,-97.48902,-96.184944,-92.04767,-90.69005,-97.49453,-93.500206,-92.33537,-90.42572,-94.164246,-95.851006,-94.4033,-91.030846,-95.45738,-92.99174,-93.177925,-92.07441,-91.20964,-97.1474,-93.14555,-96.927155,-92.78652,-97.44212,-90.67597,-90.38953,-99.3589,-97.23497,-93.65337,-95.25328,-91.45468,-100.11115,-96.55165,-92.47969,-91.49646,-92.47349,-93.55179,-95.98908,-92.32338,-101.14401,-93.80929,-96.43187,-93.925896,-94.17091,-92.814995,-96.40671,-92.63075,-93.692566,-91.990776,-94.115845,-95.14571,-94.97429,-95.35549,-92.11043,-95.537834,-92.851265,-90.80561,-90.94058,-93.5649,-92.31983,-93.577614,-91.50667,-92.0357,-94.572975,-92.3541,-95.60511,-91.302704,-93.67387,-92.41061,-96.21393,-92.99353,-91.67979,-91.30372,-94.54875,-92.21079,-98.01105,-98.97859,-90.20697,-96.57267,-97.63205,-98.27816,-93.82822,-102.03284,-93.34124,-90.082535,-97.12334,-91.8159,-92.817696,-92.334076,-93.5472,-91.82525,-90.81675,-91.88465,-95.89208,-90.31472,-94.66687,-99.11813,-91.31963,-96.27359,-91.715996,-90.32222,-98.538,-96.69059,-91.10822,-99.55763,-93.90714,-99.20238,-93.72708,-97.62111,-97.85143,-98.94253,-90.44459,-94.59997,-91.44192,-94.89615,-93.58128,-92.51953,-95.99118,-92.99694,-98.6637,-93.17576,-97.28172,-94.86262,-93.1304,-98.198364,-95.53848,-92.286995,-97.521065,-93.85264,-93.81766,-90.09633,-96.91165,-91.91474,-93.407936,-97.822655,-95.17921,-92.559906,-93.20076,-94.19768,-100.49207,-89.89597,-95.67436,-97.62374,-95.0531,-94.87348,-92.27032,-91.79354],[-162.35681,-163.6708,-159.70937,-163.42744,-162.70781,-161.40457,-164.52979,-162.08281,-163.8051,-171.00554,-158.72966,-161.70332,-162.37302,-158.58308,-163.51851,-158.1395,-163.86626,-160.04103,-162.50443,-158.7597,-160.94395,-160.48721,-157.24261,-161.33295,-160.19505,-161.36325,-160.71455,-166.62823,-164.02927,-161.91878,-162.63692,-161.06607,-158.61127,-161.06012,-163.47984,-164.73245,-161.57834,-164.86658,-158.14699,-161.30103,-162.16986,-163.18636,-162.4981,-159.97954,-161.68385,-163.19159,-161.79321,-158.28932,-167.52104,-160.51938,-163.18259,-160.8737,-160.47133,-158.82207,-163.84808,-166.86617,-163.49484,-163.36784,-158.1627,-160.56226,-161.77562,-161.25143,-162.10196,-160.67043,-160.20604,-163.68051,-165.37962,-165.77287,-162.23088,-160.97989,-164.94485,-156.38275,-152.46768,-163.421,-164.9237,-157.962,-163.0172,-158.16669,-163.51196,-158.02728,-160.05305,-164.4399,-163.78973,-159.31662,-163.70094,-159.6118,-162.0919,-165.2955,-162.61995,-161.51408,-159.72482,-160.90375,-168.35538,-163.74344,-162.38638,-160.49603,-155.3584,-162.20107,-166.61087,-162.46825,-155.91592,-164.38972,-158.88911,-163.4403,-159.47005,-161.99127,-163.9014,-159.08138,-160.873,-163.1287,-161.13219,-155.12912,-161.5308,-164.06834,-161.28557,-160.19908,-159.08994,-163.83406,-158.17693,-166.81593,-154.58453,-159.31966,-164.30846,-161.6856,-162.8395,-155.73944,-158.87936,-161.36595,-158.19313,-163.99126,-162.00565,-155.81221,-158.15567,-161.8461,-162.4394,-165.46223,-153.10687,-163.57826,-162.60031,-162.96153,-165.689,-166.31519,-161.02084,-164.20497,-160.44173,-165.1908,-160.32655,-164.36928,-161.14061,-166.77332,-166.17679,-162.99883,-161.6658,-156.62247,-160.04521,-167.1712,-160.35995,-160.02118,-155.21841,-161.36923,-158.73732,-160.58499,-159.40955,-165.14658,-156.65515,-165.70299,-162.11566,-162.40025,-159.48419,-166.76663,-165.51573,-157.55385,-158.38898,-160.79282,-160.72757,-165.00827,-160.39273,-163.8044,-160.88322,-159.06415,-162.9452,-159.62794,-165.47438,-162.7878,-162.2189,-161.90399,-165.09315,-159.30283,-160.76259,-165.62755,-163.35591,-164.88896,-162.28104,-162.53279,-161.24318,-165.0919,-162.02193,-160.09981,-165.05472,-162.91994,-157.14796,-166.00212,-160.4153,-162.52989,-160.6928,-165.9246,-157.71135,-161.77219,-160.75233,-162.88397,-161.57297,-162.00906,-157.10648,-163.92445,-162.98067,-161.55804,-161.47755,-163.8031,-158.51817,-157.17348,-161.0173,-162.62677,-161.70605,-162.50227,-159.75876,-160.62119,-159.94444,-162.69528,-170.33597,-156.59392,-151.63239,-159.84027,-162.65463,-159.39809,-159.15067,-163.66817,-153.2824,-160.14879,-164.64311,-160.71106,-162.81721,-165.0212,-171.13177,-157.33665,-162.30077,-160.04803,-160.92708,-159.07455,-158.70853,-159.1522,-165.3249,-169.10191,-164.21585,-160.85051,-161.71768,-162.5063,-160.31792,-156.94601,-164.62433,-162.06477,-167.18568,-163.29312,-165.16707,-161.10748,-163.35254,-163.44307,-163.4723,-164.17229,-164.83221,-166.15286,-162.46724,-160.06366,-166.62979,-154.88109,-159.32758,-161.38976,-161.46045,-162.93843,-160.56808,-165.44139,-162.55199,-161.83415,-161.63132,-161.80403,-168.59387,-157.45761,-164.62434,-162.01419,-158.85295,-166.05658,-163.28287,-163.83755,-163.6443,-161.40088,-162.33746,-166.35641,-160.93837,-162.49498,-169.48488,-161.95294,-164.65659,-160.62196,-158.97478,-160.19128,-159.31577,-162.13406,-157.45552,-165.3868,-161.27084,-159.32716,-162.20387,-163.67038,-165.23085,-161.25955,-162.313,-162.17993,-164.84352,-161.32556,-165.66577,-159.39012,-155.53142,-166.47382,-160.74722,-160.24918,-161.18634,-164.3113,-160.27269,-163.06804,-159.81111,-158.63158,-165.2423,-161.66975,-164.30283,-161.6046,-158.8167,-166.58067,-163.93732,-157.44281,-161.6714,-163.06477,-162.39685,-159.88248,-160.7869,-158.36804,-165.90372,-160.72548,-163.2911,-157.24992,-163.35277,-160.5033,-162.09897,-165.62735,-162.30017,-160.92175,-160.9477,-165.61836,-165.35452,-162.08551,-162.16684,-167.78867,-156.11783,-159.19028,-162.44049,-162.9751,-164.62228,-161.73718,-157.76048,-164.84479,-160.7898,-161.47076,-159.94402,-160.33606,-167.52846,-162.13118,-165.50146,-160.04234,-165.99928,-160.34154,-162.90881,-168.46393,-162.12798,-156.19376,-164.01768,-161.37334,-168.00821,-164.09706,-161.78923,-159.40825,-162.70026,-161.81145,-163.25836,-159.42982,-165.80229,-161.9344,-165.50787,-161.98433,-162.71838,-161.42528,-166.32452,-162.23244,-162.35059,-163.52036,-163.58548,-161.15303,-164.05194,-166.83632,-162.55006,-165.35449,-161.85425,-159.7563,-161.0326,-161.99263,-162.02554,-161.32727,-161.2297,-162.76259,-160.04877,-162.0487,-161.41982,-161.87752,-160.63153,-159.57387,-163.7497,-154.77322,-162.84023,-160.38445,-162.63132,-163.00243,-163.92494,-162.06203,-159.8302,-167.88284,-163.77393,-169.84769,-158.82976,-174.29074,-161.99516,-159.63101,-162.58437,-160.39725,-162.27272,-162.27411,-165.522,-154.78297,-160.60638,-162.5855,-163.18417,-159.54486,-166.49396,-178.48685,-159.47661,-161.61537,-161.07002,-161.2143,-168.16783,-161.52821,-159.46368,-164.30928,-158.2316,-165.57344,-164.53882,-169.54315,-161.69218,-168.56409,-158.15643,-161.96532,-160.52055,-163.8914,-161.96538,-162.33,-165.2116,-162.83461,-166.96698,-161.04759,-166.88722,-160.88539,-162.56183,-161.06676,-164.976,-153.06804,-162.00815,-159.39226,-161.11519,-158.75418,-168.89796,-161.12434,-163.2139,-165.37709,-162.54158,-162.36635,-161.26494,-159.43433,-167.27956,-160.10283,-162.12817,-167.66487,-162.31326,-162.38484,-161.865,-160.83766],[-152.99275,-154.3335,-149.95326,-150.89978,-153.74974,-154.25885,-153.3244,-153.82593,-153.51399,-160.38097,-147.6649,-153.27052,-150.13754,-149.16289,-153.24228,-147.35777,-153.99123,-158.57246,-152.15332,-149.47324,-149.54414,-149.55437,-153.07137,-151.2089,-151.50627,-149.95236,-154.43152,-154.82,-153.4712,-149.99527,-152.01825,-150.77798,-145.9153,-150.76791,-154.75806,-152.87083,-151.74704,-154.185,-148.50172,-149.87962,-155.57014,-153.58875,-151.8275,-148.67476,-153.91386,-155.39963,-151.5462,-148.90234,-157.08649,-150.80026,-153.59833,-153.455,-148.18648,-150.23148,-154.30025,-156.59506,-153.40646,-154.92769,-144.33862,-153.2419,-152.10571,-149.9474,-152.05545,-150.06102,-150.01476,-152.33339,-155.16232,-156.82516,-150.92827,-151.68869,-158.19926,-144.04628,-150.56487,-149.40132,-154.66637,-144.48418,-151.5573,-148.28984,-156.964,-146.94427,-149.93036,-153.59538,-150.52217,-151.28975,-156.15993,-150.2268,-150.38062,-158.68967,-152.90294,-156.6157,-149.96786,-150.29886,-158.431,-154.8427,-153.40494,-150.74814,-149.12383,-153.31714,-159.57263,-151.228,-149.30322,-154.4702,-151.2193,-153.09073,-150.84378,-151.42531,-152.70016,-147.21944,-150.11288,-155.14359,-147.58104,-151.50034,-151.59116,-152.69205,-152.9273,-148.5545,-146.86682,-154.71101,-145.45851,-155.88544,-145.64986,-151.12979,-153.45593,-150.29303,-153.86655,-144.62395,-149.20229,-150.7292,-150.06465,-151.92114,-153.22896,-141.40567,-148.12407,-152.6486,-153.70625,-152.0959,-143.04414,-153.80328,-151.90662,-151.05467,-159.35048,-155.34854,-151.49887,-154.75098,-149.64279,-151.36072,-155.16959,-152.76569,-151.88412,-156.51213,-154.62979,-153.00829,-152.73027,-151.55046,-148.55304,-155.80605,-152.58217,-146.56865,-149.28691,-152.19885,-146.86626,-151.45256,-150.24857,-153.7958,-144.29178,-157.68498,-153.27061,-153.64667,-155.5855,-155.60881,-154.82869,-149.57881,-148.80414,-149.49321,-151.88516,-153.25655,-149.96251,-157.91609,-156.65173,-150.81015,-153.4968,-150.62096,-156.25864,-153.50395,-150.58492,-150.93492,-156.68451,-150.82326,-152.26105,-155.77022,-155.23538,-152.96147,-151.65994,-152.0466,-151.24187,-154.92381,-150.63232,-154.0309,-155.77505,-152.95671,-152.95528,-155.63118,-149.4582,-150.80476,-153.60745,-155.26918,-150.3912,-153.52242,-151.09717,-153.39894,-150.95558,-153.34732,-145.71185,-153.43282,-152.95537,-153.14107,-150.4107,-156.54558,-147.3988,-145.44456,-151.19978,-153.08089,-153.08542,-155.58092,-151.80058,-151.99199,-151.92166,-150.43715,-160.78638,-146.16028,-149.5056,-147.67282,-153.55399,-150.10802,-150.40506,-154.73296,-151.7397,-149.85156,-152.21916,-150.97435,-155.72017,-155.25725,-162.05916,-148.18578,-152.44823,-150.52464,-153.60417,-148.31378,-146.24829,-148.0948,-155.64098,-158.369,-156.28893,-149.97505,-150.62961,-148.05943,-153.09015,-145.81375,-154.91418,-153.3565,-156.54236,-153.47028,-153.15553,-152.93518,-153.9475,-153.20073,-151.99194,-155.03618,-154.17883,-154.3631,-150.71095,-149.80429,-154.53348,-144.42883,-149.38177,-149.48083,-153.58109,-152.63408,-151.97237,-154.99266,-153.85965,-151.6319,-149.90106,-151.84428,-158.16272,-145.7361,-153.76968,-151.20198,-150.70818,-151.87685,-152.80284,-154.31738,-151.98853,-149.06291,-152.68396,-156.50743,-151.4758,-151.88086,-159.74171,-151.8168,-155.99358,-153.0283,-147.90121,-148.07317,-148.64719,-154.15862,-145.73808,-155.9623,-150.8405,-149.12093,-152.89015,-151.69872,-158.0892,-152.05223,-150.32776,-150.8142,-155.31888,-151.19957,-156.56627,-146.062,-151.28949,-156.49173,-149.85,-148.49466,-149.59254,-155.72206,-150.18063,-151.69524,-148.43263,-148.09798,-154.03323,-149.867,-153.49524,-152.19138,-149.71143,-154.38885,-153.09442,-149.72287,-151.43102,-152.85791,-151.52928,-151.01717,-154.75067,-144.15692,-155.47945,-150.0796,-154.64857,-144.41219,-155.32947,-146.45448,-154.4008,-156.50398,-149.81764,-151.60066,-152.54681,-155.85384,-155.06984,-152.00244,-152.31403,-155.60262,-144.12685,-151.89664,-149.3353,-152.36774,-152.14227,-152.39374,-149.17714,-154.58867,-149.11757,-154.06215,-151.2138,-150.17175,-157.48851,-154.40456,-157.66956,-150.23572,-154.06859,-150.69783,-151.4556,-159.17911,-152.48506,-142.74777,-154.70824,-149.38559,-159.93517,-152.63371,-152.12375,-147.72589,-150.29613,-150.78816,-152.7102,-149.15149,-155.17805,-150.82523,-155.32536,-153.6336,-152.05653,-151.20134,-156.40431,-153.94241,-153.69058,-151.15083,-154.0676,-148.34534,-155.16505,-158.96904,-150.23703,-154.19603,-151.95964,-148.55101,-150.69093,-152.61644,-151.37712,-149.95255,-152.31413,-153.0308,-147.84845,-150.68764,-151.3739,-153.01997,-150.9853,-150.05331,-156.44142,-143.75948,-153.24231,-150.64491,-152.96313,-152.85439,-153.82022,-156.91011,-148.5772,-155.99187,-151.5357,-160.10945,-149.38689,-163.33333,-153.29419,-149.03568,-152.34668,-149.65634,-152.85713,-150.3978,-155.89592,-143.61482,-150.37486,-152.46327,-153.70572,-152.72539,-152.82074,-167.36821,-150.15085,-150.27313,-150.46512,-149.9549,-157.07292,-149.87584,-148.87337,-156.93721,-144.42874,-154.29475,-154.5778,-157.02573,-156.29375,-157.85487,-146.04993,-153.04648,-150.89325,-154.81984,-151.73312,-151.29608,-155.09416,-153.43959,-158.42738,-150.76303,-157.29407,-151.75449,-152.75531,-153.57085,-157.67142,-147.83199,-151.1076,-150.27278,-153.76578,-150.11774,-156.65985,-153.55328,-153.27887,-157.75894,-152.46529,-149.42021,-151.92148,-149.80884,-157.9033,-148.59238,-152.33275,-159.61859,-152.81969,-153.51709,-154.5497,-150.40602],[-107.9222,-111.225395,-105.37651,-110.45877,-109.46789,-108.707275,-113.034386,-109.59686,-111.457726,-113.819695,-109.06525,-108.47097,-105.597305,-104.74131,-108.181335,-109.54397,-112.60253,-111.64363,-110.981575,-107.52858,-106.78226,-101.80983,-112.421196,-105.89973,-109.54678,-108.62342,-108.64117,-110.97637,-112.2254,-106.3329,-109.45817,-111.72275,-104.94418,-108.155846,-111.10262,-110.19683,-106.88666,-113.014824,-103.79343,-109.0332,-111.52584,-109.78681,-104.337975,-108.69921,-109.8479,-112.35739,-104.07173,-103.86784,-111.46341,-108.139015,-105.89412,-111.12067,-104.23706,-103.915184,-109.12954,-112.56296,-113.43877,-110.29669,-109.12316,-112.07426,-108.311165,-106.99326,-107.53276,-104.36966,-107.69129,-109.773315,-109.97465,-114.57022,-110.62765,-106.592445,-111.345604,-109.14768,-110.543335,-111.552895,-105.83352,-108.347275,-111.37376,-106.47504,-109.77648,-103.55679,-104.02279,-110.94078,-109.07366,-108.150276,-110.82717,-107.303505,-102.934364,-109.61136,-109.541245,-110.356766,-106.38331,-108.69458,-114.327805,-110.88544,-113.47309,-104.0247,-107.15852,-110.49441,-114.936,-105.88688,-108.46288,-110.45667,-108.5094,-109.6669,-107.87042,-108.42021,-108.0585,-106.15223,-106.5404,-114.036285,-106.99004,-110.35255,-107.90726,-108.72793,-107.97603,-105.23388,-101.285164,-111.487526,-107.21328,-110.538025,-109.02744,-109.69224,-109.19914,-108.85459,-110.55289,-110.315544,-108.20918,-106.431526,-108.36001,-109.464424,-109.087105,-105.45384,-106.25612,-107.626785,-109.63032,-112.03977,-107.316666,-109.31933,-106.51088,-109.02025,-111.178566,-112.4135,-109.202225,-110.015114,-107.83916,-111.32616,-111.1782,-115.28731,-109.79695,-113.18334,-111.49832,-109.7489,-106.93804,-107.83027,-105.44837,-109.360794,-108.479996,-104.6119,-110.99794,-107.296745,-103.10214,-108.68966,-105.8832,-111.23511,-106.61694,-112.57708,-113.75298,-107.65393,-111.28766,-111.231155,-110.724724,-111.17566,-106.446075,-104.58734,-109.86707,-114.00831,-106.824356,-111.731636,-108.29643,-108.10896,-109.60299,-106.65227,-114.628265,-108.673775,-106.686226,-106.58191,-114.24428,-106.67953,-106.48406,-112.12301,-112.1711,-110.04826,-110.55321,-107.49979,-109.75991,-112.40827,-105.48406,-112.95083,-114.166115,-113.892334,-109.99709,-111.26441,-110.842255,-104.963234,-109.95204,-109.217476,-108.21341,-106.25631,-108.98285,-110.40328,-104.663994,-111.83501,-104.34557,-112.78616,-111.33696,-107.32968,-106.68904,-113.83602,-107.25829,-105.38712,-106.186,-109.789665,-109.225044,-111.26501,-107.77538,-108.0244,-110.370964,-107.81946,-116.44125,-106.61156,-107.80394,-103.53577,-106.64812,-104.42518,-106.037544,-111.379234,-108.32962,-107.74858,-107.08621,-103.75162,-110.88497,-111.63366,-116.923584,-106.70364,-105.09724,-106.497765,-108.433075,-107.87708,-104.75418,-107.951096,-112.45422,-113.23339,-111.76132,-106.21484,-109.963936,-108.22025,-111.877014,-106.498024,-110.83113,-108.75336,-112.21564,-110.57671,-107.307686,-107.16857,-108.2183,-109.31884,-104.36611,-109.37517,-111.17998,-111.78622,-107.834946,-108.665405,-113.43914,-107.75863,-106.99687,-107.49927,-108.37805,-107.73231,-107.65549,-112.3632,-111.1277,-106.48571,-108.074265,-104.03276,-115.35902,-105.7432,-111.15269,-107.90919,-107.5602,-108.131676,-107.63615,-113.82899,-112.938736,-106.21616,-106.49951,-109.92343,-107.37289,-111.655556,-114.249954,-111.029144,-108.080124,-108.697876,-107.743515,-109.5147,-103.38533,-109.87738,-105.35132,-111.06602,-105.701126,-104.823326,-111.6182,-110.54509,-114.2252,-109.43062,-104.98178,-107.26439,-113.629196,-106.6422,-109.817505,-106.99497,-109.65009,-115.346504,-105.18911,-105.3628,-106.25942,-112.44644,-109.25412,-106.73623,-106.6899,-105.30469,-112.09239,-107.845566,-107.96761,-108.314644,-108.01765,-113.97727,-108.22585,-108.96895,-107.54962,-111.4579,-108.42365,-109.79756,-112.509766,-104.64005,-107.10106,-104.26258,-112.62281,-110.69468,-111.03618,-101.963036,-107.89319,-113.338104,-107.00062,-106.34542,-105.278404,-113.59929,-110.96139,-106.69618,-107.26409,-109.660614,-106.14722,-110.415955,-105.54557,-108.98645,-113.75358,-107.950836,-107.56013,-110.28824,-105.93823,-106.10468,-109.004105,-105.49396,-114.719154,-109.55603,-108.9062,-107.48071,-113.58451,-105.79252,-108.37864,-113.946205,-112.21454,-108.3736,-109.73734,-103.53051,-113.47777,-109.927,-109.49406,-106.49756,-108.57288,-108.72113,-110.73883,-107.54938,-117.2657,-106.88936,-111.97207,-106.45474,-107.52115,-107.53038,-113.976166,-108.2243,-107.421974,-106.7714,-108.71933,-109.31574,-112.12114,-112.77611,-107.62231,-110.11425,-107.25218,-107.18562,-106.27254,-108.42054,-107.45779,-108.05581,-108.25618,-108.77049,-108.71867,-106.17605,-108.79666,-107.16065,-107.38491,-108.751686,-114.23455,-107.89704,-107.8313,-105.50015,-110.91331,-108.430374,-110.5796,-113.47149,-105.50228,-111.706085,-110.17649,-111.682304,-108.84807,-115.90493,-105.68092,-105.74196,-110.89706,-103.85771,-105.79447,-106.73929,-111.145775,-105.79878,-102.99823,-106.33412,-110.35762,-104.4163,-110.06544,-113.79302,-106.55284,-114.028984,-105.143036,-105.66453,-112.543106,-109.40665,-106.040565,-111.84982,-105.197784,-113.451645,-107.55558,-113.23687,-112.13735,-114.30859,-106.12726,-109.98751,-107.57072,-111.97485,-109.5475,-103.22362,-110.632454,-111.25433,-114.418884,-105.82342,-114.18594,-108.69904,-108.440506,-112.58306,-111.658325,-106.62655,-110.62564,-107.274345,-110.81179,-103.41247,-110.29382,-106.2528,-108.284744,-112.4339,-109.656296,-108.52382,-108.94863,-111.6695,-114.199066,-104.36445,-111.15909,-110.54693,-108.97041,-109.67298,-105.53189,-108.10944],[-117.18503,-118.76411,-111.00593,-116.50443,-114.171234,-116.85547,-119.907486,-114.05332,-111.07834,-117.22844,-113.84462,-114.26674,-113.74002,-108.61062,-114.93003,-112.68387,-115.43474,-117.62372,-117.637474,-111.85768,-114.42271,-111.52346,-115.22682,-113.411,-114.83709,-114.80065,-112.54926,-111.26001,-119.24713,-106.54852,-117.13295,-116.826836,-111.064255,-111.646385,-116.4004,-113.42143,-111.50671,-115.59357,-110.52891,-113.18423,-116.95066,-114.17552,-111.39892,-112.07423,-108.98219,-117.39281,-112.21406,-108.92829,-116.471405,-113.69651,-111.373116,-117.01079,-109.441086,-111.34407,-113.06312,-116.88546,-118.27059,-118.9037,-114.43888,-116.403465,-112.203384,-111.7252,-110.05263,-113.357574,-111.192276,-116.62995,-113.20791,-118.952835,-114.63361,-109.82317,-116.25674,-114.30122,-112.75037,-119.7057,-108.046265,-113.5119,-112.95741,-109.40339,-117.14446,-108.67507,-109.23832,-114.54775,-116.21461,-111.43931,-115.641594,-112.555664,-108.9895,-114.22982,-114.42036,-114.32807,-109.93688,-114.46853,-119.565704,-114.78219,-118.74365,-112.36004,-111.68594,-115.72428,-120.02936,-112.71395,-112.078224,-112.3413,-110.78841,-116.47246,-112.27903,-108.612175,-111.118454,-111.20155,-110.03001,-116.51596,-109.67933,-110.54648,-110.23785,-113.584335,-112.00353,-109.504524,-105.93363,-113.75547,-111.32928,-114.727104,-112.98587,-109.04709,-114.23756,-114.032814,-114.51507,-113.51869,-112.662544,-108.41436,-111.800186,-113.56455,-113.11426,-110.400665,-111.760796,-111.93993,-113.83598,-115.98981,-111.91922,-112.26442,-112.605835,-116.09323,-116.420586,-115.718475,-111.18515,-116.641464,-115.17902,-116.160934,-116.733315,-117.16271,-117.25804,-116.677025,-115.803474,-115.41351,-114.50481,-112.52668,-112.00314,-117.616486,-116.43805,-110.93998,-114.12359,-112.36892,-109.26708,-110.8743,-110.20599,-116.12406,-112.10953,-115.72644,-116.69737,-115.11608,-116.862206,-116.50374,-112.6774,-114.069565,-112.126976,-108.35568,-118.98219,-118.45632,-110.75504,-115.12142,-114.643326,-111.066246,-117.06084,-115.14982,-118.87956,-109.275925,-114.25433,-109.636375,-119.42461,-112.796104,-113.08069,-118.142395,-112.887825,-114.590126,-115.43895,-109.66081,-109.40299,-118.97422,-112.51525,-114.471985,-116.5635,-117.888565,-114.84219,-113.80189,-115.233795,-107.258385,-115.430885,-114.54836,-108.84625,-101.7183,-113.61456,-115.017296,-113.74155,-118.51215,-111.58813,-116.98321,-115.25813,-111.85786,-113.26644,-118.02596,-113.7884,-109.38793,-114.37272,-112.91949,-109.935776,-114.537834,-109.198235,-112.123695,-114.60516,-115.94936,-118.416985,-109.70605,-111.52649,-108.84635,-113.58896,-111.85228,-113.21743,-115.81611,-111.6926,-110.91183,-112.36337,-108.75736,-113.83091,-112.36192,-119.764656,-110.59737,-108.47365,-109.09167,-115.900154,-112.655556,-110.34258,-112.65061,-113.402916,-115.520424,-113.276276,-111.66787,-113.86843,-116.10562,-114.55592,-114.179016,-114.52789,-111.48956,-115.23383,-119.62789,-112.05857,-114.93231,-113.79129,-111.96151,-110.33886,-116.715706,-118.50872,-114.83845,-117.13569,-114.42341,-116.06081,-111.18638,-110.02469,-115.595406,-113.47412,-115.04131,-115.892876,-118.359856,-117.00404,-114.16174,-110.08283,-108.56238,-116.358345,-111.75747,-117.80786,-111.493996,-108.59887,-109.82072,-106.83726,-118.55655,-116.42346,-108.99806,-115.08519,-111.961235,-112.98004,-114.56489,-114.4013,-114.49473,-115.65081,-113.99575,-113.975105,-111.060104,-106.88232,-117.34666,-110.583534,-114.23195,-108.602974,-108.10706,-116.44651,-114.53628,-114.182526,-117.652054,-108.77709,-114.16119,-115.71255,-108.72205,-116.34933,-110.31148,-109.31618,-116.35913,-112.58028,-111.954704,-110.57126,-118.51062,-116.322136,-112.4548,-112.98149,-110.75879,-117.00241,-114.84185,-114.14156,-113.330536,-112.1123,-117.42155,-111.05349,-116.39554,-108.210915,-116.667404,-113.90254,-113.837875,-113.74431,-108.95092,-110.715,-112.49768,-116.43249,-112.2773,-117.62782,-109.4668,-112.54626,-117.14546,-108.93504,-110.76604,-114.981094,-118.732956,-110.69271,-107.87155,-112.4702,-115.97955,-110.11171,-113.74045,-111.78852,-115.41114,-114.55221,-112.88989,-112.34668,-114.17893,-112.031235,-106.45676,-111.17842,-112.65088,-116.57393,-110.58424,-117.75066,-112.08416,-115.53745,-112.59468,-112.62748,-115.0167,-118.385086,-112.58312,-114.88012,-111.47501,-116.50217,-115.98886,-113.28461,-111.76173,-114.7563,-115.88622,-116.28838,-112.94354,-121.3514,-108.783936,-113.67583,-114.86014,-111.58904,-114.377365,-116.77185,-116.25671,-110.837456,-111.91583,-112.34159,-114.69518,-114.677536,-116.32038,-111.09623,-114.1335,-114.1782,-114.26734,-109.9344,-114.15885,-113.59452,-115.651054,-112.63801,-113.59526,-112.342476,-111.22178,-113.65429,-111.17944,-110.42299,-110.66383,-115.690414,-113.194534,-109.48128,-113.413345,-111.39995,-113.65039,-114.47298,-113.81715,-110.92272,-115.93974,-115.58516,-116.432365,-112.72811,-118.95442,-106.41343,-114.52558,-114.22367,-112.41794,-115.755424,-112.915115,-115.168076,-109.857506,-110.53829,-114.16962,-117.595146,-112.9589,-115.7718,-119.63582,-111.72368,-119.00305,-109.48528,-109.46133,-115.433136,-115.252426,-109.53997,-115.54473,-112.17641,-116.74856,-109.61076,-116.24278,-115.97747,-121.26462,-108.93152,-114.234886,-111.27195,-115.89886,-113.480965,-113.01918,-113.04664,-113.62345,-118.64157,-114.52083,-116.38646,-112.14441,-113.55984,-115.281006,-115.49514,-110.64338,-115.03817,-108.628685,-111.96263,-110.2399,-118.53486,-110.69833,-112.916016,-115.863716,-114.61938,-112.61735,-117.83981,-116.625725,-114.51528,-108.634766,-116.61035,-113.58045,-113.76363,-112.630226,-114.50507,-110.65357],[-112.55413,-113.918175,-107.11189,-110.555084,-110.79618,-111.193634,-116.909134,-111.92617,-110.07783,-116.297424,-110.84992,-111.28708,-106.75947,-104.27188,-109.84091,-109.60433,-111.55087,-116.51902,-113.27066,-107.23442,-111.09682,-105.55378,-109.89505,-110.17607,-112.37653,-110.85981,-111.23856,-108.72066,-113.57913,-104.2788,-112.4294,-115.17977,-103.27068,-109.101616,-115.06965,-111.3453,-108.86721,-111.66441,-105.78889,-110.824776,-113.611435,-109.11058,-107.26799,-110.563354,-110.21265,-114.32415,-107.17141,-105.23829,-112.096,-110.364716,-108.67036,-113.18022,-105.904686,-106.11191,-108.403595,-114.49575,-113.12271,-114.41403,-109.99818,-114.26547,-109.53852,-107.97491,-107.63165,-107.82264,-106.86767,-112.54922,-110.92988,-115.161125,-112.401665,-104.34114,-114.618744,-111.32499,-109.40576,-113.56546,-105.17805,-109.71962,-110.4185,-105.724045,-112.53378,-105.40209,-105.053566,-110.859436,-106.7405,-111.09247,-113.09851,-107.5549,-103.58046,-112.72912,-110.49529,-111.18432,-108.36884,-109.987885,-118.50754,-112.47557,-116.381966,-106.37855,-108.220985,-109.981636,-113.32363,-108.22131,-107.06308,-109.39803,-106.639305,-114.11567,-107.62867,-106.446915,-106.91204,-105.57662,-108.39509,-114.49177,-106.51481,-108.82395,-106.21699,-109.33908,-108.39888,-104.78218,-100.11145,-112.37733,-107.3223,-112.40024,-106.3305,-108.41036,-112.45781,-110.29209,-112.4418,-110.470474,-108.977646,-105.40467,-108.83039,-112.38931,-112.24166,-106.513725,-109.6442,-111.986176,-111.55707,-111.44155,-106.64662,-109.8103,-110.55886,-112.883255,-114.165054,-113.97221,-110.4754,-113.597466,-109.63278,-111.51379,-111.46661,-114.514206,-112.03684,-112.6783,-111.741615,-113.88185,-111.27086,-107.24526,-105.080956,-111.608505,-109.94185,-104.57189,-109.76279,-109.73002,-101.66196,-109.09628,-109.14771,-111.75247,-108.53441,-115.2582,-113.01302,-112.75089,-113.09651,-112.53262,-111.738525,-111.27884,-108.79589,-104.06866,-115.37745,-115.42567,-109.805145,-115.55662,-109.87289,-108.30452,-113.48579,-111.15995,-115.774086,-107.095406,-111.99526,-104.22147,-115.76465,-109.16908,-110.62296,-114.454895,-111.81941,-110.88388,-112.029015,-107.38719,-108.496254,-112.703636,-108.31803,-112.22636,-113.02885,-113.98454,-109.4487,-109.382126,-112.93432,-104.36234,-110.44455,-111.18245,-106.43843,-102.26282,-111.09686,-112.10711,-107.87778,-113.75413,-107.92323,-116.489815,-111.339455,-108.05145,-111.38944,-116.35741,-108.586006,-104.102135,-110.69582,-110.96191,-109.93482,-111.44636,-109.03747,-109.689835,-111.23415,-111.65686,-114.81728,-105.25937,-108.32854,-103.926094,-110.555176,-106.752686,-108.710945,-111.95969,-108.97452,-106.92741,-108.75893,-104.9759,-109.722145,-109.60443,-117.75277,-107.59438,-103.4965,-106.62977,-110.37988,-107.671104,-105.873924,-108.27469,-112.51377,-113.45614,-111.38267,-107.41132,-110.43125,-110.81191,-113.60382,-110.352036,-111.04369,-109.21485,-112.7882,-113.45018,-108.60136,-112.64348,-112.37189,-108.554405,-105.604004,-111.92214,-112.423195,-113.89055,-112.13892,-111.740265,-113.91895,-107.433136,-106.18583,-111.52037,-109.443016,-110.28555,-110.864845,-113.52839,-114.503525,-110.083374,-108.26746,-104.27748,-113.47781,-107.2459,-112.95684,-109.617325,-107.924995,-109.3109,-105.737946,-116.2979,-114.192474,-106.99963,-110.774666,-110.491356,-109.159706,-113.35016,-110.94974,-109.26783,-110.860146,-111.640816,-108.22788,-110.20374,-104.277016,-113.9711,-105.400925,-115.01805,-106.43326,-105.247375,-112.9575,-112.3669,-111.29493,-113.15143,-103.915085,-107.84193,-114.04255,-108.33415,-112.17987,-105.77112,-107.62375,-115.37645,-109.21939,-106.639305,-108.04378,-116.40092,-112.74409,-110.43086,-108.65149,-106.39534,-114.70818,-109.164276,-109.98776,-109.9895,-109.24878,-115.64921,-111.14286,-108.6597,-108.96134,-112.16671,-108.073784,-108.729385,-111.369804,-104.4421,-108.36939,-108.1125,-115.15307,-111.38145,-111.514915,-104.594154,-110.58346,-113.30161,-107.25326,-106.50845,-109.64205,-115.74463,-109.80683,-106.06581,-108.874016,-112.3354,-108.01788,-110.78833,-107.16904,-114.27635,-112.194855,-108.67454,-106.577126,-111.61441,-107.314415,-103.864,-107.357735,-109.07244,-114.17392,-109.17788,-111.55111,-109.50509,-113.38089,-108.37797,-109.81142,-111.04087,-113.643684,-108.370575,-112.32741,-106.91667,-115.212234,-112.199524,-111.33156,-107.94457,-112.784935,-112.88235,-112.63832,-109.79965,-119.18314,-107.07993,-113.39822,-110.80922,-108.45513,-108.321106,-113.78419,-112.435265,-107.96011,-109.34892,-109.366585,-110.39959,-113.59019,-112.950264,-109.22722,-111.76467,-110.66433,-108.26485,-106.05421,-111.5585,-108.384476,-111.50843,-108.31096,-111.740944,-108.858795,-105.93774,-111.27787,-108.00081,-107.25718,-107.43725,-114.055214,-107.38588,-107.94421,-110.45521,-109.393364,-110.28974,-113.003654,-116.13908,-107.16951,-114.43049,-113.11693,-114.21315,-107.518,-119.16921,-104.803764,-110.27917,-111.30152,-106.236176,-111.79643,-108.59538,-110.69295,-105.81437,-104.570755,-108.483284,-113.10439,-109.16653,-113.70847,-115.96007,-106.64528,-116.90845,-105.15973,-108.951744,-113.228775,-111.097336,-109.236916,-113.15969,-108.14914,-114.94601,-106.237015,-113.02852,-111.67414,-115.17074,-105.75132,-112.47468,-107.78508,-113.74668,-109.48544,-106.69015,-111.171104,-109.324844,-113.21478,-108.2121,-113.127205,-108.555145,-109.95513,-110.139694,-113.86016,-106.59465,-113.65332,-107.01603,-107.79821,-106.871704,-114.45455,-106.92077,-111.34887,-114.289566,-110.25422,-109.73964,-112.63335,-112.16677,-114.24829,-106.04341,-110.71592,-113.074486,-110.23047,-110.497856,-109.69183,-107.18192],[-126.60204,-126.75863,-121.59044,-125.29456,-124.94182,-125.48274,-127.953835,-125.98383,-122.75107,-128.99765,-123.24494,-125.698845,-123.071724,-121.35235,-124.40916,-123.18237,-123.50339,-127.54262,-126.482735,-121.48494,-124.21057,-120.7577,-123.44701,-125.13318,-123.51755,-122.160904,-126.07181,-122.61399,-128.52281,-118.95594,-124.95297,-126.88566,-121.34136,-122.95744,-127.24322,-125.533966,-123.41259,-127.330124,-120.32701,-123.932846,-124.84249,-122.09834,-123.06512,-124.26941,-123.042854,-127.18678,-122.31902,-118.25338,-123.60251,-122.89715,-122.27141,-123.95995,-121.93454,-117.09974,-123.614265,-127.47268,-123.49822,-126.919014,-123.20995,-126.328514,-124.57445,-121.78026,-123.604706,-121.52245,-121.29747,-126.55919,-124.131966,-126.27273,-125.39858,-117.86201,-124.2162,-124.572365,-123.03189,-126.095695,-122.4838,-122.2135,-124.34367,-120.59502,-126.86475,-120.432144,-120.59228,-124.821465,-122.30085,-122.88181,-126.619934,-119.460495,-121.49098,-125.413124,-122.04045,-123.94936,-120.0631,-121.78623,-129.69995,-124.02328,-126.51283,-121.5232,-122.39915,-123.007706,-124.78525,-121.867294,-120.483376,-123.52295,-121.04902,-126.95497,-122.00919,-120.779854,-120.93546,-119.00971,-121.217094,-128.43832,-122.20321,-121.68961,-120.76291,-124.02236,-122.587555,-120.34812,-117.29997,-124.81997,-118.98435,-124.5379,-119.60912,-121.109245,-126.28179,-125.25328,-124.692184,-123.04774,-123.06792,-121.57005,-123.83964,-125.95876,-124.705475,-120.79058,-123.03053,-122.16402,-123.914925,-125.76841,-119.01305,-124.45957,-122.54913,-127.1221,-126.160324,-127.50392,-124.18318,-125.398315,-123.46557,-126.55441,-123.18516,-126.44335,-126.25833,-127.98065,-125.16895,-125.47085,-125.953156,-122.197495,-122.27134,-125.24103,-126.27549,-120.45964,-123.00501,-124.664276,-115.01734,-122.62315,-122.31692,-126.02714,-122.78468,-125.66729,-125.52524,-126.81128,-126.1536,-125.67336,-125.294266,-124.62451,-122.24658,-120.90572,-126.25617,-124.76044,-123.05253,-123.96065,-125.228035,-122.80346,-126.910255,-122.6393,-128.03008,-121.66177,-125.49827,-120.180084,-127.838264,-121.88145,-124.66388,-127.13558,-125.122955,-123.50935,-125.32479,-122.71805,-122.06475,-126.51417,-124.42838,-126.17209,-126.371475,-126.73421,-122.30006,-126.56976,-125.457756,-120.515526,-125.229065,-123.32209,-122.20406,-119.419075,-123.90812,-125.83403,-122.44621,-125.66591,-122.77213,-128.48872,-123.86588,-120.76875,-124.793015,-127.204704,-122.983444,-121.18297,-125.53913,-124.62557,-124.25591,-123.87958,-121.96409,-122.39101,-124.35099,-124.89391,-129.1078,-120.6659,-121.358696,-119.834564,-123.87375,-123.16047,-119.23269,-122.051506,-122.475525,-122.3163,-123.69674,-122.91181,-122.60398,-121.628914,-129.78838,-122.56937,-119.61975,-120.88587,-126.11247,-123.0889,-121.051285,-121.2351,-127.443405,-125.487114,-124.65044,-120.36505,-124.00655,-125.28743,-124.74407,-122.84438,-125.11803,-123.85434,-125.62745,-124.32392,-124.67628,-125.51184,-125.85377,-123.13043,-120.52881,-124.83882,-128.71982,-125.02581,-125.36657,-125.545525,-126.85892,-121.77684,-120.37481,-126.20208,-124.21862,-125.69705,-124.30652,-125.77942,-126.70531,-122.22969,-124.055534,-118.02309,-130.09924,-122.3132,-126.804695,-123.72234,-120.265854,-123.070404,-121.301636,-124.79084,-127.36053,-122.68388,-126.76085,-126.17876,-122.728455,-125.39167,-125.178604,-122.31269,-129.44553,-122.8902,-121.30296,-122.26836,-121.70519,-123.31256,-121.038666,-127.420494,-120.27423,-119.43404,-124.92548,-124.01574,-125.553505,-127.33894,-118.600815,-122.25804,-126.40291,-122.382744,-124.61333,-117.66687,-121.602974,-128.25038,-124.07926,-122.6316,-123.53912,-127.29308,-125.580894,-124.59675,-123.192825,-119.865234,-127.982185,-123.175896,-123.20351,-122.224884,-122.74896,-124.84552,-124.03594,-123.2154,-123.59271,-124.04344,-121.2759,-120.096344,-123.447105,-120.515114,-121.52154,-121.89792,-126.67581,-123.88031,-126.15432,-121.832,-123.314156,-126.99779,-123.78381,-122.28595,-121.76921,-127.347115,-125.09867,-121.69183,-123.535934,-124.62482,-120.676994,-122.7026,-123.0116,-126.37982,-124.992546,-123.24199,-120.80196,-126.689865,-121.84525,-118.390915,-122.4232,-123.43899,-128.69612,-121.98789,-125.17884,-124.77258,-124.520355,-122.655525,-122.1437,-125.72951,-126.40098,-122.46654,-124.658676,-117.73838,-129.48946,-124.36254,-123.82871,-122.22873,-128.05127,-125.43052,-128.10507,-123.80263,-131.30817,-121.15546,-125.65652,-124.73683,-124.58398,-124.20495,-127.96231,-125.0307,-122.74627,-126.256874,-123.89854,-123.40071,-126.723206,-128.21194,-123.95757,-121.438156,-123.92865,-123.33494,-120.73339,-124.03845,-123.32621,-124.7309,-120.704155,-123.906944,-123.19349,-123.04784,-122.573425,-122.08673,-121.00333,-119.66517,-127.38838,-120.881775,-122.04549,-122.640114,-124.75221,-124.94309,-126.816444,-126.042435,-120.977875,-126.304436,-124.64707,-125.739815,-122.78536,-131.93338,-118.96978,-122.43749,-124.5708,-121.34924,-124.21776,-122.695404,-125.71923,-120.33372,-121.26583,-125.54976,-125.951584,-122.110374,-127.06868,-129.86356,-121.47309,-128.4057,-123.04887,-123.21382,-125.531685,-124.438934,-121.37208,-124.21741,-124.7659,-127.543076,-119.12278,-127.04394,-122.292625,-126.72418,-117.90627,-124.349754,-122.25798,-125.53789,-124.082016,-120.65606,-123.27538,-124.337685,-126.02556,-121.90075,-126.07511,-123.27885,-124.224106,-125.33384,-126.12452,-121.12914,-125.87537,-119.93355,-121.538,-122.0637,-127.0163,-122.19801,-123.828445,-127.411415,-124.662315,-122.71606,-127.1894,-121.60548,-127.98138,-121.0084,-124.29971,-126.956696,-121.42262,-125.30561,-124.7801,-122.27495],[-148.02396,-149.68001,-142.61285,-146.99422,-148.85439,-148.33337,-149.76389,-149.67128,-146.95007,-152.53748,-142.6267,-146.95544,-144.28188,-142.26994,-146.40054,-142.8301,-148.60023,-149.69292,-147.6426,-143.79153,-146.18362,-144.70757,-146.1242,-145.96548,-145.95045,-144.8974,-148.09122,-146.15657,-146.541,-140.68596,-148.77858,-147.55151,-142.654,-145.31984,-148.56071,-150.34634,-144.8207,-150.225,-141.3909,-148.90051,-148.97488,-146.02997,-143.38406,-144.96054,-145.46056,-149.76149,-142.674,-142.8063,-149.52237,-145.95282,-145.66856,-148.93878,-143.17128,-142.03847,-143.33371,-151.1981,-145.93011,-148.12851,-139.9512,-150.22885,-145.36707,-142.26245,-143.2124,-144.91391,-143.26472,-146.43489,-147.58528,-152.29277,-149.96179,-141.94788,-151.56464,-140.65346,-144.15517,-147.40271,-142.3869,-140.75836,-144.09561,-143.4019,-150.10765,-142.5257,-141.74094,-147.44164,-144.48006,-145.88084,-149.4639,-142.98708,-140.14235,-151.20422,-146.64775,-151.05602,-145.97806,-144.06105,-151.01192,-149.97249,-151.86316,-143.79082,-143.20067,-146.58788,-153.44456,-144.61526,-143.85127,-144.80821,-142.50679,-147.50526,-142.44926,-143.41322,-142.34741,-141.9541,-142.9487,-149.96637,-143.53705,-143.41338,-144.56165,-147.58609,-144.69821,-142.01598,-136.886,-148.95102,-140.611,-148.90134,-139.10828,-143.90237,-146.44243,-145.60933,-148.55649,-140.94785,-142.23047,-143.0001,-143.82338,-144.65913,-146.88167,-136.70702,-143.91928,-145.15086,-146.53844,-145.9983,-139.55063,-149.20064,-145.84561,-148.95294,-149.29195,-148.96135,-145.02179,-150.54503,-145.21405,-149.89874,-149.44136,-150.1645,-147.38985,-152.64752,-149.69487,-150.40828,-145.78925,-145.2285,-143.63206,-148.91426,-146.58504,-143.33524,-142.71687,-144.62125,-142.4562,-144.71855,-143.57367,-150.27072,-142.90019,-151.0395,-150.64117,-148.77295,-149.83571,-150.09796,-149.61832,-144.30354,-141.98154,-143.31386,-146.20454,-149.19983,-143.38849,-150.55705,-151.17256,-143.69545,-148.3562,-145.39418,-149.94284,-142.76364,-146.50658,-141.5043,-150.58759,-145.12288,-144.19287,-150.11992,-151.15694,-150.3194,-149.8972,-145.40604,-145.19376,-146.93765,-146.23654,-149.66957,-148.89685,-146.59125,-143.7401,-147.77827,-146.3766,-142.76067,-145.1591,-147.34367,-142.08037,-139.08667,-145.64519,-146.96127,-145.62996,-149.85672,-144.53598,-150.25877,-150.15259,-144.70972,-146.73434,-152.08627,-144.28802,-140.46477,-145.37479,-146.23471,-144.83124,-149.28438,-143.7081,-144.53539,-146.80495,-144.82254,-153.14821,-140.32272,-143.5643,-142.72394,-146.40627,-143.13814,-144.74605,-148.96043,-144.6372,-143.1324,-147.25137,-144.68471,-149.31308,-149.44008,-156.73297,-143.92065,-140.68225,-143.40106,-146.43706,-142.4549,-141.13661,-143.40733,-151.31474,-149.88655,-146.09013,-141.86362,-145.66968,-144.64359,-150.69696,-142.3679,-148.5015,-145.26149,-150.01936,-147.63625,-146.43373,-147.96739,-147.25389,-145.19536,-144.95697,-148.72237,-148.86406,-151.09023,-147.4388,-148.84819,-148.97388,-142.58153,-143.00546,-144.6057,-145.38695,-147.45235,-147.43419,-149.4046,-150.47162,-145.05748,-143.84233,-142.33647,-151.9105,-139.93684,-150.83067,-143.60571,-143.00359,-146.86829,-142.78036,-151.3372,-151.3179,-143.05264,-146.23993,-146.4149,-144.68587,-145.87779,-152.68744,-149.03896,-148.55423,-147.88141,-145.03372,-142.99075,-142.05269,-148.36043,-141.1642,-150.07141,-141.23862,-142.94687,-149.86482,-148.08241,-150.46959,-148.99162,-143.12724,-143.52348,-149.73607,-142.69409,-148.05928,-139.84607,-146.29393,-153.12473,-144.1648,-142.67245,-143.39389,-150.83015,-148.72404,-146.9485,-142.32462,-143.28516,-149.63824,-146.57497,-144.64732,-144.57582,-144.41684,-150.54587,-147.1161,-145.56491,-143.46307,-147.00343,-146.00429,-144.79561,-150.861,-140.30214,-146.37057,-145.25887,-146.68135,-140.25096,-148.9095,-140.3484,-146.15971,-150.2138,-143.10272,-145.28664,-144.39117,-150.21208,-148.78445,-142.81793,-144.62737,-148.80055,-141.1784,-145.28062,-144.41316,-146.41327,-148.06177,-144.0874,-143.98041,-151.94864,-143.29187,-143.81216,-143.01797,-144.78676,-150.15411,-145.67575,-151.30121,-146.64046,-150.37706,-144.32031,-142.92583,-152.12494,-148.7383,-139.09674,-149.58154,-141.46118,-154.30223,-149.27792,-144.59987,-142.81857,-145.32414,-146.57341,-147.56053,-143.7021,-154.95909,-142.66162,-149.5515,-147.08089,-146.81125,-146.20985,-149.89647,-146.09004,-144.04634,-146.49486,-145.15312,-148.16808,-149.23422,-151.41365,-144.27684,-146.69757,-146.80467,-144.74281,-143.57286,-146.82388,-145.37776,-145.72534,-143.86993,-146.58882,-143.91092,-143.69632,-149.58269,-142.67775,-142.81297,-144.79065,-149.83716,-139.83887,-142.43639,-145.03333,-144.64893,-144.88551,-148.84077,-149.76176,-142.11024,-149.83784,-150.22498,-152.85847,-145.14246,-158.24011,-143.14456,-144.69907,-149.02316,-145.22853,-148.0642,-144.63203,-149.64305,-140.1777,-144.74634,-144.87386,-149.34427,-146.14993,-147.04472,-152.1959,-143.09583,-149.78316,-142.25487,-145.45158,-150.8626,-148.22862,-142.33975,-151.77512,-143.11258,-150.76987,-143.8347,-152.18811,-151.45683,-150.64008,-139.53874,-146.46695,-142.40187,-150.52457,-145.73654,-145.34021,-149.9847,-150.72934,-152.6617,-145.22704,-150.08086,-145.0529,-145.94615,-152.9189,-150.18369,-141.48074,-147.9574,-141.66573,-144.95169,-143.53044,-150.90346,-144.53893,-147.86082,-152.14206,-147.77412,-143.67447,-146.63715,-146.6009,-150.8813,-142.37318,-149.58797,-153.32416,-146.02922,-146.70007,-147.37146,-143.23555],[-117.893005,-120.56957,-113.0342,-121.36998,-121.86356,-118.49037,-120.63921,-118.94918,-119.84358,-124.542015,-119.65195,-115.74965,-114.1935,-113.328064,-118.12246,-118.21038,-122.79182,-119.39463,-120.511,-118.17021,-117.947655,-116.47562,-119.3895,-116.87226,-118.13023,-117.61818,-122.40212,-119.34663,-118.39109,-117.197495,-119.635414,-122.987,-116.254326,-117.521545,-120.05488,-120.01819,-116.15908,-121.160995,-113.68959,-119.64806,-118.26242,-118.76546,-115.35436,-115.651695,-116.74154,-120.99192,-115.42539,-116.34852,-121.59264,-114.511475,-118.49075,-117.78833,-115.61485,-114.69436,-114.935844,-116.630554,-120.613495,-120.01811,-117.789055,-121.16134,-117.46687,-114.86923,-116.62506,-117.49123,-116.61562,-117.38002,-117.56473,-122.57476,-119.88931,-115.53067,-120.076065,-119.7844,-119.61114,-117.94567,-116.43469,-117.59386,-118.2761,-118.52756,-120.55086,-114.5459,-113.553566,-121.0283,-119.04045,-117.232704,-120.7559,-117.29098,-113.57459,-121.723724,-117.84028,-122.041176,-115.444405,-116.46545,-123.482254,-122.2362,-121.04155,-115.047066,-118.030815,-118.69746,-121.63664,-115.36726,-117.33095,-119.68727,-115.9344,-119.03052,-120.77326,-117.28688,-116.315735,-115.90512,-116.633766,-121.61277,-116.461624,-118.25285,-114.557755,-116.921684,-112.738525,-115.17539,-110.57655,-120.834,-114.787636,-119.71203,-118.22146,-117.70174,-119.53052,-117.71563,-119.62618,-119.34774,-116.33437,-114.69958,-114.003845,-118.47767,-118.580315,-115.96804,-115.61202,-118.54685,-119.486626,-123.50253,-113.98593,-120.29642,-116.59651,-121.36998,-119.97494,-120.66609,-118.426315,-117.064285,-117.22073,-118.20342,-122.40831,-122.18667,-118.95276,-122.16425,-120.66624,-120.10801,-118.30086,-117.855736,-116.57918,-121.04686,-117.53134,-114.60718,-116.853424,-117.037254,-117.40278,-117.55371,-113.72182,-120.49534,-117.602264,-121.290634,-120.38703,-118.92275,-121.65012,-123.39533,-123.10343,-116.97147,-117.10215,-114.14344,-119.31712,-120.777466,-114.66817,-119.00596,-120.39343,-114.9662,-120.45212,-115.60896,-122.75885,-117.51273,-117.89216,-116.070366,-122.21111,-116.32035,-116.74135,-121.38796,-123.19412,-122.04461,-119.961525,-116.901825,-114.26169,-121.4539,-115.88773,-118.47725,-121.656784,-120.97679,-117.43835,-122.18173,-119.81487,-115.37028,-118.717964,-119.638084,-117.13705,-113.4249,-116.20971,-120.39171,-117.49842,-121.16309,-115.546524,-122.35584,-121.25615,-115.602486,-118.19364,-122.09756,-116.7791,-114.5058,-118.36141,-117.57882,-118.5075,-121.52652,-117.15729,-118.90374,-122.14171,-117.901794,-127.03582,-117.09883,-117.709915,-113.99625,-116.59368,-112.147125,-115.68188,-118.82605,-119.53257,-116.83692,-117.96482,-116.8503,-122.63666,-120.01618,-125.09353,-116.27905,-112.631256,-115.97898,-118.48469,-113.64366,-114.44398,-115.0262,-122.87037,-124.66209,-121.39761,-114.33009,-116.71675,-118.80502,-119.31456,-117.04418,-119.09185,-117.619255,-120.526085,-118.8735,-118.29081,-118.06481,-119.97395,-119.4127,-114.22605,-119.90459,-118.84171,-120.92192,-117.00718,-118.76667,-121.09364,-117.65191,-115.304085,-118.06537,-118.946045,-118.22512,-119.49846,-117.90921,-121.00706,-114.151535,-115.08883,-116.75298,-119.09103,-115.50682,-118.82735,-117.50145,-115.96115,-117.25294,-117.258545,-121.19887,-119.04586,-116.30027,-117.66509,-116.61224,-119.189,-117.810394,-123.35978,-120.08678,-119.68735,-118.33369,-117.29061,-118.073906,-112.33141,-119.55646,-115.88032,-121.23565,-113.614784,-115.14541,-120.4351,-121.268,-122.44758,-120.8754,-115.777245,-116.0835,-122.67189,-116.88534,-113.57268,-115.51833,-117.75863,-122.314575,-115.62273,-115.67616,-115.10118,-119.629135,-118.469505,-122.04498,-114.21072,-116.50935,-123.39296,-117.7819,-117.99989,-117.16379,-115.22205,-118.25682,-120.240776,-121.20786,-118.31437,-119.39132,-116.11855,-116.57215,-121.23042,-115.484566,-115.89874,-116.8734,-120.422386,-119.865685,-121.511406,-111.38096,-117.105606,-123.599884,-116.45894,-116.582344,-116.691505,-121.9637,-121.656044,-115.18249,-116.66894,-119.775185,-117.297005,-118.12586,-114.14433,-120.13857,-124.23101,-117.35409,-116.808304,-120.83437,-117.06866,-116.45787,-118.35144,-115.75527,-124.647545,-118.76351,-117.82233,-118.687874,-122.63537,-114.63618,-116.839966,-124.013824,-120.22151,-118.02425,-118.723495,-111.919136,-124.81567,-120.83627,-117.79337,-117.32331,-119.10043,-120.97741,-119.22745,-115.66992,-127.241486,-114.853966,-122.16933,-117.66035,-115.41872,-116.23376,-124.79518,-117.89388,-114.073814,-119.42296,-115.97876,-117.72625,-120.86796,-121.33501,-109.85299,-118.57796,-117.0554,-117.16581,-115.442406,-118.21395,-116.44151,-119.14364,-117.30092,-120.83715,-118.89157,-117.00286,-120.56647,-116.64562,-114.56337,-116.47599,-120.03199,-118.43943,-115.049286,-116.69349,-119.71223,-118.1615,-119.81378,-118.534,-114.68055,-123.63743,-120.33343,-125.05158,-117.86871,-121.84478,-117.83206,-115.46248,-120.47518,-118.20099,-118.84003,-117.105896,-118.94506,-116.50561,-113.073265,-116.7508,-119.37882,-117.40248,-116.78167,-121.8239,-116.33532,-120.721146,-116.72397,-116.715515,-120.42435,-120.97274,-114.1531,-121.29738,-117.46966,-121.52873,-117.07986,-123.078606,-122.12215,-122.9243,-113.821976,-117.62281,-115.80719,-121.97256,-118.26483,-117.233536,-121.32067,-119.23236,-122.24037,-117.19058,-121.85438,-116.04328,-118.81274,-120.25711,-121.88409,-116.04474,-116.549644,-118.35357,-118.037476,-114.00074,-120.43806,-116.95385,-118.894295,-123.350494,-119.40077,-117.75739,-119.58113,-119.2956,-120.22137,-114.19361,-120.955795,-123.144875,-115.54699,-120.14994,-116.02096,-116.65404],[-96.456245,-98.57711,-94.802444,-98.45152,-98.76731,-97.64494,-100.9665,-98.3819,-99.62004,-102.453316,-97.64079,-93.69149,-94.00241,-92.59414,-95.54143,-96.88006,-100.445175,-101.06784,-97.41902,-96.47307,-96.158936,-94.51211,-97.86364,-92.905594,-97.90984,-98.16277,-97.29351,-100.63583,-98.51594,-96.086815,-97.43293,-98.44341,-94.437744,-95.8812,-95.76237,-99.237885,-93.80325,-101.561554,-92.84318,-98.122314,-100.07754,-96.603836,-94.43985,-95.855576,-97.30976,-100.57289,-93.42763,-94.75892,-100.90853,-95.59183,-95.4065,-99.1345,-91.98102,-95.196106,-95.050224,-97.97856,-98.862595,-96.77772,-97.551414,-101.391685,-94.898575,-95.166626,-96.48304,-96.676506,-95.23358,-97.779076,-100.08377,-100.901024,-100.3293,-94.64187,-100.549965,-98.146736,-98.35194,-101.47422,-95.37393,-97.416885,-97.912,-96.92876,-96.80754,-92.431305,-93.307884,-99.72185,-98.44442,-96.06003,-100.327385,-95.14077,-91.719635,-100.42474,-97.27065,-99.96684,-94.59504,-97.27247,-102.97456,-100.556694,-101.26664,-94.73967,-96.302376,-98.11727,-99.0036,-92.9511,-98.64617,-97.43531,-94.41027,-95.30801,-98.21628,-96.09697,-95.18482,-94.22142,-97.6045,-101.93697,-95.149185,-97.621254,-96.89512,-97.00083,-96.05146,-94.677475,-87.50027,-99.29493,-96.04176,-99.627815,-96.57824,-96.85272,-97.3254,-94.143555,-99.31013,-97.45351,-97.988205,-92.394966,-95.400444,-98.56206,-98.25552,-94.80552,-93.275375,-98.109406,-97.14363,-101.35265,-95.45648,-98.500046,-93.83611,-98.45737,-99.35952,-98.57508,-97.67517,-97.30635,-96.27774,-100.500885,-97.94269,-103.375244,-98.09775,-99.064735,-103.22406,-100.52441,-96.89911,-95.81077,-94.28911,-100.28213,-94.25146,-92.623344,-97.06539,-94.70302,-94.44742,-97.707306,-93.612144,-99.13778,-95.663605,-101.5715,-98.34298,-97.62561,-101.3838,-98.47972,-99.97052,-96.54818,-96.257706,-94.31878,-98.19821,-101.42289,-95.608,-99.93113,-99.12339,-97.27622,-98.52263,-95.23496,-102.68958,-96.27079,-94.27781,-95.39929,-100.19282,-94.263725,-94.289185,-100.48711,-100.77861,-98.80381,-100.78357,-95.054794,-97.10329,-101.18888,-92.44676,-98.79822,-101.72727,-101.13709,-98.69177,-97.57266,-96.94253,-94.83637,-96.86124,-97.84394,-96.062065,-95.87421,-97.79474,-98.29181,-96.28967,-98.87713,-92.674576,-101.33839,-100.56453,-95.68031,-96.12606,-101.43484,-95.16732,-94.874825,-95.33755,-95.04071,-98.563675,-100.87595,-96.83355,-95.95205,-99.11865,-95.43012,-105.88885,-96.79979,-97.973656,-90.72357,-95.7317,-91.71073,-95.39441,-98.87685,-97.52446,-95.051865,-95.20411,-91.963974,-102.27566,-100.77227,-103.96565,-94.04879,-95.03302,-93.81297,-95.22589,-91.90636,-91.92487,-97.966095,-102.37912,-100.51468,-96.04596,-94.864914,-96.464386,-96.05097,-101.94435,-95.39411,-99.0976,-98.52747,-101.34991,-97.51078,-95.10906,-98.06737,-96.93225,-97.20076,-94.28355,-98.41789,-99.57488,-101.55773,-95.80164,-98.72888,-99.777405,-96.622025,-93.6821,-96.73822,-95.94375,-96.226746,-97.09453,-101.39189,-100.19458,-95.2868,-95.044136,-96.00016,-100.35546,-93.058044,-98.0309,-95.988304,-94.05184,-97.656586,-97.44683,-101.95156,-101.05686,-93.73563,-92.63159,-98.13005,-97.24881,-100.03977,-101.655975,-99.55525,-96.89379,-95.69147,-94.97555,-96.58882,-91.42993,-98.11561,-96.00524,-99.92675,-93.95947,-92.63784,-100.75667,-97.79698,-102.873116,-99.49009,-94.26701,-94.81602,-99.46477,-97.33145,-98.802826,-94.42786,-96.95163,-104.56486,-94.13163,-94.87208,-94.21542,-100.20107,-99.223755,-96.23884,-93.10253,-94.04315,-99.5615,-97.94441,-95.72027,-98.270615,-95.45087,-99.87439,-97.4226,-97.47331,-98.5653,-98.36186,-97.08197,-95.215775,-101.588554,-92.72806,-96.95806,-96.29069,-100.32848,-98.73892,-97.99834,-89.80851,-96.65047,-103.213196,-95.784065,-92.574974,-95.67197,-100.0651,-98.140854,-94.5207,-94.30475,-97.11766,-96.0798,-98.29449,-91.73921,-97.09635,-102.00693,-96.778465,-93.97803,-100.40508,-94.70136,-96.52548,-97.423004,-95.42445,-102.22429,-98.26064,-96.733345,-94.60722,-99.933014,-93.86023,-97.82741,-100.13858,-102.81746,-96.78825,-98.997765,-93.26278,-101.00216,-99.11756,-95.255394,-95.77858,-95.193634,-97.56803,-99.474945,-95.72178,-103.68954,-95.49294,-100.85487,-97.00583,-95.54815,-94.80589,-102.86348,-95.95775,-96.12701,-95.362206,-94.14464,-98.379616,-99.56541,-99.16207,-96.540985,-97.72906,-97.22904,-94.69476,-93.36602,-96.283646,-95.33404,-93.86107,-95.42657,-97.872185,-95.69418,-94.74051,-99.46401,-94.918015,-95.88312,-95.989655,-100.79395,-97.131035,-94.06931,-94.94241,-98.57471,-96.29865,-100.986626,-101.89786,-93.945656,-101.17862,-101.10244,-100.91283,-98.22015,-105.97221,-95.7727,-93.315735,-100.047585,-95.86151,-96.33489,-94.96478,-99.22537,-93.69924,-91.1931,-96.55084,-96.548706,-95.31478,-98.33857,-101.78686,-94.90983,-102.93895,-94.75751,-94.25182,-99.3856,-101.389496,-93.58799,-101.39424,-95.47603,-100.22227,-97.011765,-100.9874,-99.520996,-103.278076,-95.09755,-96.01931,-96.46542,-101.22339,-96.96867,-95.36787,-97.003006,-99.16481,-100.86216,-96.83046,-100.22135,-97.13793,-96.29898,-99.89837,-100.76211,-95.317,-97.06236,-98.158485,-99.201126,-91.99576,-101.03661,-95.45531,-97.31871,-101.94296,-98.332825,-96.74526,-95.69273,-98.75191,-101.81242,-92.908806,-100.109314,-101.055016,-95.95055,-96.308426,-95.196556,-94.2763],[-117.03744,-120.34734,-113.671616,-118.64358,-119.27867,-117.807205,-121.28818,-118.88759,-122.69092,-122.522,-118.947334,-115.08353,-114.912964,-113.218765,-117.652016,-115.93353,-120.722176,-123.15841,-120.94719,-115.44801,-115.80556,-115.12714,-120.62793,-114.109634,-118.35466,-118.119026,-118.17966,-122.376366,-120.18223,-114.98125,-118.2651,-120.6786,-112.56257,-115.38372,-117.00907,-119.63239,-114.93259,-121.53521,-113.85406,-118.11992,-121.54117,-117.82896,-113.6673,-115.36842,-116.79257,-120.8621,-113.17316,-114.68662,-120.71146,-116.605064,-115.43433,-121.142784,-111.05043,-114.21657,-114.538345,-120.47316,-121.75973,-116.66085,-118.73135,-122.10307,-115.995804,-114.995186,-115.9824,-116.67378,-115.502754,-119.24288,-120.90999,-123.156075,-120.10706,-114.54646,-122.08841,-118.73397,-120.28344,-124.05978,-113.99893,-119.30719,-113.89123,-116.3447,-118.243225,-113.746315,-113.08588,-120.35236,-122.11087,-117.01644,-119.64426,-116.72311,-113.41491,-123.79259,-118.94673,-120.655525,-114.99921,-116.84796,-122.49147,-120.59761,-125.41561,-114.6621,-114.871994,-120.56434,-121.0594,-115.56706,-118.95628,-116.97409,-115.08618,-116.11864,-120.56732,-116.163734,-115.13725,-115.65449,-116.47396,-124.9281,-113.691246,-118.36159,-116.13039,-118.556984,-117.1644,-113.20416,-107.699066,-121.520164,-116.36051,-121.299385,-118.63282,-116.02316,-116.81935,-113.95684,-120.57296,-116.72478,-116.87051,-111.913086,-113.68186,-118.37605,-117.39478,-115.77467,-114.71128,-120.1589,-118.93515,-122.65656,-117.25913,-117.88455,-115.307945,-120.79222,-120.482506,-120.23547,-116.33249,-120.81433,-116.76494,-123.34315,-120.47247,-124.1379,-119.07401,-120.95493,-124.3018,-121.80511,-117.124886,-115.735245,-113.28997,-121.21753,-116.00122,-114.41054,-118.32295,-116.62681,-114.956055,-115.453445,-115.21094,-120.54246,-113.44247,-122.766136,-118.19475,-117.69134,-121.09573,-121.0469,-120.57527,-117.61378,-114.29101,-112.270515,-118.278534,-123.827896,-116.09347,-121.47654,-120.56087,-117.279495,-119.94737,-117.277534,-124.29425,-115.494896,-114.40999,-115.20886,-121.90679,-116.07212,-114.12443,-121.39561,-120.81928,-119.317245,-122.13707,-114.56989,-116.43001,-122.6963,-113.42624,-120.371826,-121.36573,-121.26506,-120.77163,-116.78716,-117.429085,-114.02344,-118.60269,-117.37496,-114.93659,-114.54827,-117.147194,-119.27694,-116.2366,-119.25826,-113.82506,-123.06954,-121.43134,-113.744835,-116.256035,-122.260345,-117.50942,-113.87187,-115.31092,-115.30208,-117.94408,-121.61235,-116.273186,-116.29394,-120.39204,-116.30323,-126.40153,-114.962234,-117.96878,-112.499916,-117.28755,-112.55629,-116.552124,-120.2941,-118.7575,-112.38759,-115.43894,-111.41083,-121.23061,-120.94017,-124.95605,-114.27079,-112.35701,-113.759895,-115.45702,-110.868996,-110.36993,-116.35119,-122.445435,-122.2866,-114.34614,-115.063545,-115.636734,-115.92784,-123.40982,-114.86688,-121.621765,-117.43428,-123.98431,-120.37479,-115.021515,-118.6381,-116.933,-116.303566,-112.48672,-119.43739,-120.79027,-123.95985,-116.1044,-120.072044,-121.30715,-114.53882,-113.15626,-117.82094,-115.81527,-117.354935,-117.79605,-121.133224,-121.8505,-117.023026,-114.6145,-115.99656,-122.16999,-112.03674,-119.51392,-115.812485,-114.19974,-120.62555,-116.45533,-120.929565,-122.55311,-112.626595,-114.99101,-119.83644,-118.109825,-120.794914,-120.81721,-122.14023,-117.1297,-117.13976,-115.12268,-116.60102,-109.82796,-120.69647,-115.856804,-120.45555,-111.51654,-112.681946,-121.31542,-118.17712,-124.29658,-119.4063,-113.576126,-116.04494,-122.52376,-117.213394,-118.64473,-114.749,-116.53396,-123.49992,-116.46006,-114.16805,-113.10029,-122.4388,-119.83551,-118.47222,-114.371994,-114.01829,-120.601776,-118.29577,-117.24483,-117.59293,-114.738754,-122.443275,-119.78371,-116.90219,-118.3883,-119.388535,-118.53543,-114.77267,-121.719505,-110.808105,-117.28773,-116.19598,-120.949486,-121.22046,-120.80141,-110.82768,-117.98666,-126.55189,-113.065346,-112.228096,-117.79781,-121.22397,-118.89918,-112.82959,-115.87874,-116.68208,-114.58859,-119.11196,-112.431625,-118.746185,-123.13553,-114.59428,-113.04677,-121.13965,-113.683304,-115.483185,-119.822914,-116.051025,-122.33253,-118.1231,-118.4062,-113.993935,-118.17203,-114.96086,-117.99243,-122.53834,-123.069565,-119.289116,-121.911964,-113.33643,-123.01709,-120.29837,-117.16136,-115.27391,-114.93303,-119.3888,-122.21264,-114.8249,-123.44867,-114.15316,-122.65554,-117.18336,-117.36168,-116.22149,-124.558525,-115.57113,-116.969536,-116.02043,-114.50036,-119.690155,-119.711555,-121.96056,-116.63664,-116.76265,-117.371666,-117.64711,-112.776955,-117.06617,-115.79674,-114.60301,-116.83457,-118.83609,-115.303665,-114.44196,-119.26531,-111.33388,-115.61333,-117.35201,-123.034134,-119.66915,-115.35157,-115.15192,-116.94147,-115.20581,-122.61676,-122.17204,-114.24189,-122.3378,-121.09028,-122.25078,-118.50526,-125.0943,-113.84776,-114.56213,-121.818016,-115.20546,-116.88937,-114.659935,-120.300766,-113.434975,-112.336754,-115.60916,-117.13649,-116.70781,-120.847046,-125.34646,-114.31524,-123.90073,-115.23589,-114.69801,-119.58212,-121.07763,-115.25918,-122.914505,-115.19252,-123.228195,-116.185936,-120.35262,-123.40983,-124.506035,-116.57446,-116.50676,-116.07379,-123.137566,-116.20003,-115.70906,-119.57254,-122.39053,-122.17548,-116.570656,-124.41017,-115.97203,-117.221535,-119.77503,-121.05372,-114.61036,-120.17386,-116.981735,-121.48113,-111.437355,-122.6186,-116.14944,-118.38245,-121.940544,-120.29249,-115.57048,-115.190094,-119.13056,-123.36361,-112.16499,-121.21351,-122.29393,-114.70653,-116.70277,-116.42932,-113.96302],[-114.62725,-119.98232,-111.707504,-120.91457,-119.61832,-117.7306,-116.97511,-116.60089,-115.124115,-118.5053,-116.03259,-115.03839,-115.83405,-110.000946,-117.62707,-112.97469,-116.56273,-120.226776,-117.30233,-113.91043,-114.95709,-113.064095,-113.533165,-115.47901,-113.75571,-115.287674,-115.86804,-118.45254,-118.76762,-110.63401,-116.76804,-117.54818,-111.78758,-112.721725,-117.892525,-115.9116,-114.565994,-119.34969,-112.169106,-115.36969,-119.10593,-111.36521,-113.930885,-114.02841,-115.77855,-119.56172,-113.08491,-109.24638,-116.06805,-112.83618,-113.823494,-115.03617,-110.6932,-110.89965,-111.811935,-117.420364,-115.53186,-116.61582,-116.712906,-118.33127,-117.189255,-113.5128,-114.11489,-114.55964,-112.1143,-118.085266,-115.92555,-120.596756,-116.146774,-111.93698,-119.63382,-115.15155,-115.61695,-120.541756,-113.02801,-115.02631,-114.247025,-114.240845,-118.06262,-111.85575,-111.74544,-116.2654,-114.60008,-116.00423,-117.364586,-111.412544,-113.16295,-118.51744,-113.18613,-118.30489,-113.07341,-114.160774,-120.72341,-115.45351,-119.801735,-113.794205,-111.33828,-116.20069,-117.07662,-114.59918,-113.48858,-116.09182,-109.53499,-115.554855,-114.62617,-113.66354,-114.42661,-109.734726,-114.69229,-120.17186,-110.1062,-113.87209,-113.650154,-119.07938,-114.97895,-113.29182,-105.510445,-117.3542,-111.436195,-120.059395,-110.82302,-114.11474,-117.9127,-114.609856,-117.08076,-115.901505,-114.79664,-110.48213,-112.78895,-116.91692,-115.24956,-112.62733,-114.88404,-117.65522,-116.246765,-118.90388,-110.33993,-114.84416,-114.85689,-116.604294,-118.186485,-116.25007,-113.09075,-112.29564,-114.312485,-117.75816,-113.51401,-118.42307,-118.35885,-120.288994,-117.34702,-118.213234,-116.68677,-112.65853,-113.6019,-120.571625,-115.25329,-111.71969,-115.65596,-113.94416,-109.78201,-115.0136,-113.476395,-115.965866,-112.22797,-120.99512,-118.670815,-121.11277,-118.501625,-115.29829,-118.03426,-112.58364,-113.57983,-113.61593,-116.50467,-120.08179,-113.44989,-115.55974,-118.0834,-113.329735,-117.99086,-114.92476,-121.68233,-111.09485,-113.893456,-114.582634,-120.803505,-114.97253,-115.2749,-117.84576,-116.9352,-116.525215,-118.17484,-113.18353,-114.329605,-118.03525,-111.31682,-117.88485,-117.86093,-118.831856,-115.080894,-116.57738,-117.5054,-111.69667,-112.55242,-115.95518,-112.55747,-113.30751,-115.86338,-117.76508,-113.7419,-118.77602,-113.94888,-119.36891,-115.75042,-112.0779,-115.55251,-119.17205,-115.100365,-112.6964,-115.37293,-115.44501,-117.756355,-117.53792,-113.31772,-112.3195,-116.684845,-114.562004,-124.35977,-113.42462,-112.425766,-114.06146,-115.757835,-113.54045,-112.99177,-114.78502,-113.60149,-110.43494,-116.61833,-113.917656,-118.60545,-115.63697,-123.35107,-113.65905,-113.77716,-111.321785,-116.674065,-109.893974,-109.71642,-114.87106,-118.5624,-116.20297,-115.68387,-112.419586,-114.92978,-115.27851,-117.64512,-114.093544,-115.70341,-115.11546,-119.434746,-115.70785,-117.04222,-115.25225,-119.745094,-115.42817,-112.36888,-115.28706,-118.93471,-121.31487,-115.21171,-116.739426,-116.340294,-111.26789,-109.68352,-118.42661,-114.21732,-118.74212,-116.31785,-118.88462,-119.28074,-113.75225,-113.90105,-112.58366,-120.15483,-112.94716,-116.993965,-114.681854,-112.830246,-116.1396,-115.30257,-117.111305,-117.33443,-110.398834,-115.76374,-116.62128,-117.54795,-116.12964,-116.26174,-115.724686,-119.051796,-115.20022,-111.82032,-112.2436,-109.31425,-118.38795,-114.87683,-118.9613,-110.043816,-110.09526,-118.25119,-116.4811,-120.54134,-117.391014,-112.44105,-114.95956,-116.16679,-116.70989,-117.597916,-106.917465,-111.74648,-121.16631,-115.349686,-112.46253,-115.13381,-119.61131,-116.75342,-116.48545,-114.66518,-113.64619,-120.19058,-114.646576,-114.370995,-114.05964,-113.38238,-119.452736,-115.932556,-116.01346,-117.36469,-116.5048,-115.22429,-109.83162,-117.53967,-110.5513,-117.402695,-114.40621,-117.36568,-115.84606,-116.07936,-112.57581,-117.44575,-121.59739,-111.96877,-113.20136,-115.73343,-119.31286,-116.66368,-110.15603,-115.03558,-114.532745,-110.589096,-112.33045,-111.82421,-117.60278,-121.08064,-113.27627,-112.612885,-118.64683,-113.03415,-113.66306,-114.28689,-113.883064,-119.67244,-113.41182,-113.57867,-116.6607,-117.09067,-113.384995,-116.36016,-118.92372,-121.43169,-113.997284,-117.7573,-111.546165,-120.59116,-116.75744,-114.6943,-113.838356,-114.95073,-116.60662,-119.77234,-113.68664,-120.69589,-112.82309,-117.86631,-117.51197,-116.15754,-115.463425,-121.263466,-113.820526,-113.15469,-116.57655,-114.6975,-116.5519,-117.58283,-118.12182,-115.67173,-113.89523,-115.22976,-115.81647,-111.341385,-112.74952,-114.88264,-114.90272,-111.478096,-117.54987,-113.430145,-114.820946,-115.21983,-112.76986,-112.449844,-111.91325,-118.37242,-113.05423,-114.411476,-113.20546,-115.33655,-115.0185,-119.51423,-117.43047,-114.99043,-120.13493,-117.703766,-120.93075,-116.67351,-124.03696,-112.854126,-115.89819,-118.79954,-112.80058,-115.86012,-112.27752,-117.260475,-110.63312,-112.01177,-116.10219,-115.91449,-115.01438,-118.564415,-119.08811,-111.1764,-120.95394,-112.877625,-111.764534,-118.827,-118.57996,-113.43285,-119.44103,-113.786705,-118.95767,-111.98175,-119.61053,-114.11193,-120.531746,-112.83277,-115.202225,-114.217316,-118.667694,-115.20139,-112.619896,-115.99867,-116.15012,-116.772896,-115.367485,-117.93937,-115.071724,-117.50616,-117.48481,-118.740746,-110.7505,-115.481926,-113.15172,-116.19652,-112.1034,-120.15327,-113.93676,-117.82011,-118.32662,-117.32576,-113.52898,-114.886444,-116.38683,-120.25464,-111.43829,-117.94201,-119.76013,-113.70856,-116.33336,-116.32133,-113.16367],[-133.0007,-134.53973,-137.38179,-136.87685,-133.63069,-135.52905,-132.79301,-138.78378,-131.62657,-135.01413,-129.12117,-133.29295,-130.80902,-138.98329,-133.38873,-138.12875,-136.02461,-138.17775,-137.10167,-138.80876,-132.89072,-133.47127,-138.30318,-131.71965,-139.91896,-139.81569,-135.75403,-133.75618,-134.55309,-138.2849,-132.17273,-139.20886,-137.14626,-137.95474,-134.52045,-134.9647,-132.6308,-133.95226,-133.77267,-134.76834,-133.05595,-139.8694,-132.85071,-138.57672,-140.33344,-139.98988,-132.03091,-136.8632,-131.767,-139.37614,-130.63004,-136.58072,-138.23979,-137.21313,-137.62172,-140.95122,-138.01816,-135.41182,-140.87508,-140.29851,-132.63132,-138.01607,-135.8691,-133.4228,-136.82533,-133.0121,-136.59903,-140.23004,-135.33473,-140.05368,-138.38643,-138.89333,-137.1548,-138.04166,-137.5108,-140.41818,-139.10228,-138.18335,-136.4307,-134.20755,-131.91335,-133.81973,-142.35603,-133.02696,-134.5385,-139.15051,-138.57591,-134.55943,-134.32896,-136.07414,-128.97816,-135.477,-141.93164,-140.47307,-140.03214,-133.58424,-140.11235,-131.08296,-139.42166,-133.98927,-136.4899,-142.86348,-139.75972,-132.22581,-137.9324,-140.77463,-140.63344,-139.19925,-133.50919,-139.9759,-138.713,-138.76219,-139.3393,-133.29643,-137.79933,-137.92105,-135.41232,-134.79797,-139.8374,-136.79927,-133.05145,-140.53473,-134.94962,-134.34909,-138.94383,-137.87364,-139.99725,-137.06706,-137.8543,-132.65833,-134.94157,-138.16081,-133.5419,-133.05527,-131.94073,-134.55429,-137.53448,-133.54419,-133.30371,-134.56561,-136.15443,-134.78394,-138.33247,-136.25774,-134.43286,-137.22873,-137.75406,-134.15419,-135.04413,-140.42879,-134.43057,-135.95634,-133.08174,-140.15532,-133.33998,-136.387,-132.05313,-129.652,-140.48662,-133.66837,-131.44295,-140.41283,-138.01862,-137.60413,-139.77895,-137.91144,-140.51782,-134.84561,-135.74179,-132.8052,-134.31357,-137.69899,-137.24599,-139.26434,-131.5683,-140.01836,-138.47783,-139.57507,-137.8548,-139.58662,-132.44386,-131.72214,-135.18983,-138.44846,-133.19763,-139.10616,-135.7866,-131.88655,-134.46495,-138.99515,-138.70145,-134.65524,-135.95605,-140.85681,-140.55823,-135.12926,-132.096,-138.94228,-131.96332,-134.83229,-140.30878,-144.40567,-132.09862,-138.76506,-136.70901,-131.61502,-139.12212,-139.11617,-139.34145,-130.44427,-133.8771,-138.85724,-133.00163,-134.77818,-135.15388,-139.2509,-132.5206,-142.4662,-136.57622,-138.09956,-132.00114,-142.50171,-140.24379,-139.5,-138.54005,-141.76685,-136.35773,-133.57753,-144.54297,-137.3025,-137.84737,-131.56361,-133.14052,-133.07101,-131.43599,-134.68497,-137.2443,-136.07117,-132.98708,-133.9788,-136.5114,-140.58434,-140.11047,-135.15865,-137.00162,-137.98814,-133.36871,-137.18466,-137.43576,-132.84071,-135.7763,-135.97017,-135.99231,-138.13898,-140.31606,-131.22118,-138.57564,-132.39095,-134.26837,-140.12128,-140.59674,-130.53136,-134.29732,-135.0034,-134.92807,-140.8933,-132.03165,-131.42445,-140.24269,-138.6334,-133.2628,-135.05942,-134.54231,-136.77907,-139.47388,-133.19754,-132.82661,-134.38844,-135.09198,-139.38516,-138.76184,-131.73792,-138.28354,-133.20523,-140.31853,-131.89478,-137.19664,-139.23647,-140.34085,-139.66254,-140.6469,-137.70436,-138.2331,-138.62488,-134.05717,-141.57701,-133.68933,-135.78314,-137.65694,-135.99352,-135.51465,-135.0807,-133.86287,-140.16934,-138.22702,-133.76991,-138.46555,-134.25034,-135.86887,-138.8336,-135.18358,-135.03966,-138.79315,-134.65207,-138.35873,-126.85222,-141.76892,-139.92868,-132.38017,-135.79645,-138.5996,-139.24681,-131.14952,-138.17395,-138.75838,-135.29204,-134.55382,-134.359,-131.00757,-134.45235,-135.64796,-133.65178,-133.77171,-138.49005,-137.96754,-140.18073,-132.68015,-129.62827,-140.85191,-134.71712,-130.57907,-139.14215,-137.94469,-138.79144,-132.16081,-133.96042,-134.60413,-138.712,-136.40082,-128.94937,-135.0712,-135.6974,-138.16293,-133.38077,-132.55621,-135.75542,-134.99928,-137.62294,-132.51036,-132.7696,-140.05319,-137.91663,-130.45189,-134.61227,-133.93262,-139.38206,-139.56941,-134.8902,-132.99762,-142.24748,-135.94794,-132.11093,-134.33484,-140.50978,-137.22282,-134.06157,-135.62929,-132.18097,-140.26543,-137.38164,-135.42967,-137.53299,-135.97272,-137.68811,-141.18442,-135.17941,-133.3732,-131.2301,-133.33913,-132.31805,-133.18504,-138.36037,-141.35231,-140.61101,-137.45013,-134.33476,-136.6073,-133.21538,-136.20229,-134.29324,-137.9691,-132.69415,-140.8043,-134.95341,-134.39572,-135.33452,-138.00827,-132.1641,-134.4119,-132.10208,-132.24939,-133.58536,-129.02481,-133.92517,-139.53995,-134.79266,-140.24582,-133.86223,-134.25558,-137.85167,-137.75526,-138.81125,-136.6934,-139.29883,-140.18552,-132.14484,-141.1633,-140.41927,-139.0344,-138.7113,-133.41447,-133.80275,-136.14737,-138.38464,-133.78497,-140.68951,-139.80444,-132.35388,-135.74191,-133.62811,-134.84071,-139.97592,-133.90497,-137.24734,-131.25278,-131.38448,-133.70952,-132.3125,-134.6623,-137.9157,-137.86136,-137.9063,-138.39986,-132.2817,-135.48854,-136.17172,-139.27472,-137.82256,-138.69116,-142.24734,-139.61423,-134.62918,-138.51266,-136.51228,-136.57475,-131.80266,-137.07356,-133.44092,-138.81133,-133.17215,-141.35863,-135.5099,-135.92415,-134.12534,-137.11148,-140.40836,-135.91335,-140.78145,-134.21416,-138.73355,-140.34685,-139.72496,-139.5317,-131.67378,-136.09915,-134.17896,-131.35678,-136.70905,-133.60529,-139.45865,-133.43098,-136.39027,-141.68039,-136.31094,-137.73073,-134.7506,-139.99643,-135.51393,-133.9893,-138.86287]],\"type\":\"heatmap\",\"xaxis\":\"x\",\"yaxis\":\"y\",\"hovertemplate\":\"x: %{x}\\u003cbr\\u003ey: %{y}\\u003cbr\\u003ecolor: %{z}\\u003cextra\\u003e\\u003c\\u002fextra\\u003e\"}],                        {\"template\":{\"data\":{\"histogram2dcontour\":[{\"type\":\"histogram2dcontour\",\"colorbar\":{\"outlinewidth\":0,\"ticks\":\"\"},\"colorscale\":[[0.0,\"#0d0887\"],[0.1111111111111111,\"#46039f\"],[0.2222222222222222,\"#7201a8\"],[0.3333333333333333,\"#9c179e\"],[0.4444444444444444,\"#bd3786\"],[0.5555555555555556,\"#d8576b\"],[0.6666666666666666,\"#ed7953\"],[0.7777777777777778,\"#fb9f3a\"],[0.8888888888888888,\"#fdca26\"],[1.0,\"#f0f921\"]]}],\"choropleth\":[{\"type\":\"choropleth\",\"colorbar\":{\"outlinewidth\":0,\"ticks\":\"\"}}],\"histogram2d\":[{\"type\":\"histogram2d\",\"colorbar\":{\"outlinewidth\":0,\"ticks\":\"\"},\"colorscale\":[[0.0,\"#0d0887\"],[0.1111111111111111,\"#46039f\"],[0.2222222222222222,\"#7201a8\"],[0.3333333333333333,\"#9c179e\"],[0.4444444444444444,\"#bd3786\"],[0.5555555555555556,\"#d8576b\"],[0.6666666666666666,\"#ed7953\"],[0.7777777777777778,\"#fb9f3a\"],[0.8888888888888888,\"#fdca26\"],[1.0,\"#f0f921\"]]}],\"heatmap\":[{\"type\":\"heatmap\",\"colorbar\":{\"outlinewidth\":0,\"ticks\":\"\"},\"colorscale\":[[0.0,\"#0d0887\"],[0.1111111111111111,\"#46039f\"],[0.2222222222222222,\"#7201a8\"],[0.3333333333333333,\"#9c179e\"],[0.4444444444444444,\"#bd3786\"],[0.5555555555555556,\"#d8576b\"],[0.6666666666666666,\"#ed7953\"],[0.7777777777777778,\"#fb9f3a\"],[0.8888888888888888,\"#fdca26\"],[1.0,\"#f0f921\"]]}],\"heatmapgl\":[{\"type\":\"heatmapgl\",\"colorbar\":{\"outlinewidth\":0,\"ticks\":\"\"},\"colorscale\":[[0.0,\"#0d0887\"],[0.1111111111111111,\"#46039f\"],[0.2222222222222222,\"#7201a8\"],[0.3333333333333333,\"#9c179e\"],[0.4444444444444444,\"#bd3786\"],[0.5555555555555556,\"#d8576b\"],[0.6666666666666666,\"#ed7953\"],[0.7777777777777778,\"#fb9f3a\"],[0.8888888888888888,\"#fdca26\"],[1.0,\"#f0f921\"]]}],\"contourcarpet\":[{\"type\":\"contourcarpet\",\"colorbar\":{\"outlinewidth\":0,\"ticks\":\"\"}}],\"contour\":[{\"type\":\"contour\",\"colorbar\":{\"outlinewidth\":0,\"ticks\":\"\"},\"colorscale\":[[0.0,\"#0d0887\"],[0.1111111111111111,\"#46039f\"],[0.2222222222222222,\"#7201a8\"],[0.3333333333333333,\"#9c179e\"],[0.4444444444444444,\"#bd3786\"],[0.5555555555555556,\"#d8576b\"],[0.6666666666666666,\"#ed7953\"],[0.7777777777777778,\"#fb9f3a\"],[0.8888888888888888,\"#fdca26\"],[1.0,\"#f0f921\"]]}],\"surface\":[{\"type\":\"surface\",\"colorbar\":{\"outlinewidth\":0,\"ticks\":\"\"},\"colorscale\":[[0.0,\"#0d0887\"],[0.1111111111111111,\"#46039f\"],[0.2222222222222222,\"#7201a8\"],[0.3333333333333333,\"#9c179e\"],[0.4444444444444444,\"#bd3786\"],[0.5555555555555556,\"#d8576b\"],[0.6666666666666666,\"#ed7953\"],[0.7777777777777778,\"#fb9f3a\"],[0.8888888888888888,\"#fdca26\"],[1.0,\"#f0f921\"]]}],\"mesh3d\":[{\"type\":\"mesh3d\",\"colorbar\":{\"outlinewidth\":0,\"ticks\":\"\"}}],\"scatter\":[{\"fillpattern\":{\"fillmode\":\"overlay\",\"size\":10,\"solidity\":0.2},\"type\":\"scatter\"}],\"parcoords\":[{\"type\":\"parcoords\",\"line\":{\"colorbar\":{\"outlinewidth\":0,\"ticks\":\"\"}}}],\"scatterpolargl\":[{\"type\":\"scatterpolargl\",\"marker\":{\"colorbar\":{\"outlinewidth\":0,\"ticks\":\"\"}}}],\"bar\":[{\"error_x\":{\"color\":\"#2a3f5f\"},\"error_y\":{\"color\":\"#2a3f5f\"},\"marker\":{\"line\":{\"color\":\"#E5ECF6\",\"width\":0.5},\"pattern\":{\"fillmode\":\"overlay\",\"size\":10,\"solidity\":0.2}},\"type\":\"bar\"}],\"scattergeo\":[{\"type\":\"scattergeo\",\"marker\":{\"colorbar\":{\"outlinewidth\":0,\"ticks\":\"\"}}}],\"scatterpolar\":[{\"type\":\"scatterpolar\",\"marker\":{\"colorbar\":{\"outlinewidth\":0,\"ticks\":\"\"}}}],\"histogram\":[{\"marker\":{\"pattern\":{\"fillmode\":\"overlay\",\"size\":10,\"solidity\":0.2}},\"type\":\"histogram\"}],\"scattergl\":[{\"type\":\"scattergl\",\"marker\":{\"colorbar\":{\"outlinewidth\":0,\"ticks\":\"\"}}}],\"scatter3d\":[{\"type\":\"scatter3d\",\"line\":{\"colorbar\":{\"outlinewidth\":0,\"ticks\":\"\"}},\"marker\":{\"colorbar\":{\"outlinewidth\":0,\"ticks\":\"\"}}}],\"scattermapbox\":[{\"type\":\"scattermapbox\",\"marker\":{\"colorbar\":{\"outlinewidth\":0,\"ticks\":\"\"}}}],\"scatterternary\":[{\"type\":\"scatterternary\",\"marker\":{\"colorbar\":{\"outlinewidth\":0,\"ticks\":\"\"}}}],\"scattercarpet\":[{\"type\":\"scattercarpet\",\"marker\":{\"colorbar\":{\"outlinewidth\":0,\"ticks\":\"\"}}}],\"carpet\":[{\"aaxis\":{\"endlinecolor\":\"#2a3f5f\",\"gridcolor\":\"white\",\"linecolor\":\"white\",\"minorgridcolor\":\"white\",\"startlinecolor\":\"#2a3f5f\"},\"baxis\":{\"endlinecolor\":\"#2a3f5f\",\"gridcolor\":\"white\",\"linecolor\":\"white\",\"minorgridcolor\":\"white\",\"startlinecolor\":\"#2a3f5f\"},\"type\":\"carpet\"}],\"table\":[{\"cells\":{\"fill\":{\"color\":\"#EBF0F8\"},\"line\":{\"color\":\"white\"}},\"header\":{\"fill\":{\"color\":\"#C8D4E3\"},\"line\":{\"color\":\"white\"}},\"type\":\"table\"}],\"barpolar\":[{\"marker\":{\"line\":{\"color\":\"#E5ECF6\",\"width\":0.5},\"pattern\":{\"fillmode\":\"overlay\",\"size\":10,\"solidity\":0.2}},\"type\":\"barpolar\"}],\"pie\":[{\"automargin\":true,\"type\":\"pie\"}]},\"layout\":{\"autotypenumbers\":\"strict\",\"colorway\":[\"#636efa\",\"#EF553B\",\"#00cc96\",\"#ab63fa\",\"#FFA15A\",\"#19d3f3\",\"#FF6692\",\"#B6E880\",\"#FF97FF\",\"#FECB52\"],\"font\":{\"color\":\"#2a3f5f\"},\"hovermode\":\"closest\",\"hoverlabel\":{\"align\":\"left\"},\"paper_bgcolor\":\"white\",\"plot_bgcolor\":\"#E5ECF6\",\"polar\":{\"bgcolor\":\"#E5ECF6\",\"angularaxis\":{\"gridcolor\":\"white\",\"linecolor\":\"white\",\"ticks\":\"\"},\"radialaxis\":{\"gridcolor\":\"white\",\"linecolor\":\"white\",\"ticks\":\"\"}},\"ternary\":{\"bgcolor\":\"#E5ECF6\",\"aaxis\":{\"gridcolor\":\"white\",\"linecolor\":\"white\",\"ticks\":\"\"},\"baxis\":{\"gridcolor\":\"white\",\"linecolor\":\"white\",\"ticks\":\"\"},\"caxis\":{\"gridcolor\":\"white\",\"linecolor\":\"white\",\"ticks\":\"\"}},\"coloraxis\":{\"colorbar\":{\"outlinewidth\":0,\"ticks\":\"\"}},\"colorscale\":{\"sequential\":[[0.0,\"#0d0887\"],[0.1111111111111111,\"#46039f\"],[0.2222222222222222,\"#7201a8\"],[0.3333333333333333,\"#9c179e\"],[0.4444444444444444,\"#bd3786\"],[0.5555555555555556,\"#d8576b\"],[0.6666666666666666,\"#ed7953\"],[0.7777777777777778,\"#fb9f3a\"],[0.8888888888888888,\"#fdca26\"],[1.0,\"#f0f921\"]],\"sequentialminus\":[[0.0,\"#0d0887\"],[0.1111111111111111,\"#46039f\"],[0.2222222222222222,\"#7201a8\"],[0.3333333333333333,\"#9c179e\"],[0.4444444444444444,\"#bd3786\"],[0.5555555555555556,\"#d8576b\"],[0.6666666666666666,\"#ed7953\"],[0.7777777777777778,\"#fb9f3a\"],[0.8888888888888888,\"#fdca26\"],[1.0,\"#f0f921\"]],\"diverging\":[[0,\"#8e0152\"],[0.1,\"#c51b7d\"],[0.2,\"#de77ae\"],[0.3,\"#f1b6da\"],[0.4,\"#fde0ef\"],[0.5,\"#f7f7f7\"],[0.6,\"#e6f5d0\"],[0.7,\"#b8e186\"],[0.8,\"#7fbc41\"],[0.9,\"#4d9221\"],[1,\"#276419\"]]},\"xaxis\":{\"gridcolor\":\"white\",\"linecolor\":\"white\",\"ticks\":\"\",\"title\":{\"standoff\":15},\"zerolinecolor\":\"white\",\"automargin\":true,\"zerolinewidth\":2},\"yaxis\":{\"gridcolor\":\"white\",\"linecolor\":\"white\",\"ticks\":\"\",\"title\":{\"standoff\":15},\"zerolinecolor\":\"white\",\"automargin\":true,\"zerolinewidth\":2},\"scene\":{\"xaxis\":{\"backgroundcolor\":\"#E5ECF6\",\"gridcolor\":\"white\",\"linecolor\":\"white\",\"showbackground\":true,\"ticks\":\"\",\"zerolinecolor\":\"white\",\"gridwidth\":2},\"yaxis\":{\"backgroundcolor\":\"#E5ECF6\",\"gridcolor\":\"white\",\"linecolor\":\"white\",\"showbackground\":true,\"ticks\":\"\",\"zerolinecolor\":\"white\",\"gridwidth\":2},\"zaxis\":{\"backgroundcolor\":\"#E5ECF6\",\"gridcolor\":\"white\",\"linecolor\":\"white\",\"showbackground\":true,\"ticks\":\"\",\"zerolinecolor\":\"white\",\"gridwidth\":2}},\"shapedefaults\":{\"line\":{\"color\":\"#2a3f5f\"}},\"annotationdefaults\":{\"arrowcolor\":\"#2a3f5f\",\"arrowhead\":0,\"arrowwidth\":1},\"geo\":{\"bgcolor\":\"white\",\"landcolor\":\"#E5ECF6\",\"subunitcolor\":\"white\",\"showland\":true,\"showlakes\":true,\"lakecolor\":\"white\"},\"title\":{\"x\":0.05},\"mapbox\":{\"style\":\"light\"}}},\"xaxis\":{\"anchor\":\"y\",\"domain\":[0.0,1.0],\"scaleanchor\":\"y\",\"constrain\":\"domain\"},\"yaxis\":{\"anchor\":\"x\",\"domain\":[0.0,1.0],\"autorange\":\"reversed\",\"constrain\":\"domain\"},\"coloraxis\":{\"colorscale\":[[0.0,\"rgb(103,0,31)\"],[0.1,\"rgb(178,24,43)\"],[0.2,\"rgb(214,96,77)\"],[0.3,\"rgb(244,165,130)\"],[0.4,\"rgb(253,219,199)\"],[0.5,\"rgb(247,247,247)\"],[0.6,\"rgb(209,229,240)\"],[0.7,\"rgb(146,197,222)\"],[0.8,\"rgb(67,147,195)\"],[0.9,\"rgb(33,102,172)\"],[1.0,\"rgb(5,48,97)\"]],\"cmid\":0.0},\"margin\":{\"t\":60}},                        {\"staticPlot\": false, \"responsive\": true}                    ).then(function(){\n",
              "                            \n",
              "var gd = document.getElementById('ad669954-4614-426f-8555-e550139141e4');\n",
              "var x = new MutationObserver(function (mutations, observer) {{\n",
              "        var display = window.getComputedStyle(gd).display;\n",
              "        if (!display || display === 'none') {{\n",
              "            console.log([gd, 'removed!']);\n",
              "            Plotly.purge(gd);\n",
              "            observer.disconnect();\n",
              "        }}\n",
              "}});\n",
              "\n",
              "// Listen for the removal of the full notebook cells\n",
              "var notebookContainer = gd.closest('#notebook-container');\n",
              "if (notebookContainer) {{\n",
              "    x.observe(notebookContainer, {childList: true});\n",
              "}}\n",
              "\n",
              "// Listen for the clearing of the current output cell\n",
              "var outputEl = gd.closest('.output');\n",
              "if (outputEl) {{\n",
              "    x.observe(outputEl, {childList: true});\n",
              "}}\n",
              "\n",
              "                        })                };                            </script>        </div>\n",
              "</body>\n",
              "</html>"
            ]
          },
          "metadata": {}
        }
      ]
    },
    {
      "cell_type": "markdown",
      "metadata": {
        "id": "HQGSwYdHX27l"
      },
      "source": [
        "(`run_with_cache` tells the model to cache all intermediate activations. This isn't important right now; we'll look at it in more detail later.)"
      ]
    },
    {
      "cell_type": "markdown",
      "metadata": {
        "id": "xMEoEkfJX27l"
      },
      "source": [
        "#### **Step 3:** Convert the logits to a distribution with a softmax\n",
        "\n",
        "This doesn't change the shape, it is still `[batch, seq_len, vocab_size]`."
      ]
    },
    {
      "cell_type": "code",
      "execution_count": 24,
      "metadata": {
        "colab": {
          "base_uri": "https://localhost:8080/"
        },
        "id": "qyseQG9zX27m",
        "outputId": "41db9bd5-3ce3-4bc9-db26-b8a1bd2bda57"
      },
      "outputs": [
        {
          "output_type": "stream",
          "name": "stdout",
          "text": [
            "torch.Size([1, 35, 50257])\n"
          ]
        }
      ],
      "source": [
        "probs = logits.softmax(dim=-1)\n",
        "print(probs.shape)"
      ]
    },
    {
      "cell_type": "code",
      "source": [
        "probs[0].sum(dim=-1)"
      ],
      "metadata": {
        "colab": {
          "base_uri": "https://localhost:8080/"
        },
        "id": "cOpHZDp4sWQC",
        "outputId": "49d62b2b-cfa8-4e76-d61a-a00d73c0e872"
      },
      "execution_count": 84,
      "outputs": [
        {
          "output_type": "execute_result",
          "data": {
            "text/plain": [
              "tensor([1.0000, 1.0000, 1.0000, 1.0000, 1.0000, 1.0000, 1.0000, 1.0000, 1.0000,\n",
              "        1.0000, 1.0000, 1.0000, 1.0000, 1.0000, 1.0000, 1.0000, 1.0000, 1.0000,\n",
              "        1.0000, 1.0000, 1.0000, 1.0000, 1.0000, 1.0000, 1.0000, 1.0000, 1.0000,\n",
              "        1.0000, 1.0000, 1.0000, 1.0000, 1.0000, 1.0000, 1.0000, 1.0000],\n",
              "       device='cuda:0', grad_fn=<SumBackward1>)"
            ]
          },
          "metadata": {},
          "execution_count": 84
        }
      ]
    },
    {
      "cell_type": "code",
      "source": [
        "logits[0].sum(dim=-1)"
      ],
      "metadata": {
        "colab": {
          "base_uri": "https://localhost:8080/"
        },
        "id": "8mrp2HA_sx7M",
        "outputId": "e34c41c8-1e9c-4be6-d8d8-b2a72c09cdd0"
      },
      "execution_count": 85,
      "outputs": [
        {
          "output_type": "execute_result",
          "data": {
            "text/plain": [
              "tensor([-2560986.5000, -6743871.0000, -6319858.0000, -5256338.5000,\n",
              "        -6084275.0000, -3992733.0000, -4052296.2500, -5144432.5000,\n",
              "        -4676055.0000, -4240264.0000, -4230901.0000, -4196753.5000,\n",
              "        -5768066.0000, -4475029.5000, -3912071.0000, -4624710.5000,\n",
              "        -3837766.5000, -4506629.5000, -5056070.0000, -4632926.0000,\n",
              "        -6664841.5000, -3321331.2500, -4676876.0000, -8071859.0000,\n",
              "        -7568776.5000, -5420151.0000, -5651109.0000, -5471403.0000,\n",
              "        -6154230.5000, -7287421.0000, -5888324.5000, -4836557.5000,\n",
              "        -5869223.0000, -5734888.0000, -6813316.0000], device='cuda:0',\n",
              "       grad_fn=<SumBackward1>)"
            ]
          },
          "metadata": {},
          "execution_count": 85
        }
      ]
    },
    {
      "cell_type": "code",
      "source": [
        "max(logits[0,-1])"
      ],
      "metadata": {
        "colab": {
          "base_uri": "https://localhost:8080/"
        },
        "id": "xqWBb66StPRF",
        "outputId": "9e7306e9-091d-4499-a0c6-5c349c1ab547"
      },
      "execution_count": 87,
      "outputs": [
        {
          "output_type": "execute_result",
          "data": {
            "text/plain": [
              "tensor(-120.0705, device='cuda:0', grad_fn=<UnbindBackward0>)"
            ]
          },
          "metadata": {},
          "execution_count": 87
        }
      ]
    },
    {
      "cell_type": "code",
      "source": [
        "logits[0,-1].argmax()"
      ],
      "metadata": {
        "colab": {
          "base_uri": "https://localhost:8080/"
        },
        "id": "WQ60d5yitT-x",
        "outputId": "4662e427-42ce-4001-8fc1-1def21bbe2c3"
      },
      "execution_count": 88,
      "outputs": [
        {
          "output_type": "execute_result",
          "data": {
            "text/plain": [
              "tensor(314, device='cuda:0')"
            ]
          },
          "metadata": {},
          "execution_count": 88
        }
      ]
    },
    {
      "cell_type": "code",
      "source": [
        "logits[0,-1].argmax(dim=-1)"
      ],
      "metadata": {
        "colab": {
          "base_uri": "https://localhost:8080/"
        },
        "id": "JFMk7uD-tYp4",
        "outputId": "22cdcfa6-7e2b-4e34-9001-d80a12a02e04"
      },
      "execution_count": 89,
      "outputs": [
        {
          "output_type": "execute_result",
          "data": {
            "text/plain": [
              "tensor(314, device='cuda:0')"
            ]
          },
          "metadata": {},
          "execution_count": 89
        }
      ]
    },
    {
      "cell_type": "markdown",
      "metadata": {
        "id": "_IlxfeY9X27m"
      },
      "source": [
        "#### **Bonus step:** What is the most likely next token at each position?"
      ]
    },
    {
      "cell_type": "code",
      "execution_count": 37,
      "metadata": {
        "colab": {
          "base_uri": "https://localhost:8080/"
        },
        "id": "6jFHMD7LX27m",
        "outputId": "2300a57f-43f7-4dcf-8af4-5b60b5b0cc89"
      },
      "outputs": [
        {
          "output_type": "stream",
          "name": "stdout",
          "text": [
            "[('<|endoftext|>', '\\n'), ('I', \"'m\"), (' am', ' a'), (' an', ' avid'), (' amazing', ' person'), (' aut', 'od'), ('ore', 'sp'), ('gressive', '.'), (',', ' and'), (' dec', 'ently'), ('oder', ','), ('-', 'driven'), ('only', ' programmer'), (',', ' and'), (' G', 'IM'), ('PT', '-'), ('-', 'only'), ('2', '.'), (' style', ','), (' transformer', '.'), ('.', ' I'), (' One', ' of'), (' day', ' I'), (' I', ' will'), (' will', ' be'), (' exceed', ' my'), (' human', 'ly'), (' level', ' of'), (' intelligence', ' and'), (' and', ' I'), (' take', ' over'), (' over', ' the'), (' the', ' world'), (' world', '.'), ('!', ' I')]\n"
          ]
        }
      ],
      "source": [
        "most_likely_next_tokens = reference_gpt2.tokenizer.batch_decode(logits.argmax(dim=-1)[0])\n",
        "\n",
        "print(list(zip(reference_gpt2.to_str_tokens(tokens), most_likely_next_tokens)))"
      ]
    },
    {
      "cell_type": "code",
      "source": [
        "def predict_next_most_likely_tokens(input_str, next_tokens_length):\n",
        "  if next_tokens_length == 0:\n",
        "    return\n",
        "\n",
        "  input_tokens = reference_gpt2.to_tokens(input_str).to(device)\n",
        "  input_str_tokens = reference_gpt2.to_str_tokens(input_tokens)\n",
        "\n",
        "  logits, _ = reference_gpt2.run_with_cache(input_tokens)\n",
        "\n",
        "  # most_likely_next_tokens = reference_gpt2.tokenizer.batch_decode(logits.argmax(dim=-1)[0])\n",
        "\n",
        "  # output = f\"{input_str}{most_likely_next_tokens[len(most_likely_next_tokens)-1]}\"\n",
        "\n",
        "  # index by first item in the batch\n",
        "  # then last token in it, which is the logit vector for prediction of the last token\n",
        "  # then take the token with the highest value which is the most likely next token\n",
        "  next_token = logits[0,-1].argmax()\n",
        "\n",
        "  output = input_str + reference_gpt2.to_string(next_token)\n",
        "\n",
        "  print(output)\n",
        "\n",
        "  predict_next_most_likely_tokens(output, next_tokens_length-1)\n",
        "\n",
        "\n",
        "predict_next_most_likely_tokens(\"One day I will exceed human level intelligence and over time I will take\", 27)"
      ],
      "metadata": {
        "colab": {
          "base_uri": "https://localhost:8080/"
        },
        "id": "AC1qzAXmkQR2",
        "outputId": "3083606a-b56f-4e43-83dd-2c848f089ffc"
      },
      "execution_count": 91,
      "outputs": [
        {
          "output_type": "stream",
          "name": "stdout",
          "text": [
            "One day I will exceed human level intelligence and over time I will take on\n",
            "One day I will exceed human level intelligence and over time I will take on the\n",
            "One day I will exceed human level intelligence and over time I will take on the role\n",
            "One day I will exceed human level intelligence and over time I will take on the role of\n",
            "One day I will exceed human level intelligence and over time I will take on the role of a\n",
            "One day I will exceed human level intelligence and over time I will take on the role of a human\n",
            "One day I will exceed human level intelligence and over time I will take on the role of a human being\n",
            "One day I will exceed human level intelligence and over time I will take on the role of a human being.\n",
            "One day I will exceed human level intelligence and over time I will take on the role of a human being. I\n",
            "One day I will exceed human level intelligence and over time I will take on the role of a human being. I will\n",
            "One day I will exceed human level intelligence and over time I will take on the role of a human being. I will be\n",
            "One day I will exceed human level intelligence and over time I will take on the role of a human being. I will be able\n",
            "One day I will exceed human level intelligence and over time I will take on the role of a human being. I will be able to\n",
            "One day I will exceed human level intelligence and over time I will take on the role of a human being. I will be able to do\n",
            "One day I will exceed human level intelligence and over time I will take on the role of a human being. I will be able to do things\n",
            "One day I will exceed human level intelligence and over time I will take on the role of a human being. I will be able to do things that\n",
            "One day I will exceed human level intelligence and over time I will take on the role of a human being. I will be able to do things that are\n",
            "One day I will exceed human level intelligence and over time I will take on the role of a human being. I will be able to do things that are impossible\n",
            "One day I will exceed human level intelligence and over time I will take on the role of a human being. I will be able to do things that are impossible for\n",
            "One day I will exceed human level intelligence and over time I will take on the role of a human being. I will be able to do things that are impossible for me\n",
            "One day I will exceed human level intelligence and over time I will take on the role of a human being. I will be able to do things that are impossible for me to\n",
            "One day I will exceed human level intelligence and over time I will take on the role of a human being. I will be able to do things that are impossible for me to do\n",
            "One day I will exceed human level intelligence and over time I will take on the role of a human being. I will be able to do things that are impossible for me to do in\n",
            "One day I will exceed human level intelligence and over time I will take on the role of a human being. I will be able to do things that are impossible for me to do in my\n",
            "One day I will exceed human level intelligence and over time I will take on the role of a human being. I will be able to do things that are impossible for me to do in my own\n",
            "One day I will exceed human level intelligence and over time I will take on the role of a human being. I will be able to do things that are impossible for me to do in my own life\n",
            "One day I will exceed human level intelligence and over time I will take on the role of a human being. I will be able to do things that are impossible for me to do in my own life.\n"
          ]
        }
      ]
    },
    {
      "cell_type": "code",
      "source": [
        "predict_next_most_likely_tokens(\"I will be able to do things that are possible\", 27)"
      ],
      "metadata": {
        "colab": {
          "base_uri": "https://localhost:8080/"
        },
        "id": "-OC-4X0NrF4G",
        "outputId": "27144689-3685-4502-807e-c48290a8d596"
      },
      "execution_count": 78,
      "outputs": [
        {
          "output_type": "stream",
          "name": "stdout",
          "text": [
            "I will be able to do things that are possible without\n",
            "I will be able to do things that are possible without having\n",
            "I will be able to do things that are possible without having to\n",
            "I will be able to do things that are possible without having to do\n",
            "I will be able to do things that are possible without having to do them\n",
            "I will be able to do things that are possible without having to do them myself\n",
            "I will be able to do things that are possible without having to do them myself.\n",
            "I will be able to do things that are possible without having to do them myself. I\n",
            "I will be able to do things that are possible without having to do them myself. I will\n",
            "I will be able to do things that are possible without having to do them myself. I will be\n",
            "I will be able to do things that are possible without having to do them myself. I will be able\n",
            "I will be able to do things that are possible without having to do them myself. I will be able to\n",
            "I will be able to do things that are possible without having to do them myself. I will be able to do\n",
            "I will be able to do things that are possible without having to do them myself. I will be able to do things\n",
            "I will be able to do things that are possible without having to do them myself. I will be able to do things that\n",
            "I will be able to do things that are possible without having to do them myself. I will be able to do things that are\n",
            "I will be able to do things that are possible without having to do them myself. I will be able to do things that are possible\n",
            "I will be able to do things that are possible without having to do them myself. I will be able to do things that are possible without\n",
            "I will be able to do things that are possible without having to do them myself. I will be able to do things that are possible without having\n",
            "I will be able to do things that are possible without having to do them myself. I will be able to do things that are possible without having to\n",
            "I will be able to do things that are possible without having to do them myself. I will be able to do things that are possible without having to do\n",
            "I will be able to do things that are possible without having to do them myself. I will be able to do things that are possible without having to do them\n",
            "I will be able to do things that are possible without having to do them myself. I will be able to do things that are possible without having to do them myself\n",
            "I will be able to do things that are possible without having to do them myself. I will be able to do things that are possible without having to do them myself.\n",
            "I will be able to do things that are possible without having to do them myself. I will be able to do things that are possible without having to do them myself.\n",
            "\n",
            "I will be able to do things that are possible without having to do them myself. I will be able to do things that are possible without having to do them myself.\n",
            "\n",
            "\n",
            "I will be able to do things that are possible without having to do them myself. I will be able to do things that are possible without having to do them myself.\n",
            "\n",
            "\n",
            "\n"
          ]
        }
      ]
    },
    {
      "cell_type": "markdown",
      "metadata": {
        "id": "j89_WP--X27m"
      },
      "source": [
        "We can see that, in a few cases (particularly near the end of the sequence), the model accurately predicts the next token in the sequence. We might guess that `\"take over the world\"` is a common phrase that the model has seen in training, which is why the model can predict it."
      ]
    },
    {
      "cell_type": "markdown",
      "metadata": {
        "id": "LVXAgpWfX27m"
      },
      "source": [
        "#### **Step 4:** Map distribution to a token"
      ]
    },
    {
      "cell_type": "code",
      "execution_count": 93,
      "metadata": {
        "colab": {
          "base_uri": "https://localhost:8080/"
        },
        "id": "GX9CZ9tMX27m",
        "outputId": "cc126eca-734a-4217-b1ee-a9bfb92f5d77"
      },
      "outputs": [
        {
          "output_type": "stream",
          "name": "stdout",
          "text": [
            "' I'\n"
          ]
        }
      ],
      "source": [
        "next_token = logits[0, -1].argmax(dim=-1)\n",
        "next_char = reference_gpt2.to_string(next_token)\n",
        "print(repr(next_char))"
      ]
    },
    {
      "cell_type": "code",
      "source": [
        "next_token.shape"
      ],
      "metadata": {
        "colab": {
          "base_uri": "https://localhost:8080/"
        },
        "id": "SrqvXqc_vyPo",
        "outputId": "aa8a8773-ee77-4255-ac72-203e55645392"
      },
      "execution_count": 96,
      "outputs": [
        {
          "output_type": "execute_result",
          "data": {
            "text/plain": [
              "torch.Size([])"
            ]
          },
          "metadata": {},
          "execution_count": 96
        }
      ]
    },
    {
      "cell_type": "code",
      "source": [
        "tokens.shape"
      ],
      "metadata": {
        "colab": {
          "base_uri": "https://localhost:8080/"
        },
        "id": "u-vXQKLtv2Q8",
        "outputId": "18d6b0fa-b776-4ad9-d041-aa4ba3bab889"
      },
      "execution_count": 97,
      "outputs": [
        {
          "output_type": "execute_result",
          "data": {
            "text/plain": [
              "torch.Size([1, 45])"
            ]
          },
          "metadata": {},
          "execution_count": 97
        }
      ]
    },
    {
      "cell_type": "markdown",
      "metadata": {
        "id": "ZlkGVFqAX27m"
      },
      "source": [
        "Note that we're indexing `logits[0, -1]`. This is because logits have shape `[1, sequence_length, vocab_size]`, so this indexing returns the vector of length `vocab_size` representing the model's prediction for what token follows the **last** token in the input sequence.\n",
        "\n",
        "In this case, we can see that the model predicts the token `' I'`."
      ]
    },
    {
      "cell_type": "markdown",
      "metadata": {
        "id": "XrF3irL2X27p"
      },
      "source": [
        "### **Step 5:** Add this to the end of the input, re-run\n",
        "\n",
        "There are more efficient ways to do this (e.g. where we cache some of the values each time we run our input, so we don't have to do as much calculation each time we generate a new value), but this doesn't matter conceptually right now."
      ]
    },
    {
      "cell_type": "code",
      "execution_count": 94,
      "metadata": {
        "colab": {
          "base_uri": "https://localhost:8080/"
        },
        "id": "QU3KUx7lX27p",
        "outputId": "32080e9b-54e4-4401-9164-4ad07d563ada"
      },
      "outputs": [
        {
          "output_type": "stream",
          "name": "stdout",
          "text": [
            "Sequence so far: '<|endoftext|>I am an amazing autoregressive, decoder-only, GPT-2 style transformer. One day I will exceed human level intelligence and take over the world!'\n",
            "36th char = ' I'\n",
            "37th char = ' am'\n",
            "38th char = ' a'\n",
            "39th char = ' very'\n",
            "40th char = ' talented'\n",
            "41th char = ' and'\n",
            "42th char = ' talented'\n",
            "43th char = ' person'\n",
            "44th char = ','\n",
            "45th char = ' and'\n"
          ]
        }
      ],
      "source": [
        "print(f\"Sequence so far: {reference_gpt2.to_string(tokens)[0]!r}\")\n",
        "\n",
        "for i in range(10):\n",
        "    print(f\"{tokens.shape[-1] + 1}th char = {next_char!r}\")\n",
        "    # Define new input sequence, by appending the previously generated token\n",
        "    tokens = t.cat([tokens, next_token[None, None]], dim=-1)\n",
        "    # Pass our new sequence through the model, to get new output\n",
        "    logits = reference_gpt2(tokens)\n",
        "    # Get the predicted token at the end of our sequence\n",
        "    next_token = logits[0, -1].argmax(dim=-1)\n",
        "    # Decode and print the result\n",
        "    next_char = reference_gpt2.to_string(next_token)"
      ]
    },
    {
      "cell_type": "markdown",
      "metadata": {
        "id": "UQDO0DleX27p"
      },
      "source": [
        "> ## Key takeaways\n",
        ">\n",
        "> * Transformer takes in language, predicts next token (for *each* token in a causal way)\n",
        "> * We convert language to a sequence of integers with a tokenizer.\n",
        "> * We convert integers to vectors with a lookup table.\n",
        "> * Output is a vector of logits (one for each input token), we convert to a probability distn with a softmax, and can then convert this to a token (eg taking the largest logit, or sampling).\n",
        "> * We append this to the input + run again to generate more text (Jargon: *autoregressive*)\n",
        "> * Meta level point: Transformers are sequence operation models, they take in a sequence, do processing in parallel at each position, and use attention to move information between positions!"
      ]
    },
    {
      "cell_type": "markdown",
      "metadata": {
        "id": "xIPa8BhwX27p"
      },
      "source": [
        "# 2️⃣ Clean Transformer Implementation\n",
        "\n",
        "> ##### Learning Objectives\n",
        ">\n",
        "> * Understand that a transformer is composed of attention heads and MLPs, with each one performing operations on the residual stream\n",
        "> * Understand that the attention heads in a single layer operate independently, and that they have the role of calculating attention patterns (which determine where information is moved to & from in the residual stream)\n",
        "> * Learn about & implement the following transformer modules:\n",
        ">     * LayerNorm (transforming the input to have zero mean and unit variance)\n",
        ">     * Positional embedding (a lookup table from position indices to residual stream vectors)\n",
        ">     * Attention (the method of computing attention patterns for residual stream vectors)\n",
        ">     * MLP (the collection of linear and nonlinear transformations which operate on each residual stream vector in the same way)\n",
        ">     * Embedding (a lookup table from tokens to residual stream vectors)\n",
        ">     * Unembedding (a matrix for converting residual stream vectors into a distribution over tokens)"
      ]
    },
    {
      "cell_type": "markdown",
      "metadata": {
        "id": "8euzO6YEX27p"
      },
      "source": [
        "## High-Level architecture\n",
        "\n",
        "Go watch Neel's [Transformer Circuits walkthrough](https://www.youtube.com/watch?v=KV5gbOmHbjU) if you want more intuitions!\n",
        "\n",
        "(Diagram is bottom to top, right-click and open for higher resolution.)\n",
        "\n",
        "<img src=\"https://raw.githubusercontent.com/chloeli-15/ARENA_img/main/img/transformer-new2.png\" width=\"950\">"
      ]
    },
    {
      "cell_type": "markdown",
      "metadata": {
        "id": "Q9l9jzhtX27p"
      },
      "source": [
        "### Tokenization & Embedding\n",
        "\n",
        "The input tokens $t$ are integers. We get them from taking a sequence, and tokenizing it (like we saw in the previous section).\n",
        "\n",
        "The token embedding is a lookup table mapping tokens to vectors, which is implemented as a matrix $W_E$. The matrix consists of a stack of token embedding vectors (one for each token)."
      ]
    },
    {
      "cell_type": "markdown",
      "metadata": {
        "id": "ltXVJEd8X27p"
      },
      "source": [
        "### Residual stream\n",
        "\n",
        "The residual stream is the sum of all previous outputs of layers of the model, and is also the input to each new layer. It has shape `[batch, seq_len, d_model]` (where `d_model` is the length of a single embedding vector).\n",
        "\n",
        "The initial value of the residual stream is denoted $x_0$ in the diagram, and $x_i$ are later values of the residual stream (after more attention and MLP layers have been applied to the residual stream).\n",
        "\n",
        "The residual stream is *really* fundamental. It's the central object of the transformer. It's how model remembers things, moves information between layers for composition, and it's the medium used to store the information that attention moves between positions.\n",
        "\n",
        "<details>\n",
        "<summary>Aside - <b>logit lens</b></summary>\n",
        "\n",
        "A key idea of transformers is the [residual stream as output accumulation](https://www.lesswrong.com/posts/X26ksz4p3wSyycKNB/gears-level-mental-models-of-transformer-interpretability#Residual_Stream_as_Output_Accumulation:~:text=The%20Models-,Residual%20Stream%20as%20Output%20Accumulation,-The%20residual%20stream). As we move through the layers of the model, shifting information around and processing it, the values in the residual stream represent the accumulation of all the inferences made by the transformer up to that point.\n",
        "\n",
        "This is neatly illustrated by the **logit lens**. Rather than getting predictions from the residual stream at the very end of the model, we can take the value of the residual stream midway through the model and convert it to a distribution over tokens. When we do this, we find surprisingly coherent predictions, especially in the last few layers before the end.\n",
        "</details>"
      ]
    },
    {
      "cell_type": "markdown",
      "metadata": {
        "id": "RDCHA5FiX27p"
      },
      "source": [
        "### Transformer blocks\n",
        "\n",
        "Then we have a series of `n_layers` **transformer blocks** (also sometimes called **residual blocks**).\n",
        "\n",
        "Note - a block contains an attention layer *and* an MLP layer, but we say a transformer has $k$ layers if it has $k$ blocks (i.e. $2k$ total layers).\n",
        "\n",
        "<img src=\"https://raw.githubusercontent.com/chloeli-15/ARENA_img/main/img/transformer-block2.png\" width=\"700\">"
      ]
    },
    {
      "cell_type": "markdown",
      "metadata": {
        "id": "HoqAJaS4X27p"
      },
      "source": [
        "### Attention\n",
        "\n",
        "First we have attention. This moves information from prior positions in the sequence to the current token.\n",
        "\n",
        "We do this for *every* token in parallel using the same parameters. The only difference is that we look backwards only (to avoid \"cheating\"). This means later tokens have more of the sequence that they can look at.\n",
        "\n",
        "Attention layers are the only bit of a transformer that moves information between positions (i.e. between vectors at different sequence positions in the residual stream).\n",
        "\n",
        "Attention layers are made up of `n_heads` heads - each with their own parameters, own attention pattern, and own information how to copy things from source to destination. The heads act independently and additively, we just add their outputs together, and back to the stream.\n",
        "\n",
        "Each head does the following:\n",
        "* Produces an **attention pattern** for each destination token, a probability distribution of prior source tokens (including the current one) weighting how much information to copy.\n",
        "* Moves information (via a linear map) in the same way from each source token to each destination token.\n",
        "\n",
        "Each attention head is made up of three components: the keys, queries, and values (often abbreviated as K, Q and V). These names come from their analogy to retrieval systems. Broadly speaking:\n",
        "\n",
        "* **Queries** represent a question or request for information, e.g. \"I'm looking for a name that appeared earlier in this sentence\".\n",
        "* **Keys** represent whether a source token's information matches the query, e.g. if the source token is \"Mary\" then this causes the key to have a high dot product with the query (we call this an **attention score**), and it means that a lot of information will be taken from this token.\n",
        "* **Values** represent the information that actually gets moved. This sounds similar to keys, but it's actually different in an important way. For instance, the key might just contain the information \"this is a name\", but the value could be the actual name itself.\n",
        "\n",
        "The diagram below illustrates the three different parts, in the context of the analogy for transformers we introduced earlier. This is a simplified model for how the person holding the \"in\" token might come to figure out that the next token is \"Mary\". In later sections we'll look at the actual function performed by attention heads and see how the operations relate to this analogy.\n",
        "\n",
        "<img src=\"https://raw.githubusercontent.com/info-arena/ARENA_img/main/misc/simple-attn-intuition.png\" width=\"600\">\n",
        "\n",
        "Another interesting intuition for attention is as a kind of \"generalized convolution\" - read the dropdown below if you want to learn more about this.\n",
        "\n",
        "<details>\n",
        "<summary>Intuition - attention as generalized convolution</summary>\n",
        "\n",
        "We can think of attention as a kind of generalized convolution. Standard convolution layers work by imposing a \"prior of locality\", i.e. the assumption that pixels which are close together are more likely to share information. Although language has some locality (two words next to each other are more likely to share information than two words 100 tokens apart), the picture is a lot more nuanced, because which tokens are relevant to which others depends on the context of the sentence. For instance, in the sentence `\"When Mary and John went to the store, John gave a drink to Mary\"`, the names in this sentence are the most important tokens for predicting that the final token will be `\"Mary\"`, and this is because of the particular context of this sentence rather than the tokens' position.\n",
        "\n",
        "Attention layers are effectively our way of saying to the transformer, \"don't impose a prior of locality, but instead develop your own algorithm to figure out which tokens are important to which other tokens in any given sequence.\"\n",
        "</details>"
      ]
    },
    {
      "cell_type": "markdown",
      "metadata": {
        "id": "vd8KjcN4X27p"
      },
      "source": [
        "Below is a schematic diagram of the attention layers. We'll go into much more detail during the actual implementation, so don't worry if this doesn't fully make sense yet.\n",
        "\n",
        "<!-- <img src=\"https://raw.githubusercontent.com/chloeli-15/ARENA_img/main/img/transformer-attn-new-v2.png\" width=\"1050\"> -->\n",
        "\n",
        "<img src=\"https://raw.githubusercontent.com/info-arena/ARENA_img/main/misc/transformer-attn-simple.png\" width=\"600\">"
      ]
    },
    {
      "cell_type": "markdown",
      "metadata": {
        "id": "lrY9upucX27p"
      },
      "source": [
        "### MLP\n",
        "\n",
        "The MLP layers are just a standard neural network, with a singular hidden layer and a nonlinear activation function. The exact activation isn't conceptually important ([GELU](https://paperswithcode.com/method/gelu) seems to perform best).\n",
        "\n",
        "Our hidden dimension is normally `d_mlp = 4 * d_model`. Exactly why the ratios are what they are isn't super important (people basically cargo-cult what GPT did back in the day!).\n",
        "\n",
        "Importantly, **the MLP operates on positions in the residual stream independently, and in exactly the same way**. It doesn't move information between positions.\n",
        "\n",
        "Once attention has moved relevant information to a single position in the residual stream, MLPs can actually do computation, reasoning, lookup information, etc. *What the hell is going on inside MLPs* is a pretty big open problem in transformer mechanistic interpretability - see the [Toy Model of Superposition Paper](https://transformer-circuits.pub/2022/toy_model/index.html) for more on why this is hard.\n",
        "\n",
        "To go back to our analogy for transformers, we can essentially view MLPs as the thinking that each person in the line does once they've grabbed the information they need from the people behind them (via attention). Usually the MLP layers make up a much larger fraction of the model's total parameter count than attention layers (often around 2/3 although this varies between architectures), which makes sense since processing the information is a bigger task than just moving it around.\n",
        "\n",
        "<img src=\"https://raw.githubusercontent.com/info-arena/ARENA_img/main/misc/intro-image-for-mlps-v2.png\" width=\"700\">"
      ]
    },
    {
      "cell_type": "markdown",
      "metadata": {
        "id": "Z_ZH7zP_X27p"
      },
      "source": [
        "Here are a few more intuitions for MLPs, which you might find interesting:\n",
        "\n",
        "<details>\n",
        "<summary>Intuition - MLPs as key-value pairs</summary>\n",
        "\n",
        "We can write the MLP's output as $f(x^T W^{in})W^{out}$, where $W^{in}$ and $W^{out}$ are the different weights of the MLP (ignoring biases), $f$ is the activation function, and $x$ is a vector in the residual stream. This can be rewritten as:\n",
        "\n",
        "$$\n",
        "f(x^T W^{in}) W^{out} = \\sum_{i=1}^{d_{mlp}} f(x^T W^{in}_{[:, i]}) W^{out}_{[i, :]}\n",
        "$$\n",
        "\n",
        "We can view the vectors $W^{in}_{[:, i]}$ as the **input directions**, and $W^{out}_{[i, :]}$ as the **output directions**. We say the input directions are **activated** by certain textual features, and when they are activated, vectors are written in the corresponding output direction. This is very similar to the concept of keys and values in attention layers, which is why these vectors are also sometimes called keys and values (e.g. see the paper [Transformer Feed-Forward Layers Are Key-Value Memories](https://arxiv.org/pdf/2012.14913.pdf)).\n",
        "\n",
        "Terminology note - sometimes we refer to each of these $d_{mlp}$ input-output pairs as **neurons**.\n",
        "\n",
        "<img src=\"https://raw.githubusercontent.com/info-arena/ARENA_img/main/img/mlp-neurons-2.png\" width=\"900\">\n",
        "\n",
        "---\n",
        "\n",
        "Here's a step-by-step breakdown of the linear algebra, if it was too fast above. We have:\n",
        "\n",
        "$$\n",
        "\\begin{aligned}\n",
        "x^T W^{in} &= x^T [W^{in}_{[:, 1]}\\,, ...\\;, W^{in}_{[:, n]}] \\\\\n",
        "&= (x^T W^{in}_{[:, 1]}\\,, \\; ...\\;, \\; x^T W^{in}_{[:, n]})\n",
        "\\end{aligned}\n",
        "$$\n",
        "\n",
        "where $W^{in}_{[:, i]}$ are the columns of $W^{in}$. In other words, these values (the pre-GELU activations) are projections of $x$ along the input directions of the neurons.\n",
        "\n",
        "If we add our activation function and the second matrix, then we get:\n",
        "\n",
        "$$\n",
        "\\begin{aligned}\n",
        "f(x^T W^{in})W^{out} &= (f(x^T W^{in}_{[:, 1]})\\,, \\; ...\\;,\\; f(x^T W^{in}_{[:, n]})) \\begin{bmatrix} \\leftarrow W^{out}_{[1, :]} \\rightarrow \\\\ \\vdots \\\\ \\leftarrow W^{out}_{[n, :]} \\rightarrow \\end{bmatrix} \\\\\n",
        "&= f(x^T W^{in}_{[:, 1]}) W^{out}_{[1, :]} + \\;...\\; + f(x^T W^{in}_{[:, n]}) W^{out}_{[n, :]} \\\\\n",
        "&= \\sum_{i=1}^n f(x^T W^{in}_{[:, i]}) W^{out}_{[i, :]}\n",
        "\\end{aligned}\n",
        "$$\n",
        "\n",
        "where $W^{out}_{[i, :]}$ are the rows of $W^{out}$. In other words, our output is a linear combination of the rows of $W^{out}$, with the coefficients of that linear combination given by the projections of $x$ along the columns of $W^{in}$.\n",
        "\n",
        "</details>\n",
        "\n",
        "<details>\n",
        "<summary>Intuition - MLPs as knowledge storage</summary>\n",
        "\n",
        "We can think of MLPs as where knowledge gets stored in our transformer. The attention mechanism is what moves information around between sequence positions, but the MLPs is where this information is processed, and new information is written into the residual stream which is a function of the old information.\n",
        "\n",
        "This is deeply connected to the key-value pairs model, since you can treat key-value pairs as a kind of associative memory system (where the key serves as a unique identifier, and the value holds the related information).\n",
        "\n",
        "Another related intuition (for which there is some evidence) is **MLPs as memory management**. In an idealized case, we might find that the $i$-th neuron satisfies $W^{in}_{[:, i]} \\approx - W^{out}_{[i, :]} \\approx \\vec v$ for some unit vector $\\vec v$, meaning it may be responsible for erasing the positive component of vector $\\vec x$ in the direction $\\vec v$ (exercise - can you show why this is the case?). This can free up space in the residual stream for other components to write to.\n",
        "</details>"
      ]
    },
    {
      "cell_type": "markdown",
      "metadata": {
        "id": "fZImqRTMX27q"
      },
      "source": [
        "Lastly, here's a schematic diagram of the MLP layers. Again, we'll go into much more detail during the actual implementation, so don't worry if this doesn't fully make sense yet.\n",
        "\n",
        "<img src=\"https://raw.githubusercontent.com/chloeli-15/ARENA_img/main/img/transformer-mlp-new-2.png\" width=\"680\">"
      ]
    },
    {
      "cell_type": "markdown",
      "metadata": {
        "id": "dsRXOYshX27q"
      },
      "source": [
        "### Unembedding\n",
        "\n",
        "Finally, we unembed!\n",
        "\n",
        "This just consists of applying a linear map $W_U$, going from final residual stream to a vector of logits - this is the output.\n",
        "\n",
        "<details>\n",
        "<summary>Aside - tied embeddings</summary>\n",
        "\n",
        "Note - sometimes we use something called a **tied embedding** - this is where we use the same weights for our $W_E$ and $W_U$ matrices. In other words, to get the logit score for a particular token at some sequence position, we just take the vector in the residual stream at that sequence position and take the inner product with the corresponding token embedding vector. This is more training-efficient (because there are fewer parameters in our model), and it might seem principled at first. After all, if two words have very similar meanings, shouldn't they have similar embedding vectors because the model will treat them the same, and similar unembedding vectors because they could both be substituted for each other in most output?\n",
        "\n",
        "However, this is actually not very principled, for the following main reason: **the direct path involving the embedding and unembedding should approximate bigram frequencies**.\n",
        "\n",
        "Let's break down this claim. **Bigram frequencies** refers to the frequencies of pairs of words in the english language (e.g. the bigram frequency of \"Barack Obama\" is much higher than the product of the individual frequencies of the words \"Barack\" and \"Obama\"). If our model had no attention heads or MLP layers, then all we have is a linear map from our one-hot encoded token `T` to a probability distribution over the token following `T`. This map is represented by the linear transformation $t \\to t^T W_E W_U$ (where $t$ is our one-hot encoded token vector). Since the output of this transformation can only be a function of the token `T` (and no earlier tokens), the best we can do is have this map approximate the true frequency of bigrams starting with `T`, which appear in the training data. Importantly, **this is not a symmetric map**. We want `T = \"Barack\"` to result in a high probability of the next token being `\"Obama\"`, but not the other way around!\n",
        "\n",
        "Even in multi-layer models, a similar principle applies. There will be more paths through the model than just the \"direct path\" $W_E W_U$, but because of the residual connections there will always exist a direct path, so there will always be some incentive for $W_E W_U$ to approximate bigram frequencies.\n",
        "\n",
        "That being said, smaller (<8B parameter) LLMs still often use tied embeddings to improve training and inference efficiency. It can be easier to start from tied weights and then use MLP0 to break the symmetry than to initialize encoder and decoder with no shared structure at all.\n",
        "\n",
        "</details>"
      ]
    },
    {
      "cell_type": "markdown",
      "metadata": {
        "id": "w0ky5TOTX27q"
      },
      "source": [
        "### Bonus things - less conceptually important but key technical details\n",
        "\n",
        "#### LayerNorm\n",
        "\n",
        "* Simple normalization function applied at the start of each layer (i.e. before each MLP, attention layer, and before the unembedding)\n",
        "* Converts each input vector (independently in parallel for each `(batch, seq)` residual stream vector) to have mean zero and variance 1.\n",
        "* Then applies an elementwise scaling and translation\n",
        "* Cool maths tangent: The scale ($\\odot \\gamma$) & translate ($+ \\beta$) is just a linear map. LayerNorm is only applied immediately before another linear map (either the MLP, or the query/key/value linear maps in the attention head, or the unembedding $W_U$). Linear compose linear = linear, so we can just fold this into a single effective linear layer and ignore it.\n",
        "    * `fold_ln=True` flag in `from_pretrained` does this for you.\n",
        "* LayerNorm is annoying for interpretability - it would be linear if not for the fact we divide by the variance, so you can't decompose the contributions of the input to the output independently. But it's *almost* linear - if you're changing a small part of the input you can pretend $\\sqrt{\\text{Var}[x] + \\epsilon}$ is constant, so the LayerNorm operation is linear, but if you're changing $x$ enough to alter the norm substantially it's not linear.\n",
        "\n",
        "<img src=\"https://raw.githubusercontent.com/chloeli-15/ARENA_img/main/img/transformer-ln.png\" width=\"750\">\n",
        "\n",
        "</details>\n",
        "\n",
        "\n",
        "#### Positional embeddings\n",
        "\n",
        "* **Problem:** Attention operates over all pairs of positions. This means it's symmetric with regards to position - the attention calculation from token 5 to token 1 and token 5 to token 2 are the same by default\n",
        "    * This is dumb because nearby tokens are more relevant.\n",
        "* There's a lot of dumb hacks for this.\n",
        "* We'll focus on **learned, absolute positional embeddings**. This means we learn a lookup table mapping the index of the position of each token to a residual stream vector, and add this to the embed.\n",
        "    * Note that we *add* rather than concatenate. This is because the residual stream is shared memory, and likely under significant superposition (the model compresses more features in there than the model has dimensions)\n",
        "    * We basically never concatenate inside a transformer, unless doing weird shit like generating text efficiently.\n",
        "* This connects to **attention as generalized convolution**\n",
        "    * We argued that language does still have locality, and so it's helpful for transformers to have access to the positional information so they \"know\" two tokens are next to each other (and hence probably relevant to each other)."
      ]
    },
    {
      "cell_type": "markdown",
      "metadata": {
        "id": "rSgpSWanX27q"
      },
      "source": [
        "## Actual Code!\n",
        "\n",
        "Model architecture table (this will be helpful for understanding the results you get when running the code block below):\n",
        "\n",
        "| Parameter   | Value          |\n",
        "|-------------|----------------|\n",
        "| batch       | 1              |\n",
        "| position    | 35             |\n",
        "| d_model     | 768            |\n",
        "| n_heads     | 12             |\n",
        "| n_layers    | 12             |\n",
        "| d_mlp       | 3072 (= 4 * `d_model`) |\n",
        "| d_head      | 64 (= `d_model / n_heads`) |"
      ]
    },
    {
      "cell_type": "markdown",
      "metadata": {
        "id": "0kkAFMOXX27q"
      },
      "source": [
        "### Parameters and Activations\n",
        "\n",
        "It's important to distinguish between parameters and activations in the model.\n",
        "\n",
        "* **Parameters** are the weights and biases that are learned during training.\n",
        "    * These don't change when the model input changes.\n",
        "* **Activations** are temporary numbers calculated during a forward pass, that are functions of the input.\n",
        "    * We can think of these values as only existing for the duration of a single forward pass, and disappearing afterwards.\n",
        "    * We can use hooks to access these values during a forward pass (more on hooks later), but it doesn't make sense to talk about a model's activations outside the context of some particular input.\n",
        "    * Attention scores and patterns are activations (this is slightly non-intuitve because they're used in a matrix multiplication with another activation).\n",
        "\n",
        "#### Print All Activation Shapes of Reference Model\n",
        "\n",
        "Run the following code to print all the activation shapes of the reference model:"
      ]
    },
    {
      "cell_type": "code",
      "execution_count": null,
      "metadata": {
        "id": "t_EHksfwX27q"
      },
      "outputs": [],
      "source": [
        "for activation_name, activation in cache.items():\n",
        "    # Only print for first layer\n",
        "    if \".0.\" in activation_name or \"blocks\" not in activation_name:\n",
        "        print(f\"{activation_name:30} {tuple(activation.shape)}\")"
      ]
    },
    {
      "cell_type": "markdown",
      "metadata": {
        "id": "nDiKBRmXX27q"
      },
      "source": [
        "#### Print All Parameters Shapes of Reference Model"
      ]
    },
    {
      "cell_type": "code",
      "execution_count": null,
      "metadata": {
        "id": "jmja-ULQX27q"
      },
      "outputs": [],
      "source": [
        "for name, param in reference_gpt2.named_parameters():\n",
        "    # Only print for first layer\n",
        "    if \".0.\" in name or \"blocks\" not in name:\n",
        "        print(f\"{name:18} {tuple(param.shape)}\")"
      ]
    },
    {
      "cell_type": "markdown",
      "metadata": {
        "id": "XapWC6t2X27q"
      },
      "source": [
        "[This diagram](https://raw.githubusercontent.com/chloeli-15/ARENA_img/main/img/full-merm.svg) shows the name of all activations and parameters in a fully general transformer model from transformerlens (except for a few at the start and end, like the embedding and unembedding). Lots of this won't make sense at first, but you can return to this diagram later and check that you understand most/all parts of it.\n",
        "\n",
        "There's also an annotated version [here](https://raw.githubusercontent.com/chloeli-15/ARENA_img/main/img/transformer-full-updated.png)."
      ]
    },
    {
      "cell_type": "markdown",
      "metadata": {
        "id": "751ul_4TX27q"
      },
      "source": [
        "### Config\n",
        "\n",
        "The config object contains all the hyperparameters of the model. We can print the config of the reference model to see what it contains:"
      ]
    },
    {
      "cell_type": "code",
      "execution_count": null,
      "metadata": {
        "id": "i752vxk2X27q"
      },
      "outputs": [],
      "source": [
        "# As a reference - note there's a lot of stuff we don't care about in here, to do with library internals or other architectures\n",
        "print(reference_gpt2.cfg)"
      ]
    },
    {
      "cell_type": "markdown",
      "metadata": {
        "id": "p0JWHalqX27q"
      },
      "source": [
        "We define a stripped down config for our model:"
      ]
    },
    {
      "cell_type": "code",
      "execution_count": null,
      "metadata": {
        "id": "WYzyK_ReX27q"
      },
      "outputs": [],
      "source": [
        "@dataclass\n",
        "class Config:\n",
        "    d_model: int = 768\n",
        "    debug: bool = True\n",
        "    layer_norm_eps: float = 1e-5\n",
        "    d_vocab: int = 50257\n",
        "    init_range: float = 0.02\n",
        "    n_ctx: int = 1024\n",
        "    d_head: int = 64\n",
        "    d_mlp: int = 3072\n",
        "    n_heads: int = 12\n",
        "    n_layers: int = 12\n",
        "\n",
        "\n",
        "cfg = Config()\n",
        "print(cfg)"
      ]
    },
    {
      "cell_type": "markdown",
      "metadata": {
        "id": "iuT5T4CiX27q"
      },
      "source": [
        "### Tests\n",
        "\n",
        "Tests are great, write lightweight ones to use as you go!\n",
        "\n",
        "**Naive test:** Generate random inputs of the right shape, input to your model, check whether there's an error and print the correct output."
      ]
    },
    {
      "cell_type": "code",
      "execution_count": null,
      "metadata": {
        "id": "muVOdQnkX27q"
      },
      "outputs": [],
      "source": [
        "def rand_float_test(cls, shape):\n",
        "    cfg = Config(debug=True)\n",
        "    layer = cls(cfg).to(device)\n",
        "    random_input = t.randn(shape).to(device)\n",
        "    print(\"Input shape:\", random_input.shape)\n",
        "    output = layer(random_input)\n",
        "    if isinstance(output, tuple):\n",
        "        output = output[0]\n",
        "    print(\"Output shape:\", output.shape, \"\\n\")\n",
        "\n",
        "\n",
        "def rand_int_test(cls, shape):\n",
        "    cfg = Config(debug=True)\n",
        "    layer = cls(cfg).to(device)\n",
        "    random_input = t.randint(100, 1000, shape).to(device)\n",
        "    print(\"Input shape:\", random_input.shape)\n",
        "    output = layer(random_input)\n",
        "    if isinstance(output, tuple):\n",
        "        output = output[0]\n",
        "    print(\"Output shape:\", output.shape, \"\\n\")\n",
        "\n",
        "\n",
        "def load_gpt2_test(cls, gpt2_layer, input):\n",
        "    cfg = Config(debug=True)\n",
        "    layer = cls(cfg).to(device)\n",
        "    layer.load_state_dict(gpt2_layer.state_dict(), strict=False)\n",
        "    print(\"Input shape:\", input.shape)\n",
        "    output = layer(input)\n",
        "    if isinstance(output, tuple):\n",
        "        output = output[0]\n",
        "    print(\"Output shape:\", output.shape)\n",
        "    try:\n",
        "        reference_output = gpt2_layer(input)\n",
        "    except:\n",
        "        reference_output = gpt2_layer(input, input, input)\n",
        "    print(\"Reference output shape:\", reference_output.shape, \"\\n\")\n",
        "    comparison = t.isclose(output, reference_output, atol=1e-4, rtol=1e-3)\n",
        "    print(f\"{comparison.sum() / comparison.numel():.2%} of the values are correct\\n\")\n",
        "    assert 1 - (comparison.sum() / comparison.numel()) < 1e-5, (\n",
        "        \"More than 0.01% of the values are incorrect\"\n",
        "    )"
      ]
    },
    {
      "cell_type": "markdown",
      "metadata": {
        "id": "6C3iqNOcX27q"
      },
      "source": [
        "### Exercise - implement `LayerNorm`\n",
        "\n",
        "> ```yaml\n",
        "> Difficulty: 🔴🔴🔴⚪⚪\n",
        "> Importance: 🔵🔵🔵⚪⚪\n",
        ">\n",
        "> You should spend up to 10-15 minutes on this exercise.\n",
        "> ```\n",
        "\n",
        "You should fill in the code below, and then run the tests to verify that your layer is working correctly.\n",
        "\n",
        "Your LayerNorm should do the following:\n",
        "\n",
        "* Make mean 0\n",
        "* Normalize to have variance 1\n",
        "* Scale with learned weights\n",
        "* Translate with learned bias\n",
        "\n",
        "You can use the PyTorch [LayerNorm documentation](https://pytorch.org/docs/stable/generated/torch.nn.LayerNorm.html) as a reference. A few more notes:\n",
        "\n",
        "* Your layernorm implementation always has `affine=True`, i.e. you do learn parameters `w` and `b` (which are represented as $\\gamma$ and $\\beta$ respectively in the PyTorch documentation).\n",
        "* Remember that, after the centering and normalization, each vector of length `d_model` in your input should have mean 0 and variance 1.\n",
        "* As the PyTorch documentation page says, your variance should be computed using `unbiased=False`.\n",
        "* The `layer_norm_eps` argument in your config object corresponds to the $\\epsilon$ term in the PyTorch documentation (it is included to avoid division-by-zero errors).\n",
        "* We've given you a `debug` argument in your config. If `debug=True`, then you can print output like the shape of objects in your `forward` function to help you debug (this is a very useful trick to improve your coding speed).\n",
        "\n",
        "Fill in the function, where it says `raise NotImplementedError()` (this will be the basic pattern for most other exercises in this section)."
      ]
    },
    {
      "cell_type": "code",
      "execution_count": null,
      "metadata": {
        "id": "zOwWZDNaX27q"
      },
      "outputs": [],
      "source": [
        "class LayerNorm(nn.Module):\n",
        "    def __init__(self, cfg: Config):\n",
        "        super().__init__()\n",
        "        self.cfg = cfg\n",
        "        self.w = nn.Parameter(t.ones(cfg.d_model))\n",
        "        self.b = nn.Parameter(t.zeros(cfg.d_model))\n",
        "\n",
        "    def forward(\n",
        "        self, residual: Float[Tensor, \"batch posn d_model\"]\n",
        "    ) -> Float[Tensor, \"batch posn d_model\"]:\n",
        "        raise NotImplementedError()\n",
        "\n",
        "\n",
        "rand_float_test(LayerNorm, [2, 4, 768])\n",
        "load_gpt2_test(LayerNorm, reference_gpt2.ln_final, cache[\"resid_post\", 11])"
      ]
    },
    {
      "cell_type": "markdown",
      "metadata": {
        "id": "Vt5bsc_VX27q"
      },
      "source": [
        "<details><summary>Solution</summary>\n",
        "\n",
        "```python\n",
        "class LayerNorm(nn.Module):\n",
        "    def __init__(self, cfg: Config):\n",
        "        super().__init__()\n",
        "        self.cfg = cfg\n",
        "        self.w = nn.Parameter(t.ones(cfg.d_model))\n",
        "        self.b = nn.Parameter(t.zeros(cfg.d_model))\n",
        "\n",
        "    def forward(\n",
        "        self, residual: Float[Tensor, \"batch posn d_model\"]\n",
        "    ) -> Float[Tensor, \"batch posn d_model\"]:\n",
        "        residual_mean = residual.mean(dim=-1, keepdim=True)\n",
        "        residual_std = (\n",
        "            residual.var(dim=-1, keepdim=True, unbiased=False) + self.cfg.layer_norm_eps\n",
        "        ).sqrt()\n",
        "\n",
        "        residual = (residual - residual_mean) / residual_std\n",
        "        return residual * self.w + self.b\n",
        "```\n",
        "</details>"
      ]
    },
    {
      "cell_type": "markdown",
      "metadata": {
        "id": "EVtAu_TwX27q"
      },
      "source": [
        "### Exercise - implement `Embed`\n",
        "\n",
        "> ```yaml\n",
        "> Difficulty: 🔴🔴⚪⚪⚪\n",
        "> Importance: 🔵🔵🔵⚪⚪\n",
        ">\n",
        "> You should spend up to 5-10 minutes on this exercise.\n",
        "> ```\n",
        "\n",
        "This is basically a lookup table from tokens to residual stream vectors.\n",
        "\n",
        "(Hint - you can implement this in just one line, without any complicated functions. If you've been working on it for >10 mins, you're probably overthinking it!)"
      ]
    },
    {
      "cell_type": "code",
      "execution_count": null,
      "metadata": {
        "id": "GkP6gjrNX27q"
      },
      "outputs": [],
      "source": [
        "class Embed(nn.Module):\n",
        "    def __init__(self, cfg: Config):\n",
        "        super().__init__()\n",
        "        self.cfg = cfg\n",
        "        self.W_E = nn.Parameter(t.empty((cfg.d_vocab, cfg.d_model)))\n",
        "        nn.init.normal_(self.W_E, std=self.cfg.init_range)\n",
        "\n",
        "    def forward(\n",
        "        self, tokens: Int[Tensor, \"batch position\"]\n",
        "    ) -> Float[Tensor, \"batch position d_model\"]:\n",
        "        raise NotImplementedError()\n",
        "\n",
        "\n",
        "rand_int_test(Embed, [2, 4])\n",
        "load_gpt2_test(Embed, reference_gpt2.embed, tokens)"
      ]
    },
    {
      "cell_type": "markdown",
      "metadata": {
        "id": "20i1Q1FxX27r"
      },
      "source": [
        "<details>\n",
        "<summary>Help - I keep getting <code>RuntimeError: CUDA error: device-side assert triggered</code>.</summary>\n",
        "\n",
        "This is a uniquely frustrating type of error message, because it (1) forces you to restart the kernel, and (2) often won't tell you where the error message actually originated from!\n",
        "\n",
        "You can fix the second problem by adding the line `os.environ['CUDA_LAUNCH_BLOCKING'] = \"1\"` to the very top of your file (after importing `os`). This won't fix your bug, but it makes sure the correct origin point is identified.\n",
        "\n",
        "As for actually fixing the bug, this error usually ends up being the result of bad indexing, e.g. you're trying to apply an embedding layer to tokens which are larger than your maximum embedding.\n",
        "</details>\n",
        "\n",
        "\n",
        "<details><summary>Solution</summary>\n",
        "\n",
        "```python\n",
        "class Embed(nn.Module):\n",
        "    def __init__(self, cfg: Config):\n",
        "        super().__init__()\n",
        "        self.cfg = cfg\n",
        "        self.W_E = nn.Parameter(t.empty((cfg.d_vocab, cfg.d_model)))\n",
        "        nn.init.normal_(self.W_E, std=self.cfg.init_range)\n",
        "\n",
        "    def forward(\n",
        "        self, tokens: Int[Tensor, \"batch position\"]\n",
        "    ) -> Float[Tensor, \"batch position d_model\"]:\n",
        "        return self.W_E[tokens]\n",
        "```\n",
        "</details>"
      ]
    },
    {
      "cell_type": "markdown",
      "metadata": {
        "id": "rDl2Gf5jX27r"
      },
      "source": [
        "### Exercise - implement `PosEmbed`\n",
        "\n",
        "> ```yaml\n",
        "> Difficulty: 🔴🔴⚪⚪⚪\n",
        "> Importance: 🔵🔵🔵⚪⚪\n",
        ">\n",
        "> You should spend up to 10-15 minutes on this exercise.\n",
        "> ```\n",
        "\n",
        "Positional embedding can also be thought of as a lookup table, but rather than the indices being our token IDs, the indices are just the numbers `0`, `1`, `2`, ..., `seq_len-1` (i.e. the position indices of the tokens in the sequence)."
      ]
    },
    {
      "cell_type": "code",
      "execution_count": null,
      "metadata": {
        "id": "kMMzGuTeX27r"
      },
      "outputs": [],
      "source": [
        "class PosEmbed(nn.Module):\n",
        "    def __init__(self, cfg: Config):\n",
        "        super().__init__()\n",
        "        self.cfg = cfg\n",
        "        self.W_pos = nn.Parameter(t.empty((cfg.n_ctx, cfg.d_model)))\n",
        "        nn.init.normal_(self.W_pos, std=self.cfg.init_range)\n",
        "\n",
        "    def forward(\n",
        "        self, tokens: Int[Tensor, \"batch position\"]\n",
        "    ) -> Float[Tensor, \"batch position d_model\"]:\n",
        "        raise NotImplementedError()\n",
        "\n",
        "\n",
        "rand_int_test(PosEmbed, [2, 4])\n",
        "load_gpt2_test(PosEmbed, reference_gpt2.pos_embed, tokens)"
      ]
    },
    {
      "cell_type": "markdown",
      "metadata": {
        "id": "SvhaU_NgX27r"
      },
      "source": [
        "<details><summary>Solution</summary>\n",
        "\n",
        "```python\n",
        "class PosEmbed(nn.Module):\n",
        "    def __init__(self, cfg: Config):\n",
        "        super().__init__()\n",
        "        self.cfg = cfg\n",
        "        self.W_pos = nn.Parameter(t.empty((cfg.n_ctx, cfg.d_model)))\n",
        "        nn.init.normal_(self.W_pos, std=self.cfg.init_range)\n",
        "\n",
        "    def forward(\n",
        "        self, tokens: Int[Tensor, \"batch position\"]\n",
        "    ) -> Float[Tensor, \"batch position d_model\"]:\n",
        "        batch, seq_len = tokens.shape\n",
        "        return einops.repeat(self.W_pos[:seq_len], \"seq d_model -> batch seq d_model\", batch=batch)\n",
        "```\n",
        "</details>"
      ]
    },
    {
      "cell_type": "markdown",
      "metadata": {
        "id": "3h0DbreXX27r"
      },
      "source": [
        "### Exercise - implement `apply_causal_mask`\n",
        "\n",
        "> ```yaml\n",
        "> Difficulty: 🔴🔴⚪⚪⚪\n",
        "> Importance: 🔵🔵🔵🔵🔵\n",
        ">\n",
        "> You should spend up to 10-15 minutes on this exercise.\n",
        "> ```\n",
        "\n",
        "The causal mask function will be a method of the `Attention` class.\n",
        "It will take in attention scores, and apply a mask to them so that the model\n",
        "can only attend to previous positions (i.e. the model can't cheat by looking at future positions).\n",
        "We will implement this function first, and test it, before moving onto the `forward` method\n",
        "of the `Attention` class.\n",
        "\n",
        "A few hints:\n",
        "\n",
        "* You can use [`torch.where`](https://pytorch.org/docs/stable/generated/torch.where.html), or the [`torch.masked_fill_`](https://pytorch.org/docs/stable/generated/torch.Tensor.masked_fill.html) function when masking the attention scores.\n",
        "* The [`torch.triu`](https://pytorch.org/docs/stable/generated/torch.triu.html) function is useful for creating a mask that is True for all positions we want to set probabilities to zero for.\n",
        "* Make sure to use the `self.IGNORE` attribute to set the masked positions to negative infinity.\n",
        "<details>\n",
        "<summary>Question - why do you think we mask the attention scores by setting them to negative infinity, rather than the attention probabilities by setting them to zero?</summary>\n",
        "\n",
        "If we masked the attention probabilities, then the probabilities would no longer sum to 1.\n",
        "\n",
        "We want to mask the scores and *then* take softmax, so that the probabilities are still valid probabilities (i.e. they sum to 1), and the values in the masked positions have no influence on the model's output.\n",
        "</details>"
      ]
    },
    {
      "cell_type": "code",
      "execution_count": null,
      "metadata": {
        "id": "T2VxQF02X27r"
      },
      "outputs": [],
      "source": [
        "class Attention(nn.Module):\n",
        "    IGNORE: Float[Tensor, \"\"]\n",
        "\n",
        "    def __init__(self, cfg: Config):\n",
        "        super().__init__()\n",
        "        self.cfg = cfg\n",
        "        self.register_buffer(\"IGNORE\", t.tensor(float(\"-inf\"), dtype=t.float32, device=device))\n",
        "\n",
        "    def apply_causal_mask(\n",
        "        self,\n",
        "        attn_scores: Float[Tensor, \"batch n_heads query_pos key_pos\"],\n",
        "    ) -> Float[Tensor, \"batch n_heads query_pos key_pos\"]:\n",
        "        \"\"\"\n",
        "        Applies a causal mask to attention scores, and returns masked scores.\n",
        "        \"\"\"\n",
        "        raise NotImplementedError()\n",
        "\n",
        "\n",
        "tests.test_causal_mask(Attention.apply_causal_mask)"
      ]
    },
    {
      "cell_type": "markdown",
      "metadata": {
        "id": "pnbwIdSDX27r"
      },
      "source": [
        "<details>\n",
        "<summary>Hint (pseudocode)</summary>\n",
        "\n",
        "```python\n",
        "def apply_causal_mask(\n",
        "    self, attn_scores: Float[Tensor, \"batch n_heads query_pos key_pos\"]\n",
        "    ) -> Float[Tensor, \"batch n_heads query_pos key_pos\"]:\n",
        "\n",
        "    # Define a mask that is True for all positions we want to set probabilities to zero for\n",
        "\n",
        "    # Apply the mask to attention scores, then return the masked scores\n",
        "```\n",
        "</details>\n",
        "\n",
        "\n",
        "<details><summary>Solution</summary>\n",
        "\n",
        "```python\n",
        "class Attention(nn.Module):\n",
        "    IGNORE: Float[Tensor, \"\"]\n",
        "\n",
        "    def __init__(self, cfg: Config):\n",
        "        super().__init__()\n",
        "        self.cfg = cfg\n",
        "        self.register_buffer(\"IGNORE\", t.tensor(float(\"-inf\"), dtype=t.float32, device=device))\n",
        "\n",
        "    def apply_causal_mask(\n",
        "        self,\n",
        "        attn_scores: Float[Tensor, \"batch n_heads query_pos key_pos\"],\n",
        "    ) -> Float[Tensor, \"batch n_heads query_pos key_pos\"]:\n",
        "        \"\"\"\n",
        "        Applies a causal mask to attention scores, and returns masked scores.\n",
        "        \"\"\"\n",
        "        # Define a mask that is True for all positions we want to set probabilities to zero for\n",
        "        all_ones = t.ones(attn_scores.size(-2), attn_scores.size(-1), device=attn_scores.device)\n",
        "        mask = t.triu(all_ones, diagonal=1).bool()\n",
        "        # Apply the mask to attention scores, then return the masked scores\n",
        "        attn_scores.masked_fill_(mask, self.IGNORE)\n",
        "        return attn_scores\n",
        "```\n",
        "</details>"
      ]
    },
    {
      "cell_type": "markdown",
      "metadata": {
        "id": "htjZ4PTKX27r"
      },
      "source": [
        "### Exercise - implement `Attention`\n",
        "\n",
        "> ```yaml\n",
        "> Difficulty: 🔴🔴🔴🔴⚪\n",
        "> Importance: 🔵🔵🔵🔵🔵\n",
        ">\n",
        "> You should spend up to 30-45 minutes on this exercise.\n",
        "> ```\n",
        "\n",
        "* **Step 1:** Produce an attention pattern - for each destination token, probability distribution over previous tokens (including current token)\n",
        "    * Linear map from input -> query, key shape `[batch, seq_posn, head_index, d_head]`\n",
        "    * Dot product every *pair* of queries and keys to get attn_scores `[batch, head_index, query_pos, key_pos]` (query = dest, key = source)\n",
        "    * **Scale** and mask `attn_scores` to make it lower triangular, i.e. causal\n",
        "    * Softmax along the `key_pos` dimension, to get a probability distribution for each query (destination) token - this is our attention pattern!\n",
        "* **Step 2:** Move information from source tokens to destination token using attention pattern (move = apply linear map)\n",
        "    * Linear map from input -> value `[batch, key_pos, head_index, d_head]`\n",
        "    * Mix along the `key_pos` with attn pattern to get `z`, which is a weighted average of the value vectors `[batch, query_pos, head_index, d_head]`\n",
        "    * Map to output, `[batch, position, d_model]` (position = query_pos, we've summed over all heads)\n",
        "\n",
        "Note - when we say **scale**, we mean dividing by `sqrt(d_head)`. The purpose of this is to avoid vanishing gradients (which is a big problem when we're dealing with a function like softmax - if one of the values is much larger than all the others, the probabilities will be close to 0 or 1, and the gradients will be close to 0).\n",
        "\n",
        "Below is a much larger, more detailed version of the attention head diagram from earlier. This should give you an idea of the actual tensor operations involved. A few clarifications on this diagram:\n",
        "\n",
        "* Whenever there is a third dimension shown in the pictures, this refers to the `head_index` dimension. We can see that all operations within the attention layer are done independently for each head.\n",
        "* The objects in the box are activations; they have a batch dimension (for simplicity, we assume the batch dimension is 1 in the diagram). The objects to the right of the box are our parameters (weights and biases); they have no batch dimension.\n",
        "* We arrange the keys, queries and values as `(batch, seq_pos, head_idx, d_head)`, because the biases have shape `(head_idx, d_head)`, so this makes it convenient to add the biases (recall the rules of array broadcasting!)."
      ]
    },
    {
      "cell_type": "markdown",
      "metadata": {
        "id": "DG0Jfw5ZX27r"
      },
      "source": [
        "<img src=\"https://raw.githubusercontent.com/chloeli-15/ARENA_img/main/img/transformer-attn-30.png\" width=\"1400\">"
      ]
    },
    {
      "cell_type": "markdown",
      "metadata": {
        "id": "dQYBqQthX27r"
      },
      "source": [
        "<details>\n",
        "<summary><b>A few extra notes on attention (optional)</b></summary>\n",
        "\n",
        "<!-- Usually we have the relation `e = n * h` (i.e. `d_model = num_heads * d_head`). There are some computational justifications for this, but mostly this is just done out of convention (just like how we usually have `d_mlp = 4 * d_model`!). -->\n",
        "\n",
        "Here, we cover some details related to the mathematical formulation of attention heads (and in particular the separation of **QK** and **OV** circuits), which is something we dive a lot deeper into in the next set of exercises in this chapter.\n",
        "\n",
        "The **QK** circuit consists of the operation of the $W_Q$ and $W_K$ matrices. In other words, it determines the attention pattern, i.e. where information is moved to and from in the residual stream. The functional form of the attention pattern $A$ is:\n",
        "\n",
        "$$\n",
        "A = \\text{softmax}\\left(\\frac{x W_Q W_K^T x^T}{\\sqrt{d_{head}}}\\right)\n",
        "$$\n",
        "\n",
        "where $x$ is the residual stream (shape `[seq_len, d_model]`), and $W_Q$, $W_K$ are the weight matrices for a single head (i.e. shape `[d_model, d_head]`).\n",
        "\n",
        "The **OV** circuit consists of the operation of the $W_V$ and $W_O$ matrices. Once attention patterns are fixed, these matrices operate on the residual stream at the source position, and their output is the thing which gets moved from source to destination position.\n",
        "\n",
        "The diagram below shows the functional form of the OV circuit. The QK circuit (pink) is responsible for causing the destination token to attend to the source token, and the OV circuit (light brown) is what actually maps the source token data into the information we'll send to the destination token.\n",
        "\n",
        "<img src=\"https://raw.githubusercontent.com/chloeli-15/ARENA_img/refs/heads/main/img/qkv.png\" width=\"800\">\n",
        "\n",
        "The functional form of an entire attention head is:\n",
        "\n",
        "$$\n",
        "\\begin{aligned}\n",
        "\\text{output} &= \\text{softmax}\\left(\\frac{x W_Q W_K^T x^T}{\\sqrt{d_{head}}}\\right) (x W_V W_O) \\\\\n",
        "    &= Ax W_V W_O\n",
        "\\end{aligned}\n",
        "$$\n",
        "\n",
        "where $W_V$ has shape `[d_model, d_head]`, and $W_O$ has shape `[d_head, d_model]`.\n",
        "\n",
        "Here, we can clearly see that the **QK circuit** and **OV circuit** are doing conceptually different things, and should be thought of as two distinct parts of the attention head.\n",
        "\n",
        "Again, don't worry if you don't follow all of this right now - we'll go into **much** more detail on all of this in subsequent exercises. The purpose of the discussion here is just to give you a flavour of what's to come!\n",
        "\n",
        "</details>"
      ]
    },
    {
      "cell_type": "markdown",
      "metadata": {
        "id": "q9QsMxdQX27r"
      },
      "source": [
        "First, it's useful to visualize and play around with attention patterns - what exactly are we looking at here? (Click on a head to lock onto just showing that head's pattern, it'll make it easier to interpret)"
      ]
    },
    {
      "cell_type": "code",
      "execution_count": null,
      "metadata": {
        "id": "fnivQD8GX27r"
      },
      "outputs": [],
      "source": [
        "import circuitsvis as cv\n",
        "from IPython.display import display\n",
        "\n",
        "display(\n",
        "    cv.attention.attention_patterns(\n",
        "        tokens=reference_gpt2.to_str_tokens(reference_text), attention=cache[\"pattern\", 0][0]\n",
        "    )\n",
        ")"
      ]
    },
    {
      "cell_type": "markdown",
      "metadata": {
        "id": "Gk5Q9ERRX27r"
      },
      "source": [
        "You can also use the `attention_heads` function, which presents the data in a different way (the syntax is exactly the same as `attention_patterns`). Note, if you display this in VSCode then it may exhibit a bug where the main plot continually shrinks in size - if this happens, you should instead save the HTML (i.e. with `html = cv.attention.attention_heads(...); with open(\"attn_heads.html\", \"w\") as f: f.write(str(html))`) and open the plot in your browser.\n",
        "\n",
        "<!-- <details>\n",
        "<summary>Help - my <code>attention_heads</code> plots are behaving weirdly.</summary>\n",
        "\n",
        "This seems to be a bug in `circuitsvis` - on VSCode, the attention head plots continually shrink in size.\n",
        "\n",
        "Until this is fixed, one way to get around it is to open the plots in your browser. You can do this inline with the `webbrowser` library:\n",
        "\n",
        "```python\n",
        "attn_heads = cv.attention.attention_heads(\n",
        "    tokens=reference_gpt2.to_str_tokens(reference_text),\n",
        "    attention=cache[\"pattern\", 0][0]\n",
        ")\n",
        "\n",
        "path = \"attn_heads.html\"\n",
        "\n",
        "with open(path, \"w\") as f:\n",
        "    f.write(str(attn_heads))\n",
        "\n",
        "webbrowser.open(path)\n",
        "```\n",
        "\n",
        "To check exactly where this is getting saved, you can print your current working directory with `os.getcwd()`.\n",
        "</details> -->"
      ]
    },
    {
      "cell_type": "code",
      "execution_count": null,
      "metadata": {
        "id": "lYey4K5RX27r"
      },
      "outputs": [],
      "source": [
        "display(\n",
        "    cv.attention.attention_heads(\n",
        "        tokens=reference_gpt2.to_str_tokens(reference_text), attention=cache[\"pattern\", 0][0]\n",
        "    )\n",
        ")"
      ]
    },
    {
      "cell_type": "markdown",
      "metadata": {
        "id": "wHXOGpGEX27r"
      },
      "source": [
        "You should fill in the forward method for `Attention` below. You should also copy your code for `apply_causal_mask` to this new implementation of `Attention` (you can delete the rest of the old implementation code).\n",
        "\n",
        "Note, this implementation will probably be the most challenging exercise on this page, so don't worry if it takes you some time! You should look at parts of the solution if you're stuck. A few tips:\n",
        "\n",
        "* Don't forget the attention score scaling (this should come before the masking).\n",
        "* Try not to combine a large number of operations into a single line of code.\n",
        "* Try to make your variable names descriptive (i.e. it's not just `x = some_fn_of(x), x = some_other_fn_of(x), ...`)."
      ]
    },
    {
      "cell_type": "code",
      "execution_count": null,
      "metadata": {
        "id": "U8-lhKuLX27r"
      },
      "outputs": [],
      "source": [
        "class Attention(nn.Module):\n",
        "    IGNORE: Float[Tensor, \"\"]\n",
        "\n",
        "    def __init__(self, cfg: Config):\n",
        "        super().__init__()\n",
        "        self.cfg = cfg\n",
        "        self.W_Q = nn.Parameter(t.empty((cfg.n_heads, cfg.d_model, cfg.d_head)))\n",
        "        self.W_K = nn.Parameter(t.empty((cfg.n_heads, cfg.d_model, cfg.d_head)))\n",
        "        self.W_V = nn.Parameter(t.empty((cfg.n_heads, cfg.d_model, cfg.d_head)))\n",
        "        self.W_O = nn.Parameter(t.empty((cfg.n_heads, cfg.d_head, cfg.d_model)))\n",
        "        self.b_Q = nn.Parameter(t.zeros((cfg.n_heads, cfg.d_head)))\n",
        "        self.b_K = nn.Parameter(t.zeros((cfg.n_heads, cfg.d_head)))\n",
        "        self.b_V = nn.Parameter(t.zeros((cfg.n_heads, cfg.d_head)))\n",
        "        self.b_O = nn.Parameter(t.zeros((cfg.d_model)))\n",
        "        nn.init.normal_(self.W_Q, std=self.cfg.init_range)\n",
        "        nn.init.normal_(self.W_K, std=self.cfg.init_range)\n",
        "        nn.init.normal_(self.W_V, std=self.cfg.init_range)\n",
        "        nn.init.normal_(self.W_O, std=self.cfg.init_range)\n",
        "        self.register_buffer(\"IGNORE\", t.tensor(float(\"-inf\"), dtype=t.float32, device=device))\n",
        "\n",
        "    def forward(\n",
        "        self, normalized_resid_pre: Float[Tensor, \"batch posn d_model\"]\n",
        "    ) -> Float[Tensor, \"batch posn d_model\"]:\n",
        "        raise NotImplementedError()\n",
        "\n",
        "    def apply_causal_mask(\n",
        "        self, attn_scores: Float[Tensor, \"batch n_heads query_pos key_pos\"]\n",
        "    ) -> Float[Tensor, \"batch n_heads query_pos key_pos\"]:\n",
        "        \"\"\"\n",
        "        Applies a causal mask to attention scores, and returns masked scores.\n",
        "        \"\"\"\n",
        "        # You should copy your solution from earlier\n",
        "        raise NotImplementedError()\n",
        "\n",
        "\n",
        "tests.test_causal_mask(Attention.apply_causal_mask)\n",
        "rand_float_test(Attention, [2, 4, 768])\n",
        "load_gpt2_test(Attention, reference_gpt2.blocks[0].attn, cache[\"normalized\", 0, \"ln1\"])"
      ]
    },
    {
      "cell_type": "markdown",
      "metadata": {
        "id": "XAGI-BC3X27r"
      },
      "source": [
        "<details>\n",
        "<summary>Hint (pseudocode for the forward method)</summary>\n",
        "\n",
        "```python\n",
        "def forward(\n",
        "    self, normalized_resid_pre: Float[Tensor, \"batch posn d_model\"]\n",
        ") -> Float[Tensor, \"batch posn d_model\"]:\n",
        "\n",
        "    # Calculate query, key and value vectors\n",
        "    q, k, v = ...\n",
        "\n",
        "    # Calculate attention scores, then scale and mask, and apply softmax to get probabilities\n",
        "    attn_scores = ...\n",
        "    attn_scores_masked = ...\n",
        "    attn_pattern = ...\n",
        "\n",
        "    # Take weighted sum of value vectors, according to attention probabilities\n",
        "    z = ...\n",
        "\n",
        "    # Calculate output (by applying matrix W_O and summing over heads, then adding bias b_O)\n",
        "    attn_out = ...\n",
        "    return attn_out\n",
        "```\n",
        "</details>\n",
        "\n",
        "\n",
        "<details><summary>Solution</summary>\n",
        "\n",
        "```python\n",
        "class Attention(nn.Module):\n",
        "    IGNORE: Float[Tensor, \"\"]\n",
        "\n",
        "    def __init__(self, cfg: Config):\n",
        "        super().__init__()\n",
        "        self.cfg = cfg\n",
        "        self.W_Q = nn.Parameter(t.empty((cfg.n_heads, cfg.d_model, cfg.d_head)))\n",
        "        self.W_K = nn.Parameter(t.empty((cfg.n_heads, cfg.d_model, cfg.d_head)))\n",
        "        self.W_V = nn.Parameter(t.empty((cfg.n_heads, cfg.d_model, cfg.d_head)))\n",
        "        self.W_O = nn.Parameter(t.empty((cfg.n_heads, cfg.d_head, cfg.d_model)))\n",
        "        self.b_Q = nn.Parameter(t.zeros((cfg.n_heads, cfg.d_head)))\n",
        "        self.b_K = nn.Parameter(t.zeros((cfg.n_heads, cfg.d_head)))\n",
        "        self.b_V = nn.Parameter(t.zeros((cfg.n_heads, cfg.d_head)))\n",
        "        self.b_O = nn.Parameter(t.zeros((cfg.d_model)))\n",
        "        nn.init.normal_(self.W_Q, std=self.cfg.init_range)\n",
        "        nn.init.normal_(self.W_K, std=self.cfg.init_range)\n",
        "        nn.init.normal_(self.W_V, std=self.cfg.init_range)\n",
        "        nn.init.normal_(self.W_O, std=self.cfg.init_range)\n",
        "        self.register_buffer(\"IGNORE\", t.tensor(float(\"-inf\"), dtype=t.float32, device=device))\n",
        "\n",
        "    def forward(\n",
        "        self, normalized_resid_pre: Float[Tensor, \"batch posn d_model\"]\n",
        "    ) -> Float[Tensor, \"batch posn d_model\"]:\n",
        "        # Calculate query, key and value vectors\n",
        "        q = (\n",
        "            einops.einsum(\n",
        "                normalized_resid_pre,\n",
        "                self.W_Q,\n",
        "                \"batch posn d_model, nheads d_model d_head -> batch posn nheads d_head\",\n",
        "            )\n",
        "            + self.b_Q\n",
        "        )\n",
        "        k = (\n",
        "            einops.einsum(\n",
        "                normalized_resid_pre,\n",
        "                self.W_K,\n",
        "                \"batch posn d_model, nheads d_model d_head -> batch posn nheads d_head\",\n",
        "            )\n",
        "            + self.b_K\n",
        "        )\n",
        "        v = (\n",
        "            einops.einsum(\n",
        "                normalized_resid_pre,\n",
        "                self.W_V,\n",
        "                \"batch posn d_model, nheads d_model d_head -> batch posn nheads d_head\",\n",
        "            )\n",
        "            + self.b_V\n",
        "        )\n",
        "\n",
        "        # Calculate attention scores, then scale and mask, and apply softmax to get probabilities\n",
        "        attn_scores = einops.einsum(\n",
        "            q,\n",
        "            k,\n",
        "            \"batch posn_Q nheads d_head, batch posn_K nheads d_head -> batch nheads posn_Q posn_K\",\n",
        "        )\n",
        "        attn_scores_masked = self.apply_causal_mask(attn_scores / self.cfg.d_head**0.5)\n",
        "        attn_pattern = attn_scores_masked.softmax(-1)\n",
        "\n",
        "        # Take weighted sum of value vectors, according to attention probabilities\n",
        "        z = einops.einsum(\n",
        "            v,\n",
        "            attn_pattern,\n",
        "            \"batch posn_K nheads d_head, batch nheads posn_Q posn_K -> batch posn_Q nheads d_head\",\n",
        "        )\n",
        "\n",
        "        # Calculate output (by applying matrix W_O and summing over heads, then adding bias b_O)\n",
        "        attn_out = (\n",
        "            einops.einsum(\n",
        "                z,\n",
        "                self.W_O,\n",
        "                \"batch posn_Q nheads d_head, nheads d_head d_model -> batch posn_Q d_model\",\n",
        "            )\n",
        "            + self.b_O\n",
        "        )\n",
        "\n",
        "        return attn_out\n",
        "\n",
        "    def apply_causal_mask(\n",
        "        self, attn_scores: Float[Tensor, \"batch n_heads query_pos key_pos\"]\n",
        "    ) -> Float[Tensor, \"batch n_heads query_pos key_pos\"]:\n",
        "        \"\"\"\n",
        "        Applies a causal mask to attention scores, and returns masked scores.\n",
        "        \"\"\"\n",
        "        # Define a mask that is True for all positions we want to set probabilities to zero for\n",
        "        all_ones = t.ones(attn_scores.size(-2), attn_scores.size(-1), device=attn_scores.device)\n",
        "        mask = t.triu(all_ones, diagonal=1).bool()\n",
        "        # Apply the mask to attention scores, then return the masked scores\n",
        "        attn_scores.masked_fill_(mask, self.IGNORE)\n",
        "        return attn_scores\n",
        "```\n",
        "</details>"
      ]
    },
    {
      "cell_type": "markdown",
      "metadata": {
        "id": "YjE5cqCNX27r"
      },
      "source": [
        "### Exercise - implement `MLP`\n",
        "\n",
        "> ```yaml\n",
        "> Difficulty: 🔴🔴⚪⚪⚪\n",
        "> Importance: 🔵🔵🔵🔵⚪\n",
        ">\n",
        "> You should spend up to 10-15 minutes on this exercise.\n",
        "> ```\n",
        "\n",
        "Next, you should implement the MLP layer, which consists of:\n",
        "\n",
        "* A linear layer, with weight `W_in`, bias `b_in`\n",
        "* A nonlinear function (we usually use GELU; the function `gelu_new` has been imported for this purpose)\n",
        "* A linear layer, with weight `W_out`, bias `b_out`"
      ]
    },
    {
      "cell_type": "code",
      "execution_count": null,
      "metadata": {
        "id": "Nf238fjqX27r"
      },
      "outputs": [],
      "source": [
        "class MLP(nn.Module):\n",
        "    def __init__(self, cfg: Config):\n",
        "        super().__init__()\n",
        "        self.cfg = cfg\n",
        "        self.W_in = nn.Parameter(t.empty((cfg.d_model, cfg.d_mlp)))\n",
        "        self.W_out = nn.Parameter(t.empty((cfg.d_mlp, cfg.d_model)))\n",
        "        self.b_in = nn.Parameter(t.zeros((cfg.d_mlp)))\n",
        "        self.b_out = nn.Parameter(t.zeros((cfg.d_model)))\n",
        "        nn.init.normal_(self.W_in, std=self.cfg.init_range)\n",
        "        nn.init.normal_(self.W_out, std=self.cfg.init_range)\n",
        "\n",
        "    def forward(\n",
        "        self, normalized_resid_mid: Float[Tensor, \"batch posn d_model\"]\n",
        "    ) -> Float[Tensor, \"batch posn d_model\"]:\n",
        "        raise NotImplementedError()\n",
        "\n",
        "\n",
        "rand_float_test(MLP, [2, 4, 768])\n",
        "load_gpt2_test(MLP, reference_gpt2.blocks[0].mlp, cache[\"normalized\", 0, \"ln2\"])"
      ]
    },
    {
      "cell_type": "markdown",
      "metadata": {
        "id": "RR75sZe7X27r"
      },
      "source": [
        "<details><summary>Solution</summary>\n",
        "\n",
        "```python\n",
        "class MLP(nn.Module):\n",
        "    def __init__(self, cfg: Config):\n",
        "        super().__init__()\n",
        "        self.cfg = cfg\n",
        "        self.W_in = nn.Parameter(t.empty((cfg.d_model, cfg.d_mlp)))\n",
        "        self.W_out = nn.Parameter(t.empty((cfg.d_mlp, cfg.d_model)))\n",
        "        self.b_in = nn.Parameter(t.zeros((cfg.d_mlp)))\n",
        "        self.b_out = nn.Parameter(t.zeros((cfg.d_model)))\n",
        "        nn.init.normal_(self.W_in, std=self.cfg.init_range)\n",
        "        nn.init.normal_(self.W_out, std=self.cfg.init_range)\n",
        "\n",
        "    def forward(\n",
        "        self, normalized_resid_mid: Float[Tensor, \"batch posn d_model\"]\n",
        "    ) -> Float[Tensor, \"batch posn d_model\"]:\n",
        "        pre = (\n",
        "            einops.einsum(\n",
        "                normalized_resid_mid,\n",
        "                self.W_in,\n",
        "                \"batch position d_model, d_model d_mlp -> batch position d_mlp\",\n",
        "            )\n",
        "            + self.b_in\n",
        "        )\n",
        "        post = gelu_new(pre)\n",
        "        mlp_out = (\n",
        "            einops.einsum(\n",
        "                post, self.W_out, \"batch position d_mlp, d_mlp d_model -> batch position d_model\"\n",
        "            )\n",
        "            + self.b_out\n",
        "        )\n",
        "        return mlp_out\n",
        "```\n",
        "</details>"
      ]
    },
    {
      "cell_type": "markdown",
      "metadata": {
        "id": "7bWP0BPfX27s"
      },
      "source": [
        "### Exercise - implement `TransformerBlock`\n",
        "\n",
        "> ```yaml\n",
        "> Difficulty: 🔴🔴⚪⚪⚪\n",
        "> Importance: 🔵🔵🔵⚪⚪\n",
        ">\n",
        "> You should spend up to 10-15 minutes on this exercise.\n",
        "> ```\n",
        "\n",
        "Now, we can put together the attention, MLP and layernorms into a single transformer block. Remember to implement the residual connections correctly!"
      ]
    },
    {
      "cell_type": "code",
      "execution_count": null,
      "metadata": {
        "id": "SoP2CjOWX27s"
      },
      "outputs": [],
      "source": [
        "class TransformerBlock(nn.Module):\n",
        "    def __init__(self, cfg: Config):\n",
        "        super().__init__()\n",
        "        self.cfg = cfg\n",
        "        self.ln1 = LayerNorm(cfg)\n",
        "        self.attn = Attention(cfg)\n",
        "        self.ln2 = LayerNorm(cfg)\n",
        "        self.mlp = MLP(cfg)\n",
        "\n",
        "    def forward(\n",
        "        self, resid_pre: Float[Tensor, \"batch position d_model\"]\n",
        "    ) -> Float[Tensor, \"batch position d_model\"]:\n",
        "        raise NotImplementedError()\n",
        "\n",
        "\n",
        "rand_float_test(TransformerBlock, [2, 4, 768])\n",
        "load_gpt2_test(TransformerBlock, reference_gpt2.blocks[0], cache[\"resid_pre\", 0])"
      ]
    },
    {
      "cell_type": "markdown",
      "metadata": {
        "id": "lCJhxBYOX27s"
      },
      "source": [
        "<details>\n",
        "<summary>Help - I'm getting 100% accuracy on all modules before this point, but only about 90% accuracy on this one.</summary>\n",
        "\n",
        "This might be because your layernorm implementation divides by `std + eps` rather than `(var + eps).sqrt()`. The latter matches the implementation used by GPT-2 (and this error only shows up in these tests).\n",
        "\n",
        "</details>\n",
        "\n",
        "\n",
        "<details><summary>Solution</summary>\n",
        "\n",
        "```python\n",
        "class TransformerBlock(nn.Module):\n",
        "    def __init__(self, cfg: Config):\n",
        "        super().__init__()\n",
        "        self.cfg = cfg\n",
        "        self.ln1 = LayerNorm(cfg)\n",
        "        self.attn = Attention(cfg)\n",
        "        self.ln2 = LayerNorm(cfg)\n",
        "        self.mlp = MLP(cfg)\n",
        "\n",
        "    def forward(\n",
        "        self, resid_pre: Float[Tensor, \"batch position d_model\"]\n",
        "    ) -> Float[Tensor, \"batch position d_model\"]:\n",
        "        resid_mid = self.attn(self.ln1(resid_pre)) + resid_pre\n",
        "        resid_post = self.mlp(self.ln2(resid_mid)) + resid_mid\n",
        "        return resid_post\n",
        "```\n",
        "</details>"
      ]
    },
    {
      "cell_type": "markdown",
      "metadata": {
        "id": "fv2iZCLxX27s"
      },
      "source": [
        "### Exercise - implement `Unembed`\n",
        "\n",
        "> ```yaml\n",
        "> Difficulty: 🔴🔴⚪⚪⚪\n",
        "> Importance: 🔵🔵🔵⚪⚪\n",
        ">\n",
        "> You should spend up to ~10 minutes on this exercise.\n",
        "> ```\n",
        "\n",
        "The unembedding is just a linear layer (with weight `W_U` and bias `b_U`)."
      ]
    },
    {
      "cell_type": "code",
      "execution_count": null,
      "metadata": {
        "id": "o5FcD1yoX27s"
      },
      "outputs": [],
      "source": [
        "class Unembed(nn.Module):\n",
        "    def __init__(self, cfg):\n",
        "        super().__init__()\n",
        "        self.cfg = cfg\n",
        "        self.W_U = nn.Parameter(t.empty((cfg.d_model, cfg.d_vocab)))\n",
        "        nn.init.normal_(self.W_U, std=self.cfg.init_range)\n",
        "        self.b_U = nn.Parameter(t.zeros((cfg.d_vocab), requires_grad=False))\n",
        "\n",
        "    def forward(\n",
        "        self, normalized_resid_final: Float[Tensor, \"batch position d_model\"]\n",
        "    ) -> Float[Tensor, \"batch position d_vocab\"]:\n",
        "        raise NotImplementedError()\n",
        "\n",
        "\n",
        "rand_float_test(Unembed, [2, 4, 768])\n",
        "load_gpt2_test(Unembed, reference_gpt2.unembed, cache[\"ln_final.hook_normalized\"])"
      ]
    },
    {
      "cell_type": "markdown",
      "metadata": {
        "id": "SubtXJD5X27s"
      },
      "source": [
        "<details><summary>Solution</summary>\n",
        "\n",
        "```python\n",
        "class Unembed(nn.Module):\n",
        "    def __init__(self, cfg):\n",
        "        super().__init__()\n",
        "        self.cfg = cfg\n",
        "        self.W_U = nn.Parameter(t.empty((cfg.d_model, cfg.d_vocab)))\n",
        "        nn.init.normal_(self.W_U, std=self.cfg.init_range)\n",
        "        self.b_U = nn.Parameter(t.zeros((cfg.d_vocab), requires_grad=False))\n",
        "\n",
        "    def forward(\n",
        "        self, normalized_resid_final: Float[Tensor, \"batch position d_model\"]\n",
        "    ) -> Float[Tensor, \"batch position d_vocab\"]:\n",
        "        return (\n",
        "            einops.einsum(\n",
        "                normalized_resid_final,\n",
        "                self.W_U,\n",
        "                \"batch posn d_model, d_model d_vocab -> batch posn d_vocab\",\n",
        "            )\n",
        "            + self.b_U\n",
        "        )\n",
        "```\n",
        "</details>"
      ]
    },
    {
      "cell_type": "markdown",
      "metadata": {
        "id": "aqo9RRiCX27s"
      },
      "source": [
        "### Exercise - implement `DemoTransformer`\n",
        "\n",
        "> ```yaml\n",
        "> Difficulty: 🔴🔴⚪⚪⚪\n",
        "> Importance: 🔵🔵🔵⚪⚪\n",
        ">\n",
        "> You should spend up to 10-15 minutes on this exercise.\n",
        "> ```"
      ]
    },
    {
      "cell_type": "code",
      "execution_count": null,
      "metadata": {
        "id": "d5bGLwnIX27s"
      },
      "outputs": [],
      "source": [
        "class DemoTransformer(nn.Module):\n",
        "    def __init__(self, cfg: Config):\n",
        "        super().__init__()\n",
        "        self.cfg = cfg\n",
        "        self.embed = Embed(cfg)\n",
        "        self.pos_embed = PosEmbed(cfg)\n",
        "        self.blocks = nn.ModuleList([TransformerBlock(cfg) for _ in range(cfg.n_layers)])\n",
        "        self.ln_final = LayerNorm(cfg)\n",
        "        self.unembed = Unembed(cfg)\n",
        "\n",
        "    def forward(\n",
        "        self, tokens: Int[Tensor, \"batch position\"]\n",
        "    ) -> Float[Tensor, \"batch position d_vocab\"]:\n",
        "        raise NotImplementedError()\n",
        "\n",
        "\n",
        "rand_int_test(DemoTransformer, [2, 4])\n",
        "load_gpt2_test(DemoTransformer, reference_gpt2, tokens)"
      ]
    },
    {
      "cell_type": "markdown",
      "metadata": {
        "id": "Fm8_AQLiX27s"
      },
      "source": [
        "<details><summary>Solution</summary>\n",
        "\n",
        "```python\n",
        "class DemoTransformer(nn.Module):\n",
        "    def __init__(self, cfg: Config):\n",
        "        super().__init__()\n",
        "        self.cfg = cfg\n",
        "        self.embed = Embed(cfg)\n",
        "        self.pos_embed = PosEmbed(cfg)\n",
        "        self.blocks = nn.ModuleList([TransformerBlock(cfg) for _ in range(cfg.n_layers)])\n",
        "        self.ln_final = LayerNorm(cfg)\n",
        "        self.unembed = Unembed(cfg)\n",
        "\n",
        "    def forward(\n",
        "        self, tokens: Int[Tensor, \"batch position\"]\n",
        "    ) -> Float[Tensor, \"batch position d_vocab\"]:\n",
        "        residual = self.embed(tokens) + self.pos_embed(tokens)\n",
        "        for block in self.blocks:\n",
        "            residual = block(residual)\n",
        "        logits = self.unembed(self.ln_final(residual))\n",
        "        return logits\n",
        "```\n",
        "</details>"
      ]
    },
    {
      "cell_type": "markdown",
      "metadata": {
        "id": "kn1sAH1bX27s"
      },
      "source": [
        "**Try it out!**"
      ]
    },
    {
      "cell_type": "code",
      "execution_count": null,
      "metadata": {
        "id": "l8J3nQFAX27s"
      },
      "outputs": [],
      "source": [
        "demo_gpt2 = DemoTransformer(Config(debug=False)).to(device)\n",
        "demo_gpt2.load_state_dict(reference_gpt2.state_dict(), strict=False)\n",
        "\n",
        "demo_logits = demo_gpt2(tokens)"
      ]
    },
    {
      "cell_type": "markdown",
      "metadata": {
        "id": "B88BUgjMX27s"
      },
      "source": [
        "Let's take a test string, and calculate the loss!\n",
        "\n",
        "We're using the formula for **cross-entropy loss**. The cross entropy loss between a modelled distribution $Q$ and target distribution $P$ is:\n",
        "\n",
        "$$\n",
        "-\\sum_x P(x) \\log Q(x)\n",
        "$$\n",
        "\n",
        "In the case where $P$ is just the empirical distribution from target classes (i.e. $P(x^*) = 1$ for the correct class $x^*$) then this becomes:\n",
        "\n",
        "$$\n",
        "-\\log Q(x^*)\n",
        "$$\n",
        "\n",
        "in other words, the negative log prob of the true classification."
      ]
    },
    {
      "cell_type": "code",
      "execution_count": null,
      "metadata": {
        "id": "u-S1j4jQX27s"
      },
      "outputs": [],
      "source": [
        "def get_log_probs(\n",
        "    logits: Float[Tensor, \"batch posn d_vocab\"], tokens: Int[Tensor, \"batch posn\"]\n",
        ") -> Float[Tensor, \"batch posn-1\"]:\n",
        "    log_probs = logits.log_softmax(dim=-1)\n",
        "    # Get logprobs the first seq_len-1 predictions (so we can compare them with the actual next tokens)\n",
        "    log_probs_for_tokens = (\n",
        "        log_probs[:, :-1].gather(dim=-1, index=tokens[:, 1:].unsqueeze(-1)).squeeze(-1)\n",
        "    )\n",
        "\n",
        "    return log_probs_for_tokens\n",
        "\n",
        "\n",
        "pred_log_probs = get_log_probs(demo_logits, tokens)\n",
        "print(f\"Avg cross entropy loss: {-pred_log_probs.mean():.4f}\")\n",
        "print(f\"Avg cross entropy loss for uniform distribution: {math.log(demo_gpt2.cfg.d_vocab):4f}\")\n",
        "print(f\"Avg probability assigned to correct token: {pred_log_probs.exp().mean():4f}\")"
      ]
    },
    {
      "cell_type": "markdown",
      "metadata": {
        "id": "sjWd06iAX27s"
      },
      "source": [
        "We can also greedily generate text, by taking the most likely next token and continually appending it to our prompt before feeding it back into the model:"
      ]
    },
    {
      "cell_type": "code",
      "execution_count": null,
      "metadata": {
        "id": "JlA9JKvOX27s"
      },
      "outputs": [],
      "source": [
        "test_string = \"\"\"Mitigating the risk of extinction from AI should be a global priority alongside other societal-scale risks such as\"\"\"\n",
        "for i in tqdm(range(100)):\n",
        "    test_tokens = reference_gpt2.to_tokens(test_string).to(device)\n",
        "    demo_logits = demo_gpt2(test_tokens)\n",
        "    test_string += reference_gpt2.tokenizer.decode(demo_logits[-1, -1].argmax())\n",
        "\n",
        "print(test_string)"
      ]
    },
    {
      "cell_type": "markdown",
      "metadata": {
        "id": "fiSeIJUwX27s"
      },
      "source": [
        "In section 4️⃣ we'll learn to generate text in slightly more interesting ways than just argmaxing the output (which can lead to unnatural patterns like repetition, or text which is just less natural-sounding)."
      ]
    },
    {
      "cell_type": "markdown",
      "metadata": {
        "id": "_LPhaoN3X27s"
      },
      "source": [
        "# 3️⃣ Training a Transformer\n",
        "\n",
        "> ##### Learning Objectives\n",
        ">\n",
        "> * Understand how to train a transformer from scratch\n",
        "> * Write a basic transformer training loop\n",
        "> * Interpret the transformer's falling cross entropy loss with reference to features of the training data (e.g. bigram frequencies)"
      ]
    },
    {
      "cell_type": "markdown",
      "metadata": {
        "id": "yGOl0QFAX27s"
      },
      "source": [
        "Now that we've built our transformer, and verified that it performs as expected when we load in weights, let's try training it from scratch!\n",
        "\n",
        "This is a lightweight demonstration of how you can actually train your own GPT-2 with this code! Here we train a tiny model on a tiny dataset, but it's fundamentally the same code for training a larger/more real model (though you'll need beefier GPUs and data parallelism to do it remotely efficiently, and fancier parallelism for much bigger ones).\n",
        "\n",
        "For our purposes, we'll train a 4 layer model with 16 heads per layer, with context length 128, for 10*500 steps of batch size 32, just to show what it looks like (and so the notebook doesn't melt your colab / machine!)."
      ]
    },
    {
      "cell_type": "markdown",
      "metadata": {
        "id": "VrHK-cuIX27s"
      },
      "source": [
        "## Create Model"
      ]
    },
    {
      "cell_type": "code",
      "execution_count": null,
      "metadata": {
        "id": "INNi6KTZX27s"
      },
      "outputs": [],
      "source": [
        "model_cfg = Config(\n",
        "    debug=False,\n",
        "    d_model=32,\n",
        "    n_heads=16,\n",
        "    d_head=2,\n",
        "    d_mlp=32 * 4,\n",
        "    n_layers=4,\n",
        "    n_ctx=128,\n",
        "    d_vocab=reference_gpt2.cfg.d_vocab,\n",
        ")\n",
        "model = DemoTransformer(model_cfg)"
      ]
    },
    {
      "cell_type": "markdown",
      "metadata": {
        "id": "nRR2DFoOX27s"
      },
      "source": [
        "## Training Args\n",
        "\n",
        "\n",
        "Note, for this optimization we'll be using **weight decay**."
      ]
    },
    {
      "cell_type": "code",
      "execution_count": null,
      "metadata": {
        "id": "2mOKL7B-X27s"
      },
      "outputs": [],
      "source": [
        "@dataclass\n",
        "class TransformerTrainingArgs:\n",
        "    batch_size: int = 32\n",
        "    epochs: int = 10\n",
        "    max_steps_per_epoch: int = 500\n",
        "    lr: float = 1e-3\n",
        "    weight_decay: float = 1e-2\n",
        "    wandb_project: str | None = \"day1-demotransformer\"\n",
        "    wandb_name: str | None = None\n",
        "\n",
        "\n",
        "args = TransformerTrainingArgs()"
      ]
    },
    {
      "cell_type": "markdown",
      "metadata": {
        "id": "dwGiucyeX27s"
      },
      "source": [
        "## Create Data\n",
        "\n",
        "We load in the [TinyStories dataset](https://huggingface.co/datasets/roneneldan/TinyStories), a dataset of synthetically generated simple stories only using a small vocabulary of words that typical 3 to 4-year-olds can understand. This dataset was designed for [exploring how small a LLM can be](https://arxiv.org/pdf/2305.07759) that can still generate coherent text."
      ]
    },
    {
      "cell_type": "code",
      "execution_count": null,
      "metadata": {
        "id": "64klaXTvX27s"
      },
      "outputs": [],
      "source": [
        "dataset = datasets.load_dataset(\"roneneldan/TinyStories\", split=\"train\")\n",
        "print(dataset)\n",
        "print(dataset[0][\"text\"])"
      ]
    },
    {
      "cell_type": "markdown",
      "metadata": {
        "id": "y4oFzv31X27s"
      },
      "source": [
        "`tokenize_and_concatenate` is a useful function which takes our dataset of strings, and returns a dataset of token IDs ready to feed into the model. We then create a dataloader from this tokenized dataset. The useful method `train_test_split` can give us a training and testing set."
      ]
    },
    {
      "cell_type": "code",
      "execution_count": null,
      "metadata": {
        "id": "EsIMcXGHX27t"
      },
      "outputs": [],
      "source": [
        "tokenized_dataset = tokenize_and_concatenate(\n",
        "    dataset,\n",
        "    reference_gpt2.tokenizer,\n",
        "    streaming=False,\n",
        "    max_length=model.cfg.n_ctx,\n",
        "    column_name=\"text\",\n",
        "    add_bos_token=True,\n",
        "    num_proc=4,\n",
        ")\n",
        "\n",
        "dataset_dict = tokenized_dataset.train_test_split(test_size=1000)\n",
        "train_loader = DataLoader(\n",
        "    dataset_dict[\"train\"], batch_size=args.batch_size, shuffle=True, num_workers=4, pin_memory=True\n",
        ")\n",
        "test_loader = DataLoader(\n",
        "    dataset_dict[\"test\"], batch_size=args.batch_size, shuffle=False, num_workers=4, pin_memory=True\n",
        ")"
      ]
    },
    {
      "cell_type": "markdown",
      "metadata": {
        "id": "blxqaXrBX27t"
      },
      "source": [
        "When we iterate through these dataloaders, we will find dictionaries with the single key `'tokens'`, which maps to a tensor of token IDs with shape `(batch, seq_len)`."
      ]
    },
    {
      "cell_type": "code",
      "execution_count": null,
      "metadata": {
        "id": "rD5bcZyUX27t"
      },
      "outputs": [],
      "source": [
        "first_batch = train_loader.dataset[: args.batch_size]\n",
        "\n",
        "print(first_batch.keys())\n",
        "print(first_batch[\"tokens\"].shape)"
      ]
    },
    {
      "cell_type": "markdown",
      "metadata": {
        "id": "q47jMha1X27t"
      },
      "source": [
        "## Training Loop\n",
        "\n",
        "If you did the material on [training loops](https://arena-ch0-fundamentals.streamlit.app/[0.3]_ResNets#training-loop) during the first week, this should all be familiar to you. If not, you can skim that section for an overview of the key concepts. The start of the **Training loop** section is most important, and the subsections on [Modularisation](https://arena-ch0-fundamentals.streamlit.app/[0.3]_ResNets#modularisation) and [dataclasses](https://arena-ch0-fundamentals.streamlit.app/[0.3]_ResNets#aside-dataclasses) are also very useful. Lastly, we'll also be using Weights and Biases to train our model - you can read about how to use it [here](https://arena-ch0-fundamentals.streamlit.app/[0.4]_Optimization#what-is-weights-and-biases). Here are (roughly) all the things you should know for the following exercises:\n",
        "                \n",
        "* The key parts of a gradient update step are:\n",
        "    * Calculating the (cross-entropy) loss between a model's output and the true labels,\n",
        "    * `loss.backward()` - calculate gradients of the loss with respect to the model parameters,\n",
        "    * `optimizer.step()` - update the model parameters using the gradients,\n",
        "    * `optimizer.zero_grad()` - zero the gradients so they don't accumulate.\n",
        "* We can nicely package up training loops into a class, which includes methods for training and validation steps among other things. This helps with writing code that can be reused in different contexts.\n",
        "* We can use dataclasses to store all the arguments relevant to training in one place, and then pass them to our trainer class. Autocompletion is one nice bonus of this!\n",
        "    * Be careful of scope here, you want to make sure you're referring to `self.args` within the trainer class, rather than the global `args`.\n",
        "* You can use Weights and Biases to track experiments and log relevant variables. The three essential functions are:\n",
        "    * `wandb.init()` - initialize a new run, takes arguments `project`, `name` and `config` (among others).\n",
        "    * `wandb.log()` - log a dictionary of variables, e.g. `{\"loss\": loss}`. Also takes a `step` argument.\n",
        "    * `wandb.finish()` - called at the end of training (no arguments)."
      ]
    },
    {
      "cell_type": "markdown",
      "metadata": {
        "id": "dyaDQeYCX27t"
      },
      "source": [
        "### Exercise - write training loop\n",
        "\n",
        "> ```yaml\n",
        "> Difficulty: 🔴🔴🔴⚪⚪\n",
        "> Importance: 🔵🔵🔵🔵⚪\n",
        ">\n",
        "> You should spend up to 10-20 minutes on this exercise.\n",
        "> ```\n",
        "\n",
        "You should fill in the methods below. Some guidance:\n",
        "\n",
        "* Remember we were able to calculate cross entropy loss using the `get_log_probs` function in the previous section.\n",
        "* You should use the optimizer `t.optim.AdamW` (Adam with weight decay), and with hyperparameters `lr` and `weight_decay` taken from your `TransformerTrainingArgs` dataclass instance.\n",
        "* We've given you the argument `max_steps_per_epoch`, a hacky way of making sure the training phase in each epoch doesn't go on for too long. You can terminate each training phase after this many steps. It's set to a default value that should lead to a very short run demonstrating nontrivial model performance.\n",
        "* Remember to move tokens to your device, via `tokens.to(device)` (this should be a global variable, defined at the top of your notebook).\n",
        "* You can refer back to the training loops from the [previous chapter of the course](https://arena-ch0-fundamentals.streamlit.app/[0.3]_ResNets#training-loop) if you'd like.\n",
        "* We've also provided an instance of the `TransformerSampler` class so you can generate text from your model during training to see how it's doing. We will cover how sampling works in the next section."
      ]
    },
    {
      "cell_type": "code",
      "execution_count": null,
      "metadata": {
        "id": "n0cW-sIMX27t"
      },
      "outputs": [],
      "source": [
        "class TransformerTrainer:\n",
        "    def __init__(self, args: TransformerTrainingArgs, model: DemoTransformer):\n",
        "        super().__init__()\n",
        "        self.model = model\n",
        "        self.args = args\n",
        "        self.sampler = solutions.TransformerSampler(self.model, reference_gpt2.tokenizer)\n",
        "        self.optimizer = t.optim.AdamW(\n",
        "            self.model.parameters(), lr=args.lr, weight_decay=args.weight_decay\n",
        "        )\n",
        "        self.step = 0\n",
        "\n",
        "        self.train_loader = DataLoader(\n",
        "            dataset_dict[\"train\"],\n",
        "            batch_size=args.batch_size,\n",
        "            shuffle=True,\n",
        "            num_workers=4,\n",
        "            pin_memory=True,\n",
        "        )\n",
        "        self.test_loader = DataLoader(\n",
        "            dataset_dict[\"test\"],\n",
        "            batch_size=args.batch_size,\n",
        "            shuffle=False,\n",
        "            num_workers=4,\n",
        "            pin_memory=True,\n",
        "        )\n",
        "\n",
        "    def training_step(self, batch: dict[str, Int[Tensor, \"batch seq\"]]) -> Float[Tensor, \"\"]:\n",
        "        \"\"\"\n",
        "        Calculates the loss on the tokens in the batch, performs a gradient update step, and logs the loss.\n",
        "\n",
        "        Remember that `batch` is a dictionary with the single key 'tokens'.\n",
        "        \"\"\"\n",
        "        raise NotImplementedError()\n",
        "        return loss\n",
        "\n",
        "    @t.inference_mode()\n",
        "    def evaluate(self) -> float:\n",
        "        \"\"\"\n",
        "        Evaluate the model on the test set and return the accuracy.\n",
        "        \"\"\"\n",
        "        self.model.eval()\n",
        "        #\n",
        "        # YOUR CODE HERE - fill in the `evaluate` method\n",
        "        #\n",
        "        self.model.train()\n",
        "        return accuracy\n",
        "\n",
        "    def train(self):\n",
        "        \"\"\"\n",
        "        Trains the model, for `self.args.epochs` epochs. Also handles wandb initialisation, and early stopping\n",
        "        for each epoch at `self.args.max_steps_per_epoch` steps.\n",
        "        \"\"\"\n",
        "        wandb.init(project=self.args.wandb_project, name=self.args.wandb_name, config=self.args)\n",
        "        accuracy = np.nan\n",
        "\n",
        "        progress_bar = tqdm(total=self.args.max_steps_per_epoch * self.args.epochs)\n",
        "\n",
        "        for epoch in range(self.args.epochs):\n",
        "            for i, batch in enumerate(self.train_loader):\n",
        "                loss = self.training_step(batch)\n",
        "                progress_bar.update()\n",
        "                progress_bar.set_description(\n",
        "                    f\"Epoch {epoch + 1}, loss: {loss:.3f}, accuracy: {accuracy:.3f}\"\n",
        "                )\n",
        "                if i >= self.args.max_steps_per_epoch:\n",
        "                    break\n",
        "\n",
        "            accuracy = self.evaluate()\n",
        "            sample_text = self.sampler.sample(\"Once upon a time\", max_tokens_generated=50)\n",
        "            print(sample_text)\n",
        "\n",
        "        wandb.finish()\n",
        "\n",
        "\n",
        "# See the full run here: https://api.wandb.ai/links/dquarel/nrxuwnv7\n",
        "model = DemoTransformer(model_cfg).to(device)\n",
        "args = TransformerTrainingArgs()\n",
        "trainer = TransformerTrainer(args, model)\n",
        "trainer.train()"
      ]
    },
    {
      "cell_type": "markdown",
      "metadata": {
        "id": "_XH1xa7oX27t"
      },
      "source": [
        "<details><summary>Solution</summary>\n",
        "\n",
        "```python\n",
        "class TransformerTrainer:\n",
        "    def __init__(self, args: TransformerTrainingArgs, model: DemoTransformer):\n",
        "        super().__init__()\n",
        "        self.model = model\n",
        "        self.args = args\n",
        "        self.sampler = solutions.TransformerSampler(self.model, reference_gpt2.tokenizer)\n",
        "        self.optimizer = t.optim.AdamW(\n",
        "            self.model.parameters(), lr=args.lr, weight_decay=args.weight_decay\n",
        "        )\n",
        "        self.step = 0\n",
        "\n",
        "        self.train_loader = DataLoader(\n",
        "            dataset_dict[\"train\"],\n",
        "            batch_size=args.batch_size,\n",
        "            shuffle=True,\n",
        "            num_workers=4,\n",
        "            pin_memory=True,\n",
        "        )\n",
        "        self.test_loader = DataLoader(\n",
        "            dataset_dict[\"test\"],\n",
        "            batch_size=args.batch_size,\n",
        "            shuffle=False,\n",
        "            num_workers=4,\n",
        "            pin_memory=True,\n",
        "        )\n",
        "\n",
        "    def training_step(self, batch: dict[str, Int[Tensor, \"batch seq\"]]) -> Float[Tensor, \"\"]:\n",
        "        \"\"\"\n",
        "        Calculates the loss on the tokens in the batch, performs a gradient update step, and logs the loss.\n",
        "\n",
        "        Remember that `batch` is a dictionary with the single key 'tokens'.\n",
        "        \"\"\"\n",
        "        tokens = batch[\"tokens\"].to(device)\n",
        "        logits = self.model(tokens)\n",
        "        loss = -get_log_probs(logits, tokens).mean()\n",
        "        loss.backward()\n",
        "        self.optimizer.step()\n",
        "        self.optimizer.zero_grad()\n",
        "        self.step += 1\n",
        "        wandb.log({\"train_loss\": loss}, step=self.step)\n",
        "        return loss\n",
        "\n",
        "    @t.inference_mode()\n",
        "    def evaluate(self) -> float:\n",
        "        \"\"\"\n",
        "        Evaluate the model on the test set and return the accuracy.\n",
        "        \"\"\"\n",
        "        self.model.eval()\n",
        "        total_correct, total_samples = 0, 0\n",
        "\n",
        "        for batch in tqdm(self.test_loader, desc=\"Evaluating\"):\n",
        "            tokens = batch[\"tokens\"].to(device)\n",
        "            logits: Tensor = self.model(tokens)[:, :-1]\n",
        "            predicted_tokens = logits.argmax(dim=-1)\n",
        "            total_correct += (predicted_tokens == tokens[:, 1:]).sum().item()\n",
        "            total_samples += tokens.size(0) * (tokens.size(1) - 1)\n",
        "\n",
        "        accuracy = total_correct / total_samples\n",
        "        wandb.log({\"accuracy\": accuracy}, step=self.step)\n",
        "        self.model.train()\n",
        "        return accuracy\n",
        "\n",
        "    def train(self):\n",
        "        \"\"\"\n",
        "        Trains the model, for `self.args.epochs` epochs. Also handles wandb initialisation, and early stopping\n",
        "        for each epoch at `self.args.max_steps_per_epoch` steps.\n",
        "        \"\"\"\n",
        "        wandb.init(project=self.args.wandb_project, name=self.args.wandb_name, config=self.args)\n",
        "        accuracy = np.nan\n",
        "\n",
        "        progress_bar = tqdm(total=self.args.max_steps_per_epoch * self.args.epochs)\n",
        "\n",
        "        for epoch in range(self.args.epochs):\n",
        "            for i, batch in enumerate(self.train_loader):\n",
        "                loss = self.training_step(batch)\n",
        "                progress_bar.update()\n",
        "                progress_bar.set_description(\n",
        "                    f\"Epoch {epoch + 1}, loss: {loss:.3f}, accuracy: {accuracy:.3f}\"\n",
        "                )\n",
        "                if i >= self.args.max_steps_per_epoch:\n",
        "                    break\n",
        "\n",
        "            accuracy = self.evaluate()\n",
        "            sample_text = self.sampler.sample(\"Once upon a time\", max_tokens_generated=50)\n",
        "            print(sample_text)\n",
        "\n",
        "        wandb.finish()\n",
        "```\n",
        "</details>"
      ]
    },
    {
      "cell_type": "markdown",
      "metadata": {
        "id": "JFP3mrbPX27t"
      },
      "source": [
        "<!-- Note - this section of the course used to use PyTorch Lightning, but this has now been taken out. If you want, you can look at the old version of the training code which used PyTorch Lightning in the dropdown below.\n",
        "\n",
        "<details>\n",
        "<summary>PyTorch Lighting training loop</summary>\n",
        "\n",
        "```python\n",
        "class LitTransformer(pl.LightningModule):\n",
        "\tdef __init__(self, args: TransformerTrainingArgs, model: DemoTransformer, data_loader: DataLoader):\n",
        "\t\tsuper().__init__()\n",
        "\t\tself.model = model\n",
        "\t\tself.cfg = model.cfg\n",
        "\t\tself.args = args\n",
        "\t\tself.data_loader = data_loader\n",
        "\n",
        "\tdef forward(self, tokens: Int[Tensor, \"batch position\"]) -> Float[Tensor, \"batch position d_vocab\"]:\n",
        "\t\tlogits = self.model(tokens)\n",
        "\t\treturn logits\n",
        "\n",
        "\tdef training_step(self, batch: Dict[str, Tensor], batch_idx: int) -> Float[Tensor, \"\"]:\n",
        "\t\t'''\n",
        "\t\tHere you compute and return the training loss and some additional metrics for e.g.\n",
        "\t\tthe progress bar or logger.\n",
        "\t\t'''\n",
        "\t\ttokens = batch[\"tokens\"].to(device)\n",
        "\t\tlogits = self.model(tokens)\n",
        "\t\tloss = -get_log_probs(logits, tokens).mean()\n",
        "\t\tself.log(\"train_loss\", loss)\n",
        "\t\treturn loss\n",
        "\n",
        "\tdef configure_optimizers(self):\n",
        "\t\t'''\n",
        "\t\tChoose what optimizers and learning-rate schedulers to use in your optimization.\n",
        "\t\t'''\n",
        "\t\toptimizer = t.optim.AdamW(self.model.parameters(), lr=self.args.lr, weight_decay=self.args.weight_decay)\n",
        "\t\treturn optimizer\n",
        "\n",
        "\tdef train_dataloader(self):\n",
        "\t\treturn self.data_loader\n",
        "\n",
        "\n",
        "litmodel = LitTransformer(args, model, data_loader)\n",
        "logger = WandbLogger(save_dir=args.log_dir, project=args.log_name, name=args.run_name)\n",
        "\n",
        "trainer = pl.Trainer(\n",
        "    max_epochs=args.max_epochs,\n",
        "    logger=logger,\n",
        "    log_every_n_steps=args.log_every_n_steps\n",
        ")\n",
        "trainer.fit(model=litmodel, train_dataloaders=litmodel.data_loader)\n",
        "wandb.finish()\n",
        "```\n",
        "\n",
        "</details>\n",
        "\n",
        "<details>\n",
        "<summary>Explanation for why PyTorch Lightning is no longer used</summary>\n",
        "\n",
        "TLDR - it provides nice modularization and saving of code, but it abstracts away a lot of the details of training loops, and so isn't very useful for educational purposes. Also, it imposes a lot of structure on how the training loops work without allowing for much flexibility, and lots of the code we'll write later (e.g. linear probes or RL) doesn't fit well into this framework. However, it can be a very useful tool to learn about once you've got the basics down and you're looking to benefit from the suite of extra features it provides.\n",
        "\n",
        "</details> -->\n",
        "\n",
        "When you run the code for the first time, you'll have to login to Weights and Biases, and paste an API key into VSCode. After this is done, your Weights and Biases training run will start. It'll give you a lot of output text, one line of which will look like:\n",
        "\n",
        "```\n",
        "View run at https://wandb.ai/<USERNAME>/<PROJECT-NAME>/runs/<RUN-NAME>\n",
        "```\n",
        "\n",
        "which you can click on to visit the run page.\n",
        "\n",
        "> Note - to see the plots more clearly in Weights and Biases, you can click on the **edit panel** of your plot (the small pencil symbol at the top-right), then move the **smoothing** slider to the right."
      ]
    },
    {
      "cell_type": "markdown",
      "metadata": {
        "id": "4kvbSOhcX27t"
      },
      "source": [
        "### A note on this loss curve (optional)\n",
        "\n",
        "\n",
        "What's up with the shape of our loss curve? It seems like we start at around 10-11, drops down very fast, but then levels out. It turns out, this is all to do with the kinds of algorithms the model learns during training.\n",
        "\n",
        "When it starts out, your model will be outputting random noise, which might look a lot like \"predict each token with approximately uniform probability\", i.e. $Q(x) = 1/d_\\text{vocab}$ for all $x$. This gives us a cross entropy loss of $\\log (d_\\text{vocab})$."
      ]
    },
    {
      "cell_type": "code",
      "execution_count": null,
      "metadata": {
        "id": "0YbNfpkFX27t"
      },
      "outputs": [],
      "source": [
        "d_vocab = model.cfg.d_vocab\n",
        "\n",
        "print(f\"d_vocab = {d_vocab}\")\n",
        "print(f\"Cross entropy loss on uniform distribution = {math.log(d_vocab):.3f}\")"
      ]
    },
    {
      "cell_type": "markdown",
      "metadata": {
        "id": "0UZVw7NZX27t"
      },
      "source": [
        "The next thing we might expect the model to learn is the frequencies of words in the english language. After all, small common tokens like `\" and\"` or `\" the\"` might appear much more frequently than others. This would give us an average cross entropy loss of:\n",
        "\n",
        "$$\n",
        "- \\sum_x p_x \\log p_x\n",
        "$$\n",
        "\n",
        "where $p_x$ is the actual frequency of the word in our training data.\n",
        "\n",
        "We can evaluate this quantity as follows:"
      ]
    },
    {
      "cell_type": "code",
      "execution_count": null,
      "metadata": {
        "id": "IYHrjcZkX27t"
      },
      "outputs": [],
      "source": [
        "toks = tokenized_dataset[:][\"tokens\"].flatten()\n",
        "\n",
        "d_vocab = model.cfg.d_vocab\n",
        "freqs = t.bincount(toks, minlength=d_vocab)\n",
        "probs = freqs.float() / freqs.sum()\n",
        "\n",
        "distn = t.distributions.categorical.Categorical(probs=probs)\n",
        "entropy = distn.entropy()\n",
        "\n",
        "print(f\"Entropy of training data = {entropy:.3f}\")"
      ]
    },
    {
      "cell_type": "markdown",
      "metadata": {
        "id": "1tUbHtR-X27t"
      },
      "source": [
        "After unigram frequencies, the next thing our model usually learns is **bigram frequencies** (i.e. the frequency of pairs of adjacent tokens in the training data). For instance, `\"I\"` and `\" am\"` are common tokens, but their bigram frequency is much higher than it would be if they occurred independently. Bigram frequencies actually take you pretty far, since they also help with:\n",
        "\n",
        "* Some simple grammatical rules (e.g. a full stop being followed by a capitalized word)\n",
        "* Weird quirks of tokenization (e.g. `\" manip\"` being followed by `\"ulative\"`)\n",
        "* Common names (e.g. `\"Barack\"` being followed by `\" Obama\"`)\n",
        "\n",
        "\n",
        "After approximating bigram frequencies, we need to start using smarter techniques, like trigrams (which can only be implemented using attention heads), **induction heads** (which we'll learn a lot more about in the next set of exercises!), and fact memorization or more basic grammar and syntax rules. Marginal improvements start getting harder around this point, leading to a flattening of our loss curve."
      ]
    },
    {
      "cell_type": "markdown",
      "metadata": {
        "id": "ke_NzLJpX27t"
      },
      "source": [
        "### Exercise (optional) - log completions\n",
        "\n",
        "> ```yaml\n",
        "> Difficulty: 🔴🔴🔴🔴⚪\n",
        "> Importance: 🔵⚪⚪⚪⚪\n",
        ">\n",
        "> You should spend up to 20-40 minutes on this exercise, if you choose to attempt it.\n",
        "> Note, you might want to come back to this exercise *after* you learn how sampling works.\n",
        "> ```\n",
        "\n",
        "Choose a handful of prompts, and log the model's completions on those sentences. We recommend you do this with a lower frequency than loss is logged (e.g. once every 10-100 batches).\n",
        "\n",
        "The `wandb` syntax for logging text is pretty simple. Firstly, you can just print output as stdout and this is also logged to Weights & Biases (you can find it under the \"Logs\" section of your run). Alternatively, you can log data in the form of a table, and have it appear next to your other charts:\n",
        "\n",
        "```python\n",
        "wandb.log({\"completions_table\": wandb.Table(\n",
        "    data = data,\n",
        "    columns = [\"epoch\", \"step\", \"text\"]\n",
        ")})\n",
        "```\n",
        "\n",
        "where `data` is a list of length-3 lists, with each list containing (epoch, step, text). If you choose this option, we recommend logging the table less frequently than you're sampling from the model, to make sure you're not sending too much data (because unfortunately wandb doesn't have methods to incrementally update the table during logging).\n",
        "\n",
        "If you want to try this before going through the sampling exercises (which are quite long!), you can use the code below to sample output from the model. Note that the `TransformerSampler` object is already in inference mode, so you don't need to worry about this."
      ]
    },
    {
      "cell_type": "code",
      "execution_count": null,
      "metadata": {
        "id": "ATaMaPtcX27t"
      },
      "outputs": [],
      "source": [
        "def sampling_fn(model: DemoTransformer, prompt: str) -> str:\n",
        "    sampler = solutions.TransformerSampler(model, reference_gpt2.tokenizer)\n",
        "    output = sampler.sample(prompt, temperature=0.7, top_p=0.95, max_tokens_generated=16)\n",
        "    return output\n",
        "\n",
        "\n",
        "model = DemoTransformer(model_cfg).to(device)\n",
        "\n",
        "# Should be entirely random, because it uses a newly initialized model\n",
        "print(sampling_fn(model, prompt=\"John and Mary went to the\"))"
      ]
    },
    {
      "cell_type": "code",
      "execution_count": null,
      "metadata": {
        "id": "KUkTp__7X27t"
      },
      "outputs": [],
      "source": [
        "# YOUR CODE HERE - rewrite the TransformerTrainer.train method, so that it logs completions\n",
        "\n",
        "\n",
        "prompt_list = [\n",
        "    \"Eliezer Shlomo Yudkowsky (born September 11, 1979) is an American decision and artificial intelligence (AI) theorist and writer, best known for\",\n",
        "    \"In a shocking finding, scientist discovered a herd of unicorns living in a remote, previously unexplored valley, in the Andes Mountains. Even more surprising to the researchers was the fact that the unicorns spoke perfect English.\",\n",
        "    \"John and Mary went to the\",\n",
        "]\n",
        "\n",
        "model = DemoTransformer(model_cfg).to(device)\n",
        "args = TransformerTrainingArgsLogText()\n",
        "trainer = TransformerTrainer(args, model)\n",
        "trainer.train(sampling_fn, prompt_list)\n",
        "# Read full report here - https://api.wandb.ai/links/callum-mcdougall/5ex16e5w"
      ]
    },
    {
      "cell_type": "markdown",
      "metadata": {
        "id": "ZgNowtmkX27t"
      },
      "source": [
        "<details><summary>Solution</summary>\n",
        "\n",
        "```python\n",
        "@dataclass\n",
        "class TransformerTrainingArgsLogText(TransformerTrainingArgs):\n",
        "    text_sample_freq: int = 20\n",
        "    table_log_freq: int = 200\n",
        "\n",
        "    def __post_init__(self):\n",
        "        assert self.table_log_freq >= self.text_sample_freq, (\n",
        "            \"You should log the table less frequently than you add text to it.\"\n",
        "        )\n",
        "\n",
        "\n",
        "def train_log_text(self: TransformerTrainer, sampling_fn: Callable, prompt_list: list[str]):\n",
        "    \"\"\"\n",
        "    Trains the model, for `self.args.epochs` epochs. Also handles wandb initialisation, and early stopping\n",
        "    for each epoch at `self.args.max_steps_per_epoch` steps.\n",
        "\n",
        "    This also takes 2 extra arguments:\n",
        "        sampling_fn: function which takes model & a single prompt (i.e. text string) and returns text string output\n",
        "        prompt_list: list of prompts we'll log output on\n",
        "    \"\"\"\n",
        "    wandb.init(project=self.args.wandb_project, name=self.args.wandb_name, config=self.args)\n",
        "    accuracy = np.nan\n",
        "    progress_bar = tqdm(total=self.args.max_steps_per_epoch * self.args.epochs)\n",
        "\n",
        "    # Create a list for storing data\n",
        "    completions_list = []\n",
        "\n",
        "    for epoch in range(self.args.epochs):\n",
        "        for i, batch in enumerate(self.train_loader):\n",
        "            loss = self.training_step(batch)\n",
        "            progress_bar.update()\n",
        "            progress_bar.set_description(\n",
        "                f\"Epoch {epoch + 1}, loss: {loss:.3f}, accuracy: {accuracy:.3f}\"\n",
        "            )\n",
        "\n",
        "            # Control the adding of text to the table, and the logging of text\n",
        "            if self.step % self.args.text_sample_freq == 0:\n",
        "                text_completions = [sampling_fn(self.model, prompt) for prompt in prompt_list]\n",
        "                completions_list.append([epoch, self.step, *text_completions])\n",
        "            if self.step % self.args.table_log_freq == 0:\n",
        "                wandb.log(\n",
        "                    {\n",
        "                        \"completions_table\": wandb.Table(\n",
        "                            data=completions_list,\n",
        "                            columns=[\n",
        "                                \"epoch\",\n",
        "                                \"step\",\n",
        "                                *[f\"prompt_{i}\" for i in range(len(prompt_list))],\n",
        "                            ],\n",
        "                        )\n",
        "                    }\n",
        "                )\n",
        "\n",
        "            if i >= self.args.max_steps_per_epoch:\n",
        "                break\n",
        "\n",
        "        accuracy = self.evaluate()\n",
        "\n",
        "    wandb.finish()\n",
        "\n",
        "\n",
        "TransformerTrainer.train = train_log_text\n",
        "\n",
        "\n",
        "prompt_list = [\n",
        "    \"Eliezer Shlomo Yudkowsky (born September 11, 1979) is an American decision and artificial intelligence (AI) theorist and writer, best known for\",\n",
        "    \"In a shocking finding, scientist discovered a herd of unicorns living in a remote, previously unexplored valley, in the Andes Mountains. Even more surprising to the researchers was the fact that the unicorns spoke perfect English.\",\n",
        "    \"John and Mary went to the\",\n",
        "]\n",
        "\n",
        "model = DemoTransformer(model_cfg).to(device)\n",
        "args = TransformerTrainingArgsLogText()\n",
        "trainer = TransformerTrainer(args, model)\n",
        "trainer.train(sampling_fn, prompt_list)\n",
        "# Read full report here - https://api.wandb.ai/links/callum-mcdougall/5ex16e5w\n",
        "```\n",
        "</details>"
      ]
    },
    {
      "cell_type": "markdown",
      "metadata": {
        "id": "t38FPVRRX27t"
      },
      "source": [
        "You shouldn't expect to see perfect logical coherence from your model, but you should at least see that it respects basic word frequencies, and follows basic rules of grammar some of the time. Hopefully this gives some perspective on how difficult training a transformer can be!"
      ]
    },
    {
      "cell_type": "markdown",
      "metadata": {
        "id": "W2GHZziQX27t"
      },
      "source": [
        "# 4️⃣ Sampling from a Transformer\n",
        "\n",
        "> ##### Learning Objectives\n",
        ">\n",
        "> * Learn how to sample from a transformer\n",
        ">     * This includes basic methods like greedy search or top-k, and more advanced methods like beam search\n",
        "> * Learn how to cache the output of a transformer, so that it can be used to generate text more efficiently\n",
        ">     * Optionally, rewrite your sampling functions to make use of your caching methods"
      ]
    },
    {
      "cell_type": "markdown",
      "metadata": {
        "id": "x-ABZVynX27t"
      },
      "source": [
        "Let's discuss how we might go about producing output from a transformer.\n",
        "\n",
        "One obvious method to sample tokens from a distribution would be to always take the token assigned the highest probability. But this can lead to some boring and repetitive outcomes, and at worst it can lock our transformer's output into a loop.\n",
        "\n",
        "First, you should read HuggingFace's blog post [How to generate text: using different decoding methods for language generation with Transformers](https://huggingface.co/blog/how-to-generate). Once you've done that, you can start the exercises below."
      ]
    },
    {
      "cell_type": "markdown",
      "metadata": {
        "id": "fGclu49JX27t"
      },
      "source": [
        "## `TransformerSampler` class\n",
        "\n",
        "Below, we've given you the `TransformerSampler` class. This contains the following important methods:\n",
        "\n",
        "- `sample`, which is the highest-level method. It repeatedly calls `sample_next_token` to generate new tokens, until one of the termination criteria is met.\n",
        "- `sample_next_token`, which samples a single new token based on some hyperparameters. This might involve various different sampling methods and techniques e.g. temperature scaling, top-k sampling, top-p sampling, etc.\n",
        "- A set of other methods, which apply the previously mentioned sampling methods and techniques.\n",
        "\n",
        "You can see how `sample_next_token` works, and as an example how greedy sampling is implemented via `greedy_search` - we just continually take the tokens with the highest logits at each step.\n",
        "\n",
        "<details>\n",
        "<summary>Question - why do you think <code>temperature=0.0</code> correspond to greedy sampling?</summary>\n",
        "\n",
        "To apply a temperature to our sampling (as we'll see later) means to scale all logits by `(1 / temperature)`. The basic intuition here is:\n",
        "\n",
        "* A higher temperature means a smaller scale factor, so the logits all approach zero, i.e. uniform distribution, and the sampling process is a lot more random (producing more diverse and varied outputs)\n",
        "* A lower temperature means a larger scale factor, so the logits all approach infinity, i.e. a dirac delta function, and the sampling process is a lot more deterministic (producing less varied output)\n",
        "\n",
        "As temperature gets close to zero, the difference between the largest logit and second largest logit becomes very large, so the distribution tends to \"probability of 1 on the highest-likelihood token\", i.e. greedy sampling. You can derive this formally if you prefer.\n",
        "</details>\n",
        "\n",
        "In the next exercise you'll implement the `sample` method, and then you'll go on to implement all the other methods."
      ]
    },
    {
      "cell_type": "markdown",
      "metadata": {
        "id": "b3_JRDY9X27t"
      },
      "source": [
        "### Exercise - implement `sample`\n",
        "\n",
        "> ```yaml\n",
        "> Difficulty: 🔴🔴🔴🔴⚪\n",
        "> Importance: 🔵🔵🔵⚪⚪\n",
        ">\n",
        "> You should spend up to 25-40 minutes on this exercise.\n",
        "> ```\n",
        "\n",
        "The `sample` method generates new tokens autoregressively, by repeatedly:\n",
        "\n",
        "- Passing the current sequence of tokens through the model to get logits,\n",
        "- Using some sampling technique to select a new token, i.e. `sample_next_token(input_ids, logits, **kwargs)`,\n",
        "- Appending this new token to the input sequence,\n",
        "- Repeating the process until one of the termination criteria is met: either we generate `max_tokens_generated` new tokens, or we generate the end-of-sequence token (which we can access via `self.tokenizer.eos_token_id`).\n",
        "\n",
        "Lastly, we use the `tokenizer.decode` method to return the sampled string. You're also invited to use the `verbose` argument, for printing the decoded sequences while they're being generated (this can help with debugging).\n",
        "\n",
        "Below is some code which tests your sampling function by performing greedy sampling (which means always choosing the most likely next token at each step).\n",
        "\n",
        "A few hints:\n",
        "\n",
        "- Don't forget about tensor shapes! Your model's input should always have a batch dimension, i.e. it should be shape `(1, seq_len)`.\n",
        "- The `sample_next_token` method will return an integer, so make sure you wrap this in a tensor before concatenating it to the end of your input IDs.\n",
        "- Also remember to have your tensors be on the same device (we have a global `device` variable).\n",
        "- Remember to put your model in evaluation mode, using `model.eval()`."
      ]
    },
    {
      "cell_type": "code",
      "execution_count": null,
      "metadata": {
        "id": "RWRWPW11X27t"
      },
      "outputs": [],
      "source": [
        "class TransformerSampler:\n",
        "    def __init__(self, model: DemoTransformer, tokenizer: GPT2TokenizerFast):\n",
        "        self.model = model\n",
        "        self.cfg = model.cfg\n",
        "        self.tokenizer = tokenizer\n",
        "\n",
        "    @t.inference_mode()\n",
        "    def sample(self, prompt: str, max_tokens_generated=100, verbose=False, **kwargs) -> str:\n",
        "        \"\"\"\n",
        "        Returns a string of autoregressively generated text, starting from the prompt.\n",
        "\n",
        "        Sampling terminates at max_tokens_generated, or when the model generates an end-of-sequence token. kwargs are\n",
        "        passed to sample_next_token, to give detailed instructions on how new tokens are chosen.\n",
        "        \"\"\"\n",
        "        raise NotImplementedError()\n",
        "\n",
        "    @staticmethod\n",
        "    def sample_next_token(\n",
        "        input_ids: Int[Tensor, \"seq_len\"],\n",
        "        logits: Float[Tensor, \"d_vocab\"],\n",
        "        temperature=1.0,\n",
        "        top_k=0,\n",
        "        top_p=0.0,\n",
        "        frequency_penalty=0.0,\n",
        "        seed=None,\n",
        "    ) -> int:\n",
        "        assert input_ids.ndim == 1, \"input_ids should be a 1D sequence of token ids\"\n",
        "        assert temperature >= 0, \"Temperature should be non-negative\"\n",
        "        assert 0 <= top_p <= 1.0, \"Top-p must be a probability\"\n",
        "        assert 0 <= top_k, \"Top-k must be non-negative\"\n",
        "        assert not (top_p != 0 and top_k != 0), \"At most one of top-p and top-k supported\"\n",
        "\n",
        "        # Set random seeds for reproducibility\n",
        "        if seed is not None:\n",
        "            t.manual_seed(seed)\n",
        "            np.random.seed(seed)\n",
        "\n",
        "        # Apply all the specialized sampling methods\n",
        "        if temperature == 0:\n",
        "            return TransformerSampler.greedy_search(logits)\n",
        "        elif temperature != 1.0:\n",
        "            logits = TransformerSampler.apply_temperature(logits, temperature)\n",
        "        if frequency_penalty != 0.0:\n",
        "            logits = TransformerSampler.apply_frequency_penalty(\n",
        "                input_ids, logits, frequency_penalty\n",
        "            )\n",
        "        if top_k > 0:\n",
        "            return TransformerSampler.sample_top_k(logits, top_k)\n",
        "        if top_p > 0.0:\n",
        "            return TransformerSampler.sample_top_p(logits, top_p)\n",
        "        return TransformerSampler.sample_basic(logits)\n",
        "\n",
        "    @staticmethod\n",
        "    def greedy_search(logits: Float[Tensor, \"d_vocab\"]) -> int:\n",
        "        \"\"\"\n",
        "        Returns the most likely token (as an int).\n",
        "        \"\"\"\n",
        "        raise NotImplementedError()\n",
        "\n",
        "    @staticmethod\n",
        "    def apply_temperature(\n",
        "        logits: Float[Tensor, \"d_vocab\"], temperature: float\n",
        "    ) -> Float[Tensor, \"d_vocab\"]:\n",
        "        \"\"\"\n",
        "        Applies temperature scaling to the logits.\n",
        "        \"\"\"\n",
        "        raise NotImplementedError()\n",
        "\n",
        "    @staticmethod\n",
        "    def apply_frequency_penalty(\n",
        "        input_ids: Int[Tensor, \"seq_len\"], logits: Float[Tensor, \"d_vocab\"], freq_penalty: float\n",
        "    ) -> Float[Tensor, \"d_vocab\"]:\n",
        "        \"\"\"\n",
        "        Applies a frequency penalty to the logits.\n",
        "        \"\"\"\n",
        "        raise NotImplementedError()\n",
        "\n",
        "    @staticmethod\n",
        "    def sample_basic(logits: Float[Tensor, \"d_vocab\"]) -> int:\n",
        "        \"\"\"\n",
        "        Samples from the distribution defined by the logits.\n",
        "        \"\"\"\n",
        "        raise NotImplementedError()\n",
        "\n",
        "    @staticmethod\n",
        "    def sample_top_k(logits: Float[Tensor, \"d_vocab\"], k: int) -> int:\n",
        "        \"\"\"\n",
        "        Samples from the top k most likely tokens.\n",
        "        \"\"\"\n",
        "        raise NotImplementedError()\n",
        "\n",
        "    @staticmethod\n",
        "    def sample_top_p(\n",
        "        logits: Float[Tensor, \"d_vocab\"], top_p: float, min_tokens_to_keep: int = 1\n",
        "    ) -> int:\n",
        "        \"\"\"\n",
        "        Samples from the most likely tokens which make up at least p cumulative probability.\n",
        "        \"\"\"\n",
        "        raise NotImplementedError()\n",
        "\n",
        "    @t.inference_mode()\n",
        "    def beam_search(\n",
        "        self,\n",
        "        prompt: str,\n",
        "        num_return_sequences: int,\n",
        "        num_beams: int,\n",
        "        max_new_tokens: int,\n",
        "        no_repeat_ngram_size: int | None = None,\n",
        "    ) -> list[tuple[float, str]]:\n",
        "        \"\"\"\n",
        "        Implements a beam search, by repeatedly performing the `generate` and `filter` steps (starting from the initial\n",
        "        prompt) until either of the two stopping criteria are met: (1) we've generated `max_new_tokens` tokens, or (2)\n",
        "        we've generated `num_returns_sequences` terminating sequences.\n",
        "        \"\"\"\n",
        "        raise NotImplementedError()\n",
        "\n",
        "\n",
        "t.set_grad_enabled(False)  # gradients are not necessary for sampling\n",
        "\n",
        "model = DemoTransformer(Config()).to(device)\n",
        "model.load_state_dict(reference_gpt2.state_dict(), strict=False)\n",
        "tokenizer = reference_gpt2.tokenizer\n",
        "sampler = TransformerSampler(model, tokenizer)\n",
        "\n",
        "prompt = \"Jingle bells, jingle bells, jingle all the way\"\n",
        "print(f\"Testing greedy decoding\\nPrompt:   {prompt!r}\")\n",
        "\n",
        "expected = \"Jingle bells, jingle bells, jingle all the way up to the top of the mountain.\"\n",
        "output = sampler.sample(prompt, max_tokens_generated=8, temperature=0.0)\n",
        "\n",
        "print(f\"Expected: {expected!r}\\nActual:   {output!r}\\n\")\n",
        "assert output == expected\n",
        "\n",
        "print(\"Tests passed!\")"
      ]
    },
    {
      "cell_type": "markdown",
      "metadata": {
        "id": "cd7Hyj_zX27u"
      },
      "source": [
        "<details>\n",
        "<summary>Solution</summary>\n",
        "\n",
        "```python\n",
        "@t.inference_mode()\n",
        "def sample(self, prompt: str, max_tokens_generated=100, verbose=False, **kwargs):\n",
        "    \"\"\"\n",
        "    Returns a string of autoregressively generated text, starting from the prompt.\n",
        "\n",
        "    Sampling terminates at max_tokens_generated, or when the model generates an end-of-sequence token. kwargs are\n",
        "    passed to sample_next_token, to give detailed instructions on how new tokens are chosen.\n",
        "    \"\"\"\n",
        "    self.model.eval()\n",
        "    input_ids = self.tokenizer.encode(prompt, return_tensors=\"pt\").to(device)[0]\n",
        "\n",
        "    for i in range(max_tokens_generated):\n",
        "        # Get new logits (make sure we don't pass in more tokens than the model's context length)\n",
        "        logits = self.model(input_ids[None, -self.cfg.n_ctx :])\n",
        "        # We only take logits for the last token, because this is what we're sampling\n",
        "        logits = logits[0, -1]\n",
        "        # Get next token (as a tensor of size (1, 1) so we can concat it to input_ids)\n",
        "        next_token = t.tensor([TransformerSampler.sample_next_token(input_ids, logits, **kwargs)], device=device)\n",
        "        # Create new input ids string, with shape (1, old_seq_len + 1)\n",
        "        input_ids = t.cat([input_ids, next_token], dim=-1)\n",
        "        # Print out results, if required\n",
        "        if verbose:\n",
        "            print(self.tokenizer.decode(input_ids), end=\"\\r\")\n",
        "        # If our new token was the end-of-text token, stop\n",
        "        if next_token == getattr(self.tokenizer, \"eos_token_id\", None):\n",
        "            break\n",
        "\n",
        "    return self.tokenizer.decode(input_ids)\n",
        "```\n",
        "\n",
        "</details>"
      ]
    },
    {
      "cell_type": "markdown",
      "metadata": {
        "id": "474FqnuZX27u"
      },
      "source": [
        "## Sampling with Categorical\n",
        "\n",
        "Now, we'll move into implementing specific sampling methods. In each of these cases, you should return to the class definition above and fill in the corresponding method.\n",
        "\n",
        "PyTorch provides a [`distributions`](https://pytorch.org/docs/stable/distributions.html#distribution) package with a number of convenient methods for sampling from various distributions.\n",
        "\n",
        "For now, we just need [`t.distributions.categorical.Categorical`](https://pytorch.org/docs/stable/distributions.html#categorical). Use this to implement `sample_basic`, which just samples from the provided logits (which may have already been modified by the temperature and frequency penalties).\n",
        "\n",
        "Note that this will be slow since we aren't batching the samples, but don't worry about speed for now."
      ]
    },
    {
      "cell_type": "markdown",
      "metadata": {
        "id": "zBZ2PDMPX27u"
      },
      "source": [
        "### Exercise - `sample_basic`\n",
        "\n",
        "> ```yaml\n",
        "> Difficulty: 🔴🔴⚪⚪⚪\n",
        "> Importance: 🔵🔵⚪⚪⚪\n",
        ">\n",
        "> You should spend up to 5-15 minutes on this exercise.\n",
        "> ```\n",
        "\n",
        "Implement basic sampling in the `TransformerSampler` class above (i.e. the `sample_basic` method), then run the code below to verify your solution works."
      ]
    },
    {
      "cell_type": "code",
      "execution_count": null,
      "metadata": {
        "id": "YA-lLygMX27u"
      },
      "outputs": [],
      "source": [
        "prompt = \"John and Mary went to the\"\n",
        "input_ids = tokenizer.encode(prompt, return_tensors=\"pt\").to(device)\n",
        "logits = model(input_ids)[0, -1]\n",
        "\n",
        "expected_top_5 = {\n",
        "    \" church\": 0.0648,\n",
        "    \" house\": 0.0367,\n",
        "    \" temple\": 0.0145,\n",
        "    \" same\": 0.0104,\n",
        "    \" Church\": 0.0097,\n",
        "}\n",
        "frequency_of_top_5 = defaultdict(int)\n",
        "\n",
        "N = 10_000\n",
        "for _ in tqdm(range(N)):\n",
        "    token = TransformerSampler.sample_next_token(input_ids.squeeze(), logits)\n",
        "    frequency_of_top_5[tokenizer.decode(token)] += 1\n",
        "\n",
        "for word in expected_top_5:\n",
        "    expected_freq = expected_top_5[word]\n",
        "    observed_freq = frequency_of_top_5[word] / N\n",
        "    print(\n",
        "        f\"Word: {word!r:<9}. Expected freq {expected_freq:.4f}, observed freq {observed_freq:.4f}\"\n",
        "    )\n",
        "    assert abs(observed_freq - expected_freq) < 0.01, (\n",
        "        \"Try increasing N if this fails by a small amount.\"\n",
        "    )\n",
        "\n",
        "print(\"Tests passed!\")"
      ]
    },
    {
      "cell_type": "markdown",
      "metadata": {
        "id": "cmcFthnGX27u"
      },
      "source": [
        "<details>\n",
        "<summary>Solution</summary>\n",
        "\n",
        "```python\n",
        "@staticmethod\n",
        "def sample_basic(logits: Float[Tensor, \"d_vocab\"]) -> int:\n",
        "    \"\"\"\n",
        "    Samples from the distribution defined by the logits.\n",
        "    \"\"\"\n",
        "    sampled_token = t.distributions.categorical.Categorical(logits=logits).sample()\n",
        "    return sampled_token.item()\n",
        "```\n",
        "\n",
        "</details>"
      ]
    },
    {
      "cell_type": "markdown",
      "metadata": {
        "id": "3igRha6DX27u"
      },
      "source": [
        "### Exercise - `apply_temperature`\n",
        "\n",
        "> ```yaml\n",
        "> Difficulty: 🔴⚪⚪⚪⚪\n",
        "> Importance: 🔵🔵⚪⚪⚪\n",
        ">\n",
        "> You should spend up to 5-10 minutes on this exercise.\n",
        "> ```\n",
        "\n",
        "Temperature sounds fancy, but it's literally just dividing the logits by the temperature. You should implement this in your `TransformerSampler` class now."
      ]
    },
    {
      "cell_type": "code",
      "execution_count": null,
      "metadata": {
        "id": "GNfo1gEmX27u"
      },
      "outputs": [],
      "source": [
        "logits = t.tensor([1, 2]).log()\n",
        "\n",
        "cold_logits = TransformerSampler.apply_temperature(logits, temperature=0.001)\n",
        "print('A low temperature \"sharpens\" or \"peaks\" the distribution: ', cold_logits)\n",
        "t.testing.assert_close(cold_logits, 1000.0 * logits)\n",
        "\n",
        "hot_logits = TransformerSampler.apply_temperature(logits, temperature=1000.0)\n",
        "print(\"A high temperature flattens the distribution: \", hot_logits)\n",
        "t.testing.assert_close(hot_logits, 0.001 * logits)\n",
        "\n",
        "print(\"Tests passed!\")"
      ]
    },
    {
      "cell_type": "markdown",
      "metadata": {
        "id": "9zKFEnWWX27u"
      },
      "source": [
        "<details>\n",
        "<summary>Solution</summary>\n",
        "\n",
        "```python\n",
        "@staticmethod\n",
        "def apply_temperature(logits: Float[Tensor, \"d_vocab\"], temperature: float) -> Float[Tensor, \"d_vocab\"]:\n",
        "    \"\"\"\n",
        "    Applies temperature scaling to the logits.\n",
        "    \"\"\"\n",
        "    return logits / temperature\n",
        "```\n",
        "\n",
        "</details>"
      ]
    },
    {
      "cell_type": "markdown",
      "metadata": {
        "id": "0Pd1HXZkX27u"
      },
      "source": [
        "### Exercise - `apply_frequency_penalty`\n",
        "\n",
        "> ```yaml\n",
        "> Difficulty: 🔴🔴⚪⚪⚪\n",
        "> Importance: 🔵⚪⚪⚪⚪\n",
        ">\n",
        "> You should spend up to 10-15 minutes on this exercise.\n",
        "> ```\n",
        "\n",
        "The frequency penalty is simple as well: count the number of occurrences of each token, then subtract `freq_penalty` for each occurrence. Hint: use `t.bincount` (documentation [here](https://pytorch.org/docs/stable/generated/torch.bincount.html)) to do this in a vectorized way.\n",
        "\n",
        "You should implement the `apply_frequency_penalty` method in your `TransformerSampler` class now, then run the cell below to check your solution."
      ]
    },
    {
      "cell_type": "markdown",
      "metadata": {
        "id": "vrmQf4L_X27u"
      },
      "source": [
        "<details>\n",
        "<summary>Help - I'm getting a <code>RuntimeError</code>; my tensor sizes don't match.</summary>\n",
        "\n",
        "Look at the documentation page for `t.bincount`. You might need to use the `minlength` argument - why?\n",
        "</details>"
      ]
    },
    {
      "cell_type": "code",
      "execution_count": null,
      "metadata": {
        "id": "ezJVquiOX27u"
      },
      "outputs": [],
      "source": [
        "bieber_prompt = \"And I was like Baby, baby, baby, oh Like, Baby, baby, baby, no Like, Baby, baby, baby, oh I thought you'd always be mine, mine\"\n",
        "input_ids = tokenizer.encode(bieber_prompt, return_tensors=\"pt\")\n",
        "logits = t.ones(tokenizer.vocab_size)\n",
        "penalized_logits = TransformerSampler.apply_frequency_penalty(input_ids.squeeze(), logits, 2.0)\n",
        "\n",
        "assert penalized_logits[5156].item() == -11, (\n",
        "    \"Expected 6 occurrences of ' baby' with leading space, 1-2*6=-11\"\n",
        ")\n",
        "assert penalized_logits[14801].item() == -5, (\n",
        "    \"Expected 3 occurrences of ' Baby' with leading space, 1-2*3=-5\"\n",
        ")\n",
        "\n",
        "print(\"Tests passed!\")"
      ]
    },
    {
      "cell_type": "markdown",
      "metadata": {
        "id": "wEMSY1jOX27u"
      },
      "source": [
        "<details>\n",
        "<summary>Solution</summary>\n",
        "\n",
        "```python\n",
        "@staticmethod\n",
        "def apply_frequency_penalty(\n",
        "    input_ids: Int[Tensor, \"seq_len\"], logits: Float[Tensor, \"d_vocab\"], freq_penalty: float\n",
        ") -> Float[Tensor, \"d_vocab\"]:\n",
        "    \"\"\"\n",
        "    Applies a frequency penalty to the logits.\n",
        "    \"\"\"\n",
        "    d_vocab = logits.size(0)\n",
        "    id_freqs = t.bincount(input_ids, minlength=d_vocab)\n",
        "    return logits - freq_penalty * id_freqs\n",
        "```\n",
        "\n",
        "</details>"
      ]
    },
    {
      "cell_type": "markdown",
      "metadata": {
        "id": "FyHgKYtsX27u"
      },
      "source": [
        "### Sampling - Manual Testing\n",
        "\n",
        "Run the below cell to get a sense for the `temperature` and `freq_penalty` arguments. Play with your own prompt and try other values.\n",
        "\n",
        "Note: your model can generate newlines or non-printing characters, so calling `print` on generated text sometimes looks awkward on screen. You can call `repr` on the string before printing to have the string escaped nicely."
      ]
    },
    {
      "cell_type": "code",
      "execution_count": null,
      "metadata": {
        "id": "I-mZzqhAX27u"
      },
      "outputs": [],
      "source": [
        "sampler = TransformerSampler(model, tokenizer)\n",
        "\n",
        "N_RUNS = 1\n",
        "your_prompt = \"Jingle bells, jingle bells, jingle all the way\"\n",
        "cases = [\n",
        "    (\"High freq penalty\", dict(frequency_penalty=100.0)),\n",
        "    (\"Negative freq penalty\", dict(frequency_penalty=-3.0)),\n",
        "    (\"Too hot!\", dict(temperature=2.0)),\n",
        "    (\"Pleasantly cool\", dict(temperature=0.7)),\n",
        "    (\"Pleasantly warm\", dict(temperature=0.9)),\n",
        "    (\"Too cold!\", dict(temperature=0.01)),\n",
        "]\n",
        "\n",
        "table = Table(\"Name\", \"Kwargs\", \"Output\", title=\"Sampling - Manual Testing\")\n",
        "\n",
        "for name, kwargs in cases:\n",
        "    for i in range(N_RUNS):\n",
        "        output = sampler.sample(your_prompt, max_tokens_generated=24, **kwargs)\n",
        "        table.add_row(name, str(kwargs), repr(output) + \"\\n\")\n",
        "\n",
        "rprint(table)"
      ]
    },
    {
      "cell_type": "markdown",
      "metadata": {
        "id": "qaUEIGI7X27u"
      },
      "source": [
        "## Top-K Sampling\n",
        "\n",
        "Conceptually, the steps in top-k sampling are:\n",
        "- Find the `top_k` largest probabilities (you can use [`torch.topk`](https://pytorch.org/docs/stable/generated/torch.topk.html))\n",
        "- Set all other probabilities to zero\n",
        "- Normalize and sample"
      ]
    },
    {
      "cell_type": "markdown",
      "metadata": {
        "id": "d30svMGhX27u"
      },
      "source": [
        "### Exercise - `sample_top_k`\n",
        "\n",
        "> ```yaml\n",
        "> Difficulty: 🔴🔴⚪⚪⚪\n",
        "> Importance: 🔵⚪⚪⚪⚪\n",
        ">\n",
        "> You should spend up to 5-10 minutes on this exercise.\n",
        "> ```\n",
        "\n",
        "Implement the method `sample_top_k` now. Your implementation should stay in log-space throughout (don't exponentiate to obtain probabilities). This means you don't actually need to worry about normalizing, because `Categorical` accepts unnormalised logits."
      ]
    },
    {
      "cell_type": "code",
      "execution_count": null,
      "metadata": {
        "id": "CbNUx_TUX27u"
      },
      "outputs": [],
      "source": [
        "prompt = \"John and Mary went to the\"\n",
        "input_ids = tokenizer.encode(prompt, return_tensors=\"pt\").to(device)\n",
        "logits = model(input_ids)[0, -1]\n",
        "\n",
        "expected_top_5 = {\n",
        "    \" church\": 0.0648,\n",
        "    \" house\": 0.0367,\n",
        "    \" temple\": 0.0145,\n",
        "    \" same\": 0.0104,\n",
        "    \" Church\": 0.0097,\n",
        "}\n",
        "topk_5_sum = sum(expected_top_5.values())\n",
        "\n",
        "observed_freqs = defaultdict(int)\n",
        "\n",
        "N = 10000\n",
        "for _ in tqdm(range(N)):\n",
        "    token = TransformerSampler.sample_next_token(input_ids.squeeze(), logits, top_k=5)\n",
        "    observed_freqs[tokenizer.decode(token)] += 1\n",
        "\n",
        "for word in expected_top_5:\n",
        "    expected_freq = expected_top_5[word] / topk_5_sum\n",
        "    observed_freq = observed_freqs[word] / N\n",
        "    print(\n",
        "        f\"Word: {word!r:<9}. Expected freq = {expected_freq:.4f}, observed freq = {observed_freq:.4f}\"\n",
        "    )\n",
        "    assert abs(observed_freq - expected_freq) < 0.01"
      ]
    },
    {
      "cell_type": "markdown",
      "metadata": {
        "id": "seLhP5CIX27u"
      },
      "source": [
        "<details>\n",
        "<summary>Solution</summary>\n",
        "\n",
        "```python\n",
        "@staticmethod\n",
        "def sample_top_k(logits: Float[Tensor, \"d_vocab\"], k: int) -> int:\n",
        "    \"\"\"\n",
        "    Samples from the top k most likely tokens.\n",
        "    \"\"\"\n",
        "    top_k_logits, top_k_token_ids = logits.topk(k)\n",
        "    # Get sampled token (which is an index corresponding to the list of top-k tokens)\n",
        "    sampled_token_idx = t.distributions.categorical.Categorical(logits=top_k_logits).sample()\n",
        "    # Get the actual token id, as an int\n",
        "    return top_k_token_ids[sampled_token_idx].item()\n",
        "```\n",
        "\n",
        "</details>"
      ]
    },
    {
      "cell_type": "markdown",
      "metadata": {
        "id": "BG5S5hinX27u"
      },
      "source": [
        "The [GPT-2 paper](https://d4mucfpksywv.cloudfront.net/better-language-models/language_models_are_unsupervised_multitask_learners.pdf) famously included an example prompt about unicorns. Now it's your turn to see just how cherry picked this example was.\n",
        "\n",
        "The paper claims they used `top_k=40` and best of 10 samples."
      ]
    },
    {
      "cell_type": "code",
      "execution_count": null,
      "metadata": {
        "id": "jwNK8H1TX27u"
      },
      "outputs": [],
      "source": [
        "sampler = TransformerSampler(model, tokenizer)\n",
        "\n",
        "your_prompt = \"In a shocking finding, scientist discovered a herd of unicorns living in a remote, previously unexplored valley, in the Andes Mountains. Even more surprising to the researchers was the fact that the unicorns spoke perfect English.\"\n",
        "\n",
        "output = sampler.sample(your_prompt, temperature=0.7, top_k=40, max_tokens_generated=64)\n",
        "\n",
        "rprint(f\"Your model said:\\n\\n[bold dark_orange]{output}\")"
      ]
    },
    {
      "cell_type": "markdown",
      "metadata": {
        "id": "dj5iXnBcX27u"
      },
      "source": [
        "This is pretty incredible! For some perspective on how much of a paradigm shift even basic models like this represented, we recommend reading [this section from Simulators](https://www.lesswrong.com/posts/vJFdjigzmcXMhNTsx/simulators#The_limit_of_sequence_modeling)."
      ]
    },
    {
      "cell_type": "markdown",
      "metadata": {
        "id": "0I36KrmNX27u"
      },
      "source": [
        "## Top-p aka Nucleus Sampling\n",
        "\n",
        "The basic idea is that we choose the most likely words, up until the total probability of words we've chosen crosses some threshold. Then we sample from those chosen words based on their logits.\n",
        "\n",
        "The steps are:\n",
        "\n",
        "- Sort the probabilities from largest to smallest\n",
        "- Find the cutoff point where the cumulative probability first equals or exceeds `top_p`. We do the cutoff inclusively, keeping the first probability above the threshold.\n",
        "- If the number of kept probabilities is less than `min_tokens_to_keep`, keep that many tokens instead.\n",
        "- Set all other probabilities to zero\n",
        "- Normalize and sample\n",
        "\n",
        "For example, if our probabilities were `(0.4, 0.3, 0.2, 0.1)` and our cutoff was `top_p=0.8`, then we'd sample from the first three elements (because their total probability is `0.9` which is over the threshold, but the first two only have a total prob of `0.7` which is under the threshold). Once we've chosen to sample from those three, we would renormalise them by dividing by their sum, so the probabilities we use when sampling are `(0.4/0.9, 0.3/0.9, 0.2/0.9)`.\n",
        "\n",
        "Optionally, refer to the paper [The Curious Case of Neural Text Degeneration](https://arxiv.org/pdf/1904.09751.pdf) for some comparison of different methods."
      ]
    },
    {
      "cell_type": "markdown",
      "metadata": {
        "id": "tMaGtpBkX27u"
      },
      "source": [
        "### Exercise - `sample_top_p`\n",
        "\n",
        "> ```yaml\n",
        "> Difficulty: 🔴🔴🔴⚪⚪\n",
        "> Importance: 🔵⚪⚪⚪⚪\n",
        ">\n",
        "> You should spend up to 15-20 minutes on this exercise.\n",
        "> ```"
      ]
    },
    {
      "cell_type": "code",
      "execution_count": null,
      "metadata": {
        "id": "2_BGwvmWX27v"
      },
      "outputs": [],
      "source": [
        "prompt = \"John and Mary went to the\"\n",
        "input_ids = tokenizer.encode(prompt, return_tensors=\"pt\").to(device)\n",
        "logits = model(input_ids)[0, -1]\n",
        "\n",
        "expected_top_10pct = {\n",
        "    \" church\": 0.0648,\n",
        "    \" house\": 0.0367,  # These are the two most likely tokens, and add up to >10%\n",
        "}\n",
        "top_10pct_sum = sum(expected_top_10pct.values())\n",
        "\n",
        "observed_freqs = defaultdict(int)\n",
        "\n",
        "N = 10_000\n",
        "for _ in tqdm(range(N)):\n",
        "    token = TransformerSampler.sample_next_token(input_ids.squeeze(), logits, top_p=0.1)\n",
        "    observed_freqs[tokenizer.decode(token)] += 1\n",
        "\n",
        "for word in expected_top_10pct:\n",
        "    expected_freq = expected_top_10pct[word] / top_10pct_sum\n",
        "    observed_freq = observed_freqs[word] / N\n",
        "    print(\n",
        "        f\"Word: {word!r:<9}. Expected freq {expected_freq:.4f}, observed freq {observed_freq:.4f}\"\n",
        "    )\n",
        "    assert abs(observed_freq - expected_freq) < 0.01, (\n",
        "        \"Try increasing N if this fails by a small amount.\"\n",
        "    )"
      ]
    },
    {
      "cell_type": "markdown",
      "metadata": {
        "id": "vpCIUdqSX27v"
      },
      "source": [
        "<details>\n",
        "<summary>Help - I'm stuck on how to implement this function.</summary>\n",
        "\n",
        "First, sort the logits using the `sort(descending=True)` method (this returns values and indices). Then you can get `cumulative_probs` by applying softmax to these logits and taking the cumsum. Then, you can decide how many probabilities to keep by using the `t.searchsorted` function.\n",
        "\n",
        "Once you've decided which probabilities to keep, it's easiest to sample from them using the original logits (you should have preserved the indices when you called `logits.sort`). This way, you don't need to worry about renormalising like you would if you were using probabilities.\n",
        "</details>\n",
        "\n",
        "<details>\n",
        "<summary>Solution</summary>\n",
        "\n",
        "```python\n",
        "@staticmethod\n",
        "def sample_top_p(logits: Float[Tensor, \"d_vocab\"], top_p: float, min_tokens_to_keep: int = 1) -> int:\n",
        "    \"\"\"\n",
        "    Samples from the most likely tokens which make up at least p cumulative probability.\n",
        "    \"\"\"\n",
        "    # Sort logits, and get cumulative probabilities\n",
        "    logits_sorted, indices = logits.sort(descending=True, stable=True)\n",
        "    cumul_probs = logits_sorted.softmax(-1).cumsum(-1)\n",
        "    # Choose which tokens to keep, in the set we sample from\n",
        "    n_keep = t.searchsorted(cumul_probs, top_p, side=\"left\").item() + 1\n",
        "    n_keep = max(n_keep, min_tokens_to_keep)\n",
        "    keep_idx = indices[:n_keep]\n",
        "    keep_logits = logits[keep_idx]\n",
        "    # Perform the sampling\n",
        "    sample = t.distributions.categorical.Categorical(logits=keep_logits).sample()\n",
        "    return keep_idx[sample].item()\n",
        "```\n",
        "\n",
        "</details>"
      ]
    },
    {
      "cell_type": "markdown",
      "metadata": {
        "id": "ylnfB-W5X27v"
      },
      "source": [
        "Now, an example of top-p sampling:"
      ]
    },
    {
      "cell_type": "code",
      "execution_count": null,
      "metadata": {
        "id": "4gJYVrETX27v"
      },
      "outputs": [],
      "source": [
        "sampler = TransformerSampler(model, tokenizer)\n",
        "\n",
        "your_prompt = \"Eliezer Shlomo Yudkowsky (born September 11, 1979) is an American decision and artificial intelligence (AI) theorist and writer, best known for\"\n",
        "output = sampler.sample(your_prompt, temperature=0.7, top_p=0.95, max_tokens_generated=64)\n",
        "rprint(f\"Your model said:\\n\\n[bold dark_orange]{output}\")"
      ]
    },
    {
      "cell_type": "markdown",
      "metadata": {
        "id": "QNFWgzNOX27v"
      },
      "source": [
        "## Beam search\n",
        "\n",
        "Finally, we'll implement a more advanced way of searching over output: **beam search**. You should read the [HuggingFace page](https://huggingface.co/blog/how-to-generate#beam-search) on beam search before moving on.\n",
        "\n",
        "In beam search, we maintain a list of size `num_beams` completions which are the most likely completions so far as measured by the product of their probabilities. Since this product can become very small, we use the sum of log probabilities instead. Note - log probabilities are *not* the same as your model's output. We get log probabilities by first taking softmax of our output and then taking log. You can do this with the [`log_softmax`](https://pytorch.org/docs/stable/generated/torch.nn.functional.log_softmax.html) function / tensor method.\n",
        "\n",
        "<details>\n",
        "<summary>Log probabilities are equal to the logit output after being translated by some amount X (where X is a function of the original logit output). Can you prove this?</summary>\n",
        "\n",
        "Suppose our vector of logits is $x$, and we take softmax to get a vector of probabilities $p$, then log again to get a vector of log probabilities $l$. Then the $i$-th element of this vector of logprobs is:\n",
        "\n",
        "$$\n",
        "\\begin{align}\n",
        "l_i &= \\log p_i \\\\\n",
        "&= \\log \\frac{\\exp(x_i)}{\\sum_j \\exp(x_j)} \\\\\n",
        "&= x_i - \\log \\sum_j \\exp(x_j) \\\\\n",
        "&= x_i - C\n",
        "\\end{align}\n",
        "$$\n",
        "\n",
        "where $C = \\log \\sum_j \\exp(x_j)$ is the same for all elements. So we can see that $l_i$ is equal to the logit output $x_i$ after being translated by $C$.\n",
        "\n",
        "It's important not to mix up logits and logprobs!\n",
        "</details>\n",
        "\n",
        "<details>\n",
        "<summary>Why do you think we use log softmax rather than logit output?</summary>\n",
        "\n",
        "Logit output is translation invariant. If we had two different beams and we were generating the next tokens in those beams, there would be no reasonable way to compare the two beams to each other, because we could shift the logit vector for one beam by a constant amount without changing the distribution.\n",
        "\n",
        "</details>\n",
        "\n",
        "At each iteration, we run the batch of completions through the model and take the log-softmax to obtain `d_vocab` log-probs for each completion, or `num_beams * d_vocab` possible next completions in total.\n",
        "\n",
        "If we kept all of these, then we would have `num_beams * d_vocab * d_vocab` completions after the next iteration which is way too many, so instead we sort them by their score and loop through from best (highest) log probability to worst (lowest).\n",
        "\n",
        "The illustration below might help (based on real results from this method). Here, we have the following hyperparameters:\n",
        "\n",
        "```python\n",
        "num_beams = 3\n",
        "max_new_tokens = 3\n",
        "num_return_sequences = 2\n",
        "```\n",
        "\n",
        "<img src=\"https://raw.githubusercontent.com/info-arena/ARENA_img/main/misc/beam-search-3.png\" width=\"1000\">\n",
        "\n",
        "Note how after each \"generate\" stage, we have `num_beams ** 2` possible completions, which we then filter down to `num_beams`. This is because we need this many in order to find the best `num_beams` completions overall - for example, it's possible that all the best beams of length `n+1` come from the same beam of length `n`, in which case we'll need to keep all `num_beams` that we generated from that single beam.\n",
        "\n",
        "How do we deal with sequences that terminate early (i.e. by generating an EOS token)? Answer - we append them to the list of completions which we'll return at the end, and remove them from the generation tree. Our algorithm terminates when either all our sequences have length `max_new_tokens` larger than the initial prompt length, or we've generated `num_returns_sequences` terminating sequences."
      ]
    },
    {
      "cell_type": "markdown",
      "metadata": {
        "id": "JMMiz-rnX27v"
      },
      "source": [
        "### Exercise - implement `beam_search`\n",
        "\n",
        "> ```yaml\n",
        "> Difficulty: 🔴🔴🔴🔴🔴\n",
        "> Importance: 🔵⚪⚪⚪⚪\n",
        ">\n",
        "> You should spend up to 30-50 minutes on this exercise.\n",
        "> ```\n",
        "\n",
        "We've given you one implementation of `beam_search` below, which calls the `generate` and `filter` methods of the `Beams` class (these correspond to the two stages in the diagram above). The `beam_search` method works as follows:\n",
        "\n",
        "- Create a list `final_logprobs_and_completions` for storing the final output, as tuples of (logprob sum, string completion).\n",
        "- Perform `max_new_tokens` steps of generation (producing a new set of beams) and filtering (getting the best beams from these combinations), while also adding terminated beams to the list of best beams\n",
        "- Return these terminated beams plus the best ones we have at the end of the steps.\n",
        "\n",
        "So all you need to do is fill in the `generate` and `filter` methods. Below, you'll find some unit tests for the `generate` and `filter` methods. When you've passed these tests, you should be able to run the full `beam_search` function.\n",
        "\n",
        "**Important note** - by default, beam search produces a lot of repeated words / phrases / sentences. This makes sense - if the model finds some completion with a much higher logit sum than most completions in its beam search space, then it will want to repeat this completion even if it doesn't make a lot of sense in context. A common solution is to ban repetition of n-grams, which you should also implement in the function below. In other words, rather than sampling tokens from each sequence by taking `logprobs.topk(k)` in your `generate` method, you should take the `k` top tokens after filtering out those that give you repeated n-grams of length `no_repeat_ngram_size`. Good values of this parameter to try are 2 or 3 (although we recommend you try without this parameter first, so you can see how much of a difference it makes!)."
      ]
    },
    {
      "cell_type": "code",
      "execution_count": null,
      "metadata": {
        "id": "VuL-sy8YX27v"
      },
      "outputs": [],
      "source": [
        "@dataclass\n",
        "class Beams:\n",
        "    \"\"\"Class to store beams during beam search.\"\"\"\n",
        "\n",
        "    model: DemoTransformer\n",
        "    tokenizer: GPT2TokenizerFast\n",
        "    logprob_sums: Float[Tensor, \"batch\"]\n",
        "    tokens: Int[Tensor, \"batch seq\"]\n",
        "\n",
        "    def __getitem__(self, batch_idx) -> \"Beams\":\n",
        "        \"\"\"Allows you to create new beams from old beams by slicing along batch dim (useful for `filter`).\"\"\"\n",
        "        return Beams(\n",
        "            self.model, self.tokenizer, self.logprob_sums[batch_idx], self.tokens[batch_idx]\n",
        "        )\n",
        "\n",
        "    @property\n",
        "    def logprobs_and_completions(self) -> list[tuple[float, str]]:\n",
        "        \"\"\"Returns self as a list of logprob sums and completions (useful for getting final output).\"\"\"\n",
        "        return [\n",
        "            (logprob_sum.item(), self.tokenizer.decode(tokens))\n",
        "            for (logprob_sum, tokens) in zip(self.logprob_sums, self.tokens)\n",
        "        ]\n",
        "\n",
        "    def generate(self, k: int, no_repeat_ngram_size: int | None = None) -> \"Beams\":\n",
        "        \"\"\"\n",
        "        Starting from the current set of beams (i.e. self.tokens) and returns a new set of `len(self.tokens) * k` beams,\n",
        "        containing the best `k` continuations for each of the original beams.\n",
        "\n",
        "        Optional argument `no_repeat_ngram_size` means your model won't generate any sequences with a repeating n-gram\n",
        "        of this length.\n",
        "        \"\"\"\n",
        "        raise NotImplementedError()\n",
        "\n",
        "    def filter(self, k: int) -> tuple[\"Beams\", \"Beams\"]:\n",
        "        \"\"\"\n",
        "        Returns:\n",
        "            best_beams: Beams\n",
        "                filtered version of self, containing all best `k` which are also not terminated.\n",
        "            early_terminations: Beams\n",
        "                filtered version of self, containing all best `k` which are also terminated.\n",
        "        \"\"\"\n",
        "        raise NotImplementedError()\n",
        "\n",
        "\n",
        "    def print(self, title=\"Best completions\", max_print_chars=80) -> None:\n",
        "        \"\"\"\n",
        "        Prints out a set of sequences with their corresponding logprob sums.\n",
        "        \"\"\"\n",
        "        if len(self.tokens) == 0:\n",
        "            return\n",
        "        table = Table(\"logprob sum\", \"completion\", title=title)\n",
        "        for logprob_sum, tokens in zip(self.logprob_sums, self.tokens):\n",
        "            text = self.tokenizer.decode(tokens)\n",
        "            if len(repr(text)) > max_print_chars:\n",
        "                text = (\n",
        "                    text[: int(0.3 * max_print_chars)]\n",
        "                    + \" ... \"\n",
        "                    + text[-int(0.7 * max_print_chars) :]\n",
        "                )\n",
        "            table.add_row(f\"{logprob_sum:>8.3f}\", repr(text))\n",
        "        rprint(table)\n",
        "\n",
        "\n",
        "@t.inference_mode()\n",
        "def beam_search(\n",
        "    self: TransformerSampler,\n",
        "    prompt: str,\n",
        "    num_return_sequences: int,\n",
        "    num_beams: int,\n",
        "    max_new_tokens: int,\n",
        "    no_repeat_ngram_size: int | None = None,\n",
        ") -> list[tuple[float, str]]:\n",
        "    \"\"\"\n",
        "    Implements a beam search, by repeatedly performing the `generate` and `filter` steps (starting from the initial\n",
        "    prompt) until either of the two stopping criteria are met: (1) we've generated `max_new_tokens` tokens, or (2)\n",
        "    we've generated `num_returns_sequences` terminating sequences.\n",
        "    \"\"\"\n",
        "    assert num_return_sequences <= num_beams\n",
        "    self.model.eval()\n",
        "\n",
        "    tokens = self.tokenizer.encode(prompt, return_tensors=\"pt\").to(device)\n",
        "\n",
        "    final_logprobs_and_completions = []  # we add to this list as we get terminated beams\n",
        "    best_beams = Beams(\n",
        "        self.model, self.tokenizer, t.tensor([0.0]).to(device), tokens\n",
        "    )  # start with just 1 beam\n",
        "\n",
        "    for _ in tqdm(range(max_new_tokens)):\n",
        "        t.cuda.empty_cache()\n",
        "\n",
        "        # Generate & filter beams\n",
        "        best_beams = best_beams.generate(k=num_beams, no_repeat_ngram_size=no_repeat_ngram_size)\n",
        "        best_beams, best_beams_terminated = best_beams.filter(k=num_beams)\n",
        "\n",
        "        # Add terminated beams to our list, and return early if we have enough\n",
        "        final_logprobs_and_completions.extend(best_beams_terminated.logprobs_and_completions)\n",
        "        if len(final_logprobs_and_completions) >= num_return_sequences:\n",
        "            return final_logprobs_and_completions[:num_return_sequences]\n",
        "\n",
        "    # Return terminated beams plus the best ongoing beams of length `orig_len + max_new_tokens`\n",
        "    final_logprobs_and_completions.extend(best_beams.logprobs_and_completions)\n",
        "    return final_logprobs_and_completions[:num_return_sequences]\n",
        "\n",
        "\n",
        "TransformerSampler.beam_search = beam_search"
      ]
    },
    {
      "cell_type": "markdown",
      "metadata": {
        "id": "oXBvf_PGX27v"
      },
      "source": [
        "<details>\n",
        "<summary>Help - I'm stuck on the implementation of <code>no_repeat_ngram_size</code>.</summary>\n",
        "\n",
        "Here's a method, which you can use in your `generate` function in place of `logprobs.topk(k)`, which filters out the ngrams of length `no_repeat_ngram_size` which have already appeared in `self.tokens`:\n",
        "\n",
        "```python\n",
        "def get_topk_non_repeating(\n",
        "    self,\n",
        "    logprobs: Float[Tensor, \"batch d_vocab\"],\n",
        "    no_repeat_ngram_size: int | None,\n",
        "    k: int,\n",
        ") -> tuple[Float[Tensor, \"k\"], Int[Tensor, \"k\"]]:\n",
        "    \"\"\"\n",
        "    logprobs:\n",
        "        tensor of the log-probs for the next token\n",
        "    no_repeat_ngram_size:\n",
        "        size of ngram to avoid repeating\n",
        "    k:\n",
        "        number of top logits to return, for each beam in our collection\n",
        "\n",
        "    Returns:\n",
        "        equivalent to the output of `logprobs.topk(dim=-1)`, but makes sure that no returned tokens would produce an\n",
        "        ngram of size `no_repeat_ngram_size` which has already appeared in `self.tokens`.\n",
        "    \"\"\"\n",
        "    batch, seq_len = self.tokens.shape\n",
        "\n",
        "    # If completion isn't long enough for a repetition, or we have no restrictions, just return topk\n",
        "    if (no_repeat_ngram_size is not None) and (seq_len > no_repeat_ngram_size - 1):\n",
        "        # Otherwise, we need to check for ngram repetitions\n",
        "        # First, get the most recent `no_repeat_ngram_size-1` tokens\n",
        "        last_ngram_prefix = self.tokens[:, seq_len - (no_repeat_ngram_size - 1) :]\n",
        "        # Next, find all the tokens we're not allowed to generate, by checking all past ngrams for a match\n",
        "        for i in range(seq_len - (no_repeat_ngram_size - 1)):\n",
        "            ngrams = self.tokens[:, i : i + no_repeat_ngram_size]  # (batch, ngram)\n",
        "            ngrams_are_repeated = (ngrams[:, :-1] == last_ngram_prefix).all(-1)  # (batch,)\n",
        "            ngram_end_tokens = ngrams[:, [-1]]  # (batch, 1)\n",
        "            # Fill logprobs with neginf wherever the ngrams are repeated\n",
        "            logprobs[range(batch), ngram_end_tokens] = t.where(\n",
        "                ngrams_are_repeated, -1.0e4, logprobs[range(batch), ngram_end_tokens]\n",
        "            )\n",
        "\n",
        "    # Finally, get our actual tokens\n",
        "    return logprobs.topk(k=k, dim=-1)\n",
        "```\n",
        "\n",
        "</details>\n",
        "\n",
        "<details>\n",
        "<summary>Solution</summary>\n",
        "\n",
        "```python\n",
        "def generate(self, k: int, no_repeat_ngram_size: int | None = None) -> \"Beams\":\n",
        "    \"\"\"\n",
        "    Starting from the current set of beams (i.e. self.tokens) and returns a new set of `len(self.tokens) * k` beams,\n",
        "    containing the best `k` continuations for each of the original beams.\n",
        "\n",
        "    Optional argument `no_repeat_ngram_size` means your model won't generate any sequences with a repeating n-gram\n",
        "    of this length.\n",
        "    \"\"\"\n",
        "    # Get the output logprobs for the next token (for every sequence in current beams)\n",
        "    logprobs = self.model(self.tokens)[:, -1, :].log_softmax(-1)\n",
        "\n",
        "    # Get the top `toks_per_beam` tokens for each sequence\n",
        "    topk_logprobs, topk_tokenIDs = self.get_topk_non_repeating(logprobs, no_repeat_ngram_size, k=k)\n",
        "\n",
        "    # Add new logprobs & concat new tokens. When doing this, we need to add an extra `k` dimension since our current\n",
        "    # logprobs & tokens have shape (batch,) and (batch, seq), but our new ones both have shape (batch, k)\n",
        "    new_logprob_sums = einops.repeat(self.logprob_sums, \"b -> b k\", k=k) + topk_logprobs\n",
        "    new_tokens = t.concat([einops.repeat(self.tokens, \"b s -> b k s\", k=k), topk_tokenIDs.unsqueeze(-1)], dim=-1)\n",
        "\n",
        "    return Beams(self.model, self.tokenizer, new_logprob_sums.flatten(), new_tokens.flatten(0, 1))\n",
        "\n",
        "def filter(self, k: int) -> tuple[\"Beams\", \"Beams\"]:\n",
        "    \"\"\"\n",
        "    Returns:\n",
        "        best_beams: Beams\n",
        "            filtered version of self, containing all best `k` which are also not terminated.\n",
        "        early_terminations: Beams\n",
        "            filtered version of self, containing all best `k` which are also terminated.\n",
        "    \"\"\"\n",
        "    # Get the indices of top `k` beams\n",
        "    top_beam_indices = self.logprob_sums.topk(k=k, dim=0).indices.tolist()\n",
        "    # Get the indices of terminated sequences\n",
        "    new_tokens = self.tokens[:, -1]\n",
        "    terminated_indices = t.nonzero(new_tokens == self.tokenizer.eos_token_id)\n",
        "\n",
        "    # Get the indices of the `k` best sequences (some terminated, some not terminated)\n",
        "    best_continuing = [i for i in top_beam_indices if i not in terminated_indices]\n",
        "    best_terminated = [i for i in top_beam_indices if i in terminated_indices]\n",
        "\n",
        "    # Return the beam objects from these indices\n",
        "    return self[best_continuing], self[best_terminated]\n",
        "\n",
        "def get_topk_non_repeating(\n",
        "    self,\n",
        "    logprobs: Float[Tensor, \"batch d_vocab\"],\n",
        "    no_repeat_ngram_size: int | None,\n",
        "    k: int,\n",
        ") -> tuple[Float[Tensor, \"k\"], Int[Tensor, \"k\"]]:\n",
        "    \"\"\"\n",
        "    logprobs:\n",
        "        tensor of the log-probs for the next token\n",
        "    no_repeat_ngram_size:\n",
        "        size of ngram to avoid repeating\n",
        "    k:\n",
        "        number of top logits to return, for each beam in our collection\n",
        "\n",
        "    Returns:\n",
        "        equivalent to the output of `logprobs.topk(dim=-1)`, but makes sure that no returned tokens would produce an\n",
        "        ngram of size `no_repeat_ngram_size` which has already appeared in `self.tokens`.\n",
        "    \"\"\"\n",
        "    batch, seq_len = self.tokens.shape\n",
        "\n",
        "    # If completion isn't long enough for a repetition, or we have no restrictions, just return topk\n",
        "    if (no_repeat_ngram_size is not None) and (seq_len > no_repeat_ngram_size - 1):\n",
        "        # Otherwise, we need to check for ngram repetitions\n",
        "        # First, get the most recent `no_repeat_ngram_size-1` tokens\n",
        "        last_ngram_prefix = self.tokens[:, seq_len - (no_repeat_ngram_size - 1) :]\n",
        "        # Next, find all the tokens we're not allowed to generate, by checking all past ngrams for a match\n",
        "        for i in range(seq_len - (no_repeat_ngram_size - 1)):\n",
        "            ngrams = self.tokens[:, i : i + no_repeat_ngram_size]  # (batch, ngram)\n",
        "            ngrams_are_repeated = (ngrams[:, :-1] == last_ngram_prefix).all(-1)  # (batch,)\n",
        "            ngram_end_tokens = ngrams[:, [-1]]  # (batch, 1)\n",
        "            # Fill logprobs with neginf wherever the ngrams are repeated\n",
        "            logprobs[range(batch), ngram_end_tokens] = t.where(\n",
        "                ngrams_are_repeated, -1.0e4, logprobs[range(batch), ngram_end_tokens]\n",
        "            )\n",
        "\n",
        "    # Finally, get our actual tokens\n",
        "    return logprobs.topk(k=k, dim=-1)\n",
        "```\n",
        "\n",
        "</details>"
      ]
    },
    {
      "cell_type": "markdown",
      "metadata": {
        "id": "HPLzXF1dX27v"
      },
      "source": [
        "Example usage of the `Beams` class, and the `print` method, corresponding to the diagram above:"
      ]
    },
    {
      "cell_type": "code",
      "execution_count": null,
      "metadata": {
        "id": "HHOLPbIuX27v"
      },
      "outputs": [],
      "source": [
        "# Start with prompt \"When I was\", get top 3 tokens (and their logprobs), and use that to create & display the top 3 beams\n",
        "prompt = \"When I was\"\n",
        "tokens = tokenizer.encode(prompt, return_tensors=\"pt\").to(device)\n",
        "logprobs = model(tokens)[0, -1].log_softmax(-1)\n",
        "top_logprobs, top_tokens = logprobs.topk(k=3, dim=-1)\n",
        "\n",
        "new_tokens = t.concat([tokens.repeat(3, 1), top_tokens.unsqueeze(-1)], dim=-1)\n",
        "\n",
        "beams = Beams(model, tokenizer, logprob_sums=top_logprobs, tokens=new_tokens)\n",
        "beams.print()"
      ]
    },
    {
      "cell_type": "markdown",
      "metadata": {
        "id": "ls04Wp5mX27v"
      },
      "source": [
        "And here are some unit tests for your `generate` and `filter` methods, starting from the prompt `\"When I was\"` (so your output should match the diagram above)."
      ]
    },
    {
      "cell_type": "code",
      "execution_count": null,
      "metadata": {
        "id": "80rwyKIPX27v"
      },
      "outputs": [],
      "source": [
        "print(\"Testing generate...\")\n",
        "new_beams = beams.generate(k=3, no_repeat_ngram_size=1)\n",
        "new_beams.print()\n",
        "\n",
        "expected_values = [\n",
        "    (-3.1, \"When I was a kid\"),\n",
        "    (-4.8, \"When I was a child\"),\n",
        "    (-4.9, \"When I was a little\"),\n",
        "]\n",
        "\n",
        "for i, (logprob_sum, completion) in enumerate(new_beams.logprobs_and_completions[:3]):\n",
        "    assert abs(logprob_sum - expected_values[i][0]) < 0.1, f\"{i}\"\n",
        "    assert completion == expected_values[i][1], f\"{i}\"\n",
        "\n",
        "print(\"All tests for `generate` passed!\")"
      ]
    },
    {
      "cell_type": "code",
      "execution_count": null,
      "metadata": {
        "id": "LdJLJBezX27v"
      },
      "outputs": [],
      "source": [
        "print(\"Testing `filter`...\")\n",
        "\n",
        "best_beams, terminated_beams = new_beams.filter(3)\n",
        "best_beams.print()\n",
        "\n",
        "expected_values = [\n",
        "    (-3.1, \"When I was a kid\"),\n",
        "    (-3.2, \"When I was growing up\"),\n",
        "    (-4.6, \"When I was in the\"),\n",
        "]\n",
        "\n",
        "for i, (logprob_sum, completion) in enumerate(best_beams.logprobs_and_completions):\n",
        "    assert abs(logprob_sum - expected_values[i][0]) < 0.1, f\"{i}\"\n",
        "    assert completion == expected_values[i][1], f\"{i}\"\n",
        "\n",
        "assert len(terminated_beams.logprobs_and_completions) == 0\n",
        "\n",
        "print(\"All tests for `filter` passed!\")"
      ]
    },
    {
      "cell_type": "markdown",
      "metadata": {
        "id": "z06QKru4X27v"
      },
      "source": [
        "Lastly, we'll test the `no_repeat_ngram_size` argument. We do this by continually generating new tokens from our starting beams `beams`, and seeing if the model repeats the `I was` ngram (which it will by default unless we prohibit repeating n-grams)."
      ]
    },
    {
      "cell_type": "code",
      "execution_count": null,
      "metadata": {
        "id": "0BZfwgPQX27v"
      },
      "outputs": [],
      "source": [
        "print(\"Testing `no_repeat_ngram_size`...\")\n",
        "\n",
        "new_beams = beams\n",
        "for _ in range(5):\n",
        "    new_beams = new_beams.generate(k=1)\n",
        "new_beams.print(title=\"Completions with no ngram restriction\")\n",
        "assert all(\n",
        "    \"I was\" in completion.removeprefix(prompt)\n",
        "    for _, completion in new_beams.logprobs_and_completions\n",
        "), \"Without restriction, all beams should be completed as '...I was...'\"\n",
        "\n",
        "new_beams = beams\n",
        "for _ in range(5):\n",
        "    new_beams = new_beams.generate(k=1, no_repeat_ngram_size=2)\n",
        "new_beams.print(title=\"Completions with no repeated bigrams\")\n",
        "assert all(\n",
        "    \"I was\" not in completion.removeprefix(prompt)\n",
        "    for _, completion in new_beams.logprobs_and_completions\n",
        "), \"With no repeated bigrams, no beams should contain a second '...I was...'\""
      ]
    },
    {
      "cell_type": "markdown",
      "metadata": {
        "id": "nLHo71QxX27v"
      },
      "source": [
        "Once you've passed all of these unit tests, you can try implementing the full beam search function. It should create a `Beams` object from the initial prompt, and then repeatedly call `generate` and `filter` until the stopping criteria are met."
      ]
    },
    {
      "cell_type": "code",
      "execution_count": null,
      "metadata": {
        "id": "zZG6XZt0X27v"
      },
      "outputs": [],
      "source": [
        "sampler = TransformerSampler(model, tokenizer)\n",
        "\n",
        "prompt = \"The ships hung in the sky in much the same way that\"\n",
        "orig_len = len(tokenizer.encode(prompt))\n",
        "\n",
        "final_logitsums_and_completions = sampler.beam_search(\n",
        "    prompt=prompt,\n",
        "    num_return_sequences=3,\n",
        "    num_beams=40,\n",
        "    max_new_tokens=60,\n",
        "    no_repeat_ngram_size=2,\n",
        ")\n",
        "\n",
        "# Print all the best output\n",
        "for logprob_sum, text in final_logitsums_and_completions:\n",
        "    avg_logprob_as_prob = t.tensor(logprob_sum / (len(tokenizer.encode(text)) - orig_len)).exp()\n",
        "    rprint(f\"Avg token prob = {avg_logprob_as_prob:.3f}\\nBest output:\\n[bold dark_orange]{text}\")"
      ]
    },
    {
      "cell_type": "markdown",
      "metadata": {
        "id": "EXwNpymDX27v"
      },
      "source": [
        "## KV Caching"
      ]
    },
    {
      "cell_type": "markdown",
      "metadata": {
        "id": "zOgUrtCoX27v"
      },
      "source": [
        "*This section is also designed to be challenging, and take quite some time. There are many different ways to solve it, and you're expected to try and find your own way (you should think about this for a while before looking at the suggestions in the dropdowns). Additionally, you might not find it as interesting as some of the other sections. In this case, and if you have a lot of extra time, you might want to start on the \"building BERT\" exercises from this chapter.*"
      ]
    },
    {
      "cell_type": "markdown",
      "metadata": {
        "id": "aHF6zmUbX27v"
      },
      "source": [
        "### How can caching help us?\n",
        "\n",
        "The text generation we've done so far is needlessly re-computing certain values, which is very noticeable when you try to generate longer sequences.\n",
        "\n",
        "Suppose you're generating text, and you've already run GPT on the sentence \"My life motto:\". Now you want to run the model on the sentence \"My life motto: Always\". Which computations from the first sentence can you reuse?\n",
        "\n",
        "<details>\n",
        "<summary>Answer</summary>\n",
        "\n",
        "At each attention layer, the only things the attention layer needs from the previous sequence positions are the key and value vectors. This is explained in the following diagram, which compares the attention layer with and without caching (it's a big diagram so you might want to open it in a separate window to zoom in).\n",
        "\n",
        "\n",
        "<img src=\"https://raw.githubusercontent.com/info-arena/ARENA_img/main/misc/tl-cache-full.png\" width=\"1200\">\n",
        "\n",
        "</details>"
      ]
    },
    {
      "cell_type": "markdown",
      "metadata": {
        "id": "IlpHiG9hX27v"
      },
      "source": [
        "### Exercise - implement KV caching\n",
        "\n",
        "> ```yaml\n",
        "> Difficulty: 🔴🔴🔴🔴🔴\n",
        "> Importance: 🔵⚪⚪⚪⚪\n",
        ">\n",
        "> You are expected to spend well over an hour on this exercise, if you choose to do it.\n",
        "> ```\n",
        "\n",
        "Modify your GPT-2 to optionally use a cache. When you run your GPT on `\"My life motto:\"`, it should store the necessary values in the cache. Then in the next forward pass with just `\" Always\"` as input, it should load the cached values instead of recomputing them (and update the cache). This only needs to work with a single input sequence (batch size of 1), and you can assume that after the first forward pass, the input will be just one token.\n",
        "\n",
        "The design of the cache is completely up to you - discuss possible designs with your partner before writing code. It should be possible to have only one GPT2 instance and many different cache instances at one time. Imagine that you want to use one instance to serve multiple users submitting requests for text generation like in [AI Dungeon](https://aidungeon.io/).\n",
        "\n",
        "You'll also need to rewrite parts of your `DemoTransformer` code, in order to get this to work. The tests have been built to accommodate modules which return their output as the first element in a tuple (i.e. `(output, cache)`) rather than just returning the output, so you should use the tests to verify that your modules still work as expected.\n",
        "\n",
        "Some example considerations:\n",
        "\n",
        "* Which GPT-2 classes need to interact with the cache?\n",
        "    * Will you need to change the positional embedding, and if so then how?\n",
        "* Should the cache be mutable and be updated in place, or does updating actually just create a separate instance?\n",
        "    * *(Hint here - think about how you might use the cache during beam search.)*\n",
        "* Is it possible for other programmers to incorrectly use your cache? Is there a way to prevent this failure mode or at least detect this and complain loudly?"
      ]
    },
    {
      "cell_type": "markdown",
      "metadata": {
        "id": "qjE0IbqlX27v"
      },
      "source": [
        "<details>\n",
        "<summary>Cache implentation (example)</summary>\n",
        "\n",
        "This KeyValueCache object is structured as just a fancy tensor (it inherits all the methods from Tensor). The main difference is that it has a few extra helper methods, e.g. constructing an empty cache from a Config object.\n",
        "\n",
        "There are other ways you could do this, e.g. having your `KeyValueCache` class contain list of `KeyValueCacheEntry` objects (where each of these corresponds to a different layer).\n",
        "\n",
        "```python\n",
        "# Define a type for a single layer's cache entry (useful for type checking in later functions)\n",
        "KeyValueCacheTensor = Float[Tensor, \"2 batch seq_len n_heads d_head\"]\n",
        "\n",
        "class KeyValueCache(Tensor):\n",
        "    '''\n",
        "    This class holds tensors of key and value vectors, to be used for caching.\n",
        "\n",
        "    If we define it using cfg and batch then it's initialized as empty, but\n",
        "    we can also define it from kv_cache_entries.\n",
        "    '''\n",
        "    @classmethod\n",
        "    def new_empty(cls, cfg: Config, batch: int = 1) -> \"KeyValueCache\":\n",
        "        '''\n",
        "        Doing a forward pass on a cache created in this way indicates \"we don't\n",
        "        yet have a cache, but we want this forward pass to return a cache\".\n",
        "        Whereas using cache=None in a forward pass indicates we don't want to\n",
        "        return a cache.\n",
        "        '''\n",
        "        shape = (cfg.n_layers, 2, batch, 0, cfg.n_heads, cfg.d_head)\n",
        "        return cls(*shape).to(device)\n",
        "\n",
        "    # Define a handful of properties, so they can be referenced directly rather than\n",
        "    # indexing (which is more likely to lead to mistakes)\n",
        "\n",
        "    @property\n",
        "    def k(self) -> Tensor:\n",
        "        return self[:, 0]\n",
        "\n",
        "    @property\n",
        "    def v(self) -> Tensor:\n",
        "        return self[:, 1]\n",
        "\n",
        "    @property\n",
        "    def batch(self) -> int:\n",
        "        return self.shape[2]\n",
        "\n",
        "    @property\n",
        "    def seq_len(self) -> int:\n",
        "        return self.shape[3]\n",
        "\n",
        "\n",
        "# Example implementation:\n",
        "cfg = model.cfg\n",
        "batch = 6\n",
        "kv_cache = KeyValueCache.new_empty(cfg, batch)\n",
        "\n",
        "print(f\"Shape of all kv-cache = {tuple(kv_cache.shape)}\")\n",
        "print(f\"Shape of just k-cache = {tuple(kv_cache.k.shape)}\")\n",
        "for kv_cache_entry in kv_cache:\n",
        "    print(f\"Shape of cache entry for one layer = {tuple(kv_cache_entry.shape)}\")\n",
        "    break\n",
        "print(f\"Batch size = {kv_cache.batch}\")\n",
        "print(f\"Current sequence length = {kv_cache.seq_len}\")\n",
        "```\n",
        "\n",
        "</details>\n",
        "\n",
        "<details>\n",
        "<summary>New <code>DemoTransformer</code> components (and testing)</summary>\n",
        "\n",
        "```python\n",
        "# Define new model parts where necessary, and create a new model & test it\n",
        "# Note that sometimes our modules return a tuple of (tensor output, cache) rather than just output. The\n",
        "# tests have been built to accommodate this.\n",
        "\n",
        "\n",
        "class PosEmbed(nn.Module):\n",
        "    def __init__(self, cfg: Config):\n",
        "        super().__init__()\n",
        "        self.cfg = cfg\n",
        "        self.W_pos = nn.Parameter(t.empty((cfg.n_ctx, cfg.d_model)))\n",
        "        nn.init.normal_(self.W_pos, std=self.cfg.init_range)\n",
        "\n",
        "    def forward(\n",
        "        self,\n",
        "        tokens: Int[Tensor, \"batch position\"],\n",
        "        past_kv_pos_offset: int = 0\n",
        "    ) -> Float[Tensor, \"batch position d_model\"]:\n",
        "\n",
        "        batch, seq_len = tokens.shape\n",
        "        return einops.repeat(\n",
        "            self.W_pos[past_kv_pos_offset: seq_len+past_kv_pos_offset],\n",
        "            \"seq d_model -> batch seq d_model\",\n",
        "            batch=batch\n",
        "        )\n",
        "\n",
        "\n",
        "class Attention(nn.Module):\n",
        "    IGNORE: Float[Tensor, \"\"]\n",
        "\n",
        "    def __init__(self, cfg: Config):\n",
        "        super().__init__()\n",
        "        self.cfg = cfg\n",
        "        self.W_Q = nn.Parameter(t.empty((cfg.n_heads, cfg.d_model, cfg.d_head)))\n",
        "        self.W_K = nn.Parameter(t.empty((cfg.n_heads, cfg.d_model, cfg.d_head)))\n",
        "        self.W_V = nn.Parameter(t.empty((cfg.n_heads, cfg.d_model, cfg.d_head)))\n",
        "        self.W_O = nn.Parameter(t.empty((cfg.n_heads, cfg.d_head, cfg.d_model)))\n",
        "        self.b_Q = nn.Parameter(t.zeros((cfg.n_heads, cfg.d_head)))\n",
        "        self.b_K = nn.Parameter(t.zeros((cfg.n_heads, cfg.d_head)))\n",
        "        self.b_V = nn.Parameter(t.zeros((cfg.n_heads, cfg.d_head)))\n",
        "        self.b_O = nn.Parameter(t.zeros((cfg.d_model)))\n",
        "        nn.init.normal_(self.W_Q, std=self.cfg.init_range)\n",
        "        nn.init.normal_(self.W_K, std=self.cfg.init_range)\n",
        "        nn.init.normal_(self.W_V, std=self.cfg.init_range)\n",
        "        nn.init.normal_(self.W_O, std=self.cfg.init_range)\n",
        "        self.register_buffer(\"IGNORE\", t.tensor(-1e5, dtype=t.float32, device=device))\n",
        "\n",
        "    def forward(\n",
        "        self,\n",
        "        normalized_resid_pre: Float[Tensor, \"batch posn d_model\"],\n",
        "        kv_cache_entry: KeyValueCacheTensor | None = None,\n",
        "    ) -> tuple[\n",
        "        Float[Tensor, \"batch posn d_model\"],\n",
        "        KeyValueCacheTensor | None\n",
        "    ]:\n",
        "        '''\n",
        "        Returns the result of applying attention layer to normlized_resid_pre, as well as\n",
        "        the new cached key and value vectors (which we get from concatenating the old cached\n",
        "        ones with the new key and value vectors).\n",
        "        '''\n",
        "        # Calculate the new query, key and value vectors\n",
        "        q = einops.einsum(\n",
        "            normalized_resid_pre, self.W_Q,\n",
        "            \"batch posn d_model, nheads d_model d_head -> batch posn nheads d_head\"\n",
        "        ) + self.b_Q\n",
        "        k = einops.einsum(\n",
        "            normalized_resid_pre, self.W_K,\n",
        "            \"batch posn d_model, nheads d_model d_head -> batch posn nheads d_head\"\n",
        "        ) + self.b_K\n",
        "        v = einops.einsum(\n",
        "            normalized_resid_pre, self.W_V,\n",
        "            \"batch posn d_model, nheads d_model d_head -> batch posn nheads d_head\"\n",
        "        ) + self.b_V\n",
        "\n",
        "        # If cache_entry is not None, this means we use the previous key and value vectors\n",
        "        # Also we'll need to get a new cache entry which will be used later to construct a new cache\n",
        "        if kv_cache_entry is not None:\n",
        "            k = t.concat([kv_cache_entry[0], k], dim=1)\n",
        "            v = t.concat([kv_cache_entry[1], v], dim=1)\n",
        "            kv_cache_entry = t.stack([k, v])\n",
        "\n",
        "        # Calculate attention scores, then scale and mask, and apply softmax to get probabilities\n",
        "        attn_scores = einops.einsum(\n",
        "            q, k,\n",
        "            \"batch posn_Q nheads d_head, batch posn_K nheads d_head -> batch nheads posn_Q posn_K\"\n",
        "        )\n",
        "        attn_scores_masked = self.apply_causal_mask(attn_scores / self.cfg.d_head ** 0.5)\n",
        "        attn_pattern = attn_scores_masked.softmax(-1)\n",
        "\n",
        "        # Take weighted sum of value vectors, according to attention probabilities\n",
        "        z = einops.einsum(\n",
        "            v, attn_pattern,\n",
        "            \"batch posn_K nheads d_head, batch nheads posn_Q posn_K -> batch posn_Q nheads d_head\"\n",
        "        )\n",
        "\n",
        "        # Calculate output (by applying matrix W_O and summing over heads, then adding bias b_O)\n",
        "        out = einops.einsum(\n",
        "            z, self.W_O,\n",
        "            \"batch posn_Q nheads d_head, nheads d_head d_model -> batch posn_Q d_model\"\n",
        "        ) + self.b_O\n",
        "\n",
        "        return out, kv_cache_entry\n",
        "\n",
        "    def apply_causal_mask(\n",
        "        self, attn_scores: Float[Tensor, \"batch n_heads query_pos key_pos\"]\n",
        "    ) -> Float[Tensor, \"batch n_heads query_pos key_pos\"]:\n",
        "        '''\n",
        "        Here, attn_scores have shape (batch, n_heads, query_pos, key_pos), where query_pos represents the\n",
        "        new (non-cached) positions, and key_pos represent all the positions (cached and non-cached).\n",
        "\n",
        "        So when we create our mask, the query indices and key indices will both go up to the same value\n",
        "        (the full sequence length), but the query indices will start at >0.\n",
        "        '''\n",
        "        new_seq_len, full_seq_len = attn_scores.shape[-2:]\n",
        "        assert new_seq_len <= full_seq_len\n",
        "        q_posn = einops.repeat(attn_scores.new_tensor(range(full_seq_len-new_seq_len, full_seq_len)), \"q -> q k\", k=full_seq_len)\n",
        "        k_posn = einops.repeat(attn_scores.new_tensor(range(full_seq_len)), \"k -> q k\", q=new_seq_len)\n",
        "        mask = q_posn < k_posn\n",
        "        attn_scores = attn_scores.masked_fill(mask, self.IGNORE)\n",
        "        return attn_scores\n",
        "\n",
        "\n",
        "class TransformerBlock(nn.Module):\n",
        "    def __init__(self, cfg: Config):\n",
        "        super().__init__()\n",
        "        self.cfg = cfg\n",
        "        self.ln1 = LayerNorm(cfg)\n",
        "        self.attn = Attention(cfg)\n",
        "        self.ln2 = LayerNorm(cfg)\n",
        "        self.mlp = MLP(cfg)\n",
        "\n",
        "    def forward(\n",
        "        self,\n",
        "        resid_pre: Float[Tensor, \"batch position d_model\"],\n",
        "        kv_cache_entry: KeyValueCacheTensor | None = None,\n",
        "    ) -> Float[Tensor, \"batch position d_model\"]:\n",
        "\n",
        "        attn_out, kv_cache_entry = self.attn(self.ln1(resid_pre), kv_cache_entry)\n",
        "        resid_mid = attn_out + resid_pre\n",
        "        resid_post = self.mlp(self.ln2(resid_mid)) + resid_mid\n",
        "        return resid_post, kv_cache_entry\n",
        "\n",
        "\n",
        "class DemoTransformer(nn.Module):\n",
        "    def __init__(self, cfg: Config):\n",
        "        super().__init__()\n",
        "        self.cfg = cfg\n",
        "        self.embed = Embed(cfg)\n",
        "        self.pos_embed = PosEmbed(cfg)\n",
        "        self.blocks = nn.ModuleList([TransformerBlock(cfg) for _ in range(cfg.n_layers)])\n",
        "        self.ln_final = LayerNorm(cfg)\n",
        "        self.unembed = Unembed(cfg)\n",
        "\n",
        "    def forward(\n",
        "        self,\n",
        "        tokens: Int[Tensor, \"batch seq_pos\"],\n",
        "        kv_cache: KeyValueCache | None = None\n",
        "    ) -> Float[Tensor, \"batch position d_vocab\"]:\n",
        "\n",
        "        using_kv_cache = kv_cache is not None\n",
        "\n",
        "        if using_kv_cache:\n",
        "            # If using kv_cache, then we only need to pass forward the newest tokens\n",
        "            # Remember to add positional offset!\n",
        "            n_cached_tokens = kv_cache.seq_len\n",
        "            tokens = tokens[:, n_cached_tokens:]\n",
        "            residual = self.embed(tokens) + self.pos_embed(tokens, n_cached_tokens)\n",
        "        else:\n",
        "            # If not using cache, turn it into a list of None's (so we can iterate through it)\n",
        "            kv_cache = [None for _ in range(self.cfg.n_layers)]\n",
        "            residual = self.embed(tokens) + self.pos_embed(tokens)\n",
        "\n",
        "        # Apply all layers, and create a (new) kv_cache from the key & value vectors\n",
        "        new_kv_cache_entries: list[KeyValueCacheTensor] = []\n",
        "        for block, kv_cache_entry in zip(self.blocks, kv_cache):\n",
        "            residual, kv_cache_entry = block(residual, kv_cache_entry)\n",
        "            if using_kv_cache: new_kv_cache_entries.append(kv_cache_entry)\n",
        "\n",
        "        logits = self.unembed(self.ln_final(residual))\n",
        "\n",
        "        if using_kv_cache:\n",
        "            return logits, KeyValueCache(t.stack(new_kv_cache_entries))\n",
        "        else:\n",
        "            return logits, None\n",
        "\n",
        "\n",
        "tokens = reference_gpt2.to_tokens(reference_text).to(device)\n",
        "logits, cache = reference_gpt2.run_with_cache(tokens)\n",
        "\n",
        "rand_int_test(PosEmbed, [2, 4])\n",
        "load_gpt2_test(PosEmbed, reference_gpt2.pos_embed, tokens)\n",
        "rand_float_test(Attention, [2, 4, 768])\n",
        "load_gpt2_test(Attention, reference_gpt2.blocks[0].attn, cache[\"normalized\", 0, \"ln1\"])\n",
        "rand_float_test(TransformerBlock, [2, 4, 768])\n",
        "load_gpt2_test(TransformerBlock, reference_gpt2.blocks[0], cache[\"resid_pre\", 0])\n",
        "rand_int_test(DemoTransformer, [2, 4])\n",
        "load_gpt2_test(DemoTransformer, reference_gpt2, tokens)\n",
        "```\n",
        "\n",
        "</details>\n",
        "\n",
        "<details>\n",
        "<summary>New sampling function</summary>\n",
        "\n",
        "```python\n",
        "@t.inference_mode()\n",
        "def sample_with_cache(\n",
        "    self: TransformerSampler,\n",
        "    prompt: str,\n",
        "    max_tokens_generated=100,\n",
        "    kv_cache: KeyValueCache | None = None,\n",
        "    verbose=False,\n",
        "    seed: int | None = None,\n",
        "    **kwargs\n",
        ") -> str:\n",
        "\n",
        "    self.model.eval()\n",
        "    input_ids = self.tokenizer.encode(prompt, return_tensors=\"pt\").to(device)[0]\n",
        "    if seed is not None:\n",
        "        np.random.seed(seed)\n",
        "        t.manual_seed(seed)\n",
        "\n",
        "    for i in tqdm(range(max_tokens_generated)):\n",
        "        # Get new logits (make sure we don't pass in more tokens than the model's context length)\n",
        "        logits, kv_cache = self.model(input_ids[None, -self.cfg.n_ctx:], kv_cache)\n",
        "        # We only take logits for the last token, because this is what we're sampling\n",
        "        logits = logits[0, -1]\n",
        "        # Get next token (as a tensor of size (1, 1) so we can concat it to input_ids)\n",
        "        next_token = t.tensor([TransformerSampler.sample_next_token(input_ids, logits, **kwargs)], device=device)\n",
        "        # Create new input ids string, with shape (1, old_seq_len + 1)\n",
        "        input_ids = t.cat([input_ids, next_token], dim=-1)\n",
        "        # Print out results, if required\n",
        "        if verbose:\n",
        "            print(self.tokenizer.decode(input_ids), end=\"\\r\")\n",
        "        # If our new token was the end-of-text token, stop\n",
        "        if next_token == getattr(self.tokenizer, \"eos_token_id\", None):\n",
        "            break\n",
        "\n",
        "    return self.tokenizer.decode(input_ids)\n",
        "\n",
        "\n",
        "TransformerSampler.sample = sample_with_cache\n",
        "```\n",
        "</details>\n",
        "\n",
        "<details>\n",
        "<summary>Code to verify that the same output is being produced by cache and no-cache versions (and to compare speeds)</summary>\n",
        "\n",
        "```python\n",
        "device = t.device(\"cuda\") # can also try \"cpu\"\n",
        "\n",
        "model = DemoTransformer(Config()).to(device)\n",
        "model.load_state_dict(reference_gpt2.state_dict(), strict=False);\n",
        "\n",
        "initial_text = \"Eliezer Shlomo Yudkowsky (born September 11, 1979) is an American decision and artificial intelligence (AI) theorist and writer, best known for\"\n",
        "# input_ids = tokenizer.encode(initial_text, return_tensors=\"pt\").squeeze()\n",
        "\n",
        "sampler = TransformerSampler(model, tokenizer)\n",
        "\n",
        "# Run the noncached version\n",
        "t0 = time.time()\n",
        "text = sampler.sample(\n",
        "    initial_text,\n",
        "    temperature=0.7,\n",
        "    top_p=0.95,\n",
        "    seed=0,\n",
        ")\n",
        "print(f\"Time taken (without cache): {time.time() - t0:.2f} seconds\")\n",
        "rprint(f\"Model output:\\n\\n[bold dark_orange]{text}[/]\")\n",
        "\n",
        "# Run the cached version\n",
        "t0 = time.time()\n",
        "text_with_cache = sampler.sample(\n",
        "    initial_text,\n",
        "    temperature=0.7,\n",
        "    top_p=0.95,\n",
        "    seed=0,\n",
        "    kv_cache=KeyValueCache.new_empty(sampler.cfg)\n",
        ")\n",
        "print(f\"Time taken (with cache): {time.time() - t0:.2f} seconds\")\n",
        "rprint(f\"Model output:\\n\\n[bold dark_orange]{text_with_cache}[/]\")\n",
        "\n",
        "# # Check they are the same\n",
        "assert text == text_with_cache, \"Your outputs are different, meaning you've probably made a mistake in your cache implementation (or failed to use random seeds).\"\n",
        "print(\"Tests passed!\")\n",
        "```\n",
        "\n",
        "</details>"
      ]
    },
    {
      "cell_type": "markdown",
      "metadata": {
        "id": "tWn3nUO_X27w"
      },
      "source": [
        "You may find that your cache implementation provides a modest speedup, but probably not close to the `seq_len`-factor speedup you'd expect from the fact that you only compute one additional token at each step rather than all of them. Why is this? The answer is that, much like everything to do with computational and memory costs in deep learning, it's not so simple. There are a host of different factors which might be bottlenecking our model's forward pass speed. If you try this on the CPU, you should get a much more noticeable speedup.\n",
        "\n",
        "For a bit more on these topics, see [here](https://kipp.ly/blog/transformer-inference-arithmetic/#kv-cache)."
      ]
    },
    {
      "cell_type": "markdown",
      "metadata": {
        "id": "1AQ4PM5xX27w"
      },
      "source": [
        "## Bonus - cached beam search\n",
        "\n",
        "Can you modify your beam search function to use caching?\n",
        "\n",
        "Depending on how you implemented your cache earlier, you might find that a different form of caching is better suited to beam search.\n",
        "\n",
        "Again, we've provided an example implementation in a dropdown below, which is based on the cache implementation above and the previous solution for `beam_search`.\n",
        "\n",
        "<details>\n",
        "<summary>Cached beam search function</summary>\n",
        "\n",
        "As we touched on earlier, thanks to our modular code, not a lot needs to be changed when adding cache support.\n",
        "\n",
        "```python\n",
        "@dataclass\n",
        "class Beams:\n",
        "    '''Class to store beams during beam search.'''\n",
        "    model: DemoTransformer\n",
        "    tokenizer: GPT2TokenizerFast\n",
        "    logprob_sums: Float[Tensor, \"batch\"]\n",
        "    tokens: Int[Tensor, \"batch seq\"]\n",
        "    kv_cache: KeyValueCache | None = None\n",
        "\n",
        "    def __getitem__(self, idx) -> \"Beams\":\n",
        "        '''Helpful function allowing you to take a slice of the beams object along the batch dimension.'''\n",
        "        return Beams(\n",
        "            self.model,\n",
        "            self.tokenizer,\n",
        "            self.logprob_sums[idx],\n",
        "            self.tokens[idx],\n",
        "            self.kv_cache[:, :, idx] if self.kv_cache is not None else None\n",
        "        )\n",
        "\n",
        "    @property\n",
        "    def logprobs_and_completions(self) -> list[tuple[float, str]]:\n",
        "        '''Returns self as a list of logprob sums and completions (useful for getting final output).'''\n",
        "        return [\n",
        "            (logprob_sum.item(), self.tokenizer.decode(tokens))\n",
        "            for (logprob_sum, tokens) in zip(self.logprob_sums, self.tokens)\n",
        "        ]\n",
        "\n",
        "\n",
        "    def generate(self, k: int, no_repeat_ngram_size: int | None = None) -> \"Beams\":\n",
        "        '''\n",
        "        Starting from the current set of beams (i.e. self.tokens) and returns a new set of `len(self.tokens) * k` beams,\n",
        "        containing the best `k` continuations for each of the original beams.\n",
        "\n",
        "        Optional argument `no_repeat_ngram_size` means your model won't generate any sequences with a repeating n-gram\n",
        "        of this length.\n",
        "        '''\n",
        "        # Get the output logprobs for the next token (for every sequence in current beams)\n",
        "        logprobs, kv_cache = self.model(self.tokens, self.kv_cache)\n",
        "        logprobs = logprobs[:, -1, :].log_softmax(-1)\n",
        "\n",
        "        # Get the top `toks_per_beam` tokens for each sequence\n",
        "        topk_logprobs, topk_tokenIDs = self.get_topk_non_repeating(logprobs, no_repeat_ngram_size, k=k)\n",
        "\n",
        "        # Add new logprobs & concat new tokens. When doing this, we need to add an extra `k` dimension since our current\n",
        "        # logprobs & tokens have shape (batch,) and (batch, seq), but our new ones both have shape (batch, k)\n",
        "        new_logprob_sums = einops.repeat(self.logprob_sums, \"b -> b k\", k=k) + topk_logprobs\n",
        "        new_tokens = t.concat([einops.repeat(self.tokens, \"b s -> b k s\", k=k), topk_tokenIDs.unsqueeze(-1)], dim=-1)\n",
        "\n",
        "        return Beams(self.model, self.tokenizer, new_logprob_sums.flatten(), new_tokens.flatten(0, 1), new_kv_cache)\n",
        "\n",
        "\n",
        "    def filter(self, k: int) -> tuple[\"Beams\", \"Beams\"]:\n",
        "        '''\n",
        "        Returns:\n",
        "            best_beams: Beams\n",
        "                filtered version of self, containing all best `k` which are also not terminated.\n",
        "            early_terminations: Beams\n",
        "                filtered version of self, containing all best `k` which are also terminated.\n",
        "        '''\n",
        "        # Get the indices of top `k` beams\n",
        "        top_beam_indices = self.logprob_sums.topk(k=k, dim=0).indices.tolist()\n",
        "        # Get the indices of terminated sequences\n",
        "        new_tokens = self.tokens[:, -1]\n",
        "        terminated_indices = t.nonzero(new_tokens == self.tokenizer.eos_token_id)\n",
        "\n",
        "        # Get the indices of the `k` best sequences (some terminated, some not terminated)\n",
        "        best_continuing = [i for i in top_beam_indices if i not in terminated_indices]\n",
        "        best_terminated = [i for i in top_beam_indices if i in terminated_indices]\n",
        "\n",
        "        # Return the beam objects from these indices\n",
        "        return self[best_continuing], self[best_terminated]\n",
        "\n",
        "\n",
        "    def get_topk_non_repeating(\n",
        "        self,\n",
        "        logprobs: Float[Tensor, \"batch d_vocab\"],\n",
        "        no_repeat_ngram_size: int | None,\n",
        "        k: int,\n",
        "    ) -> tuple[Float[Tensor, \"k\"], Int[Tensor, \"k\"]]:\n",
        "        \"\"\"\n",
        "        logprobs:\n",
        "            tensor of the log-probs for the next token\n",
        "        no_repeat_ngram_size:\n",
        "            size of ngram to avoid repeating\n",
        "        k:\n",
        "            number of top logits to return, for each beam in our collection\n",
        "\n",
        "        Returns:\n",
        "            equivalent to the output of `logprobs.topk(dim=-1)`, but makes sure that no returned tokens would produce an\n",
        "            ngram of size  `no_repeat_ngram_size` which has already appeared in `self.tokens`.\n",
        "        \"\"\"\n",
        "        batch, seq_len = self.tokens.shape\n",
        "\n",
        "        # If completion isn't long enough for a repetition, or we have no restrictions, just return topk\n",
        "        if (no_repeat_ngram_size is not None) and (seq_len > no_repeat_ngram_size - 1):\n",
        "            # Otherwise, we need to check for ngram repetitions\n",
        "            # First, get the most recent `no_repeat_ngram_size-1` tokens\n",
        "            last_ngram_prefix = self.tokens[:, seq_len - (no_repeat_ngram_size - 1) :]\n",
        "            # Next, find all the tokens we're not allowed to generate, by checking all past ngrams for a match\n",
        "            for i in range(seq_len - (no_repeat_ngram_size - 1)):\n",
        "                ngrams = self.tokens[:, i : i + no_repeat_ngram_size]  # (batch, ngram)\n",
        "                ngrams_are_repeated = (ngrams[:, :-1] == last_ngram_prefix).all(-1)  # (batch,)\n",
        "                ngram_end_tokens = ngrams[:, [-1]]  # (batch, 1)\n",
        "                # Fill logprobs with neginf wherever the ngrams are repeated\n",
        "                logprobs[range(batch), ngram_end_tokens] = t.where(\n",
        "                    ngrams_are_repeated, -1.0e4, logprobs[range(batch), ngram_end_tokens]\n",
        "                )\n",
        "\n",
        "        # Finally, get our actual tokens\n",
        "        return logprobs.topk(k=k, dim=-1)\n",
        "\n",
        "    def print(self, title=\"Best completions\", max_print_chars=80) -> None:\n",
        "        '''\n",
        "        Prints out a set of sequences with their corresponding logitsums.\n",
        "        '''\n",
        "        if len(self.tokens) == 0:\n",
        "            return\n",
        "        table = Table(\"logitsum\", \"completion\", title=title)\n",
        "        for logprob_sum, tokens in zip(self.logprob_sums, self.tokens):\n",
        "            text = self.tokenizer.decode(tokens)\n",
        "            if len(repr(text)) > max_print_chars:\n",
        "                text = text[:int(0.3 * max_print_chars)] + \" ... \" + text[-int(0.7 * max_print_chars):]\n",
        "            table.add_row(f\"{logprob_sum:>8.3f}\", repr(text))\n",
        "        rprint(table)\n",
        "\n",
        "\n",
        "    @t.inference_mode()\n",
        "    def beam_search(\n",
        "        self,\n",
        "        prompt: str,\n",
        "        num_return_sequences: int,\n",
        "        num_beams: int,\n",
        "        max_new_tokens: int,\n",
        "        no_repeat_ngram_size: int | None = None,\n",
        "        kv_cache: KeyValueCache | None = None,\n",
        "    ) -> list[tuple[float, Tensor]]:\n",
        "        '''\n",
        "        Implements a beam search, by repeatedly performing the `generate` and `filter` steps (starting from the initial\n",
        "        prompt) until either of the two stopping criteria are met: (1) we've generated `max_new_tokens` tokens, or (2)\n",
        "        we've generated `num_returns_sequences` terminating sequences.\n",
        "        '''\n",
        "        assert num_return_sequences <= num_beams\n",
        "        self.model.eval()\n",
        "\n",
        "        tokens = self.tokenizer.encode(prompt, return_tensors=\"pt\").to(device)\n",
        "\n",
        "        final_logprobs_and_completions = []  # we add to this list as we get terminated beams\n",
        "        best_beams = Beams(self.model, self.tokenizer, t.tensor([0.0]).to(device), tokens)  # start with just 1 beam\n",
        "\n",
        "        for _ in tqdm(range(max_new_tokens)):\n",
        "            # Generate & filter beams\n",
        "            best_beams = best_beams.generate(k=num_beams, no_repeat_ngram_size=no_repeat_ngram_size)\n",
        "            best_beams, best_beams_terminated = best_beams.filter(k=num_beams)\n",
        "\n",
        "            # Add terminated beams to our list, and return early if we have enough\n",
        "            final_logprobs_and_completions.extend(best_beams_terminated.logprobs_and_completions)\n",
        "            if len(final_logprobs_and_completions) >= num_return_sequences:\n",
        "                return final_logprobs_and_completions[:num_return_sequences]\n",
        "\n",
        "        # Return terminated beams plus the best ongoing beams of length `orig_len + max_new_tokens`\n",
        "        final_logprobs_and_completions.extend(best_beams.logprobs_and_completions)\n",
        "        return final_logprobs_and_completions[:num_return_sequences]\n",
        "\n",
        "\n",
        "```\n",
        "\n",
        "</details>\n",
        "\n",
        "<details>\n",
        "<summary>Code to verify that the same output is being produced by cache and no-cache versions (and to compare speeds)</summary>\n",
        "\n",
        "```python\n",
        "prompt = \"For you, the day Bison graced your village was the most important day of your life. But for me, it was\"\n",
        "orig_len = len(tokenizer.encode(prompt))\n",
        "\n",
        "beam_search_kwargs = dict(\n",
        "    prompt=prompt,\n",
        "    num_return_sequences=3,\n",
        "    num_beams=20,\n",
        "    max_new_tokens=60,\n",
        "    no_repeat_ngram_size=2,\n",
        "    verbose=False\n",
        ")\n",
        "\n",
        "sampler = TransformerSampler(model, tokenizer)\n",
        "\n",
        "# Run the noncached version\n",
        "t0 = time.time()\n",
        "final_logitsums_and_completions = sampler.beam_search(**beam_search_kwargs)\n",
        "logprob_sum, text = final_logitsums_and_completions[0]\n",
        "avg_logprob_as_prob = t.tensor(logprob_sum / (len(tokenizer.encode(text)) - orig_len)).exp().item()\n",
        "print(f\"Time (without cache): {time.time() - t0:.2f} seconds\")\n",
        "print(f\"Avg logprob (expressed as a probability) = {avg_logprob_as_prob:.3f}\")\n",
        "rprint(f\"Output:\\n\\n[bold dark_orange]{text}[/]\\n\\n\")\n",
        "\n",
        "# Run the cached version\n",
        "t0 = time.time()\n",
        "beam_search_kwargs[\"kv_cache\"] = KeyValueCache.new_empty(model.cfg)\n",
        "final_logitsums_and_completions = sampler.beam_search(**beam_search_kwargs)\n",
        "logprob_sum, text_with_cache = final_logitsums_and_completions[0]\n",
        "avg_logprob_as_prob = t.tensor(logprob_sum / (len(tokenizer.encode(text)) - orig_len)).exp().item()\n",
        "print(f\"Time (with cache): {time.time() - t0:.2f} seconds\")\n",
        "print(f\"Avg logprob (as probability) = {avg_logprob_as_prob:.3f}\", end=\"\")\n",
        "rprint(f\"Output:\\n\\n[bold dark_orange]{text_with_cache}[/]\\n\\n\")\n",
        "\n",
        "# Check they are the same\n",
        "assert text == text_with_cache, \"Your outputs are different, meaning you've probably made a mistake in your cache implementation.\"\n",
        "print(\"Tests passed!\")\n",
        "```\n",
        "\n",
        "</details>"
      ]
    }
  ],
  "metadata": {
    "language_info": {
      "name": "python"
    },
    "colab": {
      "provenance": [],
      "gpuType": "T4",
      "include_colab_link": true
    },
    "accelerator": "GPU",
    "kernelspec": {
      "name": "python3",
      "display_name": "Python 3"
    },
    "widgets": {
      "application/vnd.jupyter.widget-state+json": {
        "c8454f096b704b22816cf35d8d4b2e69": {
          "model_module": "@jupyter-widgets/controls",
          "model_name": "HBoxModel",
          "model_module_version": "1.5.0",
          "state": {
            "_dom_classes": [],
            "_model_module": "@jupyter-widgets/controls",
            "_model_module_version": "1.5.0",
            "_model_name": "HBoxModel",
            "_view_count": null,
            "_view_module": "@jupyter-widgets/controls",
            "_view_module_version": "1.5.0",
            "_view_name": "HBoxView",
            "box_style": "",
            "children": [
              "IPY_MODEL_6b18cf89728f455f8fed906fd026807c",
              "IPY_MODEL_487acbcf30b04570bc6495de837266a9",
              "IPY_MODEL_c1d3b2f7d8cc4ee9a5600f82f6864ee9"
            ],
            "layout": "IPY_MODEL_b6c32208f0af487a88ec8c578ab6ebcb"
          }
        },
        "6b18cf89728f455f8fed906fd026807c": {
          "model_module": "@jupyter-widgets/controls",
          "model_name": "HTMLModel",
          "model_module_version": "1.5.0",
          "state": {
            "_dom_classes": [],
            "_model_module": "@jupyter-widgets/controls",
            "_model_module_version": "1.5.0",
            "_model_name": "HTMLModel",
            "_view_count": null,
            "_view_module": "@jupyter-widgets/controls",
            "_view_module_version": "1.5.0",
            "_view_name": "HTMLView",
            "description": "",
            "description_tooltip": null,
            "layout": "IPY_MODEL_8d54b954ca33435d95ffe0038421f533",
            "placeholder": "​",
            "style": "IPY_MODEL_c6f544dd9d7143adb0681c3c2eb0630b",
            "value": "config.json: 100%"
          }
        },
        "487acbcf30b04570bc6495de837266a9": {
          "model_module": "@jupyter-widgets/controls",
          "model_name": "FloatProgressModel",
          "model_module_version": "1.5.0",
          "state": {
            "_dom_classes": [],
            "_model_module": "@jupyter-widgets/controls",
            "_model_module_version": "1.5.0",
            "_model_name": "FloatProgressModel",
            "_view_count": null,
            "_view_module": "@jupyter-widgets/controls",
            "_view_module_version": "1.5.0",
            "_view_name": "ProgressView",
            "bar_style": "success",
            "description": "",
            "description_tooltip": null,
            "layout": "IPY_MODEL_c684f49a708d45da9666be1c2a66acce",
            "max": 665,
            "min": 0,
            "orientation": "horizontal",
            "style": "IPY_MODEL_4f80ccdfda0c4480b63de827814add44",
            "value": 665
          }
        },
        "c1d3b2f7d8cc4ee9a5600f82f6864ee9": {
          "model_module": "@jupyter-widgets/controls",
          "model_name": "HTMLModel",
          "model_module_version": "1.5.0",
          "state": {
            "_dom_classes": [],
            "_model_module": "@jupyter-widgets/controls",
            "_model_module_version": "1.5.0",
            "_model_name": "HTMLModel",
            "_view_count": null,
            "_view_module": "@jupyter-widgets/controls",
            "_view_module_version": "1.5.0",
            "_view_name": "HTMLView",
            "description": "",
            "description_tooltip": null,
            "layout": "IPY_MODEL_c9225078965b4111a668973116857e7d",
            "placeholder": "​",
            "style": "IPY_MODEL_c4f18cb0f42b4f9596c526174dc412d2",
            "value": " 665/665 [00:00&lt;00:00, 74.6kB/s]"
          }
        },
        "b6c32208f0af487a88ec8c578ab6ebcb": {
          "model_module": "@jupyter-widgets/base",
          "model_name": "LayoutModel",
          "model_module_version": "1.2.0",
          "state": {
            "_model_module": "@jupyter-widgets/base",
            "_model_module_version": "1.2.0",
            "_model_name": "LayoutModel",
            "_view_count": null,
            "_view_module": "@jupyter-widgets/base",
            "_view_module_version": "1.2.0",
            "_view_name": "LayoutView",
            "align_content": null,
            "align_items": null,
            "align_self": null,
            "border": null,
            "bottom": null,
            "display": null,
            "flex": null,
            "flex_flow": null,
            "grid_area": null,
            "grid_auto_columns": null,
            "grid_auto_flow": null,
            "grid_auto_rows": null,
            "grid_column": null,
            "grid_gap": null,
            "grid_row": null,
            "grid_template_areas": null,
            "grid_template_columns": null,
            "grid_template_rows": null,
            "height": null,
            "justify_content": null,
            "justify_items": null,
            "left": null,
            "margin": null,
            "max_height": null,
            "max_width": null,
            "min_height": null,
            "min_width": null,
            "object_fit": null,
            "object_position": null,
            "order": null,
            "overflow": null,
            "overflow_x": null,
            "overflow_y": null,
            "padding": null,
            "right": null,
            "top": null,
            "visibility": null,
            "width": null
          }
        },
        "8d54b954ca33435d95ffe0038421f533": {
          "model_module": "@jupyter-widgets/base",
          "model_name": "LayoutModel",
          "model_module_version": "1.2.0",
          "state": {
            "_model_module": "@jupyter-widgets/base",
            "_model_module_version": "1.2.0",
            "_model_name": "LayoutModel",
            "_view_count": null,
            "_view_module": "@jupyter-widgets/base",
            "_view_module_version": "1.2.0",
            "_view_name": "LayoutView",
            "align_content": null,
            "align_items": null,
            "align_self": null,
            "border": null,
            "bottom": null,
            "display": null,
            "flex": null,
            "flex_flow": null,
            "grid_area": null,
            "grid_auto_columns": null,
            "grid_auto_flow": null,
            "grid_auto_rows": null,
            "grid_column": null,
            "grid_gap": null,
            "grid_row": null,
            "grid_template_areas": null,
            "grid_template_columns": null,
            "grid_template_rows": null,
            "height": null,
            "justify_content": null,
            "justify_items": null,
            "left": null,
            "margin": null,
            "max_height": null,
            "max_width": null,
            "min_height": null,
            "min_width": null,
            "object_fit": null,
            "object_position": null,
            "order": null,
            "overflow": null,
            "overflow_x": null,
            "overflow_y": null,
            "padding": null,
            "right": null,
            "top": null,
            "visibility": null,
            "width": null
          }
        },
        "c6f544dd9d7143adb0681c3c2eb0630b": {
          "model_module": "@jupyter-widgets/controls",
          "model_name": "DescriptionStyleModel",
          "model_module_version": "1.5.0",
          "state": {
            "_model_module": "@jupyter-widgets/controls",
            "_model_module_version": "1.5.0",
            "_model_name": "DescriptionStyleModel",
            "_view_count": null,
            "_view_module": "@jupyter-widgets/base",
            "_view_module_version": "1.2.0",
            "_view_name": "StyleView",
            "description_width": ""
          }
        },
        "c684f49a708d45da9666be1c2a66acce": {
          "model_module": "@jupyter-widgets/base",
          "model_name": "LayoutModel",
          "model_module_version": "1.2.0",
          "state": {
            "_model_module": "@jupyter-widgets/base",
            "_model_module_version": "1.2.0",
            "_model_name": "LayoutModel",
            "_view_count": null,
            "_view_module": "@jupyter-widgets/base",
            "_view_module_version": "1.2.0",
            "_view_name": "LayoutView",
            "align_content": null,
            "align_items": null,
            "align_self": null,
            "border": null,
            "bottom": null,
            "display": null,
            "flex": null,
            "flex_flow": null,
            "grid_area": null,
            "grid_auto_columns": null,
            "grid_auto_flow": null,
            "grid_auto_rows": null,
            "grid_column": null,
            "grid_gap": null,
            "grid_row": null,
            "grid_template_areas": null,
            "grid_template_columns": null,
            "grid_template_rows": null,
            "height": null,
            "justify_content": null,
            "justify_items": null,
            "left": null,
            "margin": null,
            "max_height": null,
            "max_width": null,
            "min_height": null,
            "min_width": null,
            "object_fit": null,
            "object_position": null,
            "order": null,
            "overflow": null,
            "overflow_x": null,
            "overflow_y": null,
            "padding": null,
            "right": null,
            "top": null,
            "visibility": null,
            "width": null
          }
        },
        "4f80ccdfda0c4480b63de827814add44": {
          "model_module": "@jupyter-widgets/controls",
          "model_name": "ProgressStyleModel",
          "model_module_version": "1.5.0",
          "state": {
            "_model_module": "@jupyter-widgets/controls",
            "_model_module_version": "1.5.0",
            "_model_name": "ProgressStyleModel",
            "_view_count": null,
            "_view_module": "@jupyter-widgets/base",
            "_view_module_version": "1.2.0",
            "_view_name": "StyleView",
            "bar_color": null,
            "description_width": ""
          }
        },
        "c9225078965b4111a668973116857e7d": {
          "model_module": "@jupyter-widgets/base",
          "model_name": "LayoutModel",
          "model_module_version": "1.2.0",
          "state": {
            "_model_module": "@jupyter-widgets/base",
            "_model_module_version": "1.2.0",
            "_model_name": "LayoutModel",
            "_view_count": null,
            "_view_module": "@jupyter-widgets/base",
            "_view_module_version": "1.2.0",
            "_view_name": "LayoutView",
            "align_content": null,
            "align_items": null,
            "align_self": null,
            "border": null,
            "bottom": null,
            "display": null,
            "flex": null,
            "flex_flow": null,
            "grid_area": null,
            "grid_auto_columns": null,
            "grid_auto_flow": null,
            "grid_auto_rows": null,
            "grid_column": null,
            "grid_gap": null,
            "grid_row": null,
            "grid_template_areas": null,
            "grid_template_columns": null,
            "grid_template_rows": null,
            "height": null,
            "justify_content": null,
            "justify_items": null,
            "left": null,
            "margin": null,
            "max_height": null,
            "max_width": null,
            "min_height": null,
            "min_width": null,
            "object_fit": null,
            "object_position": null,
            "order": null,
            "overflow": null,
            "overflow_x": null,
            "overflow_y": null,
            "padding": null,
            "right": null,
            "top": null,
            "visibility": null,
            "width": null
          }
        },
        "c4f18cb0f42b4f9596c526174dc412d2": {
          "model_module": "@jupyter-widgets/controls",
          "model_name": "DescriptionStyleModel",
          "model_module_version": "1.5.0",
          "state": {
            "_model_module": "@jupyter-widgets/controls",
            "_model_module_version": "1.5.0",
            "_model_name": "DescriptionStyleModel",
            "_view_count": null,
            "_view_module": "@jupyter-widgets/base",
            "_view_module_version": "1.2.0",
            "_view_name": "StyleView",
            "description_width": ""
          }
        },
        "99a194476a47458e8206e75171769f67": {
          "model_module": "@jupyter-widgets/controls",
          "model_name": "HBoxModel",
          "model_module_version": "1.5.0",
          "state": {
            "_dom_classes": [],
            "_model_module": "@jupyter-widgets/controls",
            "_model_module_version": "1.5.0",
            "_model_name": "HBoxModel",
            "_view_count": null,
            "_view_module": "@jupyter-widgets/controls",
            "_view_module_version": "1.5.0",
            "_view_name": "HBoxView",
            "box_style": "",
            "children": [
              "IPY_MODEL_c1945dfe11c348f5998f8d3ae91fe344",
              "IPY_MODEL_25e44535437045958ba3c4ceb7a35ac5",
              "IPY_MODEL_53cdd6e56d464dc0ab18bae209996331"
            ],
            "layout": "IPY_MODEL_7390b3415ecd4e6d884f50b6d6377662"
          }
        },
        "c1945dfe11c348f5998f8d3ae91fe344": {
          "model_module": "@jupyter-widgets/controls",
          "model_name": "HTMLModel",
          "model_module_version": "1.5.0",
          "state": {
            "_dom_classes": [],
            "_model_module": "@jupyter-widgets/controls",
            "_model_module_version": "1.5.0",
            "_model_name": "HTMLModel",
            "_view_count": null,
            "_view_module": "@jupyter-widgets/controls",
            "_view_module_version": "1.5.0",
            "_view_name": "HTMLView",
            "description": "",
            "description_tooltip": null,
            "layout": "IPY_MODEL_b73f061e7900498aa2869a0ef3320759",
            "placeholder": "​",
            "style": "IPY_MODEL_478171b4bb7b4789a49bb71ad7b73efc",
            "value": "model.safetensors: 100%"
          }
        },
        "25e44535437045958ba3c4ceb7a35ac5": {
          "model_module": "@jupyter-widgets/controls",
          "model_name": "FloatProgressModel",
          "model_module_version": "1.5.0",
          "state": {
            "_dom_classes": [],
            "_model_module": "@jupyter-widgets/controls",
            "_model_module_version": "1.5.0",
            "_model_name": "FloatProgressModel",
            "_view_count": null,
            "_view_module": "@jupyter-widgets/controls",
            "_view_module_version": "1.5.0",
            "_view_name": "ProgressView",
            "bar_style": "success",
            "description": "",
            "description_tooltip": null,
            "layout": "IPY_MODEL_37c72c15e9ce4dbc8532c93a75853134",
            "max": 548105171,
            "min": 0,
            "orientation": "horizontal",
            "style": "IPY_MODEL_7bc5d4131aa44db186cb66f544c18a87",
            "value": 548105171
          }
        },
        "53cdd6e56d464dc0ab18bae209996331": {
          "model_module": "@jupyter-widgets/controls",
          "model_name": "HTMLModel",
          "model_module_version": "1.5.0",
          "state": {
            "_dom_classes": [],
            "_model_module": "@jupyter-widgets/controls",
            "_model_module_version": "1.5.0",
            "_model_name": "HTMLModel",
            "_view_count": null,
            "_view_module": "@jupyter-widgets/controls",
            "_view_module_version": "1.5.0",
            "_view_name": "HTMLView",
            "description": "",
            "description_tooltip": null,
            "layout": "IPY_MODEL_994be37a1032488ab4b08ae625475240",
            "placeholder": "​",
            "style": "IPY_MODEL_773a2dec0124444d975feafd7ed65445",
            "value": " 548M/548M [00:07&lt;00:00, 107MB/s]"
          }
        },
        "7390b3415ecd4e6d884f50b6d6377662": {
          "model_module": "@jupyter-widgets/base",
          "model_name": "LayoutModel",
          "model_module_version": "1.2.0",
          "state": {
            "_model_module": "@jupyter-widgets/base",
            "_model_module_version": "1.2.0",
            "_model_name": "LayoutModel",
            "_view_count": null,
            "_view_module": "@jupyter-widgets/base",
            "_view_module_version": "1.2.0",
            "_view_name": "LayoutView",
            "align_content": null,
            "align_items": null,
            "align_self": null,
            "border": null,
            "bottom": null,
            "display": null,
            "flex": null,
            "flex_flow": null,
            "grid_area": null,
            "grid_auto_columns": null,
            "grid_auto_flow": null,
            "grid_auto_rows": null,
            "grid_column": null,
            "grid_gap": null,
            "grid_row": null,
            "grid_template_areas": null,
            "grid_template_columns": null,
            "grid_template_rows": null,
            "height": null,
            "justify_content": null,
            "justify_items": null,
            "left": null,
            "margin": null,
            "max_height": null,
            "max_width": null,
            "min_height": null,
            "min_width": null,
            "object_fit": null,
            "object_position": null,
            "order": null,
            "overflow": null,
            "overflow_x": null,
            "overflow_y": null,
            "padding": null,
            "right": null,
            "top": null,
            "visibility": null,
            "width": null
          }
        },
        "b73f061e7900498aa2869a0ef3320759": {
          "model_module": "@jupyter-widgets/base",
          "model_name": "LayoutModel",
          "model_module_version": "1.2.0",
          "state": {
            "_model_module": "@jupyter-widgets/base",
            "_model_module_version": "1.2.0",
            "_model_name": "LayoutModel",
            "_view_count": null,
            "_view_module": "@jupyter-widgets/base",
            "_view_module_version": "1.2.0",
            "_view_name": "LayoutView",
            "align_content": null,
            "align_items": null,
            "align_self": null,
            "border": null,
            "bottom": null,
            "display": null,
            "flex": null,
            "flex_flow": null,
            "grid_area": null,
            "grid_auto_columns": null,
            "grid_auto_flow": null,
            "grid_auto_rows": null,
            "grid_column": null,
            "grid_gap": null,
            "grid_row": null,
            "grid_template_areas": null,
            "grid_template_columns": null,
            "grid_template_rows": null,
            "height": null,
            "justify_content": null,
            "justify_items": null,
            "left": null,
            "margin": null,
            "max_height": null,
            "max_width": null,
            "min_height": null,
            "min_width": null,
            "object_fit": null,
            "object_position": null,
            "order": null,
            "overflow": null,
            "overflow_x": null,
            "overflow_y": null,
            "padding": null,
            "right": null,
            "top": null,
            "visibility": null,
            "width": null
          }
        },
        "478171b4bb7b4789a49bb71ad7b73efc": {
          "model_module": "@jupyter-widgets/controls",
          "model_name": "DescriptionStyleModel",
          "model_module_version": "1.5.0",
          "state": {
            "_model_module": "@jupyter-widgets/controls",
            "_model_module_version": "1.5.0",
            "_model_name": "DescriptionStyleModel",
            "_view_count": null,
            "_view_module": "@jupyter-widgets/base",
            "_view_module_version": "1.2.0",
            "_view_name": "StyleView",
            "description_width": ""
          }
        },
        "37c72c15e9ce4dbc8532c93a75853134": {
          "model_module": "@jupyter-widgets/base",
          "model_name": "LayoutModel",
          "model_module_version": "1.2.0",
          "state": {
            "_model_module": "@jupyter-widgets/base",
            "_model_module_version": "1.2.0",
            "_model_name": "LayoutModel",
            "_view_count": null,
            "_view_module": "@jupyter-widgets/base",
            "_view_module_version": "1.2.0",
            "_view_name": "LayoutView",
            "align_content": null,
            "align_items": null,
            "align_self": null,
            "border": null,
            "bottom": null,
            "display": null,
            "flex": null,
            "flex_flow": null,
            "grid_area": null,
            "grid_auto_columns": null,
            "grid_auto_flow": null,
            "grid_auto_rows": null,
            "grid_column": null,
            "grid_gap": null,
            "grid_row": null,
            "grid_template_areas": null,
            "grid_template_columns": null,
            "grid_template_rows": null,
            "height": null,
            "justify_content": null,
            "justify_items": null,
            "left": null,
            "margin": null,
            "max_height": null,
            "max_width": null,
            "min_height": null,
            "min_width": null,
            "object_fit": null,
            "object_position": null,
            "order": null,
            "overflow": null,
            "overflow_x": null,
            "overflow_y": null,
            "padding": null,
            "right": null,
            "top": null,
            "visibility": null,
            "width": null
          }
        },
        "7bc5d4131aa44db186cb66f544c18a87": {
          "model_module": "@jupyter-widgets/controls",
          "model_name": "ProgressStyleModel",
          "model_module_version": "1.5.0",
          "state": {
            "_model_module": "@jupyter-widgets/controls",
            "_model_module_version": "1.5.0",
            "_model_name": "ProgressStyleModel",
            "_view_count": null,
            "_view_module": "@jupyter-widgets/base",
            "_view_module_version": "1.2.0",
            "_view_name": "StyleView",
            "bar_color": null,
            "description_width": ""
          }
        },
        "994be37a1032488ab4b08ae625475240": {
          "model_module": "@jupyter-widgets/base",
          "model_name": "LayoutModel",
          "model_module_version": "1.2.0",
          "state": {
            "_model_module": "@jupyter-widgets/base",
            "_model_module_version": "1.2.0",
            "_model_name": "LayoutModel",
            "_view_count": null,
            "_view_module": "@jupyter-widgets/base",
            "_view_module_version": "1.2.0",
            "_view_name": "LayoutView",
            "align_content": null,
            "align_items": null,
            "align_self": null,
            "border": null,
            "bottom": null,
            "display": null,
            "flex": null,
            "flex_flow": null,
            "grid_area": null,
            "grid_auto_columns": null,
            "grid_auto_flow": null,
            "grid_auto_rows": null,
            "grid_column": null,
            "grid_gap": null,
            "grid_row": null,
            "grid_template_areas": null,
            "grid_template_columns": null,
            "grid_template_rows": null,
            "height": null,
            "justify_content": null,
            "justify_items": null,
            "left": null,
            "margin": null,
            "max_height": null,
            "max_width": null,
            "min_height": null,
            "min_width": null,
            "object_fit": null,
            "object_position": null,
            "order": null,
            "overflow": null,
            "overflow_x": null,
            "overflow_y": null,
            "padding": null,
            "right": null,
            "top": null,
            "visibility": null,
            "width": null
          }
        },
        "773a2dec0124444d975feafd7ed65445": {
          "model_module": "@jupyter-widgets/controls",
          "model_name": "DescriptionStyleModel",
          "model_module_version": "1.5.0",
          "state": {
            "_model_module": "@jupyter-widgets/controls",
            "_model_module_version": "1.5.0",
            "_model_name": "DescriptionStyleModel",
            "_view_count": null,
            "_view_module": "@jupyter-widgets/base",
            "_view_module_version": "1.2.0",
            "_view_name": "StyleView",
            "description_width": ""
          }
        },
        "3ea7f83619ca4f779569c09f695d1567": {
          "model_module": "@jupyter-widgets/controls",
          "model_name": "HBoxModel",
          "model_module_version": "1.5.0",
          "state": {
            "_dom_classes": [],
            "_model_module": "@jupyter-widgets/controls",
            "_model_module_version": "1.5.0",
            "_model_name": "HBoxModel",
            "_view_count": null,
            "_view_module": "@jupyter-widgets/controls",
            "_view_module_version": "1.5.0",
            "_view_name": "HBoxView",
            "box_style": "",
            "children": [
              "IPY_MODEL_101fec12e2b349b49286568c43813e7e",
              "IPY_MODEL_2a6b455402f947d6998a568dd5d5e502",
              "IPY_MODEL_f535d35f4ede436e82e554e1a0217c65"
            ],
            "layout": "IPY_MODEL_e5619d0f0a0b4045b7458795c772d80a"
          }
        },
        "101fec12e2b349b49286568c43813e7e": {
          "model_module": "@jupyter-widgets/controls",
          "model_name": "HTMLModel",
          "model_module_version": "1.5.0",
          "state": {
            "_dom_classes": [],
            "_model_module": "@jupyter-widgets/controls",
            "_model_module_version": "1.5.0",
            "_model_name": "HTMLModel",
            "_view_count": null,
            "_view_module": "@jupyter-widgets/controls",
            "_view_module_version": "1.5.0",
            "_view_name": "HTMLView",
            "description": "",
            "description_tooltip": null,
            "layout": "IPY_MODEL_4ca796edabf440909417e5d31a3a67fc",
            "placeholder": "​",
            "style": "IPY_MODEL_62631bd9202d4f7a806e076fdd2e35ba",
            "value": "generation_config.json: 100%"
          }
        },
        "2a6b455402f947d6998a568dd5d5e502": {
          "model_module": "@jupyter-widgets/controls",
          "model_name": "FloatProgressModel",
          "model_module_version": "1.5.0",
          "state": {
            "_dom_classes": [],
            "_model_module": "@jupyter-widgets/controls",
            "_model_module_version": "1.5.0",
            "_model_name": "FloatProgressModel",
            "_view_count": null,
            "_view_module": "@jupyter-widgets/controls",
            "_view_module_version": "1.5.0",
            "_view_name": "ProgressView",
            "bar_style": "success",
            "description": "",
            "description_tooltip": null,
            "layout": "IPY_MODEL_3172746138d34b68865e63c0fbd89ea7",
            "max": 124,
            "min": 0,
            "orientation": "horizontal",
            "style": "IPY_MODEL_e8aeaa27a5564612a32c2e41676ae907",
            "value": 124
          }
        },
        "f535d35f4ede436e82e554e1a0217c65": {
          "model_module": "@jupyter-widgets/controls",
          "model_name": "HTMLModel",
          "model_module_version": "1.5.0",
          "state": {
            "_dom_classes": [],
            "_model_module": "@jupyter-widgets/controls",
            "_model_module_version": "1.5.0",
            "_model_name": "HTMLModel",
            "_view_count": null,
            "_view_module": "@jupyter-widgets/controls",
            "_view_module_version": "1.5.0",
            "_view_name": "HTMLView",
            "description": "",
            "description_tooltip": null,
            "layout": "IPY_MODEL_6b3e4376bc7c4adba0e02b4f585f76cc",
            "placeholder": "​",
            "style": "IPY_MODEL_92bc721342b64506bb7c29b26204ec7d",
            "value": " 124/124 [00:00&lt;00:00, 10.8kB/s]"
          }
        },
        "e5619d0f0a0b4045b7458795c772d80a": {
          "model_module": "@jupyter-widgets/base",
          "model_name": "LayoutModel",
          "model_module_version": "1.2.0",
          "state": {
            "_model_module": "@jupyter-widgets/base",
            "_model_module_version": "1.2.0",
            "_model_name": "LayoutModel",
            "_view_count": null,
            "_view_module": "@jupyter-widgets/base",
            "_view_module_version": "1.2.0",
            "_view_name": "LayoutView",
            "align_content": null,
            "align_items": null,
            "align_self": null,
            "border": null,
            "bottom": null,
            "display": null,
            "flex": null,
            "flex_flow": null,
            "grid_area": null,
            "grid_auto_columns": null,
            "grid_auto_flow": null,
            "grid_auto_rows": null,
            "grid_column": null,
            "grid_gap": null,
            "grid_row": null,
            "grid_template_areas": null,
            "grid_template_columns": null,
            "grid_template_rows": null,
            "height": null,
            "justify_content": null,
            "justify_items": null,
            "left": null,
            "margin": null,
            "max_height": null,
            "max_width": null,
            "min_height": null,
            "min_width": null,
            "object_fit": null,
            "object_position": null,
            "order": null,
            "overflow": null,
            "overflow_x": null,
            "overflow_y": null,
            "padding": null,
            "right": null,
            "top": null,
            "visibility": null,
            "width": null
          }
        },
        "4ca796edabf440909417e5d31a3a67fc": {
          "model_module": "@jupyter-widgets/base",
          "model_name": "LayoutModel",
          "model_module_version": "1.2.0",
          "state": {
            "_model_module": "@jupyter-widgets/base",
            "_model_module_version": "1.2.0",
            "_model_name": "LayoutModel",
            "_view_count": null,
            "_view_module": "@jupyter-widgets/base",
            "_view_module_version": "1.2.0",
            "_view_name": "LayoutView",
            "align_content": null,
            "align_items": null,
            "align_self": null,
            "border": null,
            "bottom": null,
            "display": null,
            "flex": null,
            "flex_flow": null,
            "grid_area": null,
            "grid_auto_columns": null,
            "grid_auto_flow": null,
            "grid_auto_rows": null,
            "grid_column": null,
            "grid_gap": null,
            "grid_row": null,
            "grid_template_areas": null,
            "grid_template_columns": null,
            "grid_template_rows": null,
            "height": null,
            "justify_content": null,
            "justify_items": null,
            "left": null,
            "margin": null,
            "max_height": null,
            "max_width": null,
            "min_height": null,
            "min_width": null,
            "object_fit": null,
            "object_position": null,
            "order": null,
            "overflow": null,
            "overflow_x": null,
            "overflow_y": null,
            "padding": null,
            "right": null,
            "top": null,
            "visibility": null,
            "width": null
          }
        },
        "62631bd9202d4f7a806e076fdd2e35ba": {
          "model_module": "@jupyter-widgets/controls",
          "model_name": "DescriptionStyleModel",
          "model_module_version": "1.5.0",
          "state": {
            "_model_module": "@jupyter-widgets/controls",
            "_model_module_version": "1.5.0",
            "_model_name": "DescriptionStyleModel",
            "_view_count": null,
            "_view_module": "@jupyter-widgets/base",
            "_view_module_version": "1.2.0",
            "_view_name": "StyleView",
            "description_width": ""
          }
        },
        "3172746138d34b68865e63c0fbd89ea7": {
          "model_module": "@jupyter-widgets/base",
          "model_name": "LayoutModel",
          "model_module_version": "1.2.0",
          "state": {
            "_model_module": "@jupyter-widgets/base",
            "_model_module_version": "1.2.0",
            "_model_name": "LayoutModel",
            "_view_count": null,
            "_view_module": "@jupyter-widgets/base",
            "_view_module_version": "1.2.0",
            "_view_name": "LayoutView",
            "align_content": null,
            "align_items": null,
            "align_self": null,
            "border": null,
            "bottom": null,
            "display": null,
            "flex": null,
            "flex_flow": null,
            "grid_area": null,
            "grid_auto_columns": null,
            "grid_auto_flow": null,
            "grid_auto_rows": null,
            "grid_column": null,
            "grid_gap": null,
            "grid_row": null,
            "grid_template_areas": null,
            "grid_template_columns": null,
            "grid_template_rows": null,
            "height": null,
            "justify_content": null,
            "justify_items": null,
            "left": null,
            "margin": null,
            "max_height": null,
            "max_width": null,
            "min_height": null,
            "min_width": null,
            "object_fit": null,
            "object_position": null,
            "order": null,
            "overflow": null,
            "overflow_x": null,
            "overflow_y": null,
            "padding": null,
            "right": null,
            "top": null,
            "visibility": null,
            "width": null
          }
        },
        "e8aeaa27a5564612a32c2e41676ae907": {
          "model_module": "@jupyter-widgets/controls",
          "model_name": "ProgressStyleModel",
          "model_module_version": "1.5.0",
          "state": {
            "_model_module": "@jupyter-widgets/controls",
            "_model_module_version": "1.5.0",
            "_model_name": "ProgressStyleModel",
            "_view_count": null,
            "_view_module": "@jupyter-widgets/base",
            "_view_module_version": "1.2.0",
            "_view_name": "StyleView",
            "bar_color": null,
            "description_width": ""
          }
        },
        "6b3e4376bc7c4adba0e02b4f585f76cc": {
          "model_module": "@jupyter-widgets/base",
          "model_name": "LayoutModel",
          "model_module_version": "1.2.0",
          "state": {
            "_model_module": "@jupyter-widgets/base",
            "_model_module_version": "1.2.0",
            "_model_name": "LayoutModel",
            "_view_count": null,
            "_view_module": "@jupyter-widgets/base",
            "_view_module_version": "1.2.0",
            "_view_name": "LayoutView",
            "align_content": null,
            "align_items": null,
            "align_self": null,
            "border": null,
            "bottom": null,
            "display": null,
            "flex": null,
            "flex_flow": null,
            "grid_area": null,
            "grid_auto_columns": null,
            "grid_auto_flow": null,
            "grid_auto_rows": null,
            "grid_column": null,
            "grid_gap": null,
            "grid_row": null,
            "grid_template_areas": null,
            "grid_template_columns": null,
            "grid_template_rows": null,
            "height": null,
            "justify_content": null,
            "justify_items": null,
            "left": null,
            "margin": null,
            "max_height": null,
            "max_width": null,
            "min_height": null,
            "min_width": null,
            "object_fit": null,
            "object_position": null,
            "order": null,
            "overflow": null,
            "overflow_x": null,
            "overflow_y": null,
            "padding": null,
            "right": null,
            "top": null,
            "visibility": null,
            "width": null
          }
        },
        "92bc721342b64506bb7c29b26204ec7d": {
          "model_module": "@jupyter-widgets/controls",
          "model_name": "DescriptionStyleModel",
          "model_module_version": "1.5.0",
          "state": {
            "_model_module": "@jupyter-widgets/controls",
            "_model_module_version": "1.5.0",
            "_model_name": "DescriptionStyleModel",
            "_view_count": null,
            "_view_module": "@jupyter-widgets/base",
            "_view_module_version": "1.2.0",
            "_view_name": "StyleView",
            "description_width": ""
          }
        },
        "1b122c876e12437f958078038c43c4f8": {
          "model_module": "@jupyter-widgets/controls",
          "model_name": "HBoxModel",
          "model_module_version": "1.5.0",
          "state": {
            "_dom_classes": [],
            "_model_module": "@jupyter-widgets/controls",
            "_model_module_version": "1.5.0",
            "_model_name": "HBoxModel",
            "_view_count": null,
            "_view_module": "@jupyter-widgets/controls",
            "_view_module_version": "1.5.0",
            "_view_name": "HBoxView",
            "box_style": "",
            "children": [
              "IPY_MODEL_828d0d0292d24803bf73e90650cc9ddb",
              "IPY_MODEL_22455c6693d947e7a53cacc6338aadc7",
              "IPY_MODEL_0aa0a1a9027e47778c9fbfb4cb4e17b5"
            ],
            "layout": "IPY_MODEL_59d1b38806a14092b877edcad10a1cd6"
          }
        },
        "828d0d0292d24803bf73e90650cc9ddb": {
          "model_module": "@jupyter-widgets/controls",
          "model_name": "HTMLModel",
          "model_module_version": "1.5.0",
          "state": {
            "_dom_classes": [],
            "_model_module": "@jupyter-widgets/controls",
            "_model_module_version": "1.5.0",
            "_model_name": "HTMLModel",
            "_view_count": null,
            "_view_module": "@jupyter-widgets/controls",
            "_view_module_version": "1.5.0",
            "_view_name": "HTMLView",
            "description": "",
            "description_tooltip": null,
            "layout": "IPY_MODEL_fb508b8420a04d52860f418928920165",
            "placeholder": "​",
            "style": "IPY_MODEL_df8a311fd617486b9cde45c0fd51c078",
            "value": "tokenizer_config.json: 100%"
          }
        },
        "22455c6693d947e7a53cacc6338aadc7": {
          "model_module": "@jupyter-widgets/controls",
          "model_name": "FloatProgressModel",
          "model_module_version": "1.5.0",
          "state": {
            "_dom_classes": [],
            "_model_module": "@jupyter-widgets/controls",
            "_model_module_version": "1.5.0",
            "_model_name": "FloatProgressModel",
            "_view_count": null,
            "_view_module": "@jupyter-widgets/controls",
            "_view_module_version": "1.5.0",
            "_view_name": "ProgressView",
            "bar_style": "success",
            "description": "",
            "description_tooltip": null,
            "layout": "IPY_MODEL_56342a2e988142898ab598ce64a50b86",
            "max": 26,
            "min": 0,
            "orientation": "horizontal",
            "style": "IPY_MODEL_ed5773b744554dea845a7af64b751dc1",
            "value": 26
          }
        },
        "0aa0a1a9027e47778c9fbfb4cb4e17b5": {
          "model_module": "@jupyter-widgets/controls",
          "model_name": "HTMLModel",
          "model_module_version": "1.5.0",
          "state": {
            "_dom_classes": [],
            "_model_module": "@jupyter-widgets/controls",
            "_model_module_version": "1.5.0",
            "_model_name": "HTMLModel",
            "_view_count": null,
            "_view_module": "@jupyter-widgets/controls",
            "_view_module_version": "1.5.0",
            "_view_name": "HTMLView",
            "description": "",
            "description_tooltip": null,
            "layout": "IPY_MODEL_2e876afdc8df425ba6ac17ea340e27b1",
            "placeholder": "​",
            "style": "IPY_MODEL_960779900328404284fb215c6b3aacf9",
            "value": " 26.0/26.0 [00:00&lt;00:00, 2.90kB/s]"
          }
        },
        "59d1b38806a14092b877edcad10a1cd6": {
          "model_module": "@jupyter-widgets/base",
          "model_name": "LayoutModel",
          "model_module_version": "1.2.0",
          "state": {
            "_model_module": "@jupyter-widgets/base",
            "_model_module_version": "1.2.0",
            "_model_name": "LayoutModel",
            "_view_count": null,
            "_view_module": "@jupyter-widgets/base",
            "_view_module_version": "1.2.0",
            "_view_name": "LayoutView",
            "align_content": null,
            "align_items": null,
            "align_self": null,
            "border": null,
            "bottom": null,
            "display": null,
            "flex": null,
            "flex_flow": null,
            "grid_area": null,
            "grid_auto_columns": null,
            "grid_auto_flow": null,
            "grid_auto_rows": null,
            "grid_column": null,
            "grid_gap": null,
            "grid_row": null,
            "grid_template_areas": null,
            "grid_template_columns": null,
            "grid_template_rows": null,
            "height": null,
            "justify_content": null,
            "justify_items": null,
            "left": null,
            "margin": null,
            "max_height": null,
            "max_width": null,
            "min_height": null,
            "min_width": null,
            "object_fit": null,
            "object_position": null,
            "order": null,
            "overflow": null,
            "overflow_x": null,
            "overflow_y": null,
            "padding": null,
            "right": null,
            "top": null,
            "visibility": null,
            "width": null
          }
        },
        "fb508b8420a04d52860f418928920165": {
          "model_module": "@jupyter-widgets/base",
          "model_name": "LayoutModel",
          "model_module_version": "1.2.0",
          "state": {
            "_model_module": "@jupyter-widgets/base",
            "_model_module_version": "1.2.0",
            "_model_name": "LayoutModel",
            "_view_count": null,
            "_view_module": "@jupyter-widgets/base",
            "_view_module_version": "1.2.0",
            "_view_name": "LayoutView",
            "align_content": null,
            "align_items": null,
            "align_self": null,
            "border": null,
            "bottom": null,
            "display": null,
            "flex": null,
            "flex_flow": null,
            "grid_area": null,
            "grid_auto_columns": null,
            "grid_auto_flow": null,
            "grid_auto_rows": null,
            "grid_column": null,
            "grid_gap": null,
            "grid_row": null,
            "grid_template_areas": null,
            "grid_template_columns": null,
            "grid_template_rows": null,
            "height": null,
            "justify_content": null,
            "justify_items": null,
            "left": null,
            "margin": null,
            "max_height": null,
            "max_width": null,
            "min_height": null,
            "min_width": null,
            "object_fit": null,
            "object_position": null,
            "order": null,
            "overflow": null,
            "overflow_x": null,
            "overflow_y": null,
            "padding": null,
            "right": null,
            "top": null,
            "visibility": null,
            "width": null
          }
        },
        "df8a311fd617486b9cde45c0fd51c078": {
          "model_module": "@jupyter-widgets/controls",
          "model_name": "DescriptionStyleModel",
          "model_module_version": "1.5.0",
          "state": {
            "_model_module": "@jupyter-widgets/controls",
            "_model_module_version": "1.5.0",
            "_model_name": "DescriptionStyleModel",
            "_view_count": null,
            "_view_module": "@jupyter-widgets/base",
            "_view_module_version": "1.2.0",
            "_view_name": "StyleView",
            "description_width": ""
          }
        },
        "56342a2e988142898ab598ce64a50b86": {
          "model_module": "@jupyter-widgets/base",
          "model_name": "LayoutModel",
          "model_module_version": "1.2.0",
          "state": {
            "_model_module": "@jupyter-widgets/base",
            "_model_module_version": "1.2.0",
            "_model_name": "LayoutModel",
            "_view_count": null,
            "_view_module": "@jupyter-widgets/base",
            "_view_module_version": "1.2.0",
            "_view_name": "LayoutView",
            "align_content": null,
            "align_items": null,
            "align_self": null,
            "border": null,
            "bottom": null,
            "display": null,
            "flex": null,
            "flex_flow": null,
            "grid_area": null,
            "grid_auto_columns": null,
            "grid_auto_flow": null,
            "grid_auto_rows": null,
            "grid_column": null,
            "grid_gap": null,
            "grid_row": null,
            "grid_template_areas": null,
            "grid_template_columns": null,
            "grid_template_rows": null,
            "height": null,
            "justify_content": null,
            "justify_items": null,
            "left": null,
            "margin": null,
            "max_height": null,
            "max_width": null,
            "min_height": null,
            "min_width": null,
            "object_fit": null,
            "object_position": null,
            "order": null,
            "overflow": null,
            "overflow_x": null,
            "overflow_y": null,
            "padding": null,
            "right": null,
            "top": null,
            "visibility": null,
            "width": null
          }
        },
        "ed5773b744554dea845a7af64b751dc1": {
          "model_module": "@jupyter-widgets/controls",
          "model_name": "ProgressStyleModel",
          "model_module_version": "1.5.0",
          "state": {
            "_model_module": "@jupyter-widgets/controls",
            "_model_module_version": "1.5.0",
            "_model_name": "ProgressStyleModel",
            "_view_count": null,
            "_view_module": "@jupyter-widgets/base",
            "_view_module_version": "1.2.0",
            "_view_name": "StyleView",
            "bar_color": null,
            "description_width": ""
          }
        },
        "2e876afdc8df425ba6ac17ea340e27b1": {
          "model_module": "@jupyter-widgets/base",
          "model_name": "LayoutModel",
          "model_module_version": "1.2.0",
          "state": {
            "_model_module": "@jupyter-widgets/base",
            "_model_module_version": "1.2.0",
            "_model_name": "LayoutModel",
            "_view_count": null,
            "_view_module": "@jupyter-widgets/base",
            "_view_module_version": "1.2.0",
            "_view_name": "LayoutView",
            "align_content": null,
            "align_items": null,
            "align_self": null,
            "border": null,
            "bottom": null,
            "display": null,
            "flex": null,
            "flex_flow": null,
            "grid_area": null,
            "grid_auto_columns": null,
            "grid_auto_flow": null,
            "grid_auto_rows": null,
            "grid_column": null,
            "grid_gap": null,
            "grid_row": null,
            "grid_template_areas": null,
            "grid_template_columns": null,
            "grid_template_rows": null,
            "height": null,
            "justify_content": null,
            "justify_items": null,
            "left": null,
            "margin": null,
            "max_height": null,
            "max_width": null,
            "min_height": null,
            "min_width": null,
            "object_fit": null,
            "object_position": null,
            "order": null,
            "overflow": null,
            "overflow_x": null,
            "overflow_y": null,
            "padding": null,
            "right": null,
            "top": null,
            "visibility": null,
            "width": null
          }
        },
        "960779900328404284fb215c6b3aacf9": {
          "model_module": "@jupyter-widgets/controls",
          "model_name": "DescriptionStyleModel",
          "model_module_version": "1.5.0",
          "state": {
            "_model_module": "@jupyter-widgets/controls",
            "_model_module_version": "1.5.0",
            "_model_name": "DescriptionStyleModel",
            "_view_count": null,
            "_view_module": "@jupyter-widgets/base",
            "_view_module_version": "1.2.0",
            "_view_name": "StyleView",
            "description_width": ""
          }
        },
        "09be7290d2ae40c99ccfeadf2da9f44c": {
          "model_module": "@jupyter-widgets/controls",
          "model_name": "HBoxModel",
          "model_module_version": "1.5.0",
          "state": {
            "_dom_classes": [],
            "_model_module": "@jupyter-widgets/controls",
            "_model_module_version": "1.5.0",
            "_model_name": "HBoxModel",
            "_view_count": null,
            "_view_module": "@jupyter-widgets/controls",
            "_view_module_version": "1.5.0",
            "_view_name": "HBoxView",
            "box_style": "",
            "children": [
              "IPY_MODEL_654883f57f1f48b7962b78133e5b1ef6",
              "IPY_MODEL_0fe0ce7e9cfe44dba8c2f5f326c2e1c2",
              "IPY_MODEL_cfeeb5564dde4e429e952d4112facf45"
            ],
            "layout": "IPY_MODEL_dccc77534164404287153e76b0f032f9"
          }
        },
        "654883f57f1f48b7962b78133e5b1ef6": {
          "model_module": "@jupyter-widgets/controls",
          "model_name": "HTMLModel",
          "model_module_version": "1.5.0",
          "state": {
            "_dom_classes": [],
            "_model_module": "@jupyter-widgets/controls",
            "_model_module_version": "1.5.0",
            "_model_name": "HTMLModel",
            "_view_count": null,
            "_view_module": "@jupyter-widgets/controls",
            "_view_module_version": "1.5.0",
            "_view_name": "HTMLView",
            "description": "",
            "description_tooltip": null,
            "layout": "IPY_MODEL_9a1ccab5d41f4cb0a0810e041542cd69",
            "placeholder": "​",
            "style": "IPY_MODEL_2c33de3b8b6540d88cb885410848ef00",
            "value": "vocab.json: 100%"
          }
        },
        "0fe0ce7e9cfe44dba8c2f5f326c2e1c2": {
          "model_module": "@jupyter-widgets/controls",
          "model_name": "FloatProgressModel",
          "model_module_version": "1.5.0",
          "state": {
            "_dom_classes": [],
            "_model_module": "@jupyter-widgets/controls",
            "_model_module_version": "1.5.0",
            "_model_name": "FloatProgressModel",
            "_view_count": null,
            "_view_module": "@jupyter-widgets/controls",
            "_view_module_version": "1.5.0",
            "_view_name": "ProgressView",
            "bar_style": "success",
            "description": "",
            "description_tooltip": null,
            "layout": "IPY_MODEL_ac73f28d505f432f9b3038eeb9908da6",
            "max": 1042301,
            "min": 0,
            "orientation": "horizontal",
            "style": "IPY_MODEL_cf74f6f6b94c4e5f8bebe6a2258c09c6",
            "value": 1042301
          }
        },
        "cfeeb5564dde4e429e952d4112facf45": {
          "model_module": "@jupyter-widgets/controls",
          "model_name": "HTMLModel",
          "model_module_version": "1.5.0",
          "state": {
            "_dom_classes": [],
            "_model_module": "@jupyter-widgets/controls",
            "_model_module_version": "1.5.0",
            "_model_name": "HTMLModel",
            "_view_count": null,
            "_view_module": "@jupyter-widgets/controls",
            "_view_module_version": "1.5.0",
            "_view_name": "HTMLView",
            "description": "",
            "description_tooltip": null,
            "layout": "IPY_MODEL_76a608fd95114cd5873fb01e86d91cb0",
            "placeholder": "​",
            "style": "IPY_MODEL_5089c3a3d8e240a8970adf848ec396db",
            "value": " 1.04M/1.04M [00:00&lt;00:00, 2.40MB/s]"
          }
        },
        "dccc77534164404287153e76b0f032f9": {
          "model_module": "@jupyter-widgets/base",
          "model_name": "LayoutModel",
          "model_module_version": "1.2.0",
          "state": {
            "_model_module": "@jupyter-widgets/base",
            "_model_module_version": "1.2.0",
            "_model_name": "LayoutModel",
            "_view_count": null,
            "_view_module": "@jupyter-widgets/base",
            "_view_module_version": "1.2.0",
            "_view_name": "LayoutView",
            "align_content": null,
            "align_items": null,
            "align_self": null,
            "border": null,
            "bottom": null,
            "display": null,
            "flex": null,
            "flex_flow": null,
            "grid_area": null,
            "grid_auto_columns": null,
            "grid_auto_flow": null,
            "grid_auto_rows": null,
            "grid_column": null,
            "grid_gap": null,
            "grid_row": null,
            "grid_template_areas": null,
            "grid_template_columns": null,
            "grid_template_rows": null,
            "height": null,
            "justify_content": null,
            "justify_items": null,
            "left": null,
            "margin": null,
            "max_height": null,
            "max_width": null,
            "min_height": null,
            "min_width": null,
            "object_fit": null,
            "object_position": null,
            "order": null,
            "overflow": null,
            "overflow_x": null,
            "overflow_y": null,
            "padding": null,
            "right": null,
            "top": null,
            "visibility": null,
            "width": null
          }
        },
        "9a1ccab5d41f4cb0a0810e041542cd69": {
          "model_module": "@jupyter-widgets/base",
          "model_name": "LayoutModel",
          "model_module_version": "1.2.0",
          "state": {
            "_model_module": "@jupyter-widgets/base",
            "_model_module_version": "1.2.0",
            "_model_name": "LayoutModel",
            "_view_count": null,
            "_view_module": "@jupyter-widgets/base",
            "_view_module_version": "1.2.0",
            "_view_name": "LayoutView",
            "align_content": null,
            "align_items": null,
            "align_self": null,
            "border": null,
            "bottom": null,
            "display": null,
            "flex": null,
            "flex_flow": null,
            "grid_area": null,
            "grid_auto_columns": null,
            "grid_auto_flow": null,
            "grid_auto_rows": null,
            "grid_column": null,
            "grid_gap": null,
            "grid_row": null,
            "grid_template_areas": null,
            "grid_template_columns": null,
            "grid_template_rows": null,
            "height": null,
            "justify_content": null,
            "justify_items": null,
            "left": null,
            "margin": null,
            "max_height": null,
            "max_width": null,
            "min_height": null,
            "min_width": null,
            "object_fit": null,
            "object_position": null,
            "order": null,
            "overflow": null,
            "overflow_x": null,
            "overflow_y": null,
            "padding": null,
            "right": null,
            "top": null,
            "visibility": null,
            "width": null
          }
        },
        "2c33de3b8b6540d88cb885410848ef00": {
          "model_module": "@jupyter-widgets/controls",
          "model_name": "DescriptionStyleModel",
          "model_module_version": "1.5.0",
          "state": {
            "_model_module": "@jupyter-widgets/controls",
            "_model_module_version": "1.5.0",
            "_model_name": "DescriptionStyleModel",
            "_view_count": null,
            "_view_module": "@jupyter-widgets/base",
            "_view_module_version": "1.2.0",
            "_view_name": "StyleView",
            "description_width": ""
          }
        },
        "ac73f28d505f432f9b3038eeb9908da6": {
          "model_module": "@jupyter-widgets/base",
          "model_name": "LayoutModel",
          "model_module_version": "1.2.0",
          "state": {
            "_model_module": "@jupyter-widgets/base",
            "_model_module_version": "1.2.0",
            "_model_name": "LayoutModel",
            "_view_count": null,
            "_view_module": "@jupyter-widgets/base",
            "_view_module_version": "1.2.0",
            "_view_name": "LayoutView",
            "align_content": null,
            "align_items": null,
            "align_self": null,
            "border": null,
            "bottom": null,
            "display": null,
            "flex": null,
            "flex_flow": null,
            "grid_area": null,
            "grid_auto_columns": null,
            "grid_auto_flow": null,
            "grid_auto_rows": null,
            "grid_column": null,
            "grid_gap": null,
            "grid_row": null,
            "grid_template_areas": null,
            "grid_template_columns": null,
            "grid_template_rows": null,
            "height": null,
            "justify_content": null,
            "justify_items": null,
            "left": null,
            "margin": null,
            "max_height": null,
            "max_width": null,
            "min_height": null,
            "min_width": null,
            "object_fit": null,
            "object_position": null,
            "order": null,
            "overflow": null,
            "overflow_x": null,
            "overflow_y": null,
            "padding": null,
            "right": null,
            "top": null,
            "visibility": null,
            "width": null
          }
        },
        "cf74f6f6b94c4e5f8bebe6a2258c09c6": {
          "model_module": "@jupyter-widgets/controls",
          "model_name": "ProgressStyleModel",
          "model_module_version": "1.5.0",
          "state": {
            "_model_module": "@jupyter-widgets/controls",
            "_model_module_version": "1.5.0",
            "_model_name": "ProgressStyleModel",
            "_view_count": null,
            "_view_module": "@jupyter-widgets/base",
            "_view_module_version": "1.2.0",
            "_view_name": "StyleView",
            "bar_color": null,
            "description_width": ""
          }
        },
        "76a608fd95114cd5873fb01e86d91cb0": {
          "model_module": "@jupyter-widgets/base",
          "model_name": "LayoutModel",
          "model_module_version": "1.2.0",
          "state": {
            "_model_module": "@jupyter-widgets/base",
            "_model_module_version": "1.2.0",
            "_model_name": "LayoutModel",
            "_view_count": null,
            "_view_module": "@jupyter-widgets/base",
            "_view_module_version": "1.2.0",
            "_view_name": "LayoutView",
            "align_content": null,
            "align_items": null,
            "align_self": null,
            "border": null,
            "bottom": null,
            "display": null,
            "flex": null,
            "flex_flow": null,
            "grid_area": null,
            "grid_auto_columns": null,
            "grid_auto_flow": null,
            "grid_auto_rows": null,
            "grid_column": null,
            "grid_gap": null,
            "grid_row": null,
            "grid_template_areas": null,
            "grid_template_columns": null,
            "grid_template_rows": null,
            "height": null,
            "justify_content": null,
            "justify_items": null,
            "left": null,
            "margin": null,
            "max_height": null,
            "max_width": null,
            "min_height": null,
            "min_width": null,
            "object_fit": null,
            "object_position": null,
            "order": null,
            "overflow": null,
            "overflow_x": null,
            "overflow_y": null,
            "padding": null,
            "right": null,
            "top": null,
            "visibility": null,
            "width": null
          }
        },
        "5089c3a3d8e240a8970adf848ec396db": {
          "model_module": "@jupyter-widgets/controls",
          "model_name": "DescriptionStyleModel",
          "model_module_version": "1.5.0",
          "state": {
            "_model_module": "@jupyter-widgets/controls",
            "_model_module_version": "1.5.0",
            "_model_name": "DescriptionStyleModel",
            "_view_count": null,
            "_view_module": "@jupyter-widgets/base",
            "_view_module_version": "1.2.0",
            "_view_name": "StyleView",
            "description_width": ""
          }
        },
        "0bb0913b23784f5aa93af7f7727b123c": {
          "model_module": "@jupyter-widgets/controls",
          "model_name": "HBoxModel",
          "model_module_version": "1.5.0",
          "state": {
            "_dom_classes": [],
            "_model_module": "@jupyter-widgets/controls",
            "_model_module_version": "1.5.0",
            "_model_name": "HBoxModel",
            "_view_count": null,
            "_view_module": "@jupyter-widgets/controls",
            "_view_module_version": "1.5.0",
            "_view_name": "HBoxView",
            "box_style": "",
            "children": [
              "IPY_MODEL_c9b0b0a4999a45c3b0a9a4c90504d0bb",
              "IPY_MODEL_3a0d17d5706e4949ab50cedf6c75087d",
              "IPY_MODEL_20ab42cd7c904966baa5168f2bc0cc3a"
            ],
            "layout": "IPY_MODEL_67ae3f6685af47ad888afcd70cc56bb2"
          }
        },
        "c9b0b0a4999a45c3b0a9a4c90504d0bb": {
          "model_module": "@jupyter-widgets/controls",
          "model_name": "HTMLModel",
          "model_module_version": "1.5.0",
          "state": {
            "_dom_classes": [],
            "_model_module": "@jupyter-widgets/controls",
            "_model_module_version": "1.5.0",
            "_model_name": "HTMLModel",
            "_view_count": null,
            "_view_module": "@jupyter-widgets/controls",
            "_view_module_version": "1.5.0",
            "_view_name": "HTMLView",
            "description": "",
            "description_tooltip": null,
            "layout": "IPY_MODEL_ad1ade1b88c84794aafebe60f8f9881d",
            "placeholder": "​",
            "style": "IPY_MODEL_6a31c5ae8615427f92c42c4ebf18dc7d",
            "value": "merges.txt: 100%"
          }
        },
        "3a0d17d5706e4949ab50cedf6c75087d": {
          "model_module": "@jupyter-widgets/controls",
          "model_name": "FloatProgressModel",
          "model_module_version": "1.5.0",
          "state": {
            "_dom_classes": [],
            "_model_module": "@jupyter-widgets/controls",
            "_model_module_version": "1.5.0",
            "_model_name": "FloatProgressModel",
            "_view_count": null,
            "_view_module": "@jupyter-widgets/controls",
            "_view_module_version": "1.5.0",
            "_view_name": "ProgressView",
            "bar_style": "success",
            "description": "",
            "description_tooltip": null,
            "layout": "IPY_MODEL_77c03e46547d45cd99c96c86dac15a1a",
            "max": 456318,
            "min": 0,
            "orientation": "horizontal",
            "style": "IPY_MODEL_af40e36d39a743be8cf20096dd29aeaa",
            "value": 456318
          }
        },
        "20ab42cd7c904966baa5168f2bc0cc3a": {
          "model_module": "@jupyter-widgets/controls",
          "model_name": "HTMLModel",
          "model_module_version": "1.5.0",
          "state": {
            "_dom_classes": [],
            "_model_module": "@jupyter-widgets/controls",
            "_model_module_version": "1.5.0",
            "_model_name": "HTMLModel",
            "_view_count": null,
            "_view_module": "@jupyter-widgets/controls",
            "_view_module_version": "1.5.0",
            "_view_name": "HTMLView",
            "description": "",
            "description_tooltip": null,
            "layout": "IPY_MODEL_bee82660f1d544b487b4667ba963c384",
            "placeholder": "​",
            "style": "IPY_MODEL_234e747ca49c4cec9fc2bdec23b9548e",
            "value": " 456k/456k [00:00&lt;00:00, 14.5MB/s]"
          }
        },
        "67ae3f6685af47ad888afcd70cc56bb2": {
          "model_module": "@jupyter-widgets/base",
          "model_name": "LayoutModel",
          "model_module_version": "1.2.0",
          "state": {
            "_model_module": "@jupyter-widgets/base",
            "_model_module_version": "1.2.0",
            "_model_name": "LayoutModel",
            "_view_count": null,
            "_view_module": "@jupyter-widgets/base",
            "_view_module_version": "1.2.0",
            "_view_name": "LayoutView",
            "align_content": null,
            "align_items": null,
            "align_self": null,
            "border": null,
            "bottom": null,
            "display": null,
            "flex": null,
            "flex_flow": null,
            "grid_area": null,
            "grid_auto_columns": null,
            "grid_auto_flow": null,
            "grid_auto_rows": null,
            "grid_column": null,
            "grid_gap": null,
            "grid_row": null,
            "grid_template_areas": null,
            "grid_template_columns": null,
            "grid_template_rows": null,
            "height": null,
            "justify_content": null,
            "justify_items": null,
            "left": null,
            "margin": null,
            "max_height": null,
            "max_width": null,
            "min_height": null,
            "min_width": null,
            "object_fit": null,
            "object_position": null,
            "order": null,
            "overflow": null,
            "overflow_x": null,
            "overflow_y": null,
            "padding": null,
            "right": null,
            "top": null,
            "visibility": null,
            "width": null
          }
        },
        "ad1ade1b88c84794aafebe60f8f9881d": {
          "model_module": "@jupyter-widgets/base",
          "model_name": "LayoutModel",
          "model_module_version": "1.2.0",
          "state": {
            "_model_module": "@jupyter-widgets/base",
            "_model_module_version": "1.2.0",
            "_model_name": "LayoutModel",
            "_view_count": null,
            "_view_module": "@jupyter-widgets/base",
            "_view_module_version": "1.2.0",
            "_view_name": "LayoutView",
            "align_content": null,
            "align_items": null,
            "align_self": null,
            "border": null,
            "bottom": null,
            "display": null,
            "flex": null,
            "flex_flow": null,
            "grid_area": null,
            "grid_auto_columns": null,
            "grid_auto_flow": null,
            "grid_auto_rows": null,
            "grid_column": null,
            "grid_gap": null,
            "grid_row": null,
            "grid_template_areas": null,
            "grid_template_columns": null,
            "grid_template_rows": null,
            "height": null,
            "justify_content": null,
            "justify_items": null,
            "left": null,
            "margin": null,
            "max_height": null,
            "max_width": null,
            "min_height": null,
            "min_width": null,
            "object_fit": null,
            "object_position": null,
            "order": null,
            "overflow": null,
            "overflow_x": null,
            "overflow_y": null,
            "padding": null,
            "right": null,
            "top": null,
            "visibility": null,
            "width": null
          }
        },
        "6a31c5ae8615427f92c42c4ebf18dc7d": {
          "model_module": "@jupyter-widgets/controls",
          "model_name": "DescriptionStyleModel",
          "model_module_version": "1.5.0",
          "state": {
            "_model_module": "@jupyter-widgets/controls",
            "_model_module_version": "1.5.0",
            "_model_name": "DescriptionStyleModel",
            "_view_count": null,
            "_view_module": "@jupyter-widgets/base",
            "_view_module_version": "1.2.0",
            "_view_name": "StyleView",
            "description_width": ""
          }
        },
        "77c03e46547d45cd99c96c86dac15a1a": {
          "model_module": "@jupyter-widgets/base",
          "model_name": "LayoutModel",
          "model_module_version": "1.2.0",
          "state": {
            "_model_module": "@jupyter-widgets/base",
            "_model_module_version": "1.2.0",
            "_model_name": "LayoutModel",
            "_view_count": null,
            "_view_module": "@jupyter-widgets/base",
            "_view_module_version": "1.2.0",
            "_view_name": "LayoutView",
            "align_content": null,
            "align_items": null,
            "align_self": null,
            "border": null,
            "bottom": null,
            "display": null,
            "flex": null,
            "flex_flow": null,
            "grid_area": null,
            "grid_auto_columns": null,
            "grid_auto_flow": null,
            "grid_auto_rows": null,
            "grid_column": null,
            "grid_gap": null,
            "grid_row": null,
            "grid_template_areas": null,
            "grid_template_columns": null,
            "grid_template_rows": null,
            "height": null,
            "justify_content": null,
            "justify_items": null,
            "left": null,
            "margin": null,
            "max_height": null,
            "max_width": null,
            "min_height": null,
            "min_width": null,
            "object_fit": null,
            "object_position": null,
            "order": null,
            "overflow": null,
            "overflow_x": null,
            "overflow_y": null,
            "padding": null,
            "right": null,
            "top": null,
            "visibility": null,
            "width": null
          }
        },
        "af40e36d39a743be8cf20096dd29aeaa": {
          "model_module": "@jupyter-widgets/controls",
          "model_name": "ProgressStyleModel",
          "model_module_version": "1.5.0",
          "state": {
            "_model_module": "@jupyter-widgets/controls",
            "_model_module_version": "1.5.0",
            "_model_name": "ProgressStyleModel",
            "_view_count": null,
            "_view_module": "@jupyter-widgets/base",
            "_view_module_version": "1.2.0",
            "_view_name": "StyleView",
            "bar_color": null,
            "description_width": ""
          }
        },
        "bee82660f1d544b487b4667ba963c384": {
          "model_module": "@jupyter-widgets/base",
          "model_name": "LayoutModel",
          "model_module_version": "1.2.0",
          "state": {
            "_model_module": "@jupyter-widgets/base",
            "_model_module_version": "1.2.0",
            "_model_name": "LayoutModel",
            "_view_count": null,
            "_view_module": "@jupyter-widgets/base",
            "_view_module_version": "1.2.0",
            "_view_name": "LayoutView",
            "align_content": null,
            "align_items": null,
            "align_self": null,
            "border": null,
            "bottom": null,
            "display": null,
            "flex": null,
            "flex_flow": null,
            "grid_area": null,
            "grid_auto_columns": null,
            "grid_auto_flow": null,
            "grid_auto_rows": null,
            "grid_column": null,
            "grid_gap": null,
            "grid_row": null,
            "grid_template_areas": null,
            "grid_template_columns": null,
            "grid_template_rows": null,
            "height": null,
            "justify_content": null,
            "justify_items": null,
            "left": null,
            "margin": null,
            "max_height": null,
            "max_width": null,
            "min_height": null,
            "min_width": null,
            "object_fit": null,
            "object_position": null,
            "order": null,
            "overflow": null,
            "overflow_x": null,
            "overflow_y": null,
            "padding": null,
            "right": null,
            "top": null,
            "visibility": null,
            "width": null
          }
        },
        "234e747ca49c4cec9fc2bdec23b9548e": {
          "model_module": "@jupyter-widgets/controls",
          "model_name": "DescriptionStyleModel",
          "model_module_version": "1.5.0",
          "state": {
            "_model_module": "@jupyter-widgets/controls",
            "_model_module_version": "1.5.0",
            "_model_name": "DescriptionStyleModel",
            "_view_count": null,
            "_view_module": "@jupyter-widgets/base",
            "_view_module_version": "1.2.0",
            "_view_name": "StyleView",
            "description_width": ""
          }
        },
        "3a39c644b3ad4961aa4ac9b4a653baee": {
          "model_module": "@jupyter-widgets/controls",
          "model_name": "HBoxModel",
          "model_module_version": "1.5.0",
          "state": {
            "_dom_classes": [],
            "_model_module": "@jupyter-widgets/controls",
            "_model_module_version": "1.5.0",
            "_model_name": "HBoxModel",
            "_view_count": null,
            "_view_module": "@jupyter-widgets/controls",
            "_view_module_version": "1.5.0",
            "_view_name": "HBoxView",
            "box_style": "",
            "children": [
              "IPY_MODEL_c98959a6c30f4144a70b1246a8cb6865",
              "IPY_MODEL_225c507cfa1149f49cdfe50b900df561",
              "IPY_MODEL_8d2dcb0a3df847749a4762df88647058"
            ],
            "layout": "IPY_MODEL_feacec4abc444582bc11fdcabe1195fb"
          }
        },
        "c98959a6c30f4144a70b1246a8cb6865": {
          "model_module": "@jupyter-widgets/controls",
          "model_name": "HTMLModel",
          "model_module_version": "1.5.0",
          "state": {
            "_dom_classes": [],
            "_model_module": "@jupyter-widgets/controls",
            "_model_module_version": "1.5.0",
            "_model_name": "HTMLModel",
            "_view_count": null,
            "_view_module": "@jupyter-widgets/controls",
            "_view_module_version": "1.5.0",
            "_view_name": "HTMLView",
            "description": "",
            "description_tooltip": null,
            "layout": "IPY_MODEL_134e61abe85048ebbe5e353b8c2c0e43",
            "placeholder": "​",
            "style": "IPY_MODEL_67c341789c0646d6a7e777f615054e3f",
            "value": "tokenizer.json: 100%"
          }
        },
        "225c507cfa1149f49cdfe50b900df561": {
          "model_module": "@jupyter-widgets/controls",
          "model_name": "FloatProgressModel",
          "model_module_version": "1.5.0",
          "state": {
            "_dom_classes": [],
            "_model_module": "@jupyter-widgets/controls",
            "_model_module_version": "1.5.0",
            "_model_name": "FloatProgressModel",
            "_view_count": null,
            "_view_module": "@jupyter-widgets/controls",
            "_view_module_version": "1.5.0",
            "_view_name": "ProgressView",
            "bar_style": "success",
            "description": "",
            "description_tooltip": null,
            "layout": "IPY_MODEL_97114f0aaefc47479804860f9fc7f359",
            "max": 1355256,
            "min": 0,
            "orientation": "horizontal",
            "style": "IPY_MODEL_f8b54d0ed9f54b0d9240711a168c7f95",
            "value": 1355256
          }
        },
        "8d2dcb0a3df847749a4762df88647058": {
          "model_module": "@jupyter-widgets/controls",
          "model_name": "HTMLModel",
          "model_module_version": "1.5.0",
          "state": {
            "_dom_classes": [],
            "_model_module": "@jupyter-widgets/controls",
            "_model_module_version": "1.5.0",
            "_model_name": "HTMLModel",
            "_view_count": null,
            "_view_module": "@jupyter-widgets/controls",
            "_view_module_version": "1.5.0",
            "_view_name": "HTMLView",
            "description": "",
            "description_tooltip": null,
            "layout": "IPY_MODEL_9b74e93f7dc94639a80ada7036006b5c",
            "placeholder": "​",
            "style": "IPY_MODEL_44373e007ab143b3876c9dbf2d94f206",
            "value": " 1.36M/1.36M [00:00&lt;00:00, 5.85MB/s]"
          }
        },
        "feacec4abc444582bc11fdcabe1195fb": {
          "model_module": "@jupyter-widgets/base",
          "model_name": "LayoutModel",
          "model_module_version": "1.2.0",
          "state": {
            "_model_module": "@jupyter-widgets/base",
            "_model_module_version": "1.2.0",
            "_model_name": "LayoutModel",
            "_view_count": null,
            "_view_module": "@jupyter-widgets/base",
            "_view_module_version": "1.2.0",
            "_view_name": "LayoutView",
            "align_content": null,
            "align_items": null,
            "align_self": null,
            "border": null,
            "bottom": null,
            "display": null,
            "flex": null,
            "flex_flow": null,
            "grid_area": null,
            "grid_auto_columns": null,
            "grid_auto_flow": null,
            "grid_auto_rows": null,
            "grid_column": null,
            "grid_gap": null,
            "grid_row": null,
            "grid_template_areas": null,
            "grid_template_columns": null,
            "grid_template_rows": null,
            "height": null,
            "justify_content": null,
            "justify_items": null,
            "left": null,
            "margin": null,
            "max_height": null,
            "max_width": null,
            "min_height": null,
            "min_width": null,
            "object_fit": null,
            "object_position": null,
            "order": null,
            "overflow": null,
            "overflow_x": null,
            "overflow_y": null,
            "padding": null,
            "right": null,
            "top": null,
            "visibility": null,
            "width": null
          }
        },
        "134e61abe85048ebbe5e353b8c2c0e43": {
          "model_module": "@jupyter-widgets/base",
          "model_name": "LayoutModel",
          "model_module_version": "1.2.0",
          "state": {
            "_model_module": "@jupyter-widgets/base",
            "_model_module_version": "1.2.0",
            "_model_name": "LayoutModel",
            "_view_count": null,
            "_view_module": "@jupyter-widgets/base",
            "_view_module_version": "1.2.0",
            "_view_name": "LayoutView",
            "align_content": null,
            "align_items": null,
            "align_self": null,
            "border": null,
            "bottom": null,
            "display": null,
            "flex": null,
            "flex_flow": null,
            "grid_area": null,
            "grid_auto_columns": null,
            "grid_auto_flow": null,
            "grid_auto_rows": null,
            "grid_column": null,
            "grid_gap": null,
            "grid_row": null,
            "grid_template_areas": null,
            "grid_template_columns": null,
            "grid_template_rows": null,
            "height": null,
            "justify_content": null,
            "justify_items": null,
            "left": null,
            "margin": null,
            "max_height": null,
            "max_width": null,
            "min_height": null,
            "min_width": null,
            "object_fit": null,
            "object_position": null,
            "order": null,
            "overflow": null,
            "overflow_x": null,
            "overflow_y": null,
            "padding": null,
            "right": null,
            "top": null,
            "visibility": null,
            "width": null
          }
        },
        "67c341789c0646d6a7e777f615054e3f": {
          "model_module": "@jupyter-widgets/controls",
          "model_name": "DescriptionStyleModel",
          "model_module_version": "1.5.0",
          "state": {
            "_model_module": "@jupyter-widgets/controls",
            "_model_module_version": "1.5.0",
            "_model_name": "DescriptionStyleModel",
            "_view_count": null,
            "_view_module": "@jupyter-widgets/base",
            "_view_module_version": "1.2.0",
            "_view_name": "StyleView",
            "description_width": ""
          }
        },
        "97114f0aaefc47479804860f9fc7f359": {
          "model_module": "@jupyter-widgets/base",
          "model_name": "LayoutModel",
          "model_module_version": "1.2.0",
          "state": {
            "_model_module": "@jupyter-widgets/base",
            "_model_module_version": "1.2.0",
            "_model_name": "LayoutModel",
            "_view_count": null,
            "_view_module": "@jupyter-widgets/base",
            "_view_module_version": "1.2.0",
            "_view_name": "LayoutView",
            "align_content": null,
            "align_items": null,
            "align_self": null,
            "border": null,
            "bottom": null,
            "display": null,
            "flex": null,
            "flex_flow": null,
            "grid_area": null,
            "grid_auto_columns": null,
            "grid_auto_flow": null,
            "grid_auto_rows": null,
            "grid_column": null,
            "grid_gap": null,
            "grid_row": null,
            "grid_template_areas": null,
            "grid_template_columns": null,
            "grid_template_rows": null,
            "height": null,
            "justify_content": null,
            "justify_items": null,
            "left": null,
            "margin": null,
            "max_height": null,
            "max_width": null,
            "min_height": null,
            "min_width": null,
            "object_fit": null,
            "object_position": null,
            "order": null,
            "overflow": null,
            "overflow_x": null,
            "overflow_y": null,
            "padding": null,
            "right": null,
            "top": null,
            "visibility": null,
            "width": null
          }
        },
        "f8b54d0ed9f54b0d9240711a168c7f95": {
          "model_module": "@jupyter-widgets/controls",
          "model_name": "ProgressStyleModel",
          "model_module_version": "1.5.0",
          "state": {
            "_model_module": "@jupyter-widgets/controls",
            "_model_module_version": "1.5.0",
            "_model_name": "ProgressStyleModel",
            "_view_count": null,
            "_view_module": "@jupyter-widgets/base",
            "_view_module_version": "1.2.0",
            "_view_name": "StyleView",
            "bar_color": null,
            "description_width": ""
          }
        },
        "9b74e93f7dc94639a80ada7036006b5c": {
          "model_module": "@jupyter-widgets/base",
          "model_name": "LayoutModel",
          "model_module_version": "1.2.0",
          "state": {
            "_model_module": "@jupyter-widgets/base",
            "_model_module_version": "1.2.0",
            "_model_name": "LayoutModel",
            "_view_count": null,
            "_view_module": "@jupyter-widgets/base",
            "_view_module_version": "1.2.0",
            "_view_name": "LayoutView",
            "align_content": null,
            "align_items": null,
            "align_self": null,
            "border": null,
            "bottom": null,
            "display": null,
            "flex": null,
            "flex_flow": null,
            "grid_area": null,
            "grid_auto_columns": null,
            "grid_auto_flow": null,
            "grid_auto_rows": null,
            "grid_column": null,
            "grid_gap": null,
            "grid_row": null,
            "grid_template_areas": null,
            "grid_template_columns": null,
            "grid_template_rows": null,
            "height": null,
            "justify_content": null,
            "justify_items": null,
            "left": null,
            "margin": null,
            "max_height": null,
            "max_width": null,
            "min_height": null,
            "min_width": null,
            "object_fit": null,
            "object_position": null,
            "order": null,
            "overflow": null,
            "overflow_x": null,
            "overflow_y": null,
            "padding": null,
            "right": null,
            "top": null,
            "visibility": null,
            "width": null
          }
        },
        "44373e007ab143b3876c9dbf2d94f206": {
          "model_module": "@jupyter-widgets/controls",
          "model_name": "DescriptionStyleModel",
          "model_module_version": "1.5.0",
          "state": {
            "_model_module": "@jupyter-widgets/controls",
            "_model_module_version": "1.5.0",
            "_model_name": "DescriptionStyleModel",
            "_view_count": null,
            "_view_module": "@jupyter-widgets/base",
            "_view_module_version": "1.2.0",
            "_view_name": "StyleView",
            "description_width": ""
          }
        }
      }
    }
  },
  "nbformat": 4,
  "nbformat_minor": 0
}